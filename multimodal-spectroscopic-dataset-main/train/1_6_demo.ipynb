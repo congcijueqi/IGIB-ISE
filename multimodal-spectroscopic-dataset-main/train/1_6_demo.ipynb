{
 "cells": [
  {
   "cell_type": "code",
   "execution_count": 1,
   "metadata": {},
   "outputs": [
    {
     "name": "stdout",
     "output_type": "stream",
     "text": [
      "Loaded Data from:  1\n",
      "Loaded Data from:  2\n",
      "Loaded Data from:  3\n",
      "X_train shape: (8740, 3, 600)\n",
      "y_train shape: (8740,)\n",
      "X_test shape: (972, 3, 600)\n",
      "y_test shape: (972,)\n"
     ]
    },
    {
     "name": "stderr",
     "output_type": "stream",
     "text": [
      "Epoch 1/41: 100%|██████████| 214/214 [00:07<00:00, 26.92batch/s, kl_weight=0.1, loss=121]   \n"
     ]
    },
    {
     "name": "stdout",
     "output_type": "stream",
     "text": [
      "Epoch 1/41, Loss: 120.14816641819307, KL Weight: 0.1, Recon Loss: 4.062616068060362\n",
      "F1 Score: 0.9989711934156379\n",
      "Best model saved with F1 Score: 0.9989711934156379 at /home/dwj/icml_guangpu/multimodal-spectroscopic-dataset-main/runs/runs_f_groups/all/best_model.pth\n"
     ]
    },
    {
     "name": "stderr",
     "output_type": "stream",
     "text": [
      "Epoch 2/41: 100%|██████████| 214/214 [00:07<00:00, 28.29batch/s, kl_weight=0.2, loss=0.111] \n"
     ]
    },
    {
     "name": "stdout",
     "output_type": "stream",
     "text": [
      "Epoch 2/41, Loss: 0.10971375003404846, KL Weight: 0.2, Recon Loss: 0.008368838194400837\n",
      "F1 Score: 0.9989711934156379\n"
     ]
    },
    {
     "name": "stderr",
     "output_type": "stream",
     "text": [
      "Epoch 3/41: 100%|██████████| 214/214 [00:07<00:00, 28.12batch/s, kl_weight=0.3, loss=0.106] \n"
     ]
    },
    {
     "name": "stdout",
     "output_type": "stream",
     "text": [
      "Epoch 3/41, Loss: 0.10621489464113855, KL Weight: 0.3, Recon Loss: 0.002522643497779478\n",
      "F1 Score: 0.9989711934156379\n"
     ]
    },
    {
     "name": "stderr",
     "output_type": "stream",
     "text": [
      "Epoch 4/41: 100%|██████████| 214/214 [00:07<00:00, 28.62batch/s, kl_weight=0.4, loss=0.105] \n"
     ]
    },
    {
     "name": "stdout",
     "output_type": "stream",
     "text": [
      "Epoch 4/41, Loss: 0.10494953173508641, KL Weight: 0.4, Recon Loss: 0.001062062885160732\n",
      "F1 Score: 0.9989711934156379\n"
     ]
    },
    {
     "name": "stderr",
     "output_type": "stream",
     "text": [
      "Epoch 5/41: 100%|██████████| 214/214 [00:07<00:00, 28.59batch/s, kl_weight=0.5, loss=0.159] \n"
     ]
    },
    {
     "name": "stdout",
     "output_type": "stream",
     "text": [
      "Epoch 5/41, Loss: 0.15854250617740376, KL Weight: 0.5, Recon Loss: 0.00043860562698546773\n",
      "F1 Score: 0.9989711934156379\n"
     ]
    },
    {
     "name": "stderr",
     "output_type": "stream",
     "text": [
      "Epoch 6/41: 100%|██████████| 214/214 [00:07<00:00, 28.11batch/s, kl_weight=0.6, loss=0.104]  \n"
     ]
    },
    {
     "name": "stdout",
     "output_type": "stream",
     "text": [
      "Epoch 6/41, Loss: 0.1026440447934466, KL Weight: 0.6, Recon Loss: 0.0001452774318648017\n",
      "F1 Score: 0.9989711934156379\n"
     ]
    },
    {
     "name": "stderr",
     "output_type": "stream",
     "text": [
      "Epoch 7/41: 100%|██████████| 214/214 [00:07<00:00, 27.99batch/s, kl_weight=0.7, loss=0.103]  \n"
     ]
    },
    {
     "name": "stdout",
     "output_type": "stream",
     "text": [
      "Epoch 7/41, Loss: 0.10262793474772207, KL Weight: 0.7, Recon Loss: 0.00045397491364476813\n",
      "F1 Score: 0.9989711934156379\n"
     ]
    },
    {
     "name": "stderr",
     "output_type": "stream",
     "text": [
      "Epoch 8/41: 100%|██████████| 214/214 [00:07<00:00, 27.98batch/s, kl_weight=0.8, loss=0.104] \n"
     ]
    },
    {
     "name": "stdout",
     "output_type": "stream",
     "text": [
      "Epoch 8/41, Loss: 0.10258266620458314, KL Weight: 0.8, Recon Loss: 0.00024009740789160872\n",
      "F1 Score: 0.9989711934156379\n"
     ]
    },
    {
     "name": "stderr",
     "output_type": "stream",
     "text": [
      "Epoch 9/41: 100%|██████████| 214/214 [00:07<00:00, 27.82batch/s, kl_weight=0.9, loss=0.104]  \n"
     ]
    },
    {
     "name": "stdout",
     "output_type": "stream",
     "text": [
      "Epoch 9/41, Loss: 0.10256880464728786, KL Weight: 0.9, Recon Loss: 9.043352318292257e-05\n",
      "F1 Score: 0.9989711934156379\n"
     ]
    },
    {
     "name": "stderr",
     "output_type": "stream",
     "text": [
      "Epoch 10/41: 100%|██████████| 214/214 [00:07<00:00, 27.93batch/s, kl_weight=1, loss=0.103]  \n"
     ]
    },
    {
     "name": "stdout",
     "output_type": "stream",
     "text": [
      "Epoch 10/41, Loss: 0.10255412827027655, KL Weight: 1.0, Recon Loss: 8.496944056472972e-05\n",
      "F1 Score: 0.9989711934156379\n"
     ]
    },
    {
     "name": "stderr",
     "output_type": "stream",
     "text": [
      "Epoch 11/41: 100%|██████████| 214/214 [00:07<00:00, 28.00batch/s, kl_weight=1, loss=0.103]  \n"
     ]
    },
    {
     "name": "stdout",
     "output_type": "stream",
     "text": [
      "Epoch 11/41, Loss: 0.10254498976985041, KL Weight: 1.0, Recon Loss: 4.123550182488985e-05\n",
      "F1 Score: 0.9989711934156379\n"
     ]
    },
    {
     "name": "stderr",
     "output_type": "stream",
     "text": [
      "Epoch 12/41: 100%|██████████| 214/214 [00:07<00:00, 28.13batch/s, kl_weight=1, loss=0.104] \n"
     ]
    },
    {
     "name": "stdout",
     "output_type": "stream",
     "text": [
      "Epoch 12/41, Loss: 0.10254058312887189, KL Weight: 1.0, Recon Loss: 3.999176292849387e-05\n",
      "F1 Score: 0.9989711934156379\n"
     ]
    },
    {
     "name": "stderr",
     "output_type": "stream",
     "text": [
      "Epoch 13/41: 100%|██████████| 214/214 [00:07<00:00, 28.64batch/s, kl_weight=1, loss=0.104]\n"
     ]
    },
    {
     "name": "stdout",
     "output_type": "stream",
     "text": [
      "Epoch 13/41, Loss: 0.10253981652186522, KL Weight: 1.0, Recon Loss: 5.139084316639451e-05\n",
      "F1 Score: 0.9989711934156379\n"
     ]
    },
    {
     "name": "stderr",
     "output_type": "stream",
     "text": [
      "Epoch 14/41: 100%|██████████| 214/214 [00:07<00:00, 28.24batch/s, kl_weight=1, loss=0.104] \n"
     ]
    },
    {
     "name": "stdout",
     "output_type": "stream",
     "text": [
      "Epoch 14/41, Loss: 0.10253433020984078, KL Weight: 1.0, Recon Loss: 1.3127151078151655e-05\n",
      "F1 Score: 0.9989711934156379\n"
     ]
    },
    {
     "name": "stderr",
     "output_type": "stream",
     "text": [
      "Epoch 15/41: 100%|██████████| 214/214 [00:07<00:00, 28.26batch/s, kl_weight=1, loss=0.104]  \n"
     ]
    },
    {
     "name": "stdout",
     "output_type": "stream",
     "text": [
      "Epoch 15/41, Loss: 0.10253384862950621, KL Weight: 1.0, Recon Loss: 1.984819859803665e-05\n",
      "F1 Score: 0.9989711934156379\n"
     ]
    },
    {
     "name": "stderr",
     "output_type": "stream",
     "text": [
      "Epoch 16/41: 100%|██████████| 214/214 [00:09<00:00, 23.38batch/s, kl_weight=1, loss=0.103] \n"
     ]
    },
    {
     "name": "stdout",
     "output_type": "stream",
     "text": [
      "Epoch 16/41, Loss: 0.10253222654978132, KL Weight: 1.0, Recon Loss: 9.31751040438217e-06\n",
      "F1 Score: 0.9989711934156379\n"
     ]
    },
    {
     "name": "stderr",
     "output_type": "stream",
     "text": [
      "Epoch 17/41: 100%|██████████| 214/214 [00:09<00:00, 23.02batch/s, kl_weight=1, loss=0.104]  \n"
     ]
    },
    {
     "name": "stdout",
     "output_type": "stream",
     "text": [
      "Epoch 17/41, Loss: 0.10253686418218422, KL Weight: 1.0, Recon Loss: 6.183564091111931e-05\n",
      "F1 Score: 0.9989711934156379\n"
     ]
    },
    {
     "name": "stderr",
     "output_type": "stream",
     "text": [
      "Epoch 18/41: 100%|██████████| 214/214 [00:09<00:00, 22.81batch/s, kl_weight=1, loss=0.103] \n"
     ]
    },
    {
     "name": "stdout",
     "output_type": "stream",
     "text": [
      "Epoch 18/41, Loss: 0.1025312290451345, KL Weight: 1.0, Recon Loss: 1.5583161153523248e-05\n",
      "F1 Score: 0.9989711934156379\n"
     ]
    },
    {
     "name": "stderr",
     "output_type": "stream",
     "text": [
      "Epoch 19/41: 100%|██████████| 214/214 [00:09<00:00, 22.67batch/s, kl_weight=1, loss=0.103] \n"
     ]
    },
    {
     "name": "stdout",
     "output_type": "stream",
     "text": [
      "Epoch 19/41, Loss: 0.10253014984142436, KL Weight: 1.0, Recon Loss: 6.768524708902171e-06\n",
      "F1 Score: 0.9989711934156379\n"
     ]
    },
    {
     "name": "stderr",
     "output_type": "stream",
     "text": [
      "Epoch 20/41: 100%|██████████| 214/214 [00:09<00:00, 22.83batch/s, kl_weight=1, loss=0.103]  \n"
     ]
    },
    {
     "name": "stdout",
     "output_type": "stream",
     "text": [
      "Epoch 20/41, Loss: 0.10253102987692975, KL Weight: 1.0, Recon Loss: 1.8426757770813125e-05\n",
      "F1 Score: 0.9989711934156379\n"
     ]
    },
    {
     "name": "stderr",
     "output_type": "stream",
     "text": [
      "Epoch 21/41: 100%|██████████| 214/214 [00:09<00:00, 22.72batch/s, kl_weight=1, loss=0.103] \n"
     ]
    },
    {
     "name": "stdout",
     "output_type": "stream",
     "text": [
      "Epoch 21/41, Loss: 0.10252884818862108, KL Weight: 1.0, Recon Loss: 2.822640338932386e-06\n",
      "F1 Score: 0.9989711934156379\n"
     ]
    },
    {
     "name": "stderr",
     "output_type": "stream",
     "text": [
      "Epoch 22/41: 100%|██████████| 214/214 [00:09<00:00, 22.27batch/s, kl_weight=1, loss=0.103] \n"
     ]
    },
    {
     "name": "stdout",
     "output_type": "stream",
     "text": [
      "Epoch 22/41, Loss: 0.10252779229098467, KL Weight: 1.0, Recon Loss: 1.7831481461072806e-06\n",
      "F1 Score: 0.9989711934156379\n"
     ]
    },
    {
     "name": "stderr",
     "output_type": "stream",
     "text": [
      "Epoch 23/41: 100%|██████████| 214/214 [00:09<00:00, 22.83batch/s, kl_weight=1, loss=0.103]  \n"
     ]
    },
    {
     "name": "stdout",
     "output_type": "stream",
     "text": [
      "Epoch 23/41, Loss: 0.10252756663616922, KL Weight: 1.0, Recon Loss: 2.4530711925231923e-06\n",
      "F1 Score: 0.9989711934156379\n"
     ]
    },
    {
     "name": "stderr",
     "output_type": "stream",
     "text": [
      "Epoch 24/41: 100%|██████████| 214/214 [00:09<00:00, 22.73batch/s, kl_weight=1, loss=0.103]  \n"
     ]
    },
    {
     "name": "stdout",
     "output_type": "stream",
     "text": [
      "Epoch 24/41, Loss: 0.10252736915802663, KL Weight: 1.0, Recon Loss: 1.5552595059120033e-06\n",
      "F1 Score: 0.9989711934156379\n"
     ]
    },
    {
     "name": "stderr",
     "output_type": "stream",
     "text": [
      "Epoch 25/41: 100%|██████████| 214/214 [00:09<00:00, 22.46batch/s, kl_weight=1, loss=0.103]  \n"
     ]
    },
    {
     "name": "stdout",
     "output_type": "stream",
     "text": [
      "Epoch 25/41, Loss: 0.10252739784269903, KL Weight: 1.0, Recon Loss: 1.5868528528661525e-06\n",
      "F1 Score: 0.9989711934156379\n"
     ]
    },
    {
     "name": "stderr",
     "output_type": "stream",
     "text": [
      "Epoch 26/41: 100%|██████████| 214/214 [00:09<00:00, 22.58batch/s, kl_weight=1, loss=0.103]  \n"
     ]
    },
    {
     "name": "stdout",
     "output_type": "stream",
     "text": [
      "Epoch 26/41, Loss: 0.10252769726847423, KL Weight: 1.0, Recon Loss: 2.7174979983413737e-06\n",
      "F1 Score: 0.9989711934156379\n"
     ]
    },
    {
     "name": "stderr",
     "output_type": "stream",
     "text": [
      "Epoch 27/41: 100%|██████████| 214/214 [00:09<00:00, 22.74batch/s, kl_weight=1, loss=0.103]  \n"
     ]
    },
    {
     "name": "stdout",
     "output_type": "stream",
     "text": [
      "Epoch 27/41, Loss: 0.10252719647656007, KL Weight: 1.0, Recon Loss: 1.366604347940899e-06\n",
      "F1 Score: 0.9989711934156379\n"
     ]
    },
    {
     "name": "stderr",
     "output_type": "stream",
     "text": [
      "Epoch 28/41: 100%|██████████| 214/214 [00:09<00:00, 22.64batch/s, kl_weight=1, loss=0.103] \n"
     ]
    },
    {
     "name": "stdout",
     "output_type": "stream",
     "text": [
      "Epoch 28/41, Loss: 0.1025283492907509, KL Weight: 1.0, Recon Loss: 1.1657922179592102e-05\n",
      "F1 Score: 0.9989711934156379\n"
     ]
    },
    {
     "name": "stderr",
     "output_type": "stream",
     "text": [
      "Epoch 29/41: 100%|██████████| 214/214 [00:09<00:00, 22.73batch/s, kl_weight=1, loss=0.103]  \n"
     ]
    },
    {
     "name": "stdout",
     "output_type": "stream",
     "text": [
      "Epoch 29/41, Loss: 0.1025269769873367, KL Weight: 1.0, Recon Loss: 1.8624491017328876e-07\n",
      "F1 Score: 0.9989711934156379\n"
     ]
    },
    {
     "name": "stderr",
     "output_type": "stream",
     "text": [
      "Epoch 30/41: 100%|██████████| 214/214 [00:09<00:00, 22.70batch/s, kl_weight=1, loss=0.103] \n"
     ]
    },
    {
     "name": "stdout",
     "output_type": "stream",
     "text": [
      "Epoch 30/41, Loss: 0.10252656515506281, KL Weight: 1.0, Recon Loss: 4.451868358842588e-07\n",
      "F1 Score: 0.9989711934156379\n"
     ]
    },
    {
     "name": "stderr",
     "output_type": "stream",
     "text": [
      "Epoch 31/41: 100%|██████████| 214/214 [00:09<00:00, 22.93batch/s, kl_weight=1, loss=0.103] \n"
     ]
    },
    {
     "name": "stdout",
     "output_type": "stream",
     "text": [
      "Epoch 31/41, Loss: 0.10253078289338403, KL Weight: 1.0, Recon Loss: 4.3301124103177636e-05\n",
      "F1 Score: 0.9989711934156379\n"
     ]
    },
    {
     "name": "stderr",
     "output_type": "stream",
     "text": [
      "Epoch 32/41: 100%|██████████| 214/214 [00:09<00:00, 22.60batch/s, kl_weight=1, loss=0.103]  \n"
     ]
    },
    {
     "name": "stdout",
     "output_type": "stream",
     "text": [
      "Epoch 32/41, Loss: 0.10252625768035299, KL Weight: 1.0, Recon Loss: 6.630753724906157e-08\n",
      "F1 Score: 0.9989711934156379\n"
     ]
    },
    {
     "name": "stderr",
     "output_type": "stream",
     "text": [
      "Epoch 33/41: 100%|██████████| 214/214 [00:09<00:00, 22.79batch/s, kl_weight=1, loss=0.103]  \n"
     ]
    },
    {
     "name": "stdout",
     "output_type": "stream",
     "text": [
      "Epoch 33/41, Loss: 0.10252620865214561, KL Weight: 1.0, Recon Loss: 2.1503741317710827e-08\n",
      "F1 Score: 0.9989711934156379\n"
     ]
    },
    {
     "name": "stderr",
     "output_type": "stream",
     "text": [
      "Epoch 34/41: 100%|██████████| 214/214 [00:09<00:00, 22.81batch/s, kl_weight=1, loss=0.103]  \n"
     ]
    },
    {
     "name": "stdout",
     "output_type": "stream",
     "text": [
      "Epoch 34/41, Loss: 0.10252617882940633, KL Weight: 1.0, Recon Loss: 6.771301962803584e-09\n",
      "F1 Score: 0.9989711934156379\n"
     ]
    },
    {
     "name": "stderr",
     "output_type": "stream",
     "text": [
      "Epoch 35/41: 100%|██████████| 214/214 [00:09<00:00, 22.64batch/s, kl_weight=1, loss=0.103] \n"
     ]
    },
    {
     "name": "stdout",
     "output_type": "stream",
     "text": [
      "Epoch 35/41, Loss: 0.10252637383963081, KL Weight: 1.0, Recon Loss: 1.1566686337387991e-07\n",
      "F1 Score: 0.9989711934156379\n"
     ]
    },
    {
     "name": "stderr",
     "output_type": "stream",
     "text": [
      "Epoch 36/41: 100%|██████████| 214/214 [00:09<00:00, 22.49batch/s, kl_weight=1, loss=0.103]  \n"
     ]
    },
    {
     "name": "stdout",
     "output_type": "stream",
     "text": [
      "Epoch 36/41, Loss: 0.1025268214467428, KL Weight: 1.0, Recon Loss: 3.0866628259393995e-06\n",
      "F1 Score: 0.9989711934156379\n"
     ]
    },
    {
     "name": "stderr",
     "output_type": "stream",
     "text": [
      "Epoch 37/41: 100%|██████████| 214/214 [00:09<00:00, 22.52batch/s, kl_weight=1, loss=0.103] \n"
     ]
    },
    {
     "name": "stdout",
     "output_type": "stream",
     "text": [
      "Epoch 37/41, Loss: 0.1025261097769986, KL Weight: 1.0, Recon Loss: 6.840891087427275e-08\n",
      "F1 Score: 0.9989711934156379\n"
     ]
    },
    {
     "name": "stderr",
     "output_type": "stream",
     "text": [
      "Epoch 38/41: 100%|██████████| 214/214 [00:09<00:00, 22.36batch/s, kl_weight=1, loss=0.103]  \n"
     ]
    },
    {
     "name": "stdout",
     "output_type": "stream",
     "text": [
      "Epoch 38/41, Loss: 0.10252597727628547, KL Weight: 1.0, Recon Loss: 1.1225831970382476e-08\n",
      "F1 Score: 0.9989711934156379\n"
     ]
    },
    {
     "name": "stderr",
     "output_type": "stream",
     "text": [
      "Epoch 39/41: 100%|██████████| 214/214 [00:09<00:00, 22.43batch/s, kl_weight=1, loss=0.103] \n"
     ]
    },
    {
     "name": "stdout",
     "output_type": "stream",
     "text": [
      "Epoch 39/41, Loss: 0.10252615714182518, KL Weight: 1.0, Recon Loss: 4.538740518162688e-07\n",
      "F1 Score: 0.9989711934156379\n"
     ]
    },
    {
     "name": "stderr",
     "output_type": "stream",
     "text": [
      "Epoch 40/41: 100%|██████████| 214/214 [00:09<00:00, 22.46batch/s, kl_weight=1, loss=0.103]  \n"
     ]
    },
    {
     "name": "stdout",
     "output_type": "stream",
     "text": [
      "Epoch 40/41, Loss: 0.10252659576486349, KL Weight: 1.0, Recon Loss: 2.886102313745064e-06\n",
      "F1 Score: 0.9989711934156379\n"
     ]
    },
    {
     "name": "stderr",
     "output_type": "stream",
     "text": [
      "Epoch 41/41: 100%|██████████| 214/214 [00:09<00:00, 22.62batch/s, kl_weight=1, loss=0.103] \n"
     ]
    },
    {
     "name": "stdout",
     "output_type": "stream",
     "text": [
      "Epoch 41/41, Loss: 0.10252625779292208, KL Weight: 1.0, Recon Loss: 5.212831338368758e-07\n",
      "F1 Score: 0.9989711934156379\n"
     ]
    },
    {
     "ename": "ValueError",
     "evalue": "Classification metrics can't handle a mix of multilabel-indicator and binary targets",
     "output_type": "error",
     "traceback": [
      "\u001b[0;31m---------------------------------------------------------------------------\u001b[0m",
      "\u001b[0;31mValueError\u001b[0m                                Traceback (most recent call last)",
      "Cell \u001b[0;32mIn[1], line 544\u001b[0m\n\u001b[1;32m    542\u001b[0m \u001b[38;5;66;03m# Evaluate the model\u001b[39;00m\n\u001b[1;32m    543\u001b[0m y_test \u001b[38;5;241m=\u001b[39m np\u001b[38;5;241m.\u001b[39marray([np\u001b[38;5;241m.\u001b[39marray(item, dtype\u001b[38;5;241m=\u001b[39mnp\u001b[38;5;241m.\u001b[39mfloat32) \u001b[38;5;28;01mfor\u001b[39;00m item \u001b[38;5;129;01min\u001b[39;00m y_test], dtype\u001b[38;5;241m=\u001b[39mnp\u001b[38;5;241m.\u001b[39mfloat32)\n\u001b[0;32m--> 544\u001b[0m f1 \u001b[38;5;241m=\u001b[39m \u001b[43mf1_score\u001b[49m\u001b[43m(\u001b[49m\u001b[43my_test\u001b[49m\u001b[43m,\u001b[49m\u001b[43m \u001b[49m\u001b[43mpredictions\u001b[49m\u001b[43m,\u001b[49m\u001b[43m \u001b[49m\u001b[43maverage\u001b[49m\u001b[38;5;241;43m=\u001b[39;49m\u001b[38;5;124;43m'\u001b[39;49m\u001b[38;5;124;43mmicro\u001b[39;49m\u001b[38;5;124;43m'\u001b[39;49m\u001b[43m)\u001b[49m\n\u001b[1;32m    545\u001b[0m \u001b[38;5;28mprint\u001b[39m(\u001b[38;5;124mf\u001b[39m\u001b[38;5;124m'\u001b[39m\u001b[38;5;124mF1 Score: \u001b[39m\u001b[38;5;132;01m{\u001b[39;00mf1\u001b[38;5;132;01m}\u001b[39;00m\u001b[38;5;124m'\u001b[39m)\n\u001b[1;32m    547\u001b[0m \u001b[38;5;66;03m# Save results\u001b[39;00m\n",
      "File \u001b[0;32m~/anaconda3/envs/zs/lib/python3.9/site-packages/sklearn/utils/_param_validation.py:213\u001b[0m, in \u001b[0;36mvalidate_params.<locals>.decorator.<locals>.wrapper\u001b[0;34m(*args, **kwargs)\u001b[0m\n\u001b[1;32m    207\u001b[0m \u001b[38;5;28;01mtry\u001b[39;00m:\n\u001b[1;32m    208\u001b[0m     \u001b[38;5;28;01mwith\u001b[39;00m config_context(\n\u001b[1;32m    209\u001b[0m         skip_parameter_validation\u001b[38;5;241m=\u001b[39m(\n\u001b[1;32m    210\u001b[0m             prefer_skip_nested_validation \u001b[38;5;129;01mor\u001b[39;00m global_skip_validation\n\u001b[1;32m    211\u001b[0m         )\n\u001b[1;32m    212\u001b[0m     ):\n\u001b[0;32m--> 213\u001b[0m         \u001b[38;5;28;01mreturn\u001b[39;00m \u001b[43mfunc\u001b[49m\u001b[43m(\u001b[49m\u001b[38;5;241;43m*\u001b[39;49m\u001b[43margs\u001b[49m\u001b[43m,\u001b[49m\u001b[43m \u001b[49m\u001b[38;5;241;43m*\u001b[39;49m\u001b[38;5;241;43m*\u001b[39;49m\u001b[43mkwargs\u001b[49m\u001b[43m)\u001b[49m\n\u001b[1;32m    214\u001b[0m \u001b[38;5;28;01mexcept\u001b[39;00m InvalidParameterError \u001b[38;5;28;01mas\u001b[39;00m e:\n\u001b[1;32m    215\u001b[0m     \u001b[38;5;66;03m# When the function is just a wrapper around an estimator, we allow\u001b[39;00m\n\u001b[1;32m    216\u001b[0m     \u001b[38;5;66;03m# the function to delegate validation to the estimator, but we replace\u001b[39;00m\n\u001b[1;32m    217\u001b[0m     \u001b[38;5;66;03m# the name of the estimator by the name of the function in the error\u001b[39;00m\n\u001b[1;32m    218\u001b[0m     \u001b[38;5;66;03m# message to avoid confusion.\u001b[39;00m\n\u001b[1;32m    219\u001b[0m     msg \u001b[38;5;241m=\u001b[39m re\u001b[38;5;241m.\u001b[39msub(\n\u001b[1;32m    220\u001b[0m         \u001b[38;5;124mr\u001b[39m\u001b[38;5;124m\"\u001b[39m\u001b[38;5;124mparameter of \u001b[39m\u001b[38;5;124m\\\u001b[39m\u001b[38;5;124mw+ must be\u001b[39m\u001b[38;5;124m\"\u001b[39m,\n\u001b[1;32m    221\u001b[0m         \u001b[38;5;124mf\u001b[39m\u001b[38;5;124m\"\u001b[39m\u001b[38;5;124mparameter of \u001b[39m\u001b[38;5;132;01m{\u001b[39;00mfunc\u001b[38;5;241m.\u001b[39m\u001b[38;5;18m__qualname__\u001b[39m\u001b[38;5;132;01m}\u001b[39;00m\u001b[38;5;124m must be\u001b[39m\u001b[38;5;124m\"\u001b[39m,\n\u001b[1;32m    222\u001b[0m         \u001b[38;5;28mstr\u001b[39m(e),\n\u001b[1;32m    223\u001b[0m     )\n",
      "File \u001b[0;32m~/anaconda3/envs/zs/lib/python3.9/site-packages/sklearn/metrics/_classification.py:1271\u001b[0m, in \u001b[0;36mf1_score\u001b[0;34m(y_true, y_pred, labels, pos_label, average, sample_weight, zero_division)\u001b[0m\n\u001b[1;32m   1091\u001b[0m \u001b[38;5;129m@validate_params\u001b[39m(\n\u001b[1;32m   1092\u001b[0m     {\n\u001b[1;32m   1093\u001b[0m         \u001b[38;5;124m\"\u001b[39m\u001b[38;5;124my_true\u001b[39m\u001b[38;5;124m\"\u001b[39m: [\u001b[38;5;124m\"\u001b[39m\u001b[38;5;124marray-like\u001b[39m\u001b[38;5;124m\"\u001b[39m, \u001b[38;5;124m\"\u001b[39m\u001b[38;5;124msparse matrix\u001b[39m\u001b[38;5;124m\"\u001b[39m],\n\u001b[0;32m   (...)\u001b[0m\n\u001b[1;32m   1118\u001b[0m     zero_division\u001b[38;5;241m=\u001b[39m\u001b[38;5;124m\"\u001b[39m\u001b[38;5;124mwarn\u001b[39m\u001b[38;5;124m\"\u001b[39m,\n\u001b[1;32m   1119\u001b[0m ):\n\u001b[1;32m   1120\u001b[0m \u001b[38;5;250m    \u001b[39m\u001b[38;5;124;03m\"\"\"Compute the F1 score, also known as balanced F-score or F-measure.\u001b[39;00m\n\u001b[1;32m   1121\u001b[0m \n\u001b[1;32m   1122\u001b[0m \u001b[38;5;124;03m    The F1 score can be interpreted as a harmonic mean of the precision and\u001b[39;00m\n\u001b[0;32m   (...)\u001b[0m\n\u001b[1;32m   1269\u001b[0m \u001b[38;5;124;03m    array([0.66666667, 1.        , 0.66666667])\u001b[39;00m\n\u001b[1;32m   1270\u001b[0m \u001b[38;5;124;03m    \"\"\"\u001b[39;00m\n\u001b[0;32m-> 1271\u001b[0m     \u001b[38;5;28;01mreturn\u001b[39;00m \u001b[43mfbeta_score\u001b[49m\u001b[43m(\u001b[49m\n\u001b[1;32m   1272\u001b[0m \u001b[43m        \u001b[49m\u001b[43my_true\u001b[49m\u001b[43m,\u001b[49m\n\u001b[1;32m   1273\u001b[0m \u001b[43m        \u001b[49m\u001b[43my_pred\u001b[49m\u001b[43m,\u001b[49m\n\u001b[1;32m   1274\u001b[0m \u001b[43m        \u001b[49m\u001b[43mbeta\u001b[49m\u001b[38;5;241;43m=\u001b[39;49m\u001b[38;5;241;43m1\u001b[39;49m\u001b[43m,\u001b[49m\n\u001b[1;32m   1275\u001b[0m \u001b[43m        \u001b[49m\u001b[43mlabels\u001b[49m\u001b[38;5;241;43m=\u001b[39;49m\u001b[43mlabels\u001b[49m\u001b[43m,\u001b[49m\n\u001b[1;32m   1276\u001b[0m \u001b[43m        \u001b[49m\u001b[43mpos_label\u001b[49m\u001b[38;5;241;43m=\u001b[39;49m\u001b[43mpos_label\u001b[49m\u001b[43m,\u001b[49m\n\u001b[1;32m   1277\u001b[0m \u001b[43m        \u001b[49m\u001b[43maverage\u001b[49m\u001b[38;5;241;43m=\u001b[39;49m\u001b[43maverage\u001b[49m\u001b[43m,\u001b[49m\n\u001b[1;32m   1278\u001b[0m \u001b[43m        \u001b[49m\u001b[43msample_weight\u001b[49m\u001b[38;5;241;43m=\u001b[39;49m\u001b[43msample_weight\u001b[49m\u001b[43m,\u001b[49m\n\u001b[1;32m   1279\u001b[0m \u001b[43m        \u001b[49m\u001b[43mzero_division\u001b[49m\u001b[38;5;241;43m=\u001b[39;49m\u001b[43mzero_division\u001b[49m\u001b[43m,\u001b[49m\n\u001b[1;32m   1280\u001b[0m \u001b[43m    \u001b[49m\u001b[43m)\u001b[49m\n",
      "File \u001b[0;32m~/anaconda3/envs/zs/lib/python3.9/site-packages/sklearn/utils/_param_validation.py:186\u001b[0m, in \u001b[0;36mvalidate_params.<locals>.decorator.<locals>.wrapper\u001b[0;34m(*args, **kwargs)\u001b[0m\n\u001b[1;32m    184\u001b[0m global_skip_validation \u001b[38;5;241m=\u001b[39m get_config()[\u001b[38;5;124m\"\u001b[39m\u001b[38;5;124mskip_parameter_validation\u001b[39m\u001b[38;5;124m\"\u001b[39m]\n\u001b[1;32m    185\u001b[0m \u001b[38;5;28;01mif\u001b[39;00m global_skip_validation:\n\u001b[0;32m--> 186\u001b[0m     \u001b[38;5;28;01mreturn\u001b[39;00m \u001b[43mfunc\u001b[49m\u001b[43m(\u001b[49m\u001b[38;5;241;43m*\u001b[39;49m\u001b[43margs\u001b[49m\u001b[43m,\u001b[49m\u001b[43m \u001b[49m\u001b[38;5;241;43m*\u001b[39;49m\u001b[38;5;241;43m*\u001b[39;49m\u001b[43mkwargs\u001b[49m\u001b[43m)\u001b[49m\n\u001b[1;32m    188\u001b[0m func_sig \u001b[38;5;241m=\u001b[39m signature(func)\n\u001b[1;32m    190\u001b[0m \u001b[38;5;66;03m# Map *args/**kwargs to the function signature\u001b[39;00m\n",
      "File \u001b[0;32m~/anaconda3/envs/zs/lib/python3.9/site-packages/sklearn/metrics/_classification.py:1463\u001b[0m, in \u001b[0;36mfbeta_score\u001b[0;34m(y_true, y_pred, beta, labels, pos_label, average, sample_weight, zero_division)\u001b[0m\n\u001b[1;32m   1283\u001b[0m \u001b[38;5;129m@validate_params\u001b[39m(\n\u001b[1;32m   1284\u001b[0m     {\n\u001b[1;32m   1285\u001b[0m         \u001b[38;5;124m\"\u001b[39m\u001b[38;5;124my_true\u001b[39m\u001b[38;5;124m\"\u001b[39m: [\u001b[38;5;124m\"\u001b[39m\u001b[38;5;124marray-like\u001b[39m\u001b[38;5;124m\"\u001b[39m, \u001b[38;5;124m\"\u001b[39m\u001b[38;5;124msparse matrix\u001b[39m\u001b[38;5;124m\"\u001b[39m],\n\u001b[0;32m   (...)\u001b[0m\n\u001b[1;32m   1312\u001b[0m     zero_division\u001b[38;5;241m=\u001b[39m\u001b[38;5;124m\"\u001b[39m\u001b[38;5;124mwarn\u001b[39m\u001b[38;5;124m\"\u001b[39m,\n\u001b[1;32m   1313\u001b[0m ):\n\u001b[1;32m   1314\u001b[0m \u001b[38;5;250m    \u001b[39m\u001b[38;5;124;03m\"\"\"Compute the F-beta score.\u001b[39;00m\n\u001b[1;32m   1315\u001b[0m \n\u001b[1;32m   1316\u001b[0m \u001b[38;5;124;03m    The F-beta score is the weighted harmonic mean of precision and recall,\u001b[39;00m\n\u001b[0;32m   (...)\u001b[0m\n\u001b[1;32m   1460\u001b[0m \u001b[38;5;124;03m    0.12...\u001b[39;00m\n\u001b[1;32m   1461\u001b[0m \u001b[38;5;124;03m    \"\"\"\u001b[39;00m\n\u001b[0;32m-> 1463\u001b[0m     _, _, f, _ \u001b[38;5;241m=\u001b[39m \u001b[43mprecision_recall_fscore_support\u001b[49m\u001b[43m(\u001b[49m\n\u001b[1;32m   1464\u001b[0m \u001b[43m        \u001b[49m\u001b[43my_true\u001b[49m\u001b[43m,\u001b[49m\n\u001b[1;32m   1465\u001b[0m \u001b[43m        \u001b[49m\u001b[43my_pred\u001b[49m\u001b[43m,\u001b[49m\n\u001b[1;32m   1466\u001b[0m \u001b[43m        \u001b[49m\u001b[43mbeta\u001b[49m\u001b[38;5;241;43m=\u001b[39;49m\u001b[43mbeta\u001b[49m\u001b[43m,\u001b[49m\n\u001b[1;32m   1467\u001b[0m \u001b[43m        \u001b[49m\u001b[43mlabels\u001b[49m\u001b[38;5;241;43m=\u001b[39;49m\u001b[43mlabels\u001b[49m\u001b[43m,\u001b[49m\n\u001b[1;32m   1468\u001b[0m \u001b[43m        \u001b[49m\u001b[43mpos_label\u001b[49m\u001b[38;5;241;43m=\u001b[39;49m\u001b[43mpos_label\u001b[49m\u001b[43m,\u001b[49m\n\u001b[1;32m   1469\u001b[0m \u001b[43m        \u001b[49m\u001b[43maverage\u001b[49m\u001b[38;5;241;43m=\u001b[39;49m\u001b[43maverage\u001b[49m\u001b[43m,\u001b[49m\n\u001b[1;32m   1470\u001b[0m \u001b[43m        \u001b[49m\u001b[43mwarn_for\u001b[49m\u001b[38;5;241;43m=\u001b[39;49m\u001b[43m(\u001b[49m\u001b[38;5;124;43m\"\u001b[39;49m\u001b[38;5;124;43mf-score\u001b[39;49m\u001b[38;5;124;43m\"\u001b[39;49m\u001b[43m,\u001b[49m\u001b[43m)\u001b[49m\u001b[43m,\u001b[49m\n\u001b[1;32m   1471\u001b[0m \u001b[43m        \u001b[49m\u001b[43msample_weight\u001b[49m\u001b[38;5;241;43m=\u001b[39;49m\u001b[43msample_weight\u001b[49m\u001b[43m,\u001b[49m\n\u001b[1;32m   1472\u001b[0m \u001b[43m        \u001b[49m\u001b[43mzero_division\u001b[49m\u001b[38;5;241;43m=\u001b[39;49m\u001b[43mzero_division\u001b[49m\u001b[43m,\u001b[49m\n\u001b[1;32m   1473\u001b[0m \u001b[43m    \u001b[49m\u001b[43m)\u001b[49m\n\u001b[1;32m   1474\u001b[0m     \u001b[38;5;28;01mreturn\u001b[39;00m f\n",
      "File \u001b[0;32m~/anaconda3/envs/zs/lib/python3.9/site-packages/sklearn/utils/_param_validation.py:186\u001b[0m, in \u001b[0;36mvalidate_params.<locals>.decorator.<locals>.wrapper\u001b[0;34m(*args, **kwargs)\u001b[0m\n\u001b[1;32m    184\u001b[0m global_skip_validation \u001b[38;5;241m=\u001b[39m get_config()[\u001b[38;5;124m\"\u001b[39m\u001b[38;5;124mskip_parameter_validation\u001b[39m\u001b[38;5;124m\"\u001b[39m]\n\u001b[1;32m    185\u001b[0m \u001b[38;5;28;01mif\u001b[39;00m global_skip_validation:\n\u001b[0;32m--> 186\u001b[0m     \u001b[38;5;28;01mreturn\u001b[39;00m \u001b[43mfunc\u001b[49m\u001b[43m(\u001b[49m\u001b[38;5;241;43m*\u001b[39;49m\u001b[43margs\u001b[49m\u001b[43m,\u001b[49m\u001b[43m \u001b[49m\u001b[38;5;241;43m*\u001b[39;49m\u001b[38;5;241;43m*\u001b[39;49m\u001b[43mkwargs\u001b[49m\u001b[43m)\u001b[49m\n\u001b[1;32m    188\u001b[0m func_sig \u001b[38;5;241m=\u001b[39m signature(func)\n\u001b[1;32m    190\u001b[0m \u001b[38;5;66;03m# Map *args/**kwargs to the function signature\u001b[39;00m\n",
      "File \u001b[0;32m~/anaconda3/envs/zs/lib/python3.9/site-packages/sklearn/metrics/_classification.py:1767\u001b[0m, in \u001b[0;36mprecision_recall_fscore_support\u001b[0;34m(y_true, y_pred, beta, labels, pos_label, average, warn_for, sample_weight, zero_division)\u001b[0m\n\u001b[1;32m   1604\u001b[0m \u001b[38;5;250m\u001b[39m\u001b[38;5;124;03m\"\"\"Compute precision, recall, F-measure and support for each class.\u001b[39;00m\n\u001b[1;32m   1605\u001b[0m \n\u001b[1;32m   1606\u001b[0m \u001b[38;5;124;03mThe precision is the ratio ``tp / (tp + fp)`` where ``tp`` is the number of\u001b[39;00m\n\u001b[0;32m   (...)\u001b[0m\n\u001b[1;32m   1764\u001b[0m \u001b[38;5;124;03m array([2, 2, 2]))\u001b[39;00m\n\u001b[1;32m   1765\u001b[0m \u001b[38;5;124;03m\"\"\"\u001b[39;00m\n\u001b[1;32m   1766\u001b[0m _check_zero_division(zero_division)\n\u001b[0;32m-> 1767\u001b[0m labels \u001b[38;5;241m=\u001b[39m \u001b[43m_check_set_wise_labels\u001b[49m\u001b[43m(\u001b[49m\u001b[43my_true\u001b[49m\u001b[43m,\u001b[49m\u001b[43m \u001b[49m\u001b[43my_pred\u001b[49m\u001b[43m,\u001b[49m\u001b[43m \u001b[49m\u001b[43maverage\u001b[49m\u001b[43m,\u001b[49m\u001b[43m \u001b[49m\u001b[43mlabels\u001b[49m\u001b[43m,\u001b[49m\u001b[43m \u001b[49m\u001b[43mpos_label\u001b[49m\u001b[43m)\u001b[49m\n\u001b[1;32m   1769\u001b[0m \u001b[38;5;66;03m# Calculate tp_sum, pred_sum, true_sum ###\u001b[39;00m\n\u001b[1;32m   1770\u001b[0m samplewise \u001b[38;5;241m=\u001b[39m average \u001b[38;5;241m==\u001b[39m \u001b[38;5;124m\"\u001b[39m\u001b[38;5;124msamples\u001b[39m\u001b[38;5;124m\"\u001b[39m\n",
      "File \u001b[0;32m~/anaconda3/envs/zs/lib/python3.9/site-packages/sklearn/metrics/_classification.py:1539\u001b[0m, in \u001b[0;36m_check_set_wise_labels\u001b[0;34m(y_true, y_pred, average, labels, pos_label)\u001b[0m\n\u001b[1;32m   1536\u001b[0m \u001b[38;5;28;01mif\u001b[39;00m average \u001b[38;5;129;01mnot\u001b[39;00m \u001b[38;5;129;01min\u001b[39;00m average_options \u001b[38;5;129;01mand\u001b[39;00m average \u001b[38;5;241m!=\u001b[39m \u001b[38;5;124m\"\u001b[39m\u001b[38;5;124mbinary\u001b[39m\u001b[38;5;124m\"\u001b[39m:\n\u001b[1;32m   1537\u001b[0m     \u001b[38;5;28;01mraise\u001b[39;00m \u001b[38;5;167;01mValueError\u001b[39;00m(\u001b[38;5;124m\"\u001b[39m\u001b[38;5;124maverage has to be one of \u001b[39m\u001b[38;5;124m\"\u001b[39m \u001b[38;5;241m+\u001b[39m \u001b[38;5;28mstr\u001b[39m(average_options))\n\u001b[0;32m-> 1539\u001b[0m y_type, y_true, y_pred \u001b[38;5;241m=\u001b[39m \u001b[43m_check_targets\u001b[49m\u001b[43m(\u001b[49m\u001b[43my_true\u001b[49m\u001b[43m,\u001b[49m\u001b[43m \u001b[49m\u001b[43my_pred\u001b[49m\u001b[43m)\u001b[49m\n\u001b[1;32m   1540\u001b[0m \u001b[38;5;66;03m# Convert to Python primitive type to avoid NumPy type / Python str\u001b[39;00m\n\u001b[1;32m   1541\u001b[0m \u001b[38;5;66;03m# comparison. See https://github.com/numpy/numpy/issues/6784\u001b[39;00m\n\u001b[1;32m   1542\u001b[0m present_labels \u001b[38;5;241m=\u001b[39m unique_labels(y_true, y_pred)\u001b[38;5;241m.\u001b[39mtolist()\n",
      "File \u001b[0;32m~/anaconda3/envs/zs/lib/python3.9/site-packages/sklearn/metrics/_classification.py:94\u001b[0m, in \u001b[0;36m_check_targets\u001b[0;34m(y_true, y_pred)\u001b[0m\n\u001b[1;32m     91\u001b[0m     y_type \u001b[38;5;241m=\u001b[39m {\u001b[38;5;124m\"\u001b[39m\u001b[38;5;124mmulticlass\u001b[39m\u001b[38;5;124m\"\u001b[39m}\n\u001b[1;32m     93\u001b[0m \u001b[38;5;28;01mif\u001b[39;00m \u001b[38;5;28mlen\u001b[39m(y_type) \u001b[38;5;241m>\u001b[39m \u001b[38;5;241m1\u001b[39m:\n\u001b[0;32m---> 94\u001b[0m     \u001b[38;5;28;01mraise\u001b[39;00m \u001b[38;5;167;01mValueError\u001b[39;00m(\n\u001b[1;32m     95\u001b[0m         \u001b[38;5;124m\"\u001b[39m\u001b[38;5;124mClassification metrics can\u001b[39m\u001b[38;5;124m'\u001b[39m\u001b[38;5;124mt handle a mix of \u001b[39m\u001b[38;5;132;01m{0}\u001b[39;00m\u001b[38;5;124m and \u001b[39m\u001b[38;5;132;01m{1}\u001b[39;00m\u001b[38;5;124m targets\u001b[39m\u001b[38;5;124m\"\u001b[39m\u001b[38;5;241m.\u001b[39mformat(\n\u001b[1;32m     96\u001b[0m             type_true, type_pred\n\u001b[1;32m     97\u001b[0m         )\n\u001b[1;32m     98\u001b[0m     )\n\u001b[1;32m    100\u001b[0m \u001b[38;5;66;03m# We can't have more than one value on y_type => The set is no more needed\u001b[39;00m\n\u001b[1;32m    101\u001b[0m y_type \u001b[38;5;241m=\u001b[39m y_type\u001b[38;5;241m.\u001b[39mpop()\n",
      "\u001b[0;31mValueError\u001b[0m: Classification metrics can't handle a mix of multilabel-indicator and binary targets"
     ]
    }
   ],
   "source": [
    "import torch\n",
    "import torch.nn as nn\n",
    "import torch.optim as optim\n",
    "import torch.nn.functional as F\n",
    "import numpy as np\n",
    "import pandas as pd\n",
    "import pickle\n",
    "from sklearn.metrics import f1_score\n",
    "from sklearn.model_selection import train_test_split\n",
    "from pathlib import Path\n",
    "from rdkit import Chem\n",
    "from rdkit import RDLogger\n",
    "from scipy.interpolate import interp1d\n",
    "from torch.utils.data import DataLoader, TensorDataset\n",
    "\n",
    "# Disable RDLogger warnings\n",
    "RDLogger.DisableLog('rdApp.*')\n",
    "import os\n",
    "\n",
    "os.environ['TF_ENABLE_ONEDNN_OPTS'] = '0'\n",
    "functional_groups = {\n",
    "    'Acid anhydride': Chem.MolFromSmarts('[CX3](=[OX1])[OX2][CX3](=[OX1])'),\n",
    "    'Acyl halide': Chem.MolFromSmarts('[CX3](=[OX1])[F,Cl,Br,I]'),\n",
    "    'Alcohol': Chem.MolFromSmarts('[#6][OX2H]'),\n",
    "    'Aldehyde': Chem.MolFromSmarts('[CX3H1](=O)[#6,H]'),\n",
    "    'Alkane': Chem.MolFromSmarts('[CX4;H3,H2]'),\n",
    "    'Alkene': Chem.MolFromSmarts('[CX3]=[CX3]'),\n",
    "    'Alkyne': Chem.MolFromSmarts('[CX2]#[CX2]'),\n",
    "    'Amide': Chem.MolFromSmarts('[NX3][CX3](=[OX1])[#6]'),\n",
    "    'Amine': Chem.MolFromSmarts('[NX3;H2,H1,H0;!$(NC=O)]'),\n",
    "    'Arene': Chem.MolFromSmarts('[cX3]1[cX3][cX3][cX3][cX3][cX3]1'),\n",
    "    'Azo compound': Chem.MolFromSmarts('[#6][NX2]=[NX2][#6]'),\n",
    "    'Carbamate': Chem.MolFromSmarts('[NX3][CX3](=[OX1])[OX2H0]'),\n",
    "    'Carboxylic acid': Chem.MolFromSmarts('[CX3](=O)[OX2H]'),\n",
    "    'Enamine': Chem.MolFromSmarts('[NX3][CX3]=[CX3]'),\n",
    "    'Enol': Chem.MolFromSmarts('[OX2H][#6X3]=[#6]'),\n",
    "    'Ester': Chem.MolFromSmarts('[#6][CX3](=O)[OX2H0][#6]'),\n",
    "    'Ether': Chem.MolFromSmarts('[OD2]([#6])[#6]'),\n",
    "    'Haloalkane': Chem.MolFromSmarts('[#6][F,Cl,Br,I]'),\n",
    "    'Hydrazine': Chem.MolFromSmarts('[NX3][NX3]'),\n",
    "    'Hydrazone': Chem.MolFromSmarts('[NX3][NX2]=[#6]'),\n",
    "    'Imide': Chem.MolFromSmarts('[CX3](=[OX1])[NX3][CX3](=[OX1])'),\n",
    "    'Imine': Chem.MolFromSmarts('[$([CX3]([#6])[#6]),$([CX3H][#6])]=[$([NX2][#6]),$([NX2H])]'),\n",
    "    'Isocyanate': Chem.MolFromSmarts('[NX2]=[C]=[O]'),\n",
    "    'Isothiocyanate': Chem.MolFromSmarts('[NX2]=[C]=[S]'),\n",
    "    'Ketone': Chem.MolFromSmarts('[#6][CX3](=O)[#6]'),\n",
    "    'Nitrile': Chem.MolFromSmarts('[NX1]#[CX2]'),\n",
    "    'Phenol': Chem.MolFromSmarts('[OX2H][cX3]:[c]'),\n",
    "    'Phosphine': Chem.MolFromSmarts('[PX3]'),\n",
    "    'Sulfide': Chem.MolFromSmarts('[#16X2H0]'),\n",
    "    'Sulfonamide': Chem.MolFromSmarts('[#16X4]([NX3])(=[OX1])(=[OX1])[#6]'),\n",
    "    'Sulfonate': Chem.MolFromSmarts('[#16X4](=[OX1])(=[OX1])([#6])[OX2H0]'),\n",
    "    'Sulfone': Chem.MolFromSmarts('[#16X4](=[OX1])(=[OX1])([#6])[#6]'),\n",
    "    'Sulfonic acid': Chem.MolFromSmarts('[#16X4](=[OX1])(=[OX1])([#6])[OX2H]'),\n",
    "    'Sulfoxide': Chem.MolFromSmarts('[#16X3]=[OX1]'),\n",
    "    'Thial': Chem.MolFromSmarts('[CX3H1](=S)[#6,H]'),\n",
    "    'Thioamide': Chem.MolFromSmarts('[NX3][CX3]=[SX1]'),\n",
    "    'Thiol': Chem.MolFromSmarts('[#16X2H]')\n",
    "}\n",
    "def match_group(mol: Chem.Mol, func_group) -> int:\n",
    "    if type(func_group) == Chem.Mol:\n",
    "        n = len(mol.GetSubstructMatches(func_group))\n",
    "    else:\n",
    "        n = func_group(mol)\n",
    "    return 0 if n == 0 else 1\n",
    "# Function to map SMILES to functional groups (no change)\n",
    "def get_functional_groups(smiles: str) -> dict:\n",
    "    smiles = smiles.strip().replace(' ', '')\n",
    "    mol = Chem.MolFromSmiles(smiles)\n",
    "    if mol is None: \n",
    "        return None\n",
    "    func_groups = [match_group(mol, smarts) for smarts in functional_groups.values()]\n",
    "    return func_groups\n",
    "\n",
    "def interpolate_to_600(spec):\n",
    "    old_x = np.arange(len(spec))\n",
    "    new_x = np.linspace(min(old_x), max(old_x), 600)\n",
    "    interp = interp1d(old_x, spec)\n",
    "    return interp(new_x)\n",
    "\n",
    "def make_msms_spectrum(spectrum):\n",
    "    msms_spectrum = np.zeros(10000)\n",
    "    for peak in spectrum:\n",
    "        peak_pos = int(peak[0]*10)\n",
    "        peak_pos = min(peak_pos, 9999)\n",
    "        msms_spectrum[peak_pos] = peak[1]\n",
    "    return msms_spectrum\n",
    "\n",
    "# Define CNN Model in PyTo\n",
    "\n",
    "\n",
    "\n",
    "\n",
    "import torch\n",
    "import torch.nn as nn\n",
    "import torch.nn.functional as F\n",
    "\n",
    "class IndependentCNN(nn.Module):\n",
    "    def __init__(self, num_fgs):\n",
    "        super(IndependentCNN, self).__init__()\n",
    "        self.conv1 = nn.Conv1d(in_channels=1, out_channels=31, kernel_size=11, padding='same')\n",
    "        self.conv2 = nn.Conv1d(in_channels=31, out_channels=62, kernel_size=11, padding='same')\n",
    "\n",
    "        self.batch_norm1 = nn.BatchNorm1d(31)\n",
    "        self.batch_norm2 = nn.BatchNorm1d(62)\n",
    "\n",
    "        # MLP for selecting important channels (62 channels)\n",
    "        self.mlp = nn.Sequential(\n",
    "            nn.Linear(62, 128),  # Input 150 features per channel\n",
    "            nn.ReLU(),\n",
    "            nn.Linear(128, 1)     # Output importance score for each channel\n",
    "        )\n",
    "\n",
    "    def forward(self, x):\n",
    "        x = F.relu(self.batch_norm1(self.conv1(x)))\n",
    "        x = F.max_pool1d(x, 1)\n",
    "        x = F.relu(self.batch_norm2(self.conv2(x)))\n",
    "        x = F.max_pool1d(x, 4)\n",
    "        x = x.permute(0, 2, 1)\n",
    "        # 通道重要性计算(这里对通道的重要性计算应该改成对频率的重要性计算，这样才能算采样。)（那就是先）\n",
    "        static_feature_map = x.clone().detach()\n",
    "        channel_means = x.mean(dim=1)\n",
    "        channel_std = x.std(dim=1)\n",
    "\n",
    "        channel_importance = torch.sigmoid(self.mlp(x))\n",
    "        ib_x_mean = x * channel_importance + (1 - channel_importance) * channel_means.unsqueeze(1)\n",
    "        ib_x_std = (1 - channel_importance) * channel_std.unsqueeze(1)\n",
    "        ib_x = ib_x_mean + torch.rand_like(ib_x_mean) * ib_x_std\n",
    "\n",
    "        # KL Divergence loss\n",
    "        epsilon = 1e-8\n",
    "        KL_tensor = 0.5 * (\n",
    "            (ib_x_std**2) / (channel_std.unsqueeze(1) + epsilon)**2 +\n",
    "            (channel_std.unsqueeze(1)**2) / (ib_x_std + epsilon)**2 - 1\n",
    "        ) + ((ib_x_mean - channel_means.unsqueeze(1))**2) / (channel_std.unsqueeze(1) + epsilon)**2\n",
    "\n",
    "        KL_Loss = torch.mean(KL_tensor)\n",
    "\n",
    "        # Flatten and pass through fully connected layers\n",
    "        ib_x = ib_x.permute(0, 2, 1)\n",
    "        return ib_x, KL_Loss,channel_importance\n",
    "\n",
    "import torch\n",
    "import torch.nn as nn\n",
    "import torch.nn.functional as F\n",
    "\n",
    "def rbf_kernel(x, y, sigma=1.0):\n",
    "    \"\"\"\n",
    "    x: [B, D]\n",
    "    y: [B, D]\n",
    "    sigma: RBF 核的带宽 (可调)\n",
    "    返回: [B, B] 的核矩阵\n",
    "    \"\"\"\n",
    "    # x.unsqueeze(1): [B, 1, D]\n",
    "    # y.unsqueeze(0): [1, B, D]\n",
    "    # dist: [B, B]，表示 x_i 与 y_j 的欧式距离平方\n",
    "    x = x.unsqueeze(1)\n",
    "    y = y.unsqueeze(0)\n",
    "    dist = (x - y).pow(2).sum(dim=2)\n",
    "    kxy = torch.exp(-dist / (2 * sigma**2))\n",
    "    return kxy\n",
    "\n",
    "# =============== 2. 定义 HSIC 计算函数 ===============\n",
    "def hsic(x, y, sigma=1.0):\n",
    "    \"\"\"\n",
    "    计算 x, y 的 HSIC 值: HSIC(X, Y) = 1/(n-1)^2 * Tr(H Kx H Ky)\n",
    "    x: [B, D]\n",
    "    y: [B, D]\n",
    "    sigma: RBF 核带宽\n",
    "    返回标量 HSIC 值\n",
    "    \"\"\"\n",
    "    assert x.size(0) == y.size(0), \"x,y 的 batch size 不一致\"\n",
    "    n = x.size(0)\n",
    "\n",
    "    # 计算核矩阵\n",
    "    Kx = rbf_kernel(x, x, sigma=sigma)\n",
    "    Ky = rbf_kernel(y, y, sigma=sigma)\n",
    "\n",
    "    # 居中矩阵 H = I - 1/n\n",
    "    H = torch.eye(n, device=x.device) - (1./n) * torch.ones((n, n), device=x.device)\n",
    "\n",
    "    # H Kx H\n",
    "    HKxH = H.mm(Kx).mm(H)\n",
    "\n",
    "    # HSIC = Tr( (H Kx H) * Ky ) / (n-1)^2\n",
    "    # 注: 这里相乘可以写为 trace(HKxH @ Ky)，矩阵乘法后再 trace\n",
    "    hsic_val = torch.trace(HKxH.mm(Ky)) / (float(n - 1) ** 2)\n",
    "\n",
    "    return hsic_val\n",
    "\n",
    "\n",
    "\n",
    "\n",
    "\n",
    "\n",
    "\n",
    "\n",
    "\n",
    "import torch\n",
    "import torch.nn as nn\n",
    "import torch.nn.functional as F\n",
    "\n",
    "class CNNModelWithVAE(nn.Module): \n",
    "    def __init__(self, num_fgs, channel=62, feature_dim=150, hidden_dim=256, latent_dim=64, m_dim=10):\n",
    "        \"\"\"\n",
    "        参数：\n",
    "        - num_fgs: 预测目标的维度\n",
    "        - channel: 每个光谱的通道数（不同频率段）\n",
    "        - feature_dim: 每个光谱的特征维度\n",
    "        - hidden_dim: 隐藏层维度\n",
    "        - latent_dim: 潜在变量 z 的维度\n",
    "        - m_dim: 预测目标的维度（如有需要）\n",
    "        \"\"\"\n",
    "        super(CNNModelWithVAE, self).__init__()\n",
    "        self.channel = channel\n",
    "        self.feature_dim = feature_dim\n",
    "\n",
    "        # 创建三个独立的CNN模块\n",
    "        self.cnn1 = IndependentCNN(num_fgs)\n",
    "        self.cnn2 = IndependentCNN(num_fgs)\n",
    "        self.cnn3 = IndependentCNN(num_fgs)\n",
    "\n",
    "\n",
    "        # VAE Encoder: 将三个光谱特征融合成潜在表示 z\n",
    "        # 将 [B, 3*channel, feature_dim] 展平为 [B, 3*channel*feature_dim]\n",
    "        self.fc_fusion = nn.Sequential(\n",
    "            nn.Linear(3 * channel * feature_dim, hidden_dim),\n",
    "            nn.ReLU()\n",
    "        )\n",
    "        self.fc_mu = nn.Linear(hidden_dim, latent_dim)\n",
    "        self.fc_logvar = nn.Linear(hidden_dim, latent_dim)\n",
    "\n",
    "        # VAE Decoder: 从潜在表示 z 重建三个光谱\n",
    "        self.decoder = nn.ModuleList([\n",
    "            nn.Sequential(\n",
    "                nn.Linear(latent_dim, hidden_dim),\n",
    "                nn.ReLU(),\n",
    "                nn.Linear(hidden_dim, channel * feature_dim),\n",
    "                nn.ReLU()\n",
    "            ) for _ in range(3)\n",
    "        ])\n",
    "\n",
    "\n",
    "        # 增加一个线性层处理 x3 的特征\n",
    "        self.fc_x3 = nn.Linear(channel * feature_dim, latent_dim)\n",
    "\n",
    "        # 全连接层用于最终预测，使用 z 和 x3 作为输入\n",
    "        self.fc1 = nn.Linear(latent_dim *2, 4927)  # z 和 x3\n",
    "        self.fc2 = nn.Linear(4927, 2785)\n",
    "        self.fc3 = nn.Linear(2785, 1574)\n",
    "        self.fc4 = nn.Linear(1574,1)\n",
    "        self.dropout = nn.Dropout(0.48599073736368)\n",
    "    \n",
    "    def reparameterize(self, mu, logvar):\n",
    "        std = torch.exp(0.5 * logvar)\n",
    "        eps = torch.randn_like(std)   # ~ N(0, I)\n",
    "        return mu + std * eps\n",
    "    \n",
    "    def forward(self, x):\n",
    "        \"\"\"\n",
    "        前向传播函数。\n",
    "        \n",
    "        参数：\n",
    "        - x: 输入张量，形状为 [batch_size, 3, feature_dim]\n",
    "        \n",
    "        返回：\n",
    "        - 一个包含预测结果和各类损失组件的字典\n",
    "        \"\"\"\n",
    "        # 拆分输入为三个光谱通道\n",
    "        x1, x2, x3 = x[:, 0:1, :], x[:, 1:2, :], x[:, 2:3, :]  # 每个 [B, 1, feature_dim]\n",
    "\n",
    "        # 分别通过三个独立的CNN\n",
    "        ib_x_1, kl_loss1,channal_importance_1= self.cnn1(x1)  # [B, channel, feature_dim]\n",
    "        ib_x_2, kl_loss2 ,channal_importance_2= self.cnn2(x2)\n",
    "        ib_x_3, kl_loss3 ,channal_importance_3= self.cnn3(x3)\n",
    "\n",
    "        # 将三个通道的输出堆叠\n",
    "        ib_x_stacked = torch.cat([ib_x_1, ib_x_2, ib_x_3], dim=1)  # [B, 3*channel, feature_dim]\n",
    "        # 展平为 [B, 3*channel*feature_dim]\n",
    "        ib_x_flat = ib_x_stacked.view(ib_x_stacked.size(0), -1)  # [B, 3*channel*feature_dim]\n",
    "        # VAE Encoder\n",
    "        h = self.fc_fusion(ib_x_flat)  # [B, hidden_dim]\n",
    "        mu = self.fc_mu(h)             # [B, latent_dim]\n",
    "        logvar = self.fc_logvar(h)     # [B, latent_dim]\n",
    "        z = self.reparameterize(mu, logvar)  # [B, latent_dim]\n",
    "\n",
    "        # VAE Decoder: 重建三个光谱\n",
    "        recon_x = []\n",
    "        for decoder in self.decoder:\n",
    "            recon = decoder(z)  # [B, channel * feature_dim]\n",
    "            recon = recon.view(z.size(0), self.channel, self.feature_dim)  # [B, channel, feature_dim]\n",
    "            recon_x.append(recon)\n",
    "        recon_x1, recon_x2, recon_x3 = recon_x  # 各自的重构光谱\n",
    "\n",
    "        # 条件互信息估计器\n",
    "        # 将 ib_x_* 展平\n",
    "        ib_x1_flat = ib_x_1.view(z.size(0), -1)  # [B, channel * feature_dim]\n",
    "        ib_x2_flat = ib_x_2.view(z.size(0), -1)\n",
    "        ib_x3_flat = ib_x_3.view(z.size(0), -1)\n",
    "        sigma=1.0\n",
    "        # ====== 3.3 计算 HSIC 并做加和 ======\n",
    "        hsic_x3_x1 = hsic(ib_x3_flat, ib_x1_flat, sigma=sigma)\n",
    "        hsic_x3_x2 = hsic(ib_x3_flat, ib_x2_flat, sigma=sigma)\n",
    "        hsic_x3_z  = hsic(ib_x3_flat, z,     sigma=sigma)\n",
    "\n",
    "        # 将这几个 HSIC 值相加\n",
    "        hsic_loss = hsic_x3_x1 + hsic_x3_x2 + hsic_x3_z\n",
    "\n",
    "        # ====== 3.4 总损失: 主损失 + alpha * HSIC(总和) ======\n",
    "        cmi_loss = hsic_loss\n",
    "\n",
    "        # 增加 x3 的处理\n",
    "        x3_processed = self.fc_x3(ib_x3_flat)  # [B, latent_dim]\n",
    "        z_x3 = torch.cat([z, x3_processed], dim=1)  # [B, 2 * latent_dim]\n",
    "        x_pred = F.relu(self.fc1(z_x3 ))  # [B, 4927]\n",
    "        x_pred = self.dropout(x_pred)\n",
    "        x_pred = F.relu(self.fc2(x_pred))  # [B, 2785]\n",
    "        x_pred = self.dropout(x_pred)\n",
    "        x_pred = F.relu(self.fc3(x_pred))  # [B, 1574]\n",
    "        x_pred = self.dropout(x_pred)\n",
    "        x_pred = torch.sigmoid(self.fc4(x_pred))  # [B, num_fgs]\n",
    "\n",
    "        # KL散度损失取平均值（来自 VAE）\n",
    "        kl_div = -0.5 * torch.sum(1 + logvar - mu.pow(2) - logvar.exp(), dim=1).mean()\n",
    "        kl=( kl_loss1+ kl_loss2+ kl_loss3)/3\n",
    "        return {\n",
    "            'x': x_pred,\n",
    "            'vae_mu': mu,\n",
    "            'vae_logvar': logvar,\n",
    "            'recon_x1': recon_x1,\n",
    "            'recon_x2': recon_x2,\n",
    "            'recon_x3': recon_x3,\n",
    "            'cmi_loss': cmi_loss,  # InfoNCE 损失\n",
    "            'ib_x_1': ib_x_1,\n",
    "            'ib_x_2': ib_x_2,\n",
    "            'ib_x_3': ib_x_3,\n",
    "            'kl':kl,\n",
    "            'channal_importance_1':channal_importance_1,\n",
    "            'channal_importance_2':channal_importance_2,\n",
    "            'channal_importance_3':channal_importance_3\n",
    "        }\n",
    "\n",
    "\n",
    "\n",
    "\n",
    "\n",
    "\n",
    "\n",
    "\n",
    "\n",
    "\n",
    "# Training function in PyTorch\n",
    "from tqdm import tqdm  # 引入 tqdm\n",
    "\n",
    "b=0.0001\n",
    "# 定义训练函数\n",
    "# 定义训练函数\n",
    "from tqdm import tqdm  # 引入 tqdm\n",
    "\n",
    "# 定义训练函数\n",
    "def train_model(X_train, y_train, X_test, y_test, num_fgs, weighted=False, batch_size=41, epochs=41, \n",
    "                annealing_epochs=10, max_lambda_kl=1.0, lambda_cmi=0.5, lambda_recon=0.1):\n",
    "    device = torch.device('cuda:2' if torch.cuda.is_available() else 'cpu')\n",
    "    model = CNNModelWithVAE(num_fgs).to(device)\n",
    "    \n",
    "    # 定义优化器和损失函数\n",
    "    optimizer = optim.Adam(model.parameters(), lr=1e-3)\n",
    "    \n",
    "    if weighted:\n",
    "        class_weights = calculate_class_weights(y_train)\n",
    "        criterion = WeightedBinaryCrossEntropyLoss(class_weights).to(device)\n",
    "    else:\n",
    "        criterion = nn.BCELoss().to(device)\n",
    "\n",
    "    # 创建 DataLoader\n",
    "    y_train = np.array([np.array(item, dtype=np.float32) for item in y_train], dtype=np.float32)\n",
    "    y_test = np.array([np.array(item, dtype=np.float32) for item in y_test], dtype=np.float32)\n",
    "    train_data = TensorDataset(torch.tensor(X_train, dtype=torch.float32), torch.tensor(y_train, dtype=torch.float32))\n",
    "    test_data = TensorDataset(torch.tensor(X_test, dtype=torch.float32), torch.tensor(y_test, dtype=torch.float32))\n",
    "    train_loader = DataLoader(train_data, batch_size=batch_size, shuffle=True)\n",
    "    test_loader = DataLoader(test_data, batch_size=batch_size, shuffle=False)\n",
    "\n",
    "    # 确保保存路径存在\n",
    "    out_path.mkdir(parents=True, exist_ok=True)\n",
    "    \n",
    "    best_f1 = 0\n",
    "    for epoch in range(epochs):\n",
    "        model.train()\n",
    "        running_loss = 0.0\n",
    "        recon_loss_avg = 0.0\n",
    "        kl_weight = min(max_lambda_kl, (epoch + 1) / annealing_epochs)\n",
    "        with tqdm(train_loader, unit='batch', desc=f\"Epoch {epoch+1}/{epochs}\") as tepoch:\n",
    "            for batch in tepoch:\n",
    "                inputs, targets = batch\n",
    "                inputs, targets = inputs.to(device), targets.to(device)\n",
    "                optimizer.zero_grad()\n",
    "                outputs = model(inputs)\n",
    "                x_pred = outputs['x']\n",
    "                mu = outputs['vae_mu']\n",
    "                logvar = outputs['vae_logvar']\n",
    "                recon_x1 = outputs['recon_x1']\n",
    "                recon_x2 = outputs['recon_x2']\n",
    "                recon_x3 = outputs['recon_x3']\n",
    "                kl = outputs['kl']\n",
    "                cmi_loss = outputs['cmi_loss']\n",
    "\n",
    "                # 预测损失\n",
    "                targets = targets[:, 0].unsqueeze(1)\n",
    "                pred_loss = criterion(x_pred, targets)\n",
    "                \n",
    "                # 重建损失\n",
    "                recon_loss = F.mse_loss(recon_x1, outputs['ib_x_1']) + \\\n",
    "                             F.mse_loss(recon_x2, outputs['ib_x_2']) + \\\n",
    "                             F.mse_loss(recon_x3, outputs['ib_x_3'])\n",
    "        \n",
    "                # KL散度损失\n",
    "                kl_div = -0.5 * torch.sum(1 + logvar - mu.pow(2) - logvar.exp(), dim=1).mean()\n",
    "                # 总损失：预测损失 + KL散度 + 互信息损失 + 重建损失\n",
    "                total_loss = pred_loss + kl_weight * kl_div + \\\n",
    "                             lambda_cmi * cmi_loss + lambda_recon * recon_loss + 0.0001 * kl\n",
    "                total_loss.backward()\n",
    "                \n",
    "                # 梯度裁剪\n",
    "                torch.nn.utils.clip_grad_norm_(model.parameters(), max_norm=1.0)\n",
    "                \n",
    "                optimizer.step()\n",
    "                \n",
    "                running_loss += total_loss.item()\n",
    "                recon_loss_avg += recon_loss.item()\n",
    "                tepoch.set_postfix(loss=running_loss / (tepoch.n + 1),\n",
    "                                  kl_weight=kl_weight)\n",
    "        \n",
    "        avg_loss = running_loss / len(train_loader)\n",
    "        recon_loss_a = recon_loss_avg / len(train_loader)\n",
    "        print(f'Epoch {epoch+1}/{epochs}, Loss: {avg_loss}, KL Weight: {kl_weight}, Recon Loss: {recon_loss_a}')\n",
    "        \n",
    "        # 评估F1分数\n",
    "        model.eval()\n",
    "        predictions = []\n",
    "        with torch.no_grad():\n",
    "            for batch in test_loader:\n",
    "                inputs, targets = batch\n",
    "                targets = targets[:, 0].unsqueeze(1)\n",
    "                targets=targets[:][0]\n",
    "                inputs = inputs.to(device)\n",
    "                outputs = model(inputs)\n",
    "                x_pred = outputs['x']\n",
    "                predictions.append(x_pred.cpu().numpy())\n",
    "        predictions = np.concatenate(predictions)\n",
    "        binary_predictions = (predictions > 0.5).astype(int)\n",
    "        y_test = y_test[:, 0].reshape(-1, 1)\n",
    "        f1 = f1_score(y_test, binary_predictions, average='micro')\n",
    "        print(f'F1 Score: {f1}')\n",
    "        \n",
    "        # 保存最佳模型\n",
    "        if f1 > best_f1:\n",
    "            best_f1 = f1\n",
    "            model_save_path = out_path / \"best_model.pth\"\n",
    "            torch.save(model.state_dict(), model_save_path)\n",
    "            print(f'Best model saved with F1 Score: {best_f1} at {model_save_path}')\n",
    "\n",
    "    return binary_predictions\n",
    "\n",
    "\n",
    "\n",
    "\n",
    "# Custom loss function with class weights\n",
    "class WeightedBinaryCrossEntropyLoss(nn.Module):\n",
    "    def __init__(self, class_weights):\n",
    "        super(WeightedBinaryCrossEntropyLoss, self).__init__()\n",
    "        self.class_weights = class_weights\n",
    "\n",
    "    def forward(self, y_pred, y_true):\n",
    "        loss = self.class_weights[0] * (1 - y_true) * torch.log(1 - y_pred + 1e-15) + \\\n",
    "               self.class_weights[1] * y_true * torch.log(y_pred + 1e-15)\n",
    "        return -loss.mean()\n",
    "\n",
    "# Calculate class weights\n",
    "def calculate_class_weights(y_true):\n",
    "    num_samples = y_true.shape[0]\n",
    "    class_weights = np.zeros((2, y_true.shape[1]))\n",
    "    for i in range(y_true.shape[1]):\n",
    "        weights_n = num_samples / (2 * (y_true[:, i] == 0).sum())\n",
    "        weights_p = num_samples / (2 * (y_true[:, i] == 1).sum())\n",
    "        class_weights[0, i] = weights_n\n",
    "        class_weights[1, i] = weights_p\n",
    "    return torch.tensor(class_weights.T, dtype=torch.float32)\n",
    "\n",
    "# Loading data (no change)\n",
    "analytical_data = Path(\"/data/zjh2/multimodal-spectroscopic-dataset-main/data/multimodal_spectroscopic_dataset\")\n",
    "out_path = Path(\"/home/dwj/icml_guangpu/multimodal-spectroscopic-dataset-main/runs/runs_f_groups/all\")\n",
    "columns = [\"h_nmr_spectra\", \"c_nmr_spectra\", \"ir_spectra\"]\n",
    "seed = 3245\n",
    "\n",
    "# 准备存储合并后的数据\n",
    "all_data = []\n",
    "i=0\n",
    "# 一次性读取文件并处理所有列\n",
    "for parquet_file in analytical_data.glob(\"*.parquet\"):\n",
    "    i+=1\n",
    "    # 读取所有需要的列\n",
    "    data = pd.read_parquet(parquet_file, columns=columns + ['smiles'])\n",
    "    \n",
    "    # 对每个列进行插值\n",
    "    for column in columns:\n",
    "        data[column] = data[column].map(interpolate_to_600)\n",
    "    \n",
    "    # 添加功能团信息\n",
    "    data['func_group'] = data.smiles.map(get_functional_groups)\n",
    "    #在这里就是0/1矩阵了\n",
    "    all_data.append(data)\n",
    "    print(f\"Loaded Data from: \", i)\n",
    "    if i==3:\n",
    "        break\n",
    "# 合并所有数据\n",
    "training_data = pd.concat(all_data, ignore_index=True)\n",
    "\n",
    "\n",
    "# 将数据划分为训练集和测试集\n",
    "train, test = train_test_split(training_data, test_size=0.1, random_state=seed)\n",
    "\n",
    "# 定义特征列\n",
    "columns = [\"h_nmr_spectra\", \"c_nmr_spectra\", \"ir_spectra\"]\n",
    "\n",
    "# 提取训练集特征和标签\n",
    "X_train = np.array(train[columns].values.tolist())  # 确保特征值是一个二维数组\n",
    "y_train = np.array(train['func_group'].values)      # 标签转换为一维数组\n",
    "\n",
    "# 提取测试集特征和标签\n",
    "X_test = np.array(test[columns].values.tolist())    # 同样确保二维数组\n",
    "y_test = np.array(test['func_group'].values)        # 标签一维数组\n",
    "\n",
    "# 检查数组形状以验证正确性\n",
    "print(\"X_train shape:\", X_train.shape)\n",
    "print(\"y_train shape:\", y_train.shape)\n",
    "print(\"X_test shape:\", X_test.shape)\n",
    "print(\"y_test shape:\", y_test.shape)\n",
    "# Train extended model\n",
    "predictions = train_model(X_train, y_train, X_test, y_test,num_fgs=37, weighted=False, batch_size=41, epochs=41, \n",
    "                annealing_epochs=10, max_lambda_kl=1.0, lambda_cmi=0.1, lambda_recon=0.1)\n",
    "\n",
    "# Evaluate the model\n",
    "y_test = np.array([np.array(item, dtype=np.float32) for item in y_test], dtype=np.float32)\n",
    "f1 = f1_score(y_test, predictions, average='micro')\n",
    "print(f'F1 Score: {f1}')\n",
    "\n",
    "# Save results\n",
    "with open(out_path / \"results.pickle\", \"wb\") as file:\n",
    "    pickle.dump({'pred': predictions, 'tgt': y_test}, file)"
   ]
  },
  {
   "cell_type": "code",
   "execution_count": null,
   "metadata": {},
   "outputs": [],
   "source": []
  },
  {
   "cell_type": "code",
   "execution_count": null,
   "metadata": {},
   "outputs": [],
   "source": [
    "######初始的\n",
    "import matplotlib.pyplot as plt\n",
    "# 定义训练函数\n",
    "def evalute_model(X_test, y_test, model_path,smiles,ir,num_fgs, weighted=False, batch_size=41, \n",
    "                annealing_epochs=10, max_lambda_kl=1.0, lambda_cmi=0.5, lambda_recon=0.1):\n",
    "    device = torch.device('cuda:2' if torch.cuda.is_available() else 'cpu')\n",
    "    model = CNNModelWithVAE(num_fgs).to(device)\n",
    "    model.load_state_dict(torch.load(model_path, map_location=device))\n",
    "    model.eval()\n",
    "    \n",
    "\n",
    "    # 创建 DataLoader\n",
    "    y_test = np.array([np.array(item, dtype=np.float32) for item in y_test], dtype=np.float32)\n",
    "    test_data = TensorDataset(torch.tensor(X_test, dtype=torch.float32), torch.tensor(y_test, dtype=torch.float32))\n",
    "    test_loader = DataLoader(test_data, batch_size=batch_size, shuffle=False)\n",
    "\n",
    "    \n",
    "    # 评估F1分数\n",
    "    model.eval()\n",
    "    predictions = []\n",
    "    with torch.no_grad():\n",
    "        for batch in test_loader:\n",
    "            inputs, targets = batch\n",
    "            inputs = inputs.to(device)\n",
    "            outputs = model(inputs)\n",
    "            x_pred = outputs['x']\n",
    "            channal_importance_1 = outputs['channal_importance_1']\n",
    "            channal_importance_2 = outputs['channal_importance_2']\n",
    "            channal_importance_3 = outputs['channal_importance_3']\n",
    "            channal_importance_3_cpu = channal_importance_3.squeeze().cpu().numpy()  # squeeze 去除维度 [1, 150, 1] 转为 [150, 1]\n",
    "\n",
    "\n",
    "\n",
    "            # 步骤4: 可视化\n",
    "            plt.plot(np.arange(150), channal_importance_3_cpu)\n",
    "            plt.title(smiles)\n",
    "            plt.xlabel('Wavelength Index')\n",
    "            plt.ylabel('Importance')\n",
    "            plt.show()\n",
    "            \n",
    "            \n",
    "            plt.plot(np.arange(1800), ir)\n",
    "            plt.title(smiles)\n",
    "            plt.xlabel('Wavelength Index')\n",
    "            plt.ylabel('ir')\n",
    "            plt.show()\n",
    "            \n",
    "            predictions.append(x_pred.cpu().numpy())\n",
    "    predictions = np.concatenate(predictions)\n",
    "    binary_predictions = (predictions > 0.5).astype(int)\n",
    "    f1 = f1_score(y_test, binary_predictions, average='micro')\n",
    "    print(f'F1 Score: {f1}')\n",
    "\n",
    "    return binary_predictions\n",
    "\n",
    "\n",
    "\n",
    "\n",
    "# Custom loss function with class weights\n",
    "class WeightedBinaryCrossEntropyLoss(nn.Module):\n",
    "    def __init__(self, class_weights):\n",
    "        super(WeightedBinaryCrossEntropyLoss, self).__init__()\n",
    "        self.class_weights = class_weights\n",
    "\n",
    "    def forward(self, y_pred, y_true):\n",
    "        loss = self.class_weights[0] * (1 - y_true) * torch.log(1 - y_pred + 1e-15) + \\\n",
    "               self.class_weights[1] * y_true * torch.log(y_pred + 1e-15)\n",
    "        return -loss.mean()\n",
    "\n",
    "# Calculate class weights\n",
    "def calculate_class_weights(y_true):\n",
    "    num_samples = y_true.shape[0]\n",
    "    class_weights = np.zeros((2, y_true.shape[1]))\n",
    "    for i in range(y_true.shape[1]):\n",
    "        weights_n = num_samples / (2 * (y_true[:, i] == 0).sum())\n",
    "        weights_p = num_samples / (2 * (y_true[:, i] == 1).sum())\n",
    "        class_weights[0, i] = weights_n\n",
    "        class_weights[1, i] = weights_p\n",
    "    return torch.tensor(class_weights.T, dtype=torch.float32)\n",
    "\n",
    "# Loading data (no change)\n",
    "analytical_data = Path(\"/data/zjh2/multimodal-spectroscopic-dataset-main/data/multimodal_spectroscopic_dataset\")\n",
    "out_path = Path(\"/home/dwj/icml_guangpu/multimodal-spectroscopic-dataset-main/runs/runs_f_groups/all\")\n",
    "columns = [\"h_nmr_spectra\", \"c_nmr_spectra\", \"ir_spectra\"]\n",
    "seed = 3245\n",
    "model_path = Path(\"/home/dwj/icml_guangpu/multimodal-spectroscopic-dataset-main/runs/runs_f_groups/all/best_model.pth\")\n",
    "# 准备存储合并后的数据\n",
    "all_data = []\n",
    "i=0\n",
    "# 一次性读取文件并处理所有列\n",
    "for parquet_file in analytical_data.glob(\"*.parquet\"):\n",
    "    i+=1\n",
    "    # 读取所有需要的列\n",
    "    data = pd.read_parquet(parquet_file, columns=columns + ['smiles'])\n",
    "    # 对每个列进行插值\n",
    "    for column in columns:\n",
    "        data[column+\"ori\"] = data[column]\n",
    "        data[column] = data[column].map(interpolate_to_600)\n",
    "    \n",
    "    # 添加功能团信息\n",
    "    data['func_group'] = data.smiles.map(get_functional_groups)\n",
    "    #在这里就是0/1矩阵了\n",
    "    all_data.append(data)\n",
    "    print(f\"Loaded Data from: \", i)\n",
    "    if i==3:\n",
    "        break\n",
    "# 合并所有数据\n",
    "training_data = pd.concat(all_data, ignore_index=True)\n",
    "\n",
    "\n",
    "# 将数据划分为训练集和测试集\n",
    "train, test = train_test_split(training_data, test_size=1, random_state=seed)\n",
    "columns = [\"h_nmr_spectra\", \"c_nmr_spectra\", \"ir_spectra\"]\n",
    "\n",
    "\n",
    "# 提取测试集特征和标签\n",
    "X_test = np.array(test[columns].values.tolist())    # 同样确保二维数组\n",
    "y_test = np.array(test['func_group'].values)        # 标签一维数组\n",
    "print(len(test[\"ir_spectraori\"].values.tolist()[0]))\n",
    "smiles = test[\"smiles\"]\n",
    "ir = test[\"ir_spectraori\"].values.tolist()[0]\n",
    "# Train extended model\n",
    "print(test['func_group'].values)\n",
    "predictions = evalute_model( X_test, y_test,model_path,smiles,ir,num_fgs=37, weighted=False, batch_size=1, \n",
    "                annealing_epochs=10, max_lambda_kl=1.0, lambda_cmi=0.1, lambda_recon=0.1)\n",
    "\n",
    "# Evaluate the model\n",
    "y_test = np.array([np.array(item, dtype=np.float32) for item in y_test], dtype=np.float32)\n",
    "f1 = f1_score(y_test, predictions, average='micro')\n",
    "print(f'F1 Score: {f1}')\n",
    "\n",
    "# Save results\n",
    "with open(out_path / \"results.pickle\", \"wb\") as file:\n",
    "    pickle.dump({'pred': predictions, 'tgt': y_test}, file)"
   ]
  },
  {
   "cell_type": "code",
   "execution_count": null,
   "metadata": {},
   "outputs": [],
   "source": []
  }
 ],
 "metadata": {
  "kernelspec": {
   "display_name": "zs",
   "language": "python",
   "name": "python3"
  },
  "language_info": {
   "codemirror_mode": {
    "name": "ipython",
    "version": 3
   },
   "file_extension": ".py",
   "mimetype": "text/x-python",
   "name": "python",
   "nbconvert_exporter": "python",
   "pygments_lexer": "ipython3",
   "version": "3.9.16"
  }
 },
 "nbformat": 4,
 "nbformat_minor": 2
}
