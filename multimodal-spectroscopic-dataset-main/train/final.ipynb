{
 "cells": [
  {
   "cell_type": "code",
   "execution_count": 1,
   "metadata": {},
   "outputs": [
    {
     "name": "stdout",
     "output_type": "stream",
     "text": [
      "Loaded Data from:  1\n",
      "Loaded Data from:  2\n",
      "Loaded Data from:  3\n",
      "X_train shape: (8740, 3, 600)\n",
      "y_train shape: (8740,)\n",
      "X_test shape: (972, 3, 600)\n",
      "y_test shape: (972,)\n"
     ]
    },
    {
     "name": "stderr",
     "output_type": "stream",
     "text": [
      "Epoch 1/200: 100%|██████████| 214/214 [00:05<00:00, 36.31batch/s, kl_weight=0.1, loss=0.682]\n"
     ]
    },
    {
     "name": "stdout",
     "output_type": "stream",
     "text": [
      "Epoch 1/200, Loss: 0.6728144929370034, KL Weight: 0.1,recon_loss :0.09797269751744292\n",
      "F1 Score: 0.6278248587570622\n",
      "Best model saved with F1 Score: 0.6278248587570622\n"
     ]
    },
    {
     "name": "stderr",
     "output_type": "stream",
     "text": [
      "Epoch 2/200: 100%|██████████| 214/214 [00:05<00:00, 41.57batch/s, kl_weight=0.2, loss=0.226]\n"
     ]
    },
    {
     "name": "stdout",
     "output_type": "stream",
     "text": [
      "Epoch 2/200, Loss: 0.22311670166031222, KL Weight: 0.2,recon_loss :0.04535529329920205\n",
      "F1 Score: 0.5983519404572036\n"
     ]
    },
    {
     "name": "stderr",
     "output_type": "stream",
     "text": [
      "Epoch 3/200: 100%|██████████| 214/214 [00:05<00:00, 39.59batch/s, kl_weight=0.3, loss=0.219]\n"
     ]
    },
    {
     "name": "stdout",
     "output_type": "stream",
     "text": [
      "Epoch 3/200, Loss: 0.21853488732442677, KL Weight: 0.3,recon_loss :0.04034441048018286\n",
      "F1 Score: 0.5983519404572036\n"
     ]
    },
    {
     "name": "stderr",
     "output_type": "stream",
     "text": [
      "Epoch 4/200: 100%|██████████| 214/214 [00:05<00:00, 39.39batch/s, kl_weight=0.4, loss=0.216]\n"
     ]
    },
    {
     "name": "stdout",
     "output_type": "stream",
     "text": [
      "Epoch 4/200, Loss: 0.21529577665518376, KL Weight: 0.4,recon_loss :0.03367105074701222\n",
      "F1 Score: 0.5983519404572036\n"
     ]
    },
    {
     "name": "stderr",
     "output_type": "stream",
     "text": [
      "Epoch 5/200: 100%|██████████| 214/214 [00:05<00:00, 39.80batch/s, kl_weight=0.5, loss=0.21] \n"
     ]
    },
    {
     "name": "stdout",
     "output_type": "stream",
     "text": [
      "Epoch 5/200, Loss: 0.2103679487220595, KL Weight: 0.5,recon_loss :0.002877383070745479\n",
      "F1 Score: 0.5983519404572036\n"
     ]
    },
    {
     "name": "stderr",
     "output_type": "stream",
     "text": [
      "Epoch 6/200: 100%|██████████| 214/214 [00:05<00:00, 38.80batch/s, kl_weight=0.6, loss=0.212]\n"
     ]
    },
    {
     "name": "stdout",
     "output_type": "stream",
     "text": [
      "Epoch 6/200, Loss: 0.20908247038861302, KL Weight: 0.6,recon_loss :0.0015114172909595942\n",
      "F1 Score: 0.6288013252869483\n",
      "Best model saved with F1 Score: 0.6288013252869483\n"
     ]
    },
    {
     "name": "stderr",
     "output_type": "stream",
     "text": [
      "Epoch 7/200: 100%|██████████| 214/214 [00:05<00:00, 41.87batch/s, kl_weight=0.7, loss=0.211]\n"
     ]
    },
    {
     "name": "stdout",
     "output_type": "stream",
     "text": [
      "Epoch 7/200, Loss: 0.20844938849734368, KL Weight: 0.7,recon_loss :0.0009856284666745533\n",
      "F1 Score: 0.5983519404572036\n"
     ]
    },
    {
     "name": "stderr",
     "output_type": "stream",
     "text": [
      "Epoch 8/200: 100%|██████████| 214/214 [00:05<00:00, 41.95batch/s, kl_weight=0.8, loss=0.211]\n"
     ]
    },
    {
     "name": "stdout",
     "output_type": "stream",
     "text": [
      "Epoch 8/200, Loss: 0.2079070322563715, KL Weight: 0.8,recon_loss :0.0006308420969251648\n",
      "F1 Score: 0.5982724252491695\n"
     ]
    },
    {
     "name": "stderr",
     "output_type": "stream",
     "text": [
      "Epoch 9/200: 100%|██████████| 214/214 [00:05<00:00, 42.05batch/s, kl_weight=0.9, loss=0.211]\n"
     ]
    },
    {
     "name": "stdout",
     "output_type": "stream",
     "text": [
      "Epoch 9/200, Loss: 0.20776240729561476, KL Weight: 0.9,recon_loss :0.0004105379520526491\n",
      "F1 Score: 0.5980340063761955\n"
     ]
    },
    {
     "name": "stderr",
     "output_type": "stream",
     "text": [
      "Epoch 10/200: 100%|██████████| 214/214 [00:05<00:00, 41.64batch/s, kl_weight=1, loss=0.21] \n"
     ]
    },
    {
     "name": "stdout",
     "output_type": "stream",
     "text": [
      "Epoch 10/200, Loss: 0.20754087214993538, KL Weight: 1.0,recon_loss :0.00010305809038098266\n",
      "F1 Score: 0.6287538425159612\n"
     ]
    },
    {
     "name": "stderr",
     "output_type": "stream",
     "text": [
      "Epoch 11/200: 100%|██████████| 214/214 [00:05<00:00, 41.84batch/s, kl_weight=1, loss=0.21] \n"
     ]
    },
    {
     "name": "stdout",
     "output_type": "stream",
     "text": [
      "Epoch 11/200, Loss: 0.20751663004962084, KL Weight: 1.0,recon_loss :4.280292984314707e-05\n",
      "F1 Score: 0.5983519404572036\n"
     ]
    },
    {
     "name": "stderr",
     "output_type": "stream",
     "text": [
      "Epoch 12/200: 100%|██████████| 214/214 [00:05<00:00, 41.99batch/s, kl_weight=1, loss=0.21] \n"
     ]
    },
    {
     "name": "stdout",
     "output_type": "stream",
     "text": [
      "Epoch 12/200, Loss: 0.20736614948956766, KL Weight: 1.0,recon_loss :3.2658118147864855e-05\n",
      "F1 Score: 0.5983519404572036\n"
     ]
    },
    {
     "name": "stderr",
     "output_type": "stream",
     "text": [
      "Epoch 13/200: 100%|██████████| 214/214 [00:05<00:00, 41.83batch/s, kl_weight=1, loss=0.21] \n"
     ]
    },
    {
     "name": "stdout",
     "output_type": "stream",
     "text": [
      "Epoch 13/200, Loss: 0.20726178447219812, KL Weight: 1.0,recon_loss :2.9638155814541492e-05\n",
      "F1 Score: 0.5983519404572036\n"
     ]
    },
    {
     "name": "stderr",
     "output_type": "stream",
     "text": [
      "Epoch 14/200: 100%|██████████| 214/214 [00:05<00:00, 41.92batch/s, kl_weight=1, loss=0.21] \n"
     ]
    },
    {
     "name": "stdout",
     "output_type": "stream",
     "text": [
      "Epoch 14/200, Loss: 0.20715297375605485, KL Weight: 1.0,recon_loss :2.3619388731642055e-05\n",
      "F1 Score: 0.5983519404572036\n"
     ]
    },
    {
     "name": "stderr",
     "output_type": "stream",
     "text": [
      "Epoch 15/200: 100%|██████████| 214/214 [00:05<00:00, 41.91batch/s, kl_weight=1, loss=0.21] \n"
     ]
    },
    {
     "name": "stdout",
     "output_type": "stream",
     "text": [
      "Epoch 15/200, Loss: 0.20718846922722933, KL Weight: 1.0,recon_loss :1.795435409208762e-05\n",
      "F1 Score: 0.5983519404572036\n"
     ]
    },
    {
     "name": "stderr",
     "output_type": "stream",
     "text": [
      "Epoch 16/200: 100%|██████████| 214/214 [00:05<00:00, 42.04batch/s, kl_weight=1, loss=0.21] \n"
     ]
    },
    {
     "name": "stdout",
     "output_type": "stream",
     "text": [
      "Epoch 16/200, Loss: 0.207055227152098, KL Weight: 1.0,recon_loss :1.4348674952335412e-05\n",
      "F1 Score: 0.5984858546951787\n"
     ]
    },
    {
     "name": "stderr",
     "output_type": "stream",
     "text": [
      "Epoch 17/200: 100%|██████████| 214/214 [00:05<00:00, 41.99batch/s, kl_weight=1, loss=0.21] \n"
     ]
    },
    {
     "name": "stdout",
     "output_type": "stream",
     "text": [
      "Epoch 17/200, Loss: 0.20717117496740037, KL Weight: 1.0,recon_loss :1.1124265061013583e-05\n",
      "F1 Score: 0.5985382059800665\n"
     ]
    },
    {
     "name": "stderr",
     "output_type": "stream",
     "text": [
      "Epoch 18/200: 100%|██████████| 214/214 [00:05<00:00, 41.76batch/s, kl_weight=1, loss=0.21] \n"
     ]
    },
    {
     "name": "stdout",
     "output_type": "stream",
     "text": [
      "Epoch 18/200, Loss: 0.20694240565611938, KL Weight: 1.0,recon_loss :8.555846889236741e-06\n",
      "F1 Score: 0.5983519404572036\n"
     ]
    },
    {
     "name": "stderr",
     "output_type": "stream",
     "text": [
      "Epoch 19/200: 100%|██████████| 214/214 [00:05<00:00, 42.00batch/s, kl_weight=1, loss=0.21] \n"
     ]
    },
    {
     "name": "stdout",
     "output_type": "stream",
     "text": [
      "Epoch 19/200, Loss: 0.20712281582511474, KL Weight: 1.0,recon_loss :2.496346327903649e-05\n",
      "F1 Score: 0.629472693032015\n",
      "Best model saved with F1 Score: 0.629472693032015\n"
     ]
    },
    {
     "name": "stderr",
     "output_type": "stream",
     "text": [
      "Epoch 20/200: 100%|██████████| 214/214 [00:05<00:00, 39.97batch/s, kl_weight=1, loss=0.208]\n"
     ]
    },
    {
     "name": "stdout",
     "output_type": "stream",
     "text": [
      "Epoch 20/200, Loss: 0.2071129536935102, KL Weight: 1.0,recon_loss :7.447349300160126e-05\n",
      "F1 Score: 0.5983519404572036\n"
     ]
    },
    {
     "name": "stderr",
     "output_type": "stream",
     "text": [
      "Epoch 21/200: 100%|██████████| 214/214 [00:05<00:00, 41.94batch/s, kl_weight=1, loss=0.21] \n"
     ]
    },
    {
     "name": "stdout",
     "output_type": "stream",
     "text": [
      "Epoch 21/200, Loss: 0.20688700160690557, KL Weight: 1.0,recon_loss :3.264152421940716e-05\n",
      "F1 Score: 0.5983519404572036\n"
     ]
    },
    {
     "name": "stderr",
     "output_type": "stream",
     "text": [
      "Epoch 22/200: 100%|██████████| 214/214 [00:05<00:00, 41.81batch/s, kl_weight=1, loss=0.21] \n"
     ]
    },
    {
     "name": "stdout",
     "output_type": "stream",
     "text": [
      "Epoch 22/200, Loss: 0.20714350058653644, KL Weight: 1.0,recon_loss :2.146120316007068e-05\n",
      "F1 Score: 0.5983519404572036\n"
     ]
    },
    {
     "name": "stderr",
     "output_type": "stream",
     "text": [
      "Epoch 23/200: 100%|██████████| 214/214 [00:05<00:00, 41.93batch/s, kl_weight=1, loss=0.21] \n"
     ]
    },
    {
     "name": "stdout",
     "output_type": "stream",
     "text": [
      "Epoch 23/200, Loss: 0.20713285342833707, KL Weight: 1.0,recon_loss :1.2010820198420078e-05\n",
      "F1 Score: 0.5983519404572036\n"
     ]
    },
    {
     "name": "stderr",
     "output_type": "stream",
     "text": [
      "Epoch 24/200: 100%|██████████| 214/214 [00:05<00:00, 42.02batch/s, kl_weight=1, loss=0.21] \n"
     ]
    },
    {
     "name": "stdout",
     "output_type": "stream",
     "text": [
      "Epoch 24/200, Loss: 0.20692961669970897, KL Weight: 1.0,recon_loss :7.175186501159243e-06\n",
      "F1 Score: 0.5983519404572036\n"
     ]
    },
    {
     "name": "stderr",
     "output_type": "stream",
     "text": [
      "Epoch 25/200: 100%|██████████| 214/214 [00:05<00:00, 42.01batch/s, kl_weight=1, loss=0.21] \n"
     ]
    },
    {
     "name": "stdout",
     "output_type": "stream",
     "text": [
      "Epoch 25/200, Loss: 0.20685482122630716, KL Weight: 1.0,recon_loss :4.95055883008131e-06\n",
      "F1 Score: 0.5983519404572036\n"
     ]
    },
    {
     "name": "stderr",
     "output_type": "stream",
     "text": [
      "Epoch 26/200: 100%|██████████| 214/214 [00:05<00:00, 41.89batch/s, kl_weight=1, loss=0.21] \n"
     ]
    },
    {
     "name": "stdout",
     "output_type": "stream",
     "text": [
      "Epoch 26/200, Loss: 0.20695916089777636, KL Weight: 1.0,recon_loss :3.53888553940268e-06\n",
      "F1 Score: 0.5983519404572036\n"
     ]
    },
    {
     "name": "stderr",
     "output_type": "stream",
     "text": [
      "Epoch 27/200: 100%|██████████| 214/214 [00:05<00:00, 41.93batch/s, kl_weight=1, loss=0.21] \n"
     ]
    },
    {
     "name": "stdout",
     "output_type": "stream",
     "text": [
      "Epoch 27/200, Loss: 0.20706391675728503, KL Weight: 1.0,recon_loss :2.704920520009437e-06\n",
      "F1 Score: 0.5983519404572036\n"
     ]
    },
    {
     "name": "stderr",
     "output_type": "stream",
     "text": [
      "Epoch 28/200: 100%|██████████| 214/214 [00:05<00:00, 41.63batch/s, kl_weight=1, loss=0.209]\n"
     ]
    },
    {
     "name": "stdout",
     "output_type": "stream",
     "text": [
      "Epoch 28/200, Loss: 0.20647161586262355, KL Weight: 1.0,recon_loss :1.948752794174667e-06\n",
      "F1 Score: 0.5983519404572036\n"
     ]
    },
    {
     "name": "stderr",
     "output_type": "stream",
     "text": [
      "Epoch 29/200: 100%|██████████| 214/214 [00:05<00:00, 41.00batch/s, kl_weight=1, loss=0.211]\n"
     ]
    },
    {
     "name": "stdout",
     "output_type": "stream",
     "text": [
      "Epoch 29/200, Loss: 0.2067521551502085, KL Weight: 1.0,recon_loss :1.5179333130008163e-06\n",
      "F1 Score: 0.5983519404572036\n"
     ]
    },
    {
     "name": "stderr",
     "output_type": "stream",
     "text": [
      "Epoch 30/200: 100%|██████████| 214/214 [00:05<00:00, 39.99batch/s, kl_weight=1, loss=0.208]\n"
     ]
    },
    {
     "name": "stdout",
     "output_type": "stream",
     "text": [
      "Epoch 30/200, Loss: 0.20690418633623658, KL Weight: 1.0,recon_loss :1.1403690960669953e-06\n",
      "F1 Score: 0.5983519404572036\n"
     ]
    },
    {
     "name": "stderr",
     "output_type": "stream",
     "text": [
      "Epoch 31/200: 100%|██████████| 214/214 [00:05<00:00, 37.65batch/s, kl_weight=1, loss=0.208]\n"
     ]
    },
    {
     "name": "stdout",
     "output_type": "stream",
     "text": [
      "Epoch 31/200, Loss: 0.20682156475904945, KL Weight: 1.0,recon_loss :9.195632381659243e-07\n",
      "F1 Score: 0.5986502580389044\n"
     ]
    },
    {
     "name": "stderr",
     "output_type": "stream",
     "text": [
      "Epoch 32/200: 100%|██████████| 214/214 [00:05<00:00, 39.26batch/s, kl_weight=1, loss=0.208]\n"
     ]
    },
    {
     "name": "stdout",
     "output_type": "stream",
     "text": [
      "Epoch 32/200, Loss: 0.20680402832053532, KL Weight: 1.0,recon_loss :7.595964565463755e-07\n",
      "F1 Score: 0.5983519404572036\n"
     ]
    },
    {
     "name": "stderr",
     "output_type": "stream",
     "text": [
      "Epoch 33/200: 100%|██████████| 214/214 [00:05<00:00, 40.12batch/s, kl_weight=1, loss=0.211]\n"
     ]
    },
    {
     "name": "stdout",
     "output_type": "stream",
     "text": [
      "Epoch 33/200, Loss: 0.2069446317781912, KL Weight: 1.0,recon_loss :6.136101646895773e-07\n",
      "F1 Score: 0.5983519404572036\n"
     ]
    },
    {
     "name": "stderr",
     "output_type": "stream",
     "text": [
      "Epoch 34/200: 100%|██████████| 214/214 [00:05<00:00, 42.10batch/s, kl_weight=1, loss=0.21] \n"
     ]
    },
    {
     "name": "stdout",
     "output_type": "stream",
     "text": [
      "Epoch 34/200, Loss: 0.20690942597444925, KL Weight: 1.0,recon_loss :5.206209784526789e-07\n",
      "F1 Score: 0.5983519404572036\n"
     ]
    },
    {
     "name": "stderr",
     "output_type": "stream",
     "text": [
      "Epoch 35/200: 100%|██████████| 214/214 [00:05<00:00, 42.03batch/s, kl_weight=1, loss=0.21] \n"
     ]
    },
    {
     "name": "stdout",
     "output_type": "stream",
     "text": [
      "Epoch 35/200, Loss: 0.20674695617684694, KL Weight: 1.0,recon_loss :3.846525060462894e-07\n",
      "F1 Score: 0.5983519404572036\n"
     ]
    },
    {
     "name": "stderr",
     "output_type": "stream",
     "text": [
      "Epoch 36/200: 100%|██████████| 214/214 [00:05<00:00, 41.99batch/s, kl_weight=1, loss=0.21] \n"
     ]
    },
    {
     "name": "stdout",
     "output_type": "stream",
     "text": [
      "Epoch 36/200, Loss: 0.20698634555963713, KL Weight: 1.0,recon_loss :3.435901189959855e-07\n",
      "F1 Score: 0.5983519404572036\n"
     ]
    },
    {
     "name": "stderr",
     "output_type": "stream",
     "text": [
      "Epoch 37/200: 100%|██████████| 214/214 [00:05<00:00, 42.31batch/s, kl_weight=1, loss=0.21] \n"
     ]
    },
    {
     "name": "stdout",
     "output_type": "stream",
     "text": [
      "Epoch 37/200, Loss: 0.20679236266100517, KL Weight: 1.0,recon_loss :2.213700921419167e-07\n",
      "F1 Score: 0.5983519404572036\n"
     ]
    },
    {
     "name": "stderr",
     "output_type": "stream",
     "text": [
      "Epoch 38/200: 100%|██████████| 214/214 [00:05<00:00, 42.02batch/s, kl_weight=1, loss=0.21] \n"
     ]
    },
    {
     "name": "stdout",
     "output_type": "stream",
     "text": [
      "Epoch 38/200, Loss: 0.20707502961158752, KL Weight: 1.0,recon_loss :1.7495599738845064e-07\n",
      "F1 Score: 0.5983519404572036\n"
     ]
    },
    {
     "name": "stderr",
     "output_type": "stream",
     "text": [
      "Epoch 39/200: 100%|██████████| 214/214 [00:05<00:00, 41.83batch/s, kl_weight=1, loss=0.21] \n"
     ]
    },
    {
     "name": "stdout",
     "output_type": "stream",
     "text": [
      "Epoch 39/200, Loss: 0.20694304564010316, KL Weight: 1.0,recon_loss :1.44878657753981e-07\n",
      "F1 Score: 0.5983519404572036\n"
     ]
    },
    {
     "name": "stderr",
     "output_type": "stream",
     "text": [
      "Epoch 40/200: 100%|██████████| 214/214 [00:05<00:00, 41.82batch/s, kl_weight=1, loss=0.21] \n"
     ]
    },
    {
     "name": "stdout",
     "output_type": "stream",
     "text": [
      "Epoch 40/200, Loss: 0.2066706786645907, KL Weight: 1.0,recon_loss :1.359645942873798e-07\n",
      "F1 Score: 0.596299747105018\n"
     ]
    },
    {
     "name": "stderr",
     "output_type": "stream",
     "text": [
      "Epoch 41/200: 100%|██████████| 214/214 [00:05<00:00, 41.91batch/s, kl_weight=1, loss=0.21] \n"
     ]
    },
    {
     "name": "stdout",
     "output_type": "stream",
     "text": [
      "Epoch 41/200, Loss: 0.2066383130639513, KL Weight: 1.0,recon_loss :9.71504249145217e-08\n",
      "F1 Score: 0.5983519404572036\n"
     ]
    },
    {
     "name": "stderr",
     "output_type": "stream",
     "text": [
      "Epoch 42/200: 100%|██████████| 214/214 [00:05<00:00, 41.83batch/s, kl_weight=1, loss=0.21] \n"
     ]
    },
    {
     "name": "stdout",
     "output_type": "stream",
     "text": [
      "Epoch 42/200, Loss: 0.20690933454816587, KL Weight: 1.0,recon_loss :9.716812112350585e-08\n",
      "F1 Score: 0.6002118083134763\n"
     ]
    },
    {
     "name": "stderr",
     "output_type": "stream",
     "text": [
      "Epoch 43/200: 100%|██████████| 214/214 [00:05<00:00, 41.88batch/s, kl_weight=1, loss=0.21] \n"
     ]
    },
    {
     "name": "stdout",
     "output_type": "stream",
     "text": [
      "Epoch 43/200, Loss: 0.20657272497627222, KL Weight: 1.0,recon_loss :9.2648129849976e-08\n",
      "F1 Score: 0.5983519404572036\n"
     ]
    },
    {
     "name": "stderr",
     "output_type": "stream",
     "text": [
      "Epoch 44/200: 100%|██████████| 214/214 [00:05<00:00, 41.68batch/s, kl_weight=1, loss=0.21] \n"
     ]
    },
    {
     "name": "stdout",
     "output_type": "stream",
     "text": [
      "Epoch 44/200, Loss: 0.2067475126029175, KL Weight: 1.0,recon_loss :4.179325987466306e-08\n",
      "F1 Score: 0.5983519404572036\n"
     ]
    },
    {
     "name": "stderr",
     "output_type": "stream",
     "text": [
      "Epoch 45/200: 100%|██████████| 214/214 [00:05<00:00, 41.86batch/s, kl_weight=1, loss=0.209]\n"
     ]
    },
    {
     "name": "stdout",
     "output_type": "stream",
     "text": [
      "Epoch 45/200, Loss: 0.20650474608780067, KL Weight: 1.0,recon_loss :3.254549124668676e-08\n",
      "F1 Score: 0.5983519404572036\n"
     ]
    },
    {
     "name": "stderr",
     "output_type": "stream",
     "text": [
      "Epoch 46/200: 100%|██████████| 214/214 [00:05<00:00, 41.64batch/s, kl_weight=1, loss=0.21] \n"
     ]
    },
    {
     "name": "stdout",
     "output_type": "stream",
     "text": [
      "Epoch 46/200, Loss: 0.20658611777786898, KL Weight: 1.0,recon_loss :2.4857828322342843e-08\n",
      "F1 Score: 0.5983519404572036\n"
     ]
    },
    {
     "name": "stderr",
     "output_type": "stream",
     "text": [
      "Epoch 47/200: 100%|██████████| 214/214 [00:05<00:00, 40.56batch/s, kl_weight=1, loss=0.21] \n"
     ]
    },
    {
     "name": "stdout",
     "output_type": "stream",
     "text": [
      "Epoch 47/200, Loss: 0.2067340523979374, KL Weight: 1.0,recon_loss :4.874154778309574e-08\n",
      "F1 Score: 0.5983519404572036\n"
     ]
    },
    {
     "name": "stderr",
     "output_type": "stream",
     "text": [
      "Epoch 48/200: 100%|██████████| 214/214 [00:05<00:00, 40.78batch/s, kl_weight=1, loss=0.211]\n"
     ]
    },
    {
     "name": "stdout",
     "output_type": "stream",
     "text": [
      "Epoch 48/200, Loss: 0.2068010375739258, KL Weight: 1.0,recon_loss :1.8659332106428855e-08\n",
      "F1 Score: 0.5983519404572036\n"
     ]
    },
    {
     "name": "stderr",
     "output_type": "stream",
     "text": [
      "Epoch 49/200: 100%|██████████| 214/214 [00:05<00:00, 39.37batch/s, kl_weight=1, loss=0.21] \n"
     ]
    },
    {
     "name": "stdout",
     "output_type": "stream",
     "text": [
      "Epoch 49/200, Loss: 0.20678482490165212, KL Weight: 1.0,recon_loss :1.4835172931226099e-08\n",
      "F1 Score: 0.5983519404572036\n"
     ]
    },
    {
     "name": "stderr",
     "output_type": "stream",
     "text": [
      "Epoch 50/200: 100%|██████████| 214/214 [00:05<00:00, 40.86batch/s, kl_weight=1, loss=0.211]\n"
     ]
    },
    {
     "name": "stdout",
     "output_type": "stream",
     "text": [
      "Epoch 50/200, Loss: 0.2066018236017673, KL Weight: 1.0,recon_loss :1.8228420020171485e-08\n",
      "F1 Score: 0.5983519404572036\n"
     ]
    },
    {
     "name": "stderr",
     "output_type": "stream",
     "text": [
      "Epoch 51/200: 100%|██████████| 214/214 [00:05<00:00, 41.88batch/s, kl_weight=1, loss=0.21] \n"
     ]
    },
    {
     "name": "stdout",
     "output_type": "stream",
     "text": [
      "Epoch 51/200, Loss: 0.20663280248920493, KL Weight: 1.0,recon_loss :1.309347723935017e-08\n",
      "F1 Score: 0.5983519404572036\n"
     ]
    },
    {
     "name": "stderr",
     "output_type": "stream",
     "text": [
      "Epoch 52/200: 100%|██████████| 214/214 [00:05<00:00, 41.22batch/s, kl_weight=1, loss=0.211]\n"
     ]
    },
    {
     "name": "stdout",
     "output_type": "stream",
     "text": [
      "Epoch 52/200, Loss: 0.20671516601170334, KL Weight: 1.0,recon_loss :1.2783107793474158e-07\n",
      "F1 Score: 0.5983519404572036\n"
     ]
    },
    {
     "name": "stderr",
     "output_type": "stream",
     "text": [
      "Epoch 53/200: 100%|██████████| 214/214 [00:05<00:00, 40.30batch/s, kl_weight=1, loss=0.208]\n"
     ]
    },
    {
     "name": "stdout",
     "output_type": "stream",
     "text": [
      "Epoch 53/200, Loss: 0.20673410510905435, KL Weight: 1.0,recon_loss :7.269780721333674e-09\n",
      "F1 Score: 0.5983519404572036\n"
     ]
    },
    {
     "name": "stderr",
     "output_type": "stream",
     "text": [
      "Epoch 54/200: 100%|██████████| 214/214 [00:05<00:00, 39.99batch/s, kl_weight=1, loss=0.211]\n"
     ]
    },
    {
     "name": "stdout",
     "output_type": "stream",
     "text": [
      "Epoch 54/200, Loss: 0.20673260413040626, KL Weight: 1.0,recon_loss :5.540121799273299e-08\n",
      "F1 Score: 0.5983519404572036\n"
     ]
    },
    {
     "name": "stderr",
     "output_type": "stream",
     "text": [
      "Epoch 55/200: 100%|██████████| 214/214 [00:05<00:00, 40.39batch/s, kl_weight=1, loss=0.21] \n"
     ]
    },
    {
     "name": "stdout",
     "output_type": "stream",
     "text": [
      "Epoch 55/200, Loss: 0.2067405312000034, KL Weight: 1.0,recon_loss :5.9731769647611e-09\n",
      "F1 Score: 0.5991773915350935\n"
     ]
    },
    {
     "name": "stderr",
     "output_type": "stream",
     "text": [
      "Epoch 56/200: 100%|██████████| 214/214 [00:05<00:00, 41.50batch/s, kl_weight=1, loss=0.21] \n"
     ]
    },
    {
     "name": "stdout",
     "output_type": "stream",
     "text": [
      "Epoch 56/200, Loss: 0.2065055453888724, KL Weight: 1.0,recon_loss :5.4383387979379164e-08\n",
      "F1 Score: 0.5983519404572036\n"
     ]
    },
    {
     "name": "stderr",
     "output_type": "stream",
     "text": [
      "Epoch 57/200: 100%|██████████| 214/214 [00:05<00:00, 41.93batch/s, kl_weight=1, loss=0.21] \n"
     ]
    },
    {
     "name": "stdout",
     "output_type": "stream",
     "text": [
      "Epoch 57/200, Loss: 0.2067665309410229, KL Weight: 1.0,recon_loss :3.727495711468856e-08\n",
      "F1 Score: 0.629472693032015\n"
     ]
    },
    {
     "name": "stderr",
     "output_type": "stream",
     "text": [
      "Epoch 58/200: 100%|██████████| 214/214 [00:05<00:00, 41.91batch/s, kl_weight=1, loss=0.21] \n"
     ]
    },
    {
     "name": "stdout",
     "output_type": "stream",
     "text": [
      "Epoch 58/200, Loss: 0.2065871713038917, KL Weight: 1.0,recon_loss :1.1118376468876315e-07\n",
      "F1 Score: 0.5984586765878288\n"
     ]
    },
    {
     "name": "stderr",
     "output_type": "stream",
     "text": [
      "Epoch 59/200: 100%|██████████| 214/214 [00:05<00:00, 41.88batch/s, kl_weight=1, loss=0.21] \n"
     ]
    },
    {
     "name": "stdout",
     "output_type": "stream",
     "text": [
      "Epoch 59/200, Loss: 0.20680247483966507, KL Weight: 1.0,recon_loss :6.540366437654984e-09\n",
      "F1 Score: 0.5983519404572036\n"
     ]
    },
    {
     "name": "stderr",
     "output_type": "stream",
     "text": [
      "Epoch 60/200: 100%|██████████| 214/214 [00:05<00:00, 41.84batch/s, kl_weight=1, loss=0.21] \n"
     ]
    },
    {
     "name": "stdout",
     "output_type": "stream",
     "text": [
      "Epoch 60/200, Loss: 0.2066878501639188, KL Weight: 1.0,recon_loss :1.2025380676895648e-08\n",
      "F1 Score: 0.5983519404572036\n"
     ]
    },
    {
     "name": "stderr",
     "output_type": "stream",
     "text": [
      "Epoch 61/200: 100%|██████████| 214/214 [00:05<00:00, 39.86batch/s, kl_weight=1, loss=0.209]\n"
     ]
    },
    {
     "name": "stdout",
     "output_type": "stream",
     "text": [
      "Epoch 61/200, Loss: 0.20652845111962792, KL Weight: 1.0,recon_loss :1.1916421454669375e-07\n",
      "F1 Score: 0.5983519404572036\n"
     ]
    },
    {
     "name": "stderr",
     "output_type": "stream",
     "text": [
      "Epoch 62/200: 100%|██████████| 214/214 [00:05<00:00, 40.02batch/s, kl_weight=1, loss=0.209]\n"
     ]
    },
    {
     "name": "stdout",
     "output_type": "stream",
     "text": [
      "Epoch 62/200, Loss: 0.20657039461570365, KL Weight: 1.0,recon_loss :1.0828932823546191e-07\n",
      "F1 Score: 0.5983519404572036\n"
     ]
    },
    {
     "name": "stderr",
     "output_type": "stream",
     "text": [
      "Epoch 63/200: 100%|██████████| 214/214 [00:05<00:00, 39.16batch/s, kl_weight=1, loss=0.21] \n"
     ]
    },
    {
     "name": "stdout",
     "output_type": "stream",
     "text": [
      "Epoch 63/200, Loss: 0.20656075321625325, KL Weight: 1.0,recon_loss :1.9426581284446936e-08\n",
      "F1 Score: 0.5983519404572036\n"
     ]
    },
    {
     "name": "stderr",
     "output_type": "stream",
     "text": [
      "Epoch 64/200: 100%|██████████| 214/214 [00:05<00:00, 39.79batch/s, kl_weight=1, loss=0.208]\n"
     ]
    },
    {
     "name": "stdout",
     "output_type": "stream",
     "text": [
      "Epoch 64/200, Loss: 0.206675789971775, KL Weight: 1.0,recon_loss :1.59364215761682e-08\n",
      "F1 Score: 0.5983519404572036\n"
     ]
    },
    {
     "name": "stderr",
     "output_type": "stream",
     "text": [
      "Epoch 65/200: 100%|██████████| 214/214 [00:05<00:00, 39.08batch/s, kl_weight=1, loss=0.211]\n"
     ]
    },
    {
     "name": "stdout",
     "output_type": "stream",
     "text": [
      "Epoch 65/200, Loss: 0.20676489717492433, KL Weight: 1.0,recon_loss :6.675968511779203e-09\n",
      "F1 Score: 0.5983519404572036\n"
     ]
    },
    {
     "name": "stderr",
     "output_type": "stream",
     "text": [
      "Epoch 66/200: 100%|██████████| 214/214 [00:05<00:00, 40.99batch/s, kl_weight=1, loss=0.209]\n"
     ]
    },
    {
     "name": "stdout",
     "output_type": "stream",
     "text": [
      "Epoch 66/200, Loss: 0.20648903573784871, KL Weight: 1.0,recon_loss :5.073218740352713e-09\n",
      "F1 Score: 0.5983519404572036\n"
     ]
    },
    {
     "name": "stderr",
     "output_type": "stream",
     "text": [
      "Epoch 67/200: 100%|██████████| 214/214 [00:05<00:00, 40.16batch/s, kl_weight=1, loss=0.207]\n"
     ]
    },
    {
     "name": "stdout",
     "output_type": "stream",
     "text": [
      "Epoch 67/200, Loss: 0.20663280207141538, KL Weight: 1.0,recon_loss :2.85849717294954e-09\n",
      "F1 Score: 0.5983519404572036\n"
     ]
    },
    {
     "name": "stderr",
     "output_type": "stream",
     "text": [
      "Epoch 68/200: 100%|██████████| 214/214 [00:05<00:00, 39.30batch/s, kl_weight=1, loss=0.208]\n"
     ]
    },
    {
     "name": "stdout",
     "output_type": "stream",
     "text": [
      "Epoch 68/200, Loss: 0.20646788486253434, KL Weight: 1.0,recon_loss :4.155199500433412e-09\n",
      "F1 Score: 0.5983519404572036\n"
     ]
    },
    {
     "name": "stderr",
     "output_type": "stream",
     "text": [
      "Epoch 69/200: 100%|██████████| 214/214 [00:05<00:00, 40.44batch/s, kl_weight=1, loss=0.209]\n"
     ]
    },
    {
     "name": "stdout",
     "output_type": "stream",
     "text": [
      "Epoch 69/200, Loss: 0.20655479713856617, KL Weight: 1.0,recon_loss :5.87727906856582e-08\n",
      "F1 Score: 0.5983519404572036\n"
     ]
    },
    {
     "name": "stderr",
     "output_type": "stream",
     "text": [
      "Epoch 70/200: 100%|██████████| 214/214 [00:05<00:00, 41.34batch/s, kl_weight=1, loss=0.21] \n"
     ]
    },
    {
     "name": "stdout",
     "output_type": "stream",
     "text": [
      "Epoch 70/200, Loss: 0.20677674624407402, KL Weight: 1.0,recon_loss :1.0570006141899539e-08\n",
      "F1 Score: 0.5983519404572036\n"
     ]
    },
    {
     "name": "stderr",
     "output_type": "stream",
     "text": [
      "Epoch 71/200: 100%|██████████| 214/214 [00:05<00:00, 41.45batch/s, kl_weight=1, loss=0.21] \n"
     ]
    },
    {
     "name": "stdout",
     "output_type": "stream",
     "text": [
      "Epoch 71/200, Loss: 0.20677917847566515, KL Weight: 1.0,recon_loss :4.672334553233205e-09\n",
      "F1 Score: 0.5983519404572036\n"
     ]
    },
    {
     "name": "stderr",
     "output_type": "stream",
     "text": [
      "Epoch 72/200: 100%|██████████| 214/214 [00:05<00:00, 39.17batch/s, kl_weight=1, loss=0.208]\n"
     ]
    },
    {
     "name": "stdout",
     "output_type": "stream",
     "text": [
      "Epoch 72/200, Loss: 0.20662155601187288, KL Weight: 1.0,recon_loss :2.2126774525582338e-09\n",
      "F1 Score: 0.5983519404572036\n"
     ]
    },
    {
     "name": "stderr",
     "output_type": "stream",
     "text": [
      "Epoch 73/200: 100%|██████████| 214/214 [00:05<00:00, 39.59batch/s, kl_weight=1, loss=0.208]\n"
     ]
    },
    {
     "name": "stdout",
     "output_type": "stream",
     "text": [
      "Epoch 73/200, Loss: 0.20646248374865434, KL Weight: 1.0,recon_loss :3.3054047926556003e-09\n",
      "F1 Score: 0.5983519404572036\n"
     ]
    },
    {
     "name": "stderr",
     "output_type": "stream",
     "text": [
      "Epoch 74/200: 100%|██████████| 214/214 [00:05<00:00, 39.32batch/s, kl_weight=1, loss=0.209]\n"
     ]
    },
    {
     "name": "stdout",
     "output_type": "stream",
     "text": [
      "Epoch 74/200, Loss: 0.2068997893099473, KL Weight: 1.0,recon_loss :3.3050681460012195e-08\n",
      "F1 Score: 0.5980690384869726\n"
     ]
    },
    {
     "name": "stderr",
     "output_type": "stream",
     "text": [
      "Epoch 75/200: 100%|██████████| 214/214 [00:05<00:00, 39.80batch/s, kl_weight=1, loss=0.209]\n"
     ]
    },
    {
     "name": "stdout",
     "output_type": "stream",
     "text": [
      "Epoch 75/200, Loss: 0.20675253213566042, KL Weight: 1.0,recon_loss :8.141118578340744e-09\n",
      "F1 Score: 0.5983519404572036\n"
     ]
    },
    {
     "name": "stderr",
     "output_type": "stream",
     "text": [
      "Epoch 76/200: 100%|██████████| 214/214 [00:05<00:00, 40.12batch/s, kl_weight=1, loss=0.21] \n"
     ]
    },
    {
     "name": "stdout",
     "output_type": "stream",
     "text": [
      "Epoch 76/200, Loss: 0.20667897109116348, KL Weight: 1.0,recon_loss :2.3715428293438835e-09\n",
      "F1 Score: 0.5983519404572036\n"
     ]
    },
    {
     "name": "stderr",
     "output_type": "stream",
     "text": [
      "Epoch 77/200: 100%|██████████| 214/214 [00:05<00:00, 37.17batch/s, kl_weight=1, loss=0.21] \n"
     ]
    },
    {
     "name": "stdout",
     "output_type": "stream",
     "text": [
      "Epoch 77/200, Loss: 0.20665305755405783, KL Weight: 1.0,recon_loss :2.0691264909096986e-09\n",
      "F1 Score: 0.5983519404572036\n"
     ]
    },
    {
     "name": "stderr",
     "output_type": "stream",
     "text": [
      "Epoch 78/200: 100%|██████████| 214/214 [00:05<00:00, 40.14batch/s, kl_weight=1, loss=0.207]\n"
     ]
    },
    {
     "name": "stdout",
     "output_type": "stream",
     "text": [
      "Epoch 78/200, Loss: 0.2065514708373034, KL Weight: 1.0,recon_loss :3.8351183963452925e-09\n",
      "F1 Score: 0.5983519404572036\n"
     ]
    },
    {
     "name": "stderr",
     "output_type": "stream",
     "text": [
      "Epoch 79/200: 100%|██████████| 214/214 [00:05<00:00, 40.28batch/s, kl_weight=1, loss=0.21] \n"
     ]
    },
    {
     "name": "stdout",
     "output_type": "stream",
     "text": [
      "Epoch 79/200, Loss: 0.20660757893156784, KL Weight: 1.0,recon_loss :5.123920339764988e-09\n",
      "F1 Score: 0.5983519404572036\n"
     ]
    },
    {
     "name": "stderr",
     "output_type": "stream",
     "text": [
      "Epoch 80/200: 100%|██████████| 214/214 [00:05<00:00, 39.76batch/s, kl_weight=1, loss=0.209]\n"
     ]
    },
    {
     "name": "stdout",
     "output_type": "stream",
     "text": [
      "Epoch 80/200, Loss: 0.2065922301784854, KL Weight: 1.0,recon_loss :1.8629055549798746e-09\n",
      "F1 Score: 0.5983519404572036\n"
     ]
    },
    {
     "name": "stderr",
     "output_type": "stream",
     "text": [
      "Epoch 81/200: 100%|██████████| 214/214 [00:05<00:00, 37.94batch/s, kl_weight=1, loss=0.209]\n"
     ]
    },
    {
     "name": "stdout",
     "output_type": "stream",
     "text": [
      "Epoch 81/200, Loss: 0.20655208533612368, KL Weight: 1.0,recon_loss :2.700563460467536e-09\n",
      "F1 Score: 0.5983519404572036\n"
     ]
    },
    {
     "name": "stderr",
     "output_type": "stream",
     "text": [
      "Epoch 82/200: 100%|██████████| 214/214 [00:05<00:00, 39.19batch/s, kl_weight=1, loss=0.209]\n"
     ]
    },
    {
     "name": "stdout",
     "output_type": "stream",
     "text": [
      "Epoch 82/200, Loss: 0.2065605241979394, KL Weight: 1.0,recon_loss :1.7831122465965347e-09\n",
      "F1 Score: 0.5983519404572036\n"
     ]
    },
    {
     "name": "stderr",
     "output_type": "stream",
     "text": [
      "Epoch 83/200: 100%|██████████| 214/214 [00:05<00:00, 39.71batch/s, kl_weight=1, loss=0.207]\n"
     ]
    },
    {
     "name": "stdout",
     "output_type": "stream",
     "text": [
      "Epoch 83/200, Loss: 0.20657829794092714, KL Weight: 1.0,recon_loss :4.537993995931548e-07\n",
      "F1 Score: 0.5983519404572036\n"
     ]
    },
    {
     "name": "stderr",
     "output_type": "stream",
     "text": [
      "Epoch 84/200: 100%|██████████| 214/214 [00:05<00:00, 40.21batch/s, kl_weight=1, loss=0.21] \n"
     ]
    },
    {
     "name": "stdout",
     "output_type": "stream",
     "text": [
      "Epoch 84/200, Loss: 0.20655744891857433, KL Weight: 1.0,recon_loss :7.962685676876747e-06\n",
      "F1 Score: 0.5983519404572036\n"
     ]
    },
    {
     "name": "stderr",
     "output_type": "stream",
     "text": [
      "Epoch 85/200: 100%|██████████| 214/214 [00:05<00:00, 41.91batch/s, kl_weight=1, loss=0.21] \n"
     ]
    },
    {
     "name": "stdout",
     "output_type": "stream",
     "text": [
      "Epoch 85/200, Loss: 0.20666168059144063, KL Weight: 1.0,recon_loss :1.6148307686989967e-09\n",
      "F1 Score: 0.5983519404572036\n"
     ]
    },
    {
     "name": "stderr",
     "output_type": "stream",
     "text": [
      "Epoch 86/200: 100%|██████████| 214/214 [00:05<00:00, 41.63batch/s, kl_weight=1, loss=0.21] \n"
     ]
    },
    {
     "name": "stdout",
     "output_type": "stream",
     "text": [
      "Epoch 86/200, Loss: 0.20668884178745411, KL Weight: 1.0,recon_loss :1.8973167647870367e-09\n",
      "F1 Score: 0.5983519404572036\n"
     ]
    },
    {
     "name": "stderr",
     "output_type": "stream",
     "text": [
      "Epoch 87/200: 100%|██████████| 214/214 [00:05<00:00, 42.01batch/s, kl_weight=1, loss=0.21] \n"
     ]
    },
    {
     "name": "stdout",
     "output_type": "stream",
     "text": [
      "Epoch 87/200, Loss: 0.20635546200743346, KL Weight: 1.0,recon_loss :3.4778010156154735e-09\n",
      "F1 Score: 0.5983519404572036\n"
     ]
    },
    {
     "name": "stderr",
     "output_type": "stream",
     "text": [
      "Epoch 88/200: 100%|██████████| 214/214 [00:05<00:00, 41.26batch/s, kl_weight=1, loss=0.208]\n"
     ]
    },
    {
     "name": "stdout",
     "output_type": "stream",
     "text": [
      "Epoch 88/200, Loss: 0.20668908466245525, KL Weight: 1.0,recon_loss :1.977488402096642e-09\n",
      "F1 Score: 0.5983519404572036\n"
     ]
    },
    {
     "name": "stderr",
     "output_type": "stream",
     "text": [
      "Epoch 89/200: 100%|██████████| 214/214 [00:05<00:00, 42.11batch/s, kl_weight=1, loss=0.21] \n"
     ]
    },
    {
     "name": "stdout",
     "output_type": "stream",
     "text": [
      "Epoch 89/200, Loss: 0.20661381242152688, KL Weight: 1.0,recon_loss :2.2237336768030367e-09\n",
      "F1 Score: 0.5983519404572036\n"
     ]
    },
    {
     "name": "stderr",
     "output_type": "stream",
     "text": [
      "Epoch 90/200: 100%|██████████| 214/214 [00:05<00:00, 41.96batch/s, kl_weight=1, loss=0.209]\n"
     ]
    },
    {
     "name": "stdout",
     "output_type": "stream",
     "text": [
      "Epoch 90/200, Loss: 0.20649021369553058, KL Weight: 1.0,recon_loss :2.8586377357648537e-09\n",
      "F1 Score: 0.5983519404572036\n"
     ]
    },
    {
     "name": "stderr",
     "output_type": "stream",
     "text": [
      "Epoch 91/200: 100%|██████████| 214/214 [00:05<00:00, 42.16batch/s, kl_weight=1, loss=0.21] \n"
     ]
    },
    {
     "name": "stdout",
     "output_type": "stream",
     "text": [
      "Epoch 91/200, Loss: 0.20669394891674273, KL Weight: 1.0,recon_loss :1.608539588861037e-09\n",
      "F1 Score: 0.5983519404572036\n"
     ]
    },
    {
     "name": "stderr",
     "output_type": "stream",
     "text": [
      "Epoch 92/200: 100%|██████████| 214/214 [00:05<00:00, 41.87batch/s, kl_weight=1, loss=0.209]\n"
     ]
    },
    {
     "name": "stdout",
     "output_type": "stream",
     "text": [
      "Epoch 92/200, Loss: 0.20654988664890003, KL Weight: 1.0,recon_loss :6.009541855083549e-09\n",
      "F1 Score: 0.5983519404572036\n"
     ]
    },
    {
     "name": "stderr",
     "output_type": "stream",
     "text": [
      "Epoch 93/200: 100%|██████████| 214/214 [00:05<00:00, 42.23batch/s, kl_weight=1, loss=0.21] \n"
     ]
    },
    {
     "name": "stdout",
     "output_type": "stream",
     "text": [
      "Epoch 93/200, Loss: 0.20664722959850437, KL Weight: 1.0,recon_loss :1.7245303662184287e-09\n",
      "F1 Score: 0.5983519404572036\n"
     ]
    },
    {
     "name": "stderr",
     "output_type": "stream",
     "text": [
      "Epoch 94/200: 100%|██████████| 214/214 [00:05<00:00, 42.25batch/s, kl_weight=1, loss=0.21] \n"
     ]
    },
    {
     "name": "stdout",
     "output_type": "stream",
     "text": [
      "Epoch 94/200, Loss: 0.2066763629005334, KL Weight: 1.0,recon_loss :1.9451938686040463e-09\n",
      "F1 Score: 0.5983519404572036\n"
     ]
    },
    {
     "name": "stderr",
     "output_type": "stream",
     "text": [
      "Epoch 95/200: 100%|██████████| 214/214 [00:05<00:00, 42.20batch/s, kl_weight=1, loss=0.209]\n"
     ]
    },
    {
     "name": "stdout",
     "output_type": "stream",
     "text": [
      "Epoch 95/200, Loss: 0.20653309721813023, KL Weight: 1.0,recon_loss :1.2684989449603527e-08\n",
      "F1 Score: 0.5983519404572036\n"
     ]
    },
    {
     "name": "stderr",
     "output_type": "stream",
     "text": [
      "Epoch 96/200: 100%|██████████| 214/214 [00:05<00:00, 42.22batch/s, kl_weight=1, loss=0.21] \n"
     ]
    },
    {
     "name": "stdout",
     "output_type": "stream",
     "text": [
      "Epoch 96/200, Loss: 0.20663081603908093, KL Weight: 1.0,recon_loss :1.5938123636487208e-08\n",
      "F1 Score: 0.5983519404572036\n"
     ]
    },
    {
     "name": "stderr",
     "output_type": "stream",
     "text": [
      "Epoch 97/200: 100%|██████████| 214/214 [00:05<00:00, 42.23batch/s, kl_weight=1, loss=0.21] \n"
     ]
    },
    {
     "name": "stdout",
     "output_type": "stream",
     "text": [
      "Epoch 97/200, Loss: 0.20656872046328037, KL Weight: 1.0,recon_loss :1.1240761998001669e-08\n",
      "F1 Score: 0.5983519404572036\n"
     ]
    },
    {
     "name": "stderr",
     "output_type": "stream",
     "text": [
      "Epoch 98/200: 100%|██████████| 214/214 [00:05<00:00, 42.25batch/s, kl_weight=1, loss=0.21] \n"
     ]
    },
    {
     "name": "stdout",
     "output_type": "stream",
     "text": [
      "Epoch 98/200, Loss: 0.20660448909919954, KL Weight: 1.0,recon_loss :1.753569686183847e-09\n",
      "F1 Score: 0.5983519404572036\n"
     ]
    },
    {
     "name": "stderr",
     "output_type": "stream",
     "text": [
      "Epoch 99/200: 100%|██████████| 214/214 [00:05<00:00, 42.33batch/s, kl_weight=1, loss=0.209]\n"
     ]
    },
    {
     "name": "stdout",
     "output_type": "stream",
     "text": [
      "Epoch 99/200, Loss: 0.20653158147758413, KL Weight: 1.0,recon_loss :2.342486234065827e-09\n",
      "F1 Score: 0.5983519404572036\n"
     ]
    },
    {
     "name": "stderr",
     "output_type": "stream",
     "text": [
      "Epoch 100/200: 100%|██████████| 214/214 [00:05<00:00, 42.35batch/s, kl_weight=1, loss=0.209]\n"
     ]
    },
    {
     "name": "stdout",
     "output_type": "stream",
     "text": [
      "Epoch 100/200, Loss: 0.2065147875207607, KL Weight: 1.0,recon_loss :1.8427077184581501e-09\n",
      "F1 Score: 0.5983519404572036\n"
     ]
    },
    {
     "name": "stderr",
     "output_type": "stream",
     "text": [
      "Epoch 101/200: 100%|██████████| 214/214 [00:05<00:00, 42.41batch/s, kl_weight=1, loss=0.21] \n"
     ]
    },
    {
     "name": "stdout",
     "output_type": "stream",
     "text": [
      "Epoch 101/200, Loss: 0.20669766404082843, KL Weight: 1.0,recon_loss :6.177841760200777e-09\n",
      "F1 Score: 0.5983519404572036\n"
     ]
    },
    {
     "name": "stderr",
     "output_type": "stream",
     "text": [
      "Epoch 102/200: 100%|██████████| 214/214 [00:05<00:00, 42.34batch/s, kl_weight=1, loss=0.209]\n"
     ]
    },
    {
     "name": "stdout",
     "output_type": "stream",
     "text": [
      "Epoch 102/200, Loss: 0.20655387988157362, KL Weight: 1.0,recon_loss :3.2656968003121133e-08\n",
      "F1 Score: 0.5983519404572036\n"
     ]
    },
    {
     "name": "stderr",
     "output_type": "stream",
     "text": [
      "Epoch 103/200: 100%|██████████| 214/214 [00:05<00:00, 42.15batch/s, kl_weight=1, loss=0.21] \n"
     ]
    },
    {
     "name": "stdout",
     "output_type": "stream",
     "text": [
      "Epoch 103/200, Loss: 0.2066614375771763, KL Weight: 1.0,recon_loss :2.803750504143595e-08\n",
      "F1 Score: 0.5983519404572036\n"
     ]
    },
    {
     "name": "stderr",
     "output_type": "stream",
     "text": [
      "Epoch 104/200: 100%|██████████| 214/214 [00:05<00:00, 42.12batch/s, kl_weight=1, loss=0.21] \n"
     ]
    },
    {
     "name": "stdout",
     "output_type": "stream",
     "text": [
      "Epoch 104/200, Loss: 0.20688912446532293, KL Weight: 1.0,recon_loss :1.4727025559586583e-09\n",
      "F1 Score: 0.5983519404572036\n"
     ]
    },
    {
     "name": "stderr",
     "output_type": "stream",
     "text": [
      "Epoch 105/200: 100%|██████████| 214/214 [00:05<00:00, 41.34batch/s, kl_weight=1, loss=0.209]\n"
     ]
    },
    {
     "name": "stdout",
     "output_type": "stream",
     "text": [
      "Epoch 105/200, Loss: 0.20638385853756255, KL Weight: 1.0,recon_loss :1.4553255997418159e-09\n",
      "F1 Score: 0.5983519404572036\n"
     ]
    },
    {
     "name": "stderr",
     "output_type": "stream",
     "text": [
      "Epoch 106/200: 100%|██████████| 214/214 [00:05<00:00, 42.26batch/s, kl_weight=1, loss=0.209]\n"
     ]
    },
    {
     "name": "stdout",
     "output_type": "stream",
     "text": [
      "Epoch 106/200, Loss: 0.2063503494468805, KL Weight: 1.0,recon_loss :1.2211313411418764e-09\n",
      "F1 Score: 0.5983519404572036\n"
     ]
    },
    {
     "name": "stderr",
     "output_type": "stream",
     "text": [
      "Epoch 107/200: 100%|██████████| 214/214 [00:05<00:00, 41.83batch/s, kl_weight=1, loss=0.209]\n"
     ]
    },
    {
     "name": "stdout",
     "output_type": "stream",
     "text": [
      "Epoch 107/200, Loss: 0.20646666164431615, KL Weight: 1.0,recon_loss :1.4227156087685956e-09\n",
      "F1 Score: 0.5983519404572036\n"
     ]
    },
    {
     "name": "stderr",
     "output_type": "stream",
     "text": [
      "Epoch 108/200: 100%|██████████| 214/214 [00:05<00:00, 39.34batch/s, kl_weight=1, loss=0.21] \n"
     ]
    },
    {
     "name": "stdout",
     "output_type": "stream",
     "text": [
      "Epoch 108/200, Loss: 0.2066320545762499, KL Weight: 1.0,recon_loss :1.5557582798343509e-09\n",
      "F1 Score: 0.5983519404572036\n"
     ]
    },
    {
     "name": "stderr",
     "output_type": "stream",
     "text": [
      "Epoch 109/200: 100%|██████████| 214/214 [00:05<00:00, 39.36batch/s, kl_weight=1, loss=0.208]\n"
     ]
    },
    {
     "name": "stdout",
     "output_type": "stream",
     "text": [
      "Epoch 109/200, Loss: 0.20648989429540723, KL Weight: 1.0,recon_loss :1.4411033871889925e-09\n",
      "F1 Score: 0.5983519404572036\n"
     ]
    },
    {
     "name": "stderr",
     "output_type": "stream",
     "text": [
      "Epoch 110/200: 100%|██████████| 214/214 [00:05<00:00, 39.48batch/s, kl_weight=1, loss=0.207]\n"
     ]
    },
    {
     "name": "stdout",
     "output_type": "stream",
     "text": [
      "Epoch 110/200, Loss: 0.2066850873911492, KL Weight: 1.0,recon_loss :1.2225972669039748e-09\n",
      "F1 Score: 0.5983519404572036\n"
     ]
    },
    {
     "name": "stderr",
     "output_type": "stream",
     "text": [
      "Epoch 111/200: 100%|██████████| 214/214 [00:05<00:00, 39.30batch/s, kl_weight=1, loss=0.209]\n"
     ]
    },
    {
     "name": "stdout",
     "output_type": "stream",
     "text": [
      "Epoch 111/200, Loss: 0.20639388012551815, KL Weight: 1.0,recon_loss :2.398398513763911e-09\n",
      "F1 Score: 0.5983519404572036\n"
     ]
    },
    {
     "name": "stderr",
     "output_type": "stream",
     "text": [
      "Epoch 112/200: 100%|██████████| 214/214 [00:05<00:00, 39.92batch/s, kl_weight=1, loss=0.21] \n"
     ]
    },
    {
     "name": "stdout",
     "output_type": "stream",
     "text": [
      "Epoch 112/200, Loss: 0.20643342537022083, KL Weight: 1.0,recon_loss :1.95209051931222e-09\n",
      "F1 Score: 0.5983519404572036\n"
     ]
    },
    {
     "name": "stderr",
     "output_type": "stream",
     "text": [
      "Epoch 113/200: 100%|██████████| 214/214 [00:05<00:00, 39.96batch/s, kl_weight=1, loss=0.211]\n"
     ]
    },
    {
     "name": "stdout",
     "output_type": "stream",
     "text": [
      "Epoch 113/200, Loss: 0.20682432676587148, KL Weight: 1.0,recon_loss :2.4030175562265464e-08\n",
      "F1 Score: 0.5983519404572036\n"
     ]
    },
    {
     "name": "stderr",
     "output_type": "stream",
     "text": [
      "Epoch 114/200: 100%|██████████| 214/214 [00:05<00:00, 39.79batch/s, kl_weight=1, loss=0.207]\n"
     ]
    },
    {
     "name": "stdout",
     "output_type": "stream",
     "text": [
      "Epoch 114/200, Loss: 0.2064488796151687, KL Weight: 1.0,recon_loss :2.2639387620936073e-08\n",
      "F1 Score: 0.5983519404572036\n"
     ]
    },
    {
     "name": "stderr",
     "output_type": "stream",
     "text": [
      "Epoch 115/200: 100%|██████████| 214/214 [00:05<00:00, 39.81batch/s, kl_weight=1, loss=0.209]\n"
     ]
    },
    {
     "name": "stdout",
     "output_type": "stream",
     "text": [
      "Epoch 115/200, Loss: 0.20647119445221446, KL Weight: 1.0,recon_loss :1.2107531500538904e-08\n",
      "F1 Score: 0.5983519404572036\n"
     ]
    },
    {
     "name": "stderr",
     "output_type": "stream",
     "text": [
      "Epoch 116/200: 100%|██████████| 214/214 [00:05<00:00, 39.31batch/s, kl_weight=1, loss=0.208]\n"
     ]
    },
    {
     "name": "stdout",
     "output_type": "stream",
     "text": [
      "Epoch 116/200, Loss: 0.2063919538370917, KL Weight: 1.0,recon_loss :3.605597905004306e-09\n",
      "F1 Score: 0.5983519404572036\n"
     ]
    },
    {
     "name": "stderr",
     "output_type": "stream",
     "text": [
      "Epoch 117/200: 100%|██████████| 214/214 [00:05<00:00, 40.01batch/s, kl_weight=1, loss=0.208]\n"
     ]
    },
    {
     "name": "stdout",
     "output_type": "stream",
     "text": [
      "Epoch 117/200, Loss: 0.2066346573356156, KL Weight: 1.0,recon_loss :2.8649070994040356e-08\n",
      "F1 Score: 0.5983519404572036\n"
     ]
    },
    {
     "name": "stderr",
     "output_type": "stream",
     "text": [
      "Epoch 118/200: 100%|██████████| 214/214 [00:05<00:00, 39.31batch/s, kl_weight=1, loss=0.209]\n"
     ]
    },
    {
     "name": "stdout",
     "output_type": "stream",
     "text": [
      "Epoch 118/200, Loss: 0.20681025951265175, KL Weight: 1.0,recon_loss :2.122761123227309e-09\n",
      "F1 Score: 0.5983519404572036\n"
     ]
    },
    {
     "name": "stderr",
     "output_type": "stream",
     "text": [
      "Epoch 119/200: 100%|██████████| 214/214 [00:05<00:00, 39.81batch/s, kl_weight=1, loss=0.208]\n"
     ]
    },
    {
     "name": "stdout",
     "output_type": "stream",
     "text": [
      "Epoch 119/200, Loss: 0.2066294945706831, KL Weight: 1.0,recon_loss :2.0613492217383477e-08\n",
      "F1 Score: 0.5983519404572036\n"
     ]
    },
    {
     "name": "stderr",
     "output_type": "stream",
     "text": [
      "Epoch 120/200: 100%|██████████| 214/214 [00:05<00:00, 39.68batch/s, kl_weight=1, loss=0.21] \n"
     ]
    },
    {
     "name": "stdout",
     "output_type": "stream",
     "text": [
      "Epoch 120/200, Loss: 0.20656924318765926, KL Weight: 1.0,recon_loss :2.206897983478777e-09\n",
      "F1 Score: 0.5983519404572036\n"
     ]
    },
    {
     "name": "stderr",
     "output_type": "stream",
     "text": [
      "Epoch 121/200: 100%|██████████| 214/214 [00:05<00:00, 42.27batch/s, kl_weight=1, loss=0.209]\n"
     ]
    },
    {
     "name": "stdout",
     "output_type": "stream",
     "text": [
      "Epoch 121/200, Loss: 0.20653604312199297, KL Weight: 1.0,recon_loss :1.884791732198647e-09\n",
      "F1 Score: 0.5983519404572036\n"
     ]
    },
    {
     "name": "stderr",
     "output_type": "stream",
     "text": [
      "Epoch 122/200: 100%|██████████| 214/214 [00:05<00:00, 42.20batch/s, kl_weight=1, loss=0.209]\n"
     ]
    },
    {
     "name": "stdout",
     "output_type": "stream",
     "text": [
      "Epoch 122/200, Loss: 0.20650604311550888, KL Weight: 1.0,recon_loss :2.998482448190833e-07\n",
      "F1 Score: 0.5983519404572036\n"
     ]
    },
    {
     "name": "stderr",
     "output_type": "stream",
     "text": [
      "Epoch 123/200: 100%|██████████| 214/214 [00:05<00:00, 42.21batch/s, kl_weight=1, loss=0.209]\n"
     ]
    },
    {
     "name": "stdout",
     "output_type": "stream",
     "text": [
      "Epoch 123/200, Loss: 0.20656008252473634, KL Weight: 1.0,recon_loss :9.451638320045216e-09\n",
      "F1 Score: 0.5983519404572036\n"
     ]
    },
    {
     "name": "stderr",
     "output_type": "stream",
     "text": [
      "Epoch 124/200: 100%|██████████| 214/214 [00:05<00:00, 42.26batch/s, kl_weight=1, loss=0.21] \n"
     ]
    },
    {
     "name": "stdout",
     "output_type": "stream",
     "text": [
      "Epoch 124/200, Loss: 0.20657313385299433, KL Weight: 1.0,recon_loss :1.0981207126832008e-09\n",
      "F1 Score: 0.5983519404572036\n"
     ]
    },
    {
     "name": "stderr",
     "output_type": "stream",
     "text": [
      "Epoch 125/200: 100%|██████████| 214/214 [00:05<00:00, 42.01batch/s, kl_weight=1, loss=0.21] \n"
     ]
    },
    {
     "name": "stdout",
     "output_type": "stream",
     "text": [
      "Epoch 125/200, Loss: 0.2066324696501839, KL Weight: 1.0,recon_loss :7.029061371973682e-10\n",
      "F1 Score: 0.5983519404572036\n"
     ]
    },
    {
     "name": "stderr",
     "output_type": "stream",
     "text": [
      "Epoch 126/200: 100%|██████████| 214/214 [00:05<00:00, 41.98batch/s, kl_weight=1, loss=0.209]\n"
     ]
    },
    {
     "name": "stdout",
     "output_type": "stream",
     "text": [
      "Epoch 126/200, Loss: 0.20629523012125603, KL Weight: 1.0,recon_loss :7.310446761789281e-10\n",
      "F1 Score: 0.5983519404572036\n"
     ]
    },
    {
     "name": "stderr",
     "output_type": "stream",
     "text": [
      "Epoch 127/200: 100%|██████████| 214/214 [00:05<00:00, 39.60batch/s, kl_weight=1, loss=0.207]\n"
     ]
    },
    {
     "name": "stdout",
     "output_type": "stream",
     "text": [
      "Epoch 127/200, Loss: 0.20648759464237176, KL Weight: 1.0,recon_loss :8.214086749260131e-10\n",
      "F1 Score: 0.5983519404572036\n"
     ]
    },
    {
     "name": "stderr",
     "output_type": "stream",
     "text": [
      "Epoch 128/200: 100%|██████████| 214/214 [00:05<00:00, 39.37batch/s, kl_weight=1, loss=0.207]\n"
     ]
    },
    {
     "name": "stdout",
     "output_type": "stream",
     "text": [
      "Epoch 128/200, Loss: 0.2067334424251708, KL Weight: 1.0,recon_loss :1.316295054185093e-09\n",
      "F1 Score: 0.5983519404572036\n"
     ]
    },
    {
     "name": "stderr",
     "output_type": "stream",
     "text": [
      "Epoch 129/200: 100%|██████████| 214/214 [00:05<00:00, 41.91batch/s, kl_weight=1, loss=0.209]\n"
     ]
    },
    {
     "name": "stdout",
     "output_type": "stream",
     "text": [
      "Epoch 129/200, Loss: 0.20650984033524433, KL Weight: 1.0,recon_loss :7.492921746079006e-10\n",
      "F1 Score: 0.5983519404572036\n"
     ]
    },
    {
     "name": "stderr",
     "output_type": "stream",
     "text": [
      "Epoch 130/200: 100%|██████████| 214/214 [00:05<00:00, 41.54batch/s, kl_weight=1, loss=0.209]\n"
     ]
    },
    {
     "name": "stdout",
     "output_type": "stream",
     "text": [
      "Epoch 130/200, Loss: 0.20656228121196, KL Weight: 1.0,recon_loss :1.3798967014710033e-09\n",
      "F1 Score: 0.5983519404572036\n"
     ]
    },
    {
     "name": "stderr",
     "output_type": "stream",
     "text": [
      "Epoch 131/200: 100%|██████████| 214/214 [00:05<00:00, 41.53batch/s, kl_weight=1, loss=0.209]\n"
     ]
    },
    {
     "name": "stdout",
     "output_type": "stream",
     "text": [
      "Epoch 131/200, Loss: 0.2065386213014059, KL Weight: 1.0,recon_loss :8.978441572162166e-10\n",
      "F1 Score: 0.5983519404572036\n"
     ]
    },
    {
     "name": "stderr",
     "output_type": "stream",
     "text": [
      "Epoch 132/200: 100%|██████████| 214/214 [00:05<00:00, 41.64batch/s, kl_weight=1, loss=0.209]\n"
     ]
    },
    {
     "name": "stdout",
     "output_type": "stream",
     "text": [
      "Epoch 132/200, Loss: 0.2064683658775882, KL Weight: 1.0,recon_loss :7.000018646864634e-10\n",
      "F1 Score: 0.5983519404572036\n"
     ]
    },
    {
     "name": "stderr",
     "output_type": "stream",
     "text": [
      "Epoch 133/200: 100%|██████████| 214/214 [00:05<00:00, 41.61batch/s, kl_weight=1, loss=0.21] \n"
     ]
    },
    {
     "name": "stdout",
     "output_type": "stream",
     "text": [
      "Epoch 133/200, Loss: 0.2065694490186522, KL Weight: 1.0,recon_loss :1.5362563209142275e-09\n",
      "F1 Score: 0.5983519404572036\n"
     ]
    },
    {
     "name": "stderr",
     "output_type": "stream",
     "text": [
      "Epoch 134/200: 100%|██████████| 214/214 [00:05<00:00, 41.38batch/s, kl_weight=1, loss=0.209]\n"
     ]
    },
    {
     "name": "stdout",
     "output_type": "stream",
     "text": [
      "Epoch 134/200, Loss: 0.20651331885117236, KL Weight: 1.0,recon_loss :1.5793402159232443e-09\n",
      "F1 Score: 0.5983519404572036\n"
     ]
    },
    {
     "name": "stderr",
     "output_type": "stream",
     "text": [
      "Epoch 135/200: 100%|██████████| 214/214 [00:05<00:00, 41.54batch/s, kl_weight=1, loss=0.21] \n"
     ]
    },
    {
     "name": "stdout",
     "output_type": "stream",
     "text": [
      "Epoch 135/200, Loss: 0.20690630536491625, KL Weight: 1.0,recon_loss :8.899580006475482e-10\n",
      "F1 Score: 0.5983519404572036\n"
     ]
    },
    {
     "name": "stderr",
     "output_type": "stream",
     "text": [
      "Epoch 136/200: 100%|██████████| 214/214 [00:05<00:00, 41.93batch/s, kl_weight=1, loss=0.21] \n"
     ]
    },
    {
     "name": "stdout",
     "output_type": "stream",
     "text": [
      "Epoch 136/200, Loss: 0.20666821238314995, KL Weight: 1.0,recon_loss :9.371992849511258e-09\n",
      "F1 Score: 0.5983519404572036\n"
     ]
    },
    {
     "name": "stderr",
     "output_type": "stream",
     "text": [
      "Epoch 137/200: 100%|██████████| 214/214 [00:05<00:00, 42.00batch/s, kl_weight=1, loss=0.209]\n"
     ]
    },
    {
     "name": "stdout",
     "output_type": "stream",
     "text": [
      "Epoch 137/200, Loss: 0.20648538641561973, KL Weight: 1.0,recon_loss :1.5712327556963921e-09\n",
      "F1 Score: 0.5983519404572036\n"
     ]
    },
    {
     "name": "stderr",
     "output_type": "stream",
     "text": [
      "Epoch 138/200: 100%|██████████| 214/214 [00:05<00:00, 40.18batch/s, kl_weight=1, loss=0.207]\n"
     ]
    },
    {
     "name": "stdout",
     "output_type": "stream",
     "text": [
      "Epoch 138/200, Loss: 0.2065218453095338, KL Weight: 1.0,recon_loss :1.10015154824577e-09\n",
      "F1 Score: 0.5983519404572036\n"
     ]
    },
    {
     "name": "stderr",
     "output_type": "stream",
     "text": [
      "Epoch 139/200: 100%|██████████| 214/214 [00:05<00:00, 41.07batch/s, kl_weight=1, loss=0.21] \n"
     ]
    },
    {
     "name": "stdout",
     "output_type": "stream",
     "text": [
      "Epoch 139/200, Loss: 0.20649686553210855, KL Weight: 1.0,recon_loss :8.370797689055369e-10\n",
      "F1 Score: 0.5983519404572036\n"
     ]
    },
    {
     "name": "stderr",
     "output_type": "stream",
     "text": [
      "Epoch 140/200: 100%|██████████| 214/214 [00:05<00:00, 41.85batch/s, kl_weight=1, loss=0.209]\n"
     ]
    },
    {
     "name": "stdout",
     "output_type": "stream",
     "text": [
      "Epoch 140/200, Loss: 0.20641190489040356, KL Weight: 1.0,recon_loss :1.0247912653613316e-09\n",
      "F1 Score: 0.5983519404572036\n"
     ]
    },
    {
     "name": "stderr",
     "output_type": "stream",
     "text": [
      "Epoch 141/200: 100%|██████████| 214/214 [00:05<00:00, 41.52batch/s, kl_weight=1, loss=0.21] \n"
     ]
    },
    {
     "name": "stdout",
     "output_type": "stream",
     "text": [
      "Epoch 141/200, Loss: 0.20660934632069597, KL Weight: 1.0,recon_loss :7.495188028723116e-10\n",
      "F1 Score: 0.5983519404572036\n"
     ]
    },
    {
     "name": "stderr",
     "output_type": "stream",
     "text": [
      "Epoch 142/200: 100%|██████████| 214/214 [00:05<00:00, 40.08batch/s, kl_weight=1, loss=0.207]\n"
     ]
    },
    {
     "name": "stdout",
     "output_type": "stream",
     "text": [
      "Epoch 142/200, Loss: 0.20642426728366692, KL Weight: 1.0,recon_loss :1.030183060970293e-09\n",
      "F1 Score: 0.5983519404572036\n"
     ]
    },
    {
     "name": "stderr",
     "output_type": "stream",
     "text": [
      "Epoch 143/200: 100%|██████████| 214/214 [00:05<00:00, 40.89batch/s, kl_weight=1, loss=0.21] \n"
     ]
    },
    {
     "name": "stdout",
     "output_type": "stream",
     "text": [
      "Epoch 143/200, Loss: 0.20663446751988937, KL Weight: 1.0,recon_loss :4.2831109486660416e-10\n",
      "F1 Score: 0.5983519404572036\n"
     ]
    },
    {
     "name": "stderr",
     "output_type": "stream",
     "text": [
      "Epoch 144/200: 100%|██████████| 214/214 [00:05<00:00, 41.33batch/s, kl_weight=1, loss=0.209]\n"
     ]
    },
    {
     "name": "stdout",
     "output_type": "stream",
     "text": [
      "Epoch 144/200, Loss: 0.20650917403051786, KL Weight: 1.0,recon_loss :6.925290948123126e-10\n",
      "F1 Score: 0.5983519404572036\n"
     ]
    },
    {
     "name": "stderr",
     "output_type": "stream",
     "text": [
      "Epoch 145/200: 100%|██████████| 214/214 [00:05<00:00, 40.64batch/s, kl_weight=1, loss=0.211]\n"
     ]
    },
    {
     "name": "stdout",
     "output_type": "stream",
     "text": [
      "Epoch 145/200, Loss: 0.20678188679652793, KL Weight: 1.0,recon_loss :3.7642962062942366e-08\n",
      "F1 Score: 0.5983519404572036\n"
     ]
    },
    {
     "name": "stderr",
     "output_type": "stream",
     "text": [
      "Epoch 146/200: 100%|██████████| 214/214 [00:05<00:00, 41.69batch/s, kl_weight=1, loss=0.209]\n"
     ]
    },
    {
     "name": "stdout",
     "output_type": "stream",
     "text": [
      "Epoch 146/200, Loss: 0.2063621564585472, KL Weight: 1.0,recon_loss :1.1706697364874266e-08\n",
      "F1 Score: 0.5983519404572036\n"
     ]
    },
    {
     "name": "stderr",
     "output_type": "stream",
     "text": [
      "Epoch 147/200: 100%|██████████| 214/214 [00:05<00:00, 41.67batch/s, kl_weight=1, loss=0.209]\n"
     ]
    },
    {
     "name": "stdout",
     "output_type": "stream",
     "text": [
      "Epoch 147/200, Loss: 0.20645960232364796, KL Weight: 1.0,recon_loss :1.0578062119124411e-09\n",
      "F1 Score: 0.5983519404572036\n"
     ]
    },
    {
     "name": "stderr",
     "output_type": "stream",
     "text": [
      "Epoch 148/200: 100%|██████████| 214/214 [00:05<00:00, 41.83batch/s, kl_weight=1, loss=0.21] \n"
     ]
    },
    {
     "name": "stdout",
     "output_type": "stream",
     "text": [
      "Epoch 148/200, Loss: 0.20656323530406595, KL Weight: 1.0,recon_loss :2.2275331742019836e-08\n",
      "F1 Score: 0.5983519404572036\n"
     ]
    },
    {
     "name": "stderr",
     "output_type": "stream",
     "text": [
      "Epoch 149/200: 100%|██████████| 214/214 [00:05<00:00, 41.71batch/s, kl_weight=1, loss=0.209]\n"
     ]
    },
    {
     "name": "stdout",
     "output_type": "stream",
     "text": [
      "Epoch 149/200, Loss: 0.20649439012892892, KL Weight: 1.0,recon_loss :5.148456128712672e-09\n",
      "F1 Score: 0.5983519404572036\n"
     ]
    },
    {
     "name": "stderr",
     "output_type": "stream",
     "text": [
      "Epoch 150/200: 100%|██████████| 214/214 [00:05<00:00, 41.61batch/s, kl_weight=1, loss=0.21] \n"
     ]
    },
    {
     "name": "stdout",
     "output_type": "stream",
     "text": [
      "Epoch 150/200, Loss: 0.20657759347808696, KL Weight: 1.0,recon_loss :1.2688699597130542e-09\n",
      "F1 Score: 0.5983519404572036\n"
     ]
    },
    {
     "name": "stderr",
     "output_type": "stream",
     "text": [
      "Epoch 151/200: 100%|██████████| 214/214 [00:05<00:00, 41.58batch/s, kl_weight=1, loss=0.21] \n"
     ]
    },
    {
     "name": "stdout",
     "output_type": "stream",
     "text": [
      "Epoch 151/200, Loss: 0.20675868735970737, KL Weight: 1.0,recon_loss :7.625794345758763e-10\n",
      "F1 Score: 0.5983519404572036\n"
     ]
    },
    {
     "name": "stderr",
     "output_type": "stream",
     "text": [
      "Epoch 152/200: 100%|██████████| 214/214 [00:05<00:00, 41.57batch/s, kl_weight=1, loss=0.209]\n"
     ]
    },
    {
     "name": "stdout",
     "output_type": "stream",
     "text": [
      "Epoch 152/200, Loss: 0.20647064352703987, KL Weight: 1.0,recon_loss :1.2208845067973919e-09\n",
      "F1 Score: 0.5983519404572036\n"
     ]
    },
    {
     "name": "stderr",
     "output_type": "stream",
     "text": [
      "Epoch 153/200: 100%|██████████| 214/214 [00:05<00:00, 40.83batch/s, kl_weight=1, loss=0.21] \n"
     ]
    },
    {
     "name": "stdout",
     "output_type": "stream",
     "text": [
      "Epoch 153/200, Loss: 0.20678403736831985, KL Weight: 1.0,recon_loss :2.4441789723491558e-08\n",
      "F1 Score: 0.5983519404572036\n"
     ]
    },
    {
     "name": "stderr",
     "output_type": "stream",
     "text": [
      "Epoch 154/200: 100%|██████████| 214/214 [00:05<00:00, 41.99batch/s, kl_weight=1, loss=0.209]\n"
     ]
    },
    {
     "name": "stdout",
     "output_type": "stream",
     "text": [
      "Epoch 154/200, Loss: 0.20624070920955354, KL Weight: 1.0,recon_loss :6.720476822497412e-09\n",
      "F1 Score: 0.5983519404572036\n"
     ]
    },
    {
     "name": "stderr",
     "output_type": "stream",
     "text": [
      "Epoch 155/200: 100%|██████████| 214/214 [00:05<00:00, 42.10batch/s, kl_weight=1, loss=0.21] \n"
     ]
    },
    {
     "name": "stdout",
     "output_type": "stream",
     "text": [
      "Epoch 155/200, Loss: 0.20674390742711932, KL Weight: 1.0,recon_loss :1.6732993219219319e-09\n",
      "F1 Score: 0.5983519404572036\n"
     ]
    },
    {
     "name": "stderr",
     "output_type": "stream",
     "text": [
      "Epoch 156/200: 100%|██████████| 214/214 [00:05<00:00, 41.79batch/s, kl_weight=1, loss=0.21] \n"
     ]
    },
    {
     "name": "stdout",
     "output_type": "stream",
     "text": [
      "Epoch 156/200, Loss: 0.20656815700441877, KL Weight: 1.0,recon_loss :2.30844000846184e-09\n",
      "F1 Score: 0.5983519404572036\n"
     ]
    },
    {
     "name": "stderr",
     "output_type": "stream",
     "text": [
      "Epoch 157/200: 100%|██████████| 214/214 [00:05<00:00, 42.25batch/s, kl_weight=1, loss=0.209]\n"
     ]
    },
    {
     "name": "stdout",
     "output_type": "stream",
     "text": [
      "Epoch 157/200, Loss: 0.20641823029406717, KL Weight: 1.0,recon_loss :9.036144587482083e-10\n",
      "F1 Score: 0.5983519404572036\n"
     ]
    },
    {
     "name": "stderr",
     "output_type": "stream",
     "text": [
      "Epoch 158/200: 100%|██████████| 214/214 [00:05<00:00, 42.14batch/s, kl_weight=1, loss=0.209]\n"
     ]
    },
    {
     "name": "stdout",
     "output_type": "stream",
     "text": [
      "Epoch 158/200, Loss: 0.2064692964342153, KL Weight: 1.0,recon_loss :4.4611125473333556e-10\n",
      "F1 Score: 0.5983519404572036\n"
     ]
    },
    {
     "name": "stderr",
     "output_type": "stream",
     "text": [
      "Epoch 159/200: 100%|██████████| 214/214 [00:05<00:00, 39.97batch/s, kl_weight=1, loss=0.208]\n"
     ]
    },
    {
     "name": "stdout",
     "output_type": "stream",
     "text": [
      "Epoch 159/200, Loss: 0.20635245454924128, KL Weight: 1.0,recon_loss :8.898181603721105e-10\n",
      "F1 Score: 0.5983519404572036\n"
     ]
    },
    {
     "name": "stderr",
     "output_type": "stream",
     "text": [
      "Epoch 160/200: 100%|██████████| 214/214 [00:05<00:00, 41.64batch/s, kl_weight=1, loss=0.209]\n"
     ]
    },
    {
     "name": "stdout",
     "output_type": "stream",
     "text": [
      "Epoch 160/200, Loss: 0.20653523163539228, KL Weight: 1.0,recon_loss :8.435880358385476e-10\n",
      "F1 Score: 0.5983519404572036\n"
     ]
    },
    {
     "name": "stderr",
     "output_type": "stream",
     "text": [
      "Epoch 161/200: 100%|██████████| 214/214 [00:05<00:00, 41.53batch/s, kl_weight=1, loss=0.211]\n"
     ]
    },
    {
     "name": "stdout",
     "output_type": "stream",
     "text": [
      "Epoch 161/200, Loss: 0.20660945773124695, KL Weight: 1.0,recon_loss :3.4049140183529065e-09\n",
      "F1 Score: 0.5983519404572036\n"
     ]
    },
    {
     "name": "stderr",
     "output_type": "stream",
     "text": [
      "Epoch 162/200: 100%|██████████| 214/214 [00:05<00:00, 41.91batch/s, kl_weight=1, loss=0.209]\n"
     ]
    },
    {
     "name": "stdout",
     "output_type": "stream",
     "text": [
      "Epoch 162/200, Loss: 0.20629344734354554, KL Weight: 1.0,recon_loss :1.025406905592457e-09\n",
      "F1 Score: 0.5983519404572036\n"
     ]
    },
    {
     "name": "stderr",
     "output_type": "stream",
     "text": [
      "Epoch 163/200: 100%|██████████| 214/214 [00:05<00:00, 41.57batch/s, kl_weight=1, loss=0.209]\n"
     ]
    },
    {
     "name": "stdout",
     "output_type": "stream",
     "text": [
      "Epoch 163/200, Loss: 0.20644234044251042, KL Weight: 1.0,recon_loss :1.1057538218881652e-09\n",
      "F1 Score: 0.5983519404572036\n"
     ]
    },
    {
     "name": "stderr",
     "output_type": "stream",
     "text": [
      "Epoch 164/200: 100%|██████████| 214/214 [00:05<00:00, 41.87batch/s, kl_weight=1, loss=0.209]\n"
     ]
    },
    {
     "name": "stdout",
     "output_type": "stream",
     "text": [
      "Epoch 164/200, Loss: 0.2063493128413352, KL Weight: 1.0,recon_loss :4.080250455515579e-10\n",
      "F1 Score: 0.5983519404572036\n"
     ]
    },
    {
     "name": "stderr",
     "output_type": "stream",
     "text": [
      "Epoch 165/200: 100%|██████████| 214/214 [00:05<00:00, 41.77batch/s, kl_weight=1, loss=0.21] \n"
     ]
    },
    {
     "name": "stdout",
     "output_type": "stream",
     "text": [
      "Epoch 165/200, Loss: 0.2066881416417728, KL Weight: 1.0,recon_loss :9.64138307405268e-10\n",
      "F1 Score: 0.5983519404572036\n"
     ]
    },
    {
     "name": "stderr",
     "output_type": "stream",
     "text": [
      "Epoch 166/200: 100%|██████████| 214/214 [00:05<00:00, 41.63batch/s, kl_weight=1, loss=0.209]\n"
     ]
    },
    {
     "name": "stdout",
     "output_type": "stream",
     "text": [
      "Epoch 166/200, Loss: 0.20647105776539473, KL Weight: 1.0,recon_loss :7.806783305317638e-10\n",
      "F1 Score: 0.5983519404572036\n"
     ]
    },
    {
     "name": "stderr",
     "output_type": "stream",
     "text": [
      "Epoch 167/200: 100%|██████████| 214/214 [00:05<00:00, 41.81batch/s, kl_weight=1, loss=0.209]\n"
     ]
    },
    {
     "name": "stdout",
     "output_type": "stream",
     "text": [
      "Epoch 167/200, Loss: 0.20640559947100756, KL Weight: 1.0,recon_loss :7.730745154681329e-10\n",
      "F1 Score: 0.5983519404572036\n"
     ]
    },
    {
     "name": "stderr",
     "output_type": "stream",
     "text": [
      "Epoch 168/200: 100%|██████████| 214/214 [00:05<00:00, 42.06batch/s, kl_weight=1, loss=0.209]\n"
     ]
    },
    {
     "name": "stdout",
     "output_type": "stream",
     "text": [
      "Epoch 168/200, Loss: 0.2064566678393667, KL Weight: 1.0,recon_loss :7.015961571861105e-10\n",
      "F1 Score: 0.5983519404572036\n"
     ]
    },
    {
     "name": "stderr",
     "output_type": "stream",
     "text": [
      "Epoch 169/200: 100%|██████████| 214/214 [00:05<00:00, 41.88batch/s, kl_weight=1, loss=0.209]\n"
     ]
    },
    {
     "name": "stdout",
     "output_type": "stream",
     "text": [
      "Epoch 169/200, Loss: 0.2064946190079796, KL Weight: 1.0,recon_loss :3.5036483512807527e-10\n",
      "F1 Score: 0.5983519404572036\n"
     ]
    },
    {
     "name": "stderr",
     "output_type": "stream",
     "text": [
      "Epoch 170/200: 100%|██████████| 214/214 [00:05<00:00, 41.86batch/s, kl_weight=1, loss=0.209]\n"
     ]
    },
    {
     "name": "stdout",
     "output_type": "stream",
     "text": [
      "Epoch 170/200, Loss: 0.20642746427905895, KL Weight: 1.0,recon_loss :8.674702204792294e-10\n",
      "F1 Score: 0.5983519404572036\n"
     ]
    },
    {
     "name": "stderr",
     "output_type": "stream",
     "text": [
      "Epoch 171/200: 100%|██████████| 214/214 [00:05<00:00, 41.91batch/s, kl_weight=1, loss=0.209]\n"
     ]
    },
    {
     "name": "stdout",
     "output_type": "stream",
     "text": [
      "Epoch 171/200, Loss: 0.2064693966340796, KL Weight: 1.0,recon_loss :9.54034100787389e-10\n",
      "F1 Score: 0.5983519404572036\n"
     ]
    },
    {
     "name": "stderr",
     "output_type": "stream",
     "text": [
      "Epoch 172/200: 100%|██████████| 214/214 [00:05<00:00, 41.96batch/s, kl_weight=1, loss=0.21] \n"
     ]
    },
    {
     "name": "stdout",
     "output_type": "stream",
     "text": [
      "Epoch 172/200, Loss: 0.2065801787599225, KL Weight: 1.0,recon_loss :6.473436678303535e-10\n",
      "F1 Score: 0.5983519404572036\n"
     ]
    },
    {
     "name": "stderr",
     "output_type": "stream",
     "text": [
      "Epoch 173/200: 100%|██████████| 214/214 [00:05<00:00, 41.93batch/s, kl_weight=1, loss=0.209]\n"
     ]
    },
    {
     "name": "stdout",
     "output_type": "stream",
     "text": [
      "Epoch 173/200, Loss: 0.2065105275294491, KL Weight: 1.0,recon_loss :6.240722024979175e-10\n",
      "F1 Score: 0.5983519404572036\n"
     ]
    },
    {
     "name": "stderr",
     "output_type": "stream",
     "text": [
      "Epoch 174/200: 100%|██████████| 214/214 [00:05<00:00, 42.14batch/s, kl_weight=1, loss=0.209]\n"
     ]
    },
    {
     "name": "stdout",
     "output_type": "stream",
     "text": [
      "Epoch 174/200, Loss: 0.20656222634226362, KL Weight: 1.0,recon_loss :7.757196891071691e-10\n",
      "F1 Score: 0.5983519404572036\n"
     ]
    },
    {
     "name": "stderr",
     "output_type": "stream",
     "text": [
      "Epoch 175/200: 100%|██████████| 214/214 [00:05<00:00, 42.25batch/s, kl_weight=1, loss=0.209]\n"
     ]
    },
    {
     "name": "stdout",
     "output_type": "stream",
     "text": [
      "Epoch 175/200, Loss: 0.2065048285316084, KL Weight: 1.0,recon_loss :9.113575219865482e-10\n",
      "F1 Score: 0.5983519404572036\n"
     ]
    },
    {
     "name": "stderr",
     "output_type": "stream",
     "text": [
      "Epoch 176/200: 100%|██████████| 214/214 [00:05<00:00, 41.95batch/s, kl_weight=1, loss=0.209]\n"
     ]
    },
    {
     "name": "stdout",
     "output_type": "stream",
     "text": [
      "Epoch 176/200, Loss: 0.20631518848588534, KL Weight: 1.0,recon_loss :1.1071842578909306e-08\n",
      "F1 Score: 0.5983519404572036\n"
     ]
    },
    {
     "name": "stderr",
     "output_type": "stream",
     "text": [
      "Epoch 177/200: 100%|██████████| 214/214 [00:05<00:00, 41.90batch/s, kl_weight=1, loss=0.209]\n"
     ]
    },
    {
     "name": "stdout",
     "output_type": "stream",
     "text": [
      "Epoch 177/200, Loss: 0.20641567251671142, KL Weight: 1.0,recon_loss :3.0949137782032877e-07\n",
      "F1 Score: 0.5983519404572036\n"
     ]
    },
    {
     "name": "stderr",
     "output_type": "stream",
     "text": [
      "Epoch 178/200: 100%|██████████| 214/214 [00:05<00:00, 41.85batch/s, kl_weight=1, loss=0.209]\n"
     ]
    },
    {
     "name": "stdout",
     "output_type": "stream",
     "text": [
      "Epoch 178/200, Loss: 0.20648590148052323, KL Weight: 1.0,recon_loss :1.269293082795734e-09\n",
      "F1 Score: 0.5983519404572036\n"
     ]
    },
    {
     "name": "stderr",
     "output_type": "stream",
     "text": [
      "Epoch 179/200: 100%|██████████| 214/214 [00:05<00:00, 41.57batch/s, kl_weight=1, loss=0.21] \n"
     ]
    },
    {
     "name": "stdout",
     "output_type": "stream",
     "text": [
      "Epoch 179/200, Loss: 0.20659400146698284, KL Weight: 1.0,recon_loss :1.2404151764988036e-09\n",
      "F1 Score: 0.5983519404572036\n"
     ]
    },
    {
     "name": "stderr",
     "output_type": "stream",
     "text": [
      "Epoch 180/200: 100%|██████████| 214/214 [00:05<00:00, 41.89batch/s, kl_weight=1, loss=0.209]\n"
     ]
    },
    {
     "name": "stdout",
     "output_type": "stream",
     "text": [
      "Epoch 180/200, Loss: 0.20636859550097278, KL Weight: 1.0,recon_loss :7.281264913232977e-10\n",
      "F1 Score: 0.5983519404572036\n"
     ]
    },
    {
     "name": "stderr",
     "output_type": "stream",
     "text": [
      "Epoch 181/200: 100%|██████████| 214/214 [00:05<00:00, 39.52batch/s, kl_weight=1, loss=0.207]\n"
     ]
    },
    {
     "name": "stdout",
     "output_type": "stream",
     "text": [
      "Epoch 181/200, Loss: 0.20655751082106172, KL Weight: 1.0,recon_loss :6.202299481069704e-10\n",
      "F1 Score: 0.5983519404572036\n"
     ]
    },
    {
     "name": "stderr",
     "output_type": "stream",
     "text": [
      "Epoch 182/200: 100%|██████████| 214/214 [00:05<00:00, 39.03batch/s, kl_weight=1, loss=0.208]\n"
     ]
    },
    {
     "name": "stdout",
     "output_type": "stream",
     "text": [
      "Epoch 182/200, Loss: 0.20666758138164182, KL Weight: 1.0,recon_loss :5.160239582358316e-10\n",
      "F1 Score: 0.5983519404572036\n"
     ]
    },
    {
     "name": "stderr",
     "output_type": "stream",
     "text": [
      "Epoch 183/200: 100%|██████████| 214/214 [00:05<00:00, 37.70batch/s, kl_weight=1, loss=0.209]\n"
     ]
    },
    {
     "name": "stdout",
     "output_type": "stream",
     "text": [
      "Epoch 183/200, Loss: 0.20620513296572962, KL Weight: 1.0,recon_loss :3.690421179476355e-10\n",
      "F1 Score: 0.5983519404572036\n"
     ]
    },
    {
     "name": "stderr",
     "output_type": "stream",
     "text": [
      "Epoch 184/200: 100%|██████████| 214/214 [00:05<00:00, 36.69batch/s, kl_weight=1, loss=0.209]\n"
     ]
    },
    {
     "name": "stdout",
     "output_type": "stream",
     "text": [
      "Epoch 184/200, Loss: 0.20659327973550726, KL Weight: 1.0,recon_loss :4.369939584457595e-10\n",
      "F1 Score: 0.5983519404572036\n"
     ]
    },
    {
     "name": "stderr",
     "output_type": "stream",
     "text": [
      "Epoch 185/200: 100%|██████████| 214/214 [00:05<00:00, 40.69batch/s, kl_weight=1, loss=0.206]\n"
     ]
    },
    {
     "name": "stdout",
     "output_type": "stream",
     "text": [
      "Epoch 185/200, Loss: 0.2064101711333355, KL Weight: 1.0,recon_loss :4.2499547655264845e-10\n",
      "F1 Score: 0.5983519404572036\n"
     ]
    },
    {
     "name": "stderr",
     "output_type": "stream",
     "text": [
      "Epoch 186/200: 100%|██████████| 214/214 [00:05<00:00, 41.80batch/s, kl_weight=1, loss=0.209]\n"
     ]
    },
    {
     "name": "stdout",
     "output_type": "stream",
     "text": [
      "Epoch 186/200, Loss: 0.2064767534209189, KL Weight: 1.0,recon_loss :5.46232492734286e-10\n",
      "F1 Score: 0.5983519404572036\n"
     ]
    },
    {
     "name": "stderr",
     "output_type": "stream",
     "text": [
      "Epoch 187/200: 100%|██████████| 214/214 [00:05<00:00, 41.15batch/s, kl_weight=1, loss=0.207]\n"
     ]
    },
    {
     "name": "stdout",
     "output_type": "stream",
     "text": [
      "Epoch 187/200, Loss: 0.20644734709340834, KL Weight: 1.0,recon_loss :9.359786401637607e-10\n",
      "F1 Score: 0.5983519404572036\n"
     ]
    },
    {
     "name": "stderr",
     "output_type": "stream",
     "text": [
      "Epoch 188/200: 100%|██████████| 214/214 [00:05<00:00, 42.13batch/s, kl_weight=1, loss=0.21] \n"
     ]
    },
    {
     "name": "stdout",
     "output_type": "stream",
     "text": [
      "Epoch 188/200, Loss: 0.2066307842174423, KL Weight: 1.0,recon_loss :5.35076918206736e-10\n",
      "F1 Score: 0.5983519404572036\n"
     ]
    },
    {
     "name": "stderr",
     "output_type": "stream",
     "text": [
      "Epoch 189/200: 100%|██████████| 214/214 [00:05<00:00, 40.74batch/s, kl_weight=1, loss=0.211]\n"
     ]
    },
    {
     "name": "stdout",
     "output_type": "stream",
     "text": [
      "Epoch 189/200, Loss: 0.2065673870182483, KL Weight: 1.0,recon_loss :2.81496018627908e-10\n",
      "F1 Score: 0.5983519404572036\n"
     ]
    },
    {
     "name": "stderr",
     "output_type": "stream",
     "text": [
      "Epoch 190/200: 100%|██████████| 214/214 [00:05<00:00, 40.55batch/s, kl_weight=1, loss=0.208]\n"
     ]
    },
    {
     "name": "stdout",
     "output_type": "stream",
     "text": [
      "Epoch 190/200, Loss: 0.2065397641647642, KL Weight: 1.0,recon_loss :7.906798001137281e-10\n",
      "F1 Score: 0.5983519404572036\n"
     ]
    },
    {
     "name": "stderr",
     "output_type": "stream",
     "text": [
      "Epoch 191/200: 100%|██████████| 214/214 [00:05<00:00, 38.73batch/s, kl_weight=1, loss=0.21] \n"
     ]
    },
    {
     "name": "stdout",
     "output_type": "stream",
     "text": [
      "Epoch 191/200, Loss: 0.2064203978559681, KL Weight: 1.0,recon_loss :5.108500000825391e-10\n",
      "F1 Score: 0.5983519404572036\n"
     ]
    },
    {
     "name": "stderr",
     "output_type": "stream",
     "text": [
      "Epoch 192/200: 100%|██████████| 214/214 [00:05<00:00, 38.90batch/s, kl_weight=1, loss=0.209]\n"
     ]
    },
    {
     "name": "stdout",
     "output_type": "stream",
     "text": [
      "Epoch 192/200, Loss: 0.20663418934166988, KL Weight: 1.0,recon_loss :1.4555728845941137e-08\n",
      "F1 Score: 0.5983519404572036\n"
     ]
    },
    {
     "name": "stderr",
     "output_type": "stream",
     "text": [
      "Epoch 193/200: 100%|██████████| 214/214 [00:05<00:00, 38.25batch/s, kl_weight=1, loss=0.209]\n"
     ]
    },
    {
     "name": "stdout",
     "output_type": "stream",
     "text": [
      "Epoch 193/200, Loss: 0.2064460258339053, KL Weight: 1.0,recon_loss :6.806979912235374e-10\n",
      "F1 Score: 0.5983519404572036\n"
     ]
    },
    {
     "name": "stderr",
     "output_type": "stream",
     "text": [
      "Epoch 194/200: 100%|██████████| 214/214 [00:05<00:00, 38.35batch/s, kl_weight=1, loss=0.208]\n"
     ]
    },
    {
     "name": "stdout",
     "output_type": "stream",
     "text": [
      "Epoch 194/200, Loss: 0.20646120858526676, KL Weight: 1.0,recon_loss :2.0814238007069112e-08\n",
      "F1 Score: 0.5983519404572036\n"
     ]
    },
    {
     "name": "stderr",
     "output_type": "stream",
     "text": [
      "Epoch 195/200: 100%|██████████| 214/214 [00:05<00:00, 38.13batch/s, kl_weight=1, loss=0.209]\n"
     ]
    },
    {
     "name": "stdout",
     "output_type": "stream",
     "text": [
      "Epoch 195/200, Loss: 0.2063262408999639, KL Weight: 1.0,recon_loss :1.420278968615761e-09\n",
      "F1 Score: 0.5983519404572036\n"
     ]
    },
    {
     "name": "stderr",
     "output_type": "stream",
     "text": [
      "Epoch 196/200: 100%|██████████| 214/214 [00:05<00:00, 39.48batch/s, kl_weight=1, loss=0.21] \n"
     ]
    },
    {
     "name": "stdout",
     "output_type": "stream",
     "text": [
      "Epoch 196/200, Loss: 0.20682202168157168, KL Weight: 1.0,recon_loss :5.740899074271084e-10\n",
      "F1 Score: 0.5983519404572036\n"
     ]
    },
    {
     "name": "stderr",
     "output_type": "stream",
     "text": [
      "Epoch 197/200: 100%|██████████| 214/214 [00:05<00:00, 39.39batch/s, kl_weight=1, loss=0.207]\n"
     ]
    },
    {
     "name": "stdout",
     "output_type": "stream",
     "text": [
      "Epoch 197/200, Loss: 0.20667825889921634, KL Weight: 1.0,recon_loss :7.884043021520918e-10\n",
      "F1 Score: 0.5983519404572036\n"
     ]
    },
    {
     "name": "stderr",
     "output_type": "stream",
     "text": [
      "Epoch 198/200: 100%|██████████| 214/214 [00:05<00:00, 39.47batch/s, kl_weight=1, loss=0.206]\n"
     ]
    },
    {
     "name": "stdout",
     "output_type": "stream",
     "text": [
      "Epoch 198/200, Loss: 0.20636340815608747, KL Weight: 1.0,recon_loss :4.3580361722395093e-10\n",
      "F1 Score: 0.5983519404572036\n"
     ]
    },
    {
     "name": "stderr",
     "output_type": "stream",
     "text": [
      "Epoch 199/200: 100%|██████████| 214/214 [00:05<00:00, 39.34batch/s, kl_weight=1, loss=0.208]\n"
     ]
    },
    {
     "name": "stdout",
     "output_type": "stream",
     "text": [
      "Epoch 199/200, Loss: 0.20643943527313036, KL Weight: 1.0,recon_loss :6.780844350639524e-10\n",
      "F1 Score: 0.5983519404572036\n"
     ]
    },
    {
     "name": "stderr",
     "output_type": "stream",
     "text": [
      "Epoch 200/200: 100%|██████████| 214/214 [00:05<00:00, 39.94batch/s, kl_weight=1, loss=0.209]\n"
     ]
    },
    {
     "name": "stdout",
     "output_type": "stream",
     "text": [
      "Epoch 200/200, Loss: 0.20665395099704512, KL Weight: 1.0,recon_loss :4.400145603224625e-10\n",
      "F1 Score: 0.5983519404572036\n",
      "F1 Score: 0.5983519404572036\n"
     ]
    }
   ],
   "source": [
    "import torch\n",
    "import torch.nn as nn\n",
    "import torch.optim as optim\n",
    "import torch.nn.functional as F\n",
    "import numpy as np\n",
    "import pandas as pd\n",
    "import pickle\n",
    "from sklearn.metrics import f1_score\n",
    "from sklearn.model_selection import train_test_split\n",
    "from pathlib import Path\n",
    "from rdkit import Chem\n",
    "from rdkit import RDLogger\n",
    "from scipy.interpolate import interp1d\n",
    "from torch.utils.data import DataLoader, TensorDataset\n",
    "import math\n",
    "\n",
    "# Disable RDLogger warnings\n",
    "RDLogger.DisableLog('rdApp.*')\n",
    "import os\n",
    "\n",
    "os.environ['TF_ENABLE_ONEDNN_OPTS'] = '0'\n",
    "functional_groups = {\n",
    "    'Acid anhydride': Chem.MolFromSmarts('[CX3](=[OX1])[OX2][CX3](=[OX1])'),\n",
    "    'Acyl halide': Chem.MolFromSmarts('[CX3](=[OX1])[F,Cl,Br,I]'),\n",
    "    'Alcohol': Chem.MolFromSmarts('[#6][OX2H]'),\n",
    "    'Aldehyde': Chem.MolFromSmarts('[CX3H1](=O)[#6,H]'),\n",
    "    'Alkane': Chem.MolFromSmarts('[CX4;H3,H2]'),\n",
    "    'Alkene': Chem.MolFromSmarts('[CX3]=[CX3]'),\n",
    "    'Alkyne': Chem.MolFromSmarts('[CX2]#[CX2]'),\n",
    "    'Amide': Chem.MolFromSmarts('[NX3][CX3](=[OX1])[#6]'),\n",
    "    'Amine': Chem.MolFromSmarts('[NX3;H2,H1,H0;!$(NC=O)]'),\n",
    "    'Arene': Chem.MolFromSmarts('[cX3]1[cX3][cX3][cX3][cX3][cX3]1'),\n",
    "    'Azo compound': Chem.MolFromSmarts('[#6][NX2]=[NX2][#6]'),\n",
    "    'Carbamate': Chem.MolFromSmarts('[NX3][CX3](=[OX1])[OX2H0]'),\n",
    "    'Carboxylic acid': Chem.MolFromSmarts('[CX3](=O)[OX2H]'),\n",
    "    'Enamine': Chem.MolFromSmarts('[NX3][CX3]=[CX3]'),\n",
    "    'Enol': Chem.MolFromSmarts('[OX2H][#6X3]=[#6]'),\n",
    "    'Ester': Chem.MolFromSmarts('[#6][CX3](=O)[OX2H0][#6]'),\n",
    "    'Ether': Chem.MolFromSmarts('[OD2]([#6])[#6]'),\n",
    "    'Haloalkane': Chem.MolFromSmarts('[#6][F,Cl,Br,I]'),\n",
    "    'Hydrazine': Chem.MolFromSmarts('[NX3][NX3]'),\n",
    "    'Hydrazone': Chem.MolFromSmarts('[NX3][NX2]=[#6]'),\n",
    "    'Imide': Chem.MolFromSmarts('[CX3](=[OX1])[NX3][CX3](=[OX1])'),\n",
    "    'Imine': Chem.MolFromSmarts('[$([CX3]([#6])[#6]),$([CX3H][#6])]=[$([NX2][#6]),$([NX2H])]'),\n",
    "    'Isocyanate': Chem.MolFromSmarts('[NX2]=[C]=[O]'),\n",
    "    'Isothiocyanate': Chem.MolFromSmarts('[NX2]=[C]=[S]'),\n",
    "    'Ketone': Chem.MolFromSmarts('[#6][CX3](=O)[#6]'),\n",
    "    'Nitrile': Chem.MolFromSmarts('[NX1]#[CX2]'),\n",
    "    'Phenol': Chem.MolFromSmarts('[OX2H][cX3]:[c]'),\n",
    "    'Phosphine': Chem.MolFromSmarts('[PX3]'),\n",
    "    'Sulfide': Chem.MolFromSmarts('[#16X2H0]'),\n",
    "    'Sulfonamide': Chem.MolFromSmarts('[#16X4]([NX3])(=[OX1])(=[OX1])[#6]'),\n",
    "    'Sulfonate': Chem.MolFromSmarts('[#16X4](=[OX1])(=[OX1])([#6])[OX2H0]'),\n",
    "    'Sulfone': Chem.MolFromSmarts('[#16X4](=[OX1])(=[OX1])([#6])[#6]'),\n",
    "    'Sulfonic acid': Chem.MolFromSmarts('[#16X4](=[OX1])(=[OX1])([#6])[OX2H]'),\n",
    "    'Sulfoxide': Chem.MolFromSmarts('[#16X3]=[OX1]'),\n",
    "    'Thial': Chem.MolFromSmarts('[CX3H1](=S)[#6,H]'),\n",
    "    'Thioamide': Chem.MolFromSmarts('[NX3][CX3]=[SX1]'),\n",
    "    'Thiol': Chem.MolFromSmarts('[#16X2H]')\n",
    "}\n",
    "def match_group(mol: Chem.Mol, func_group) -> int:\n",
    "    if type(func_group) == Chem.Mol:\n",
    "        n = len(mol.GetSubstructMatches(func_group))\n",
    "    else:\n",
    "        n = func_group(mol)\n",
    "    return 0 if n == 0 else 1\n",
    "# Function to map SMILES to functional groups (no change)\n",
    "def get_functional_groups(smiles: str) -> dict:\n",
    "    smiles = smiles.strip().replace(' ', '')\n",
    "    mol = Chem.MolFromSmiles(smiles)\n",
    "    if mol is None: \n",
    "        return None\n",
    "    func_groups = [match_group(mol, smarts) for smarts in functional_groups.values()]\n",
    "    return func_groups\n",
    "\n",
    "def interpolate_to_600(spec):\n",
    "    old_x = np.arange(len(spec))\n",
    "    new_x = np.linspace(min(old_x), max(old_x), 600)\n",
    "    interp = interp1d(old_x, spec)\n",
    "    return interp(new_x)\n",
    "\n",
    "def make_msms_spectrum(spectrum):\n",
    "    msms_spectrum = np.zeros(10000)\n",
    "    for peak in spectrum:\n",
    "        peak_pos = int(peak[0]*10)\n",
    "        peak_pos = min(peak_pos, 9999)\n",
    "        msms_spectrum[peak_pos] = peak[1]\n",
    "    return msms_spectrum\n",
    "\n",
    "# Define CNN Model in PyTo\n",
    "\n",
    "\n",
    "\n",
    "\n",
    "class DeformConv1d(nn.Module):\n",
    "    def __init__(self, inc, outc, kernel_size=3, padding=1, stride=1, bias=True, modulation=False):\n",
    "        \"\"\"\n",
    "        一维可变形卷积\n",
    "\n",
    "        Args:\n",
    "            inc (int): 输入通道数\n",
    "            outc (int): 输出通道数\n",
    "            kernel_size (int, optional): 卷积核大小。默认为3。\n",
    "            padding (int, optional): 填充大小。默认为1。\n",
    "            stride (int, optional): 步幅。默认为1。\n",
    "            bias (bool, optional): 是否使用偏置。默认为True。\n",
    "            modulation (bool, optional): 是否使用调制。默认为False。\n",
    "        \"\"\"\n",
    "        super(DeformConv1d, self).__init__()\n",
    "        self.kernel_size = kernel_size\n",
    "        self.padding = padding\n",
    "        self.stride = stride\n",
    "        self.modulation = modulation\n",
    "\n",
    "        # 生成偏移量的卷积，输出通道数为卷积核大小（每个位置一个偏移量）\n",
    "        self.offset_conv = nn.Conv1d(inc, kernel_size, kernel_size=kernel_size, padding=padding, stride=stride, bias=True)\n",
    "        nn.init.constant_(self.offset_conv.weight, 0)\n",
    "        if bias:\n",
    "            nn.init.constant_(self.offset_conv.bias, 0)\n",
    "\n",
    "        if self.modulation:\n",
    "            # 生成调制系数的卷积，输出通道数为卷积核大小\n",
    "            self.m_conv = nn.Conv1d(inc, kernel_size, kernel_size=kernel_size, padding=padding, stride=stride, bias=True)\n",
    "            nn.init.constant_(self.m_conv.weight, 0)\n",
    "            if bias:\n",
    "                nn.init.constant_(self.m_conv.bias, 0)\n",
    "\n",
    "        # 定义权重参数，用于加权求和\n",
    "        self.weight = nn.Parameter(torch.Tensor(outc, inc, kernel_size))\n",
    "        nn.init.kaiming_uniform_(self.weight, a=math.sqrt(5))\n",
    "\n",
    "        if bias:\n",
    "            self.bias = nn.Parameter(torch.Tensor(outc))\n",
    "            fan_in, _ = nn.init._calculate_fan_in_and_fan_out(self.weight)\n",
    "            bound = 1 / math.sqrt(fan_in)\n",
    "            nn.init.uniform_(self.bias, -bound, bound)\n",
    "        else:\n",
    "            self.register_parameter('bias', None)\n",
    "\n",
    "    def forward(self, x):\n",
    "        # x: [b, c, l_in]\n",
    "        b, c, l_in = x.size()\n",
    "\n",
    "        # Apply padding\n",
    "        x_padded = F.pad(x, (self.padding, self.padding))  # [b, c, l_in + 2*padding]\n",
    "\n",
    "        # Compute offset\n",
    "        offset = self.offset_conv(x)  # [b, kernel_size, l_out_p]\n",
    "        if self.modulation:\n",
    "            m = torch.sigmoid(self.m_conv(x))  # [b, kernel_size, l_out_p]\n",
    "\n",
    "        # Compute p (sampling positions)\n",
    "        base = torch.arange(-self.padding, self.padding + 1, device=x.device, dtype=x.dtype).view(1, self.kernel_size, 1)  # [1, kernel_size, 1]\n",
    "        p = base + offset  # [b, kernel_size, l_out_p]\n",
    "\n",
    "        # Compute p_l and p_r\n",
    "        p_l = p.floor().clamp(0, x_padded.size(2) - 1)  # [b, kernel_size, l_out_p]\n",
    "        p_r = (p_l + 1).clamp(0, x_padded.size(2) - 1)  # [b, kernel_size, l_out_p]\n",
    "\n",
    "        # Compute weights for linear interpolation\n",
    "        g_r = (p - p_l)  # [b, kernel_size, l_out_p]\n",
    "        g_l = 1 - g_r  # [b, kernel_size, l_out_p]\n",
    "\n",
    "        # Expand p_l and p_r to match the input channels\n",
    "        p_l = p_l.unsqueeze(1).expand(-1, c, -1, -1)  # [b, c, kernel_size, l_out_p]\n",
    "        p_r = p_r.unsqueeze(1).expand(-1, c, -1, -1)  # [b, c, kernel_size, l_out_p]\n",
    "\n",
    "        # Prepare x_padded for gather\n",
    "        # x_padded: [b, c, l_padded] -> [b, c, 1, l_padded]\n",
    "        x_padded = x_padded.unsqueeze(2).expand(-1, -1, self.kernel_size, -1)  # [b, c, kernel_size, l_padded]\n",
    "\n",
    "        # Gather the sampled values\n",
    "        x_q_l = torch.gather(x_padded, 3, p_l.long())  # [b, c, kernel_size, l_out_p]\n",
    "        x_q_r = torch.gather(x_padded, 3, p_r.long())  # [b, c, kernel_size, l_out_p]\n",
    "\n",
    "        # Perform linear interpolation\n",
    "        g_l = g_l.unsqueeze(1).expand(-1, c, -1, -1)  # [b, c, kernel_size, l_out_p]\n",
    "        g_r = g_r.unsqueeze(1).expand(-1, c, -1, -1)  # [b, c, kernel_size, l_out_p]\n",
    "        x_offset = g_l * x_q_l + g_r * x_q_r  # [b, c, kernel_size, l_out_p]\n",
    "\n",
    "        # Apply modulation if enabled\n",
    "        if self.modulation:\n",
    "            m = m.unsqueeze(1).expand(-1, c, -1, -1)  # [b, c, kernel_size, l_out_p]\n",
    "            x_offset = x_offset * m  # [b, c, kernel_size, l_out_p]\n",
    "\n",
    "        # Perform weighted sum\n",
    "        # x_offset: [b,c,k,l_out_p]\n",
    "        # weight: [outc, c, k]\n",
    "        # Output: [b,outc,l_out_p]\n",
    "        out = torch.einsum('bckl, ock -> bol', x_offset, self.weight)\n",
    "\n",
    "        if self.bias is not None:\n",
    "            out = out + self.bias.view(1, -1, 1)\n",
    "\n",
    "        return out\n",
    "\n",
    "\n",
    "\n",
    "\n",
    "\n",
    "class IndependentCNN(nn.Module):\n",
    "    def __init__(self, num_fgs):\n",
    "        super(IndependentCNN, self).__init__()\n",
    "        self.conv1 = DeformConv1d(inc=1, outc=31, kernel_size=11, padding=5, stride=1)\n",
    "        self.conv2 = DeformConv1d(inc=31, outc=62, kernel_size=11, padding=5, stride=1)\n",
    "\n",
    "        self.batch_norm1 = nn.BatchNorm1d(31)\n",
    "        self.batch_norm2 = nn.BatchNorm1d(62)\n",
    "\n",
    "        # MLP for selecting important channels (62 channels)\n",
    "        self.mlp = nn.Sequential(\n",
    "            nn.Linear(150, 128),  # Input 150 features per channel\n",
    "            nn.ReLU(),\n",
    "            nn.Linear(128, 1)     # Output importance score for each channel\n",
    "        )\n",
    "\n",
    "    def forward(self, x):\n",
    "        x = F.relu(self.batch_norm1(self.conv1(x)))  # [batch, 31, L1]\n",
    "        x = F.max_pool1d(x, 2)                      # [batch, 31, L1/2]\n",
    "        x = F.relu(self.batch_norm2(self.conv2(x))) # [batch, 62, L2]\n",
    "        x = F.max_pool1d(x, 2)                      # [batch, 62, L2/2]\n",
    "\n",
    "        # 通道重要性计算\n",
    "        static_feature_map = x.clone().detach()\n",
    "        channel_means = x.mean(dim=2)  # [batch, 62]\n",
    "        channel_std = x.std(dim=2)     # [batch, 62]\n",
    "\n",
    "        # 准备MLP输入：这里假设每个通道有150个特征（需根据实际L2调整）\n",
    "        # 如果L2不是固定的150，请调整此处\n",
    "        # 例如，flatten the spatial dimension\n",
    "        x_flat = x.view(x.size(0), x.size(1), -1)  # [batch, 62, L2']\n",
    "        x_flat = x_flat.mean(dim=2)  # [batch, 62]\n",
    "        x_flat = x_flat.view(x.size(0)*x.size(1), -1)  # [batch*62, 1] assuming L2' =1\n",
    "\n",
    "        # Adjust the MLP input size as per your actual feature size\n",
    "        # Here, assuming 150 features per channel\n",
    "        # If not, you need to adjust the Linear layer dimensions accordingly\n",
    "        # For demonstration, we'll proceed as is\n",
    "\n",
    "        # Expand x_flat to match MLP input\n",
    "        # Assuming x has shape [batch, 62, 150], adjust accordingly\n",
    "        # Modify as per your actual data\n",
    "        # Here, we'll use channel_means and channel_std as features\n",
    "        mlp_input = torch.cat([channel_means, channel_std], dim=1)  # [batch, 124]\n",
    "        # Adjust the MLP input layer if necessary\n",
    "        # For now, keep it as is\n",
    "\n",
    "        # Update MLP to accept the correct input size\n",
    "        self.mlp = nn.Sequential(\n",
    "            nn.Linear(channel_means.size(1)*2, 128),  # e.g., 62*2=124\n",
    "            nn.ReLU(),\n",
    "            nn.Linear(128, 1)     # Output importance score for each channel\n",
    "        ).to(x.device)\n",
    "\n",
    "        channel_importance = torch.sigmoid(self.mlp(mlp_input))  # [batch, 1]\n",
    "        # Apply importance to each channel\n",
    "        ib_x_mean = x * channel_importance.unsqueeze(1) + (1 - channel_importance).unsqueeze(1) * channel_means.unsqueeze(2)\n",
    "        ib_x_std = (1 - channel_importance).unsqueeze(1) * channel_std.unsqueeze(2)\n",
    "        ib_x = ib_x_mean + torch.rand_like(ib_x_mean) * ib_x_std\n",
    "\n",
    "        # KL Divergence loss\n",
    "        epsilon = 1e-8\n",
    "        KL_tensor = 0.5 * (\n",
    "            (ib_x_std**2) / (channel_std.unsqueeze(2) + epsilon)**2 +\n",
    "            (channel_std.unsqueeze(2)**2) / (ib_x_std + epsilon)**2 - 1\n",
    "        ) + ((ib_x_mean - channel_means.unsqueeze(2))**2) / (channel_std.unsqueeze(2) + epsilon)**2\n",
    "\n",
    "        KL_Loss = torch.mean(KL_tensor)\n",
    "\n",
    "        # Flatten and pass through fully connected layers\n",
    "        # 根据你的需求，这里可能需要进一步的处理\n",
    "\n",
    "        return ib_x, KL_Loss\n",
    "\n",
    "\n",
    "\n",
    "class SelfAttentionLayer(nn.Module):\n",
    "    def __init__(self, input_dim):\n",
    "        super(SelfAttentionLayer, self).__init__()\n",
    "        self.query = nn.Linear(input_dim, input_dim)\n",
    "        self.key = nn.Linear(input_dim, input_dim)\n",
    "        self.value = nn.Linear(input_dim, input_dim)\n",
    "        self.softmax = nn.Softmax(dim=-1)\n",
    "\n",
    "    def forward(self, x):\n",
    "        # x: [batch_size, seq_len, input_dim]\n",
    "        q = self.query(x)  # [batch_size, seq_len, input_dim]\n",
    "        k = self.key(x)    # [batch_size, seq_len, input_dim]\n",
    "        v = self.value(x)  # [batch_size, seq_len, input_dim]\n",
    "        # 计算注意力分数\n",
    "        attention_scores = torch.bmm(q, k.transpose(1, 2))  # [batch_size, seq_len, seq_len]\n",
    "        attention_probs = self.softmax(attention_scores)   # [batch_size, seq_len, seq_len]\n",
    "        # 加权求和\n",
    "        output = torch.bmm(attention_probs, v)  # [batch_size, seq_len, input_dim]\n",
    "        return output\n",
    "\n",
    "import torch\n",
    "import torch.nn as nn\n",
    "import torch.nn.functional as F\n",
    "\n",
    "def rbf_kernel(x, y, sigma=1.0):\n",
    "    \"\"\"\n",
    "    x: [B, D]\n",
    "    y: [B, D]\n",
    "    sigma: RBF 核的带宽 (可调)\n",
    "    返回: [B, B] 的核矩阵\n",
    "    \"\"\"\n",
    "    # x.unsqueeze(1): [B, 1, D]\n",
    "    # y.unsqueeze(0): [1, B, D]\n",
    "    # dist: [B, B]，表示 x_i 与 y_j 的欧式距离平方\n",
    "    x = x.unsqueeze(1)\n",
    "    y = y.unsqueeze(0)\n",
    "    dist = (x - y).pow(2).sum(dim=2)\n",
    "    kxy = torch.exp(-dist / (2 * sigma**2))\n",
    "    return kxy\n",
    "\n",
    "# =============== 2. 定义 HSIC 计算函数 ===============\n",
    "def hsic(x, y, sigma=1.0):\n",
    "    \"\"\"\n",
    "    计算 x, y 的 HSIC 值: HSIC(X, Y) = 1/(n-1)^2 * Tr(H Kx H Ky)\n",
    "    x: [B, D]\n",
    "    y: [B, D]\n",
    "    sigma: RBF 核带宽\n",
    "    返回标量 HSIC 值\n",
    "    \"\"\"\n",
    "    assert x.size(0) == y.size(0), \"x,y 的 batch size 不一致\"\n",
    "    n = x.size(0)\n",
    "\n",
    "    # 计算核矩阵\n",
    "    Kx = rbf_kernel(x, x, sigma=sigma)\n",
    "    Ky = rbf_kernel(y, y, sigma=sigma)\n",
    "\n",
    "    # 居中矩阵 H = I - 1/n\n",
    "    H = torch.eye(n, device=x.device) - (1./n) * torch.ones((n, n), device=x.device)\n",
    "\n",
    "    # H Kx H\n",
    "    HKxH = H.mm(Kx).mm(H)\n",
    "\n",
    "    # HSIC = Tr( (H Kx H) * Ky ) / (n-1)^2\n",
    "    # 注: 这里相乘可以写为 trace(HKxH @ Ky)，矩阵乘法后再 trace\n",
    "    hsic_val = torch.trace(HKxH.mm(Ky)) / (float(n - 1) ** 2)\n",
    "\n",
    "    return hsic_val\n",
    "\n",
    "\n",
    "\n",
    "\n",
    "\n",
    "\n",
    "\n",
    "\n",
    "\n",
    "import torch\n",
    "import torch.nn as nn\n",
    "import torch.nn.functional as F\n",
    "\n",
    "class CNNModelWithVAE(nn.Module): \n",
    "    def __init__(self, num_fgs, channel=62, feature_dim=150, hidden_dim=256, latent_dim=64, m_dim=10):\n",
    "        \"\"\"\n",
    "        参数：\n",
    "        - num_fgs: 预测目标的维度\n",
    "        - channel: 每个光谱的通道数（不同频率段）\n",
    "        - feature_dim: 每个光谱的特征维度\n",
    "        - hidden_dim: 隐藏层维度\n",
    "        - latent_dim: 潜在变量 z 的维度\n",
    "        - m_dim: 预测目标的维度（如有需要）\n",
    "        \"\"\"\n",
    "        super(CNNModelWithVAE, self).__init__()\n",
    "        self.channel = channel\n",
    "        self.feature_dim = feature_dim\n",
    "\n",
    "        # 创建三个独立的CNN模块\n",
    "        self.cnn1 = IndependentCNN(num_fgs)\n",
    "        self.cnn2 = IndependentCNN(num_fgs)\n",
    "        self.cnn3 = IndependentCNN(num_fgs)\n",
    "\n",
    "        # 自注意力层，用于信息交互（保持原有结构）\n",
    "        self.attention = SelfAttentionLayer(input_dim=150)\n",
    "\n",
    "        # VAE Encoder: 将三个光谱特征融合成潜在表示 z\n",
    "        # 将 [B, 3*channel, feature_dim] 展平为 [B, 3*channel*feature_dim]\n",
    "        self.fc_fusion = nn.Sequential(\n",
    "            nn.Linear(3 * channel * feature_dim, hidden_dim),\n",
    "            nn.ReLU()\n",
    "        )\n",
    "        self.fc_mu = nn.Linear(hidden_dim, latent_dim)\n",
    "        self.fc_logvar = nn.Linear(hidden_dim, latent_dim)\n",
    "\n",
    "        # VAE Decoder: 从潜在表示 z 重建三个光谱\n",
    "        self.decoder = nn.ModuleList([\n",
    "            nn.Sequential(\n",
    "                nn.Linear(latent_dim, hidden_dim),\n",
    "                nn.ReLU(),\n",
    "                nn.Linear(hidden_dim, channel * feature_dim),\n",
    "                nn.ReLU()\n",
    "            ) for _ in range(3)\n",
    "        ])\n",
    "\n",
    "\n",
    "        # 增加一个线性层处理 x3 的特征\n",
    "        self.fc_x3 = nn.Linear(channel * feature_dim, latent_dim)\n",
    "\n",
    "        # 全连接层用于最终预测，使用 z 和 x3 作为输入\n",
    "        self.fc1 = nn.Linear(latent_dim *2, 4927)  # z 和 x3\n",
    "        self.fc2 = nn.Linear(4927, 2785)\n",
    "        self.fc3 = nn.Linear(2785, 1574)\n",
    "        self.fc4 = nn.Linear(1574, num_fgs)\n",
    "        self.dropout = nn.Dropout(0.48599073736368)\n",
    "    \n",
    "    def reparameterize(self, mu, logvar):\n",
    "        std = torch.exp(0.5 * logvar)\n",
    "        eps = torch.randn_like(std)   # ~ N(0, I)\n",
    "        return mu + std * eps\n",
    "    \n",
    "    def forward(self, x):\n",
    "        \"\"\"\n",
    "        前向传播函数。\n",
    "        \n",
    "        参数：\n",
    "        - x: 输入张量，形状为 [batch_size, 3, feature_dim]\n",
    "        \n",
    "        返回：\n",
    "        - 一个包含预测结果和各类损失组件的字典\n",
    "        \"\"\"\n",
    "        # 拆分输入为三个光谱通道\n",
    "        x1, x2, x3 = x[:, 0:1, :], x[:, 1:2, :], x[:, 2:3, :]  # 每个 [B, 1, feature_dim]\n",
    "\n",
    "        # 分别通过三个独立的CNN\n",
    "        ib_x_1, kl_loss1= self.cnn1(x1)  # [B, channel, feature_dim]\n",
    "        ib_x_2, kl_loss2 = self.cnn2(x2)\n",
    "        ib_x_3, kl_loss3 = self.cnn3(x3)\n",
    "\n",
    "        # 将三个通道的输出堆叠\n",
    "        ib_x_stacked = torch.cat([ib_x_1, ib_x_2, ib_x_3], dim=1)  # [B, 3*channel, feature_dim]\n",
    "        # 展平为 [B, 3*channel*feature_dim]\n",
    "        ib_x_flat = ib_x_stacked.view(ib_x_stacked.size(0), -1)  # [B, 3*channel*feature_dim]\n",
    "        # VAE Encoder\n",
    "        h = self.fc_fusion(ib_x_flat)  # [B, hidden_dim]\n",
    "        mu = self.fc_mu(h)             # [B, latent_dim]\n",
    "        logvar = self.fc_logvar(h)     # [B, latent_dim]\n",
    "        z = self.reparameterize(mu, logvar)  # [B, latent_dim]\n",
    "\n",
    "        # VAE Decoder: 重建三个光谱\n",
    "        recon_x = []\n",
    "        for decoder in self.decoder:\n",
    "            recon = decoder(z)  # [B, channel * feature_dim]\n",
    "            recon = recon.view(z.size(0), self.channel, self.feature_dim)  # [B, channel, feature_dim]\n",
    "            recon_x.append(recon)\n",
    "        recon_x1, recon_x2, recon_x3 = recon_x  # 各自的重构光谱\n",
    "\n",
    "        # 条件互信息估计器\n",
    "        # 将 ib_x_* 展平\n",
    "        ib_x1_flat = ib_x_1.view(z.size(0), -1)  # [B, channel * feature_dim]\n",
    "        ib_x2_flat = ib_x_2.view(z.size(0), -1)\n",
    "        ib_x3_flat = ib_x_3.view(z.size(0), -1)\n",
    "        sigma=1.0\n",
    "        # ====== 3.3 计算 HSIC 并做加和 ======\n",
    "        hsic_x3_x1 = hsic(ib_x3_flat, ib_x1_flat, sigma=sigma)\n",
    "        hsic_x3_x2 = hsic(ib_x3_flat, ib_x2_flat, sigma=sigma)\n",
    "        hsic_x3_z  = hsic(ib_x3_flat, z,     sigma=sigma)\n",
    "\n",
    "        # 将这几个 HSIC 值相加\n",
    "        hsic_loss = hsic_x3_x1 + hsic_x3_x2 + hsic_x3_z\n",
    "\n",
    "        # ====== 3.4 总损失: 主损失 + alpha * HSIC(总和) ======\n",
    "        cmi_loss = hsic_loss\n",
    "\n",
    "        # 增加 x3 的处理\n",
    "        x3_processed = self.fc_x3(ib_x3_flat)  # [B, latent_dim]\n",
    "        z_x3 = torch.cat([z, x3_processed], dim=1)  # [B, 2 * latent_dim]\n",
    "        x_pred = F.relu(self.fc1(z_x3 ))  # [B, 4927]\n",
    "        x_pred = self.dropout(x_pred)\n",
    "        x_pred = F.relu(self.fc2(x_pred))  # [B, 2785]\n",
    "        x_pred = self.dropout(x_pred)\n",
    "        x_pred = F.relu(self.fc3(x_pred))  # [B, 1574]\n",
    "        x_pred = self.dropout(x_pred)\n",
    "        x_pred = torch.sigmoid(self.fc4(x_pred))  # [B, num_fgs]\n",
    "\n",
    "        # KL散度损失取平均值（来自 VAE）\n",
    "        kl_div = -0.5 * torch.sum(1 + logvar - mu.pow(2) - logvar.exp(), dim=1).mean()\n",
    "        kl=( kl_loss1+ kl_loss2+ kl_loss3)/3\n",
    "        return {\n",
    "            'x': x_pred,\n",
    "            'vae_mu': mu,\n",
    "            'vae_logvar': logvar,\n",
    "            'recon_x1': recon_x1,\n",
    "            'recon_x2': recon_x2,\n",
    "            'recon_x3': recon_x3,\n",
    "            'cmi_loss': cmi_loss,  # InfoNCE 损失\n",
    "            'ib_x_1': ib_x_1,\n",
    "            'ib_x_2': ib_x_2,\n",
    "            'ib_x_3': ib_x_3,\n",
    "            'kl':kl\n",
    "        }\n",
    "\n",
    "\n",
    "\n",
    "\n",
    "\n",
    "\n",
    "\n",
    "\n",
    "\n",
    "\n",
    "# Training function in PyTorch\n",
    "from tqdm import tqdm  # 引入 tqdm\n",
    "\n",
    "b=0.0001\n",
    "# 定义训练函数\n",
    "# 定义训练函数\n",
    "from tqdm import tqdm  # 引入 tqdm\n",
    "\n",
    "# 定义训练函数\n",
    "def train_model(X_train, y_train, X_test, y_test, num_fgs, weighted=False, batch_size=41, epochs=41, \n",
    "                annealing_epochs=10, max_lambda_kl=1.0, lambda_cmi=0.5, lambda_recon=0.1):\n",
    "    device = torch.device('cuda:2' if torch.cuda.is_available() else 'cpu')\n",
    "    model = CNNModelWithVAE(num_fgs).to(device)\n",
    "    \n",
    "    # Define optimizer and loss\n",
    "    optimizer = optim.Adam(model.parameters(), lr=1e-3)\n",
    "    \n",
    "    if weighted:\n",
    "        class_weights = calculate_class_weights(y_train)\n",
    "        criterion = WeightedBinaryCrossEntropyLoss(class_weights).to(device)\n",
    "    else:\n",
    "        criterion = nn.BCELoss().to(device)\n",
    "\n",
    "    # Create DataLoader\n",
    "    y_train = np.array([np.array(item, dtype=np.float32) for item in y_train], dtype=np.float32)\n",
    "    y_test = np.array([np.array(item, dtype=np.float32) for item in y_test], dtype=np.float32)\n",
    "    train_data = TensorDataset(torch.tensor(X_train, dtype=torch.float32), torch.tensor(y_train, dtype=torch.float32))\n",
    "    test_data = TensorDataset(torch.tensor(X_test, dtype=torch.float32), torch.tensor(y_test, dtype=torch.float32))\n",
    "    train_loader = DataLoader(train_data, batch_size=batch_size, shuffle=True)\n",
    "    test_loader = DataLoader(test_data, batch_size=batch_size, shuffle=False)\n",
    "\n",
    "    # Initialize KL weight\n",
    "    best_f1 = 0\n",
    "    for epoch in range(epochs):\n",
    "        model.train()\n",
    "        running_loss = 0.0\n",
    "        recon_loss_avg = 0.0\n",
    "        recon_loss_a = 0.0\n",
    "        kl_weight = min(max_lambda_kl, (epoch + 1) / annealing_epochs)\n",
    "        with tqdm(train_loader, unit='batch', desc=f\"Epoch {epoch+1}/{epochs}\") as tepoch:\n",
    "            for batch in tepoch:\n",
    "                inputs, targets = batch\n",
    "                inputs, targets = inputs.to(device), targets.to(device)\n",
    "                optimizer.zero_grad()\n",
    "                outputs = model(inputs)\n",
    "                x_pred = outputs['x']\n",
    "                mu = outputs['vae_mu']\n",
    "                logvar = outputs['vae_logvar']\n",
    "                recon_x1 = outputs['recon_x1']\n",
    "                recon_x2 = outputs['recon_x2']\n",
    "                recon_x3 = outputs['recon_x3']\n",
    "                kl =outputs['kl']\n",
    "                cmi_loss = outputs['cmi_loss']\n",
    "\n",
    "                # 预测损失\n",
    "                pred_loss = criterion(x_pred, targets)\n",
    "                \n",
    "                # 重建损失\n",
    "                recon_loss = F.mse_loss(recon_x1, outputs['ib_x_1']) + \\\n",
    "                             F.mse_loss(recon_x2, outputs['ib_x_2']) + \\\n",
    "                             F.mse_loss(recon_x3, outputs['ib_x_3'])\n",
    "        \n",
    "                # KL散度损失\n",
    "                kl_div = -0.5 * torch.sum(1 + logvar - mu.pow(2) - logvar.exp(), dim=1).mean()\n",
    "                # 总损失：预测损失 + KL散度 + 互信息损失 + 重建损失\n",
    "                total_loss = pred_loss + kl_weight * kl_div + \\\n",
    "                             lambda_cmi * cmi_loss + lambda_recon * recon_loss+0.0001*kl\n",
    "                total_loss.backward()\n",
    "                \n",
    "                # Gradient Clipping\n",
    "                torch.nn.utils.clip_grad_norm_(model.parameters(), max_norm=1.0)\n",
    "                \n",
    "                optimizer.step()\n",
    "                \n",
    "                running_loss += total_loss.item()\n",
    "                recon_loss_avg += recon_loss.item()\n",
    "                tepoch.set_postfix(loss=running_loss / (tepoch.n + 1),\n",
    "                                  kl_weight=kl_weight)\n",
    "        \n",
    "        avg_loss = running_loss / len(train_loader)\n",
    "        recon_loss_a = recon_loss_avg / len(train_loader)\n",
    "        print(f'Epoch {epoch+1}/{epochs}, Loss: {avg_loss}, KL Weight: {kl_weight},recon_loss :{recon_loss_a}')\n",
    "        \n",
    "        # 评估F1分数\n",
    "        model.eval()\n",
    "        predictions = []\n",
    "        with torch.no_grad():\n",
    "            for batch in test_loader:\n",
    "                inputs, targets = batch\n",
    "                inputs = inputs.to(device)\n",
    "                outputs = model(inputs)\n",
    "                x_pred = outputs['x']\n",
    "                predictions.append(x_pred.cpu().numpy())\n",
    "        predictions = np.concatenate(predictions)\n",
    "        binary_predictions = (predictions > 0.5).astype(int)\n",
    "        f1 = f1_score(y_test, binary_predictions, average='micro')\n",
    "        print(f'F1 Score: {f1}')\n",
    "        \n",
    "        # 保存最佳模型\n",
    "        if f1 > best_f1:\n",
    "            best_f1 = f1\n",
    "            torch.save(model.state_dict(), out_path / \"best_model.pth\")\n",
    "            print(f'Best model saved with F1 Score: {best_f1}')\n",
    "\n",
    "    return binary_predictions\n",
    "\n",
    "\n",
    "\n",
    "\n",
    "# Custom loss function with class weights\n",
    "class WeightedBinaryCrossEntropyLoss(nn.Module):\n",
    "    def __init__(self, class_weights):\n",
    "        super(WeightedBinaryCrossEntropyLoss, self).__init__()\n",
    "        self.class_weights = class_weights\n",
    "\n",
    "    def forward(self, y_pred, y_true):\n",
    "        loss = self.class_weights[0] * (1 - y_true) * torch.log(1 - y_pred + 1e-15) + \\\n",
    "               self.class_weights[1] * y_true * torch.log(y_pred + 1e-15)\n",
    "        return -loss.mean()\n",
    "\n",
    "# Calculate class weights\n",
    "def calculate_class_weights(y_true):\n",
    "    num_samples = y_true.shape[0]\n",
    "    class_weights = np.zeros((2, y_true.shape[1]))\n",
    "    for i in range(y_true.shape[1]):\n",
    "        weights_n = num_samples / (2 * (y_true[:, i] == 0).sum())\n",
    "        weights_p = num_samples / (2 * (y_true[:, i] == 1).sum())\n",
    "        class_weights[0, i] = weights_n\n",
    "        class_weights[1, i] = weights_p\n",
    "    return torch.tensor(class_weights.T, dtype=torch.float32)\n",
    "\n",
    "# Loading data (no change)\n",
    "analytical_data = Path(\"/data/zjh2/multimodal-spectroscopic-dataset-main/data/multimodal_spectroscopic_dataset\")\n",
    "out_path = Path(\"/home/dwj/icml_guangpu/multimodal-spectroscopic-dataset-main/runs/runs_f_groups/all\")\n",
    "columns = [\"h_nmr_spectra\", \"c_nmr_spectra\", \"ir_spectra\"]\n",
    "seed = 3245\n",
    "\n",
    "# 准备存储合并后的数据\n",
    "all_data = []\n",
    "i=0\n",
    "# 一次性读取文件并处理所有列\n",
    "for parquet_file in analytical_data.glob(\"*.parquet\"):\n",
    "    i+=1\n",
    "    # 读取所有需要的列\n",
    "    data = pd.read_parquet(parquet_file, columns=columns + ['smiles'])\n",
    "    \n",
    "    # 对每个列进行插值\n",
    "    for column in columns:\n",
    "        data[column] = data[column].map(interpolate_to_600)\n",
    "    \n",
    "    # 添加功能团信息\n",
    "    data['func_group'] = data.smiles.map(get_functional_groups)\n",
    "    all_data.append(data)\n",
    "    print(f\"Loaded Data from: \", i)\n",
    "    if i==3:\n",
    "        break\n",
    "# 合并所有数据\n",
    "training_data = pd.concat(all_data, ignore_index=True)\n",
    "\n",
    "\n",
    "# 将数据划分为训练集和测试集\n",
    "train, test = train_test_split(training_data, test_size=0.1, random_state=seed)\n",
    "\n",
    "# 定义特征列\n",
    "columns = [\"h_nmr_spectra\", \"c_nmr_spectra\", \"ir_spectra\"]\n",
    "\n",
    "# 提取训练集特征和标签\n",
    "X_train = np.array(train[columns].values.tolist())  # 确保特征值是一个二维数组\n",
    "y_train = np.array(train['func_group'].values)      # 标签转换为一维数组\n",
    "\n",
    "# 提取测试集特征和标签\n",
    "X_test = np.array(test[columns].values.tolist())    # 同样确保二维数组\n",
    "y_test = np.array(test['func_group'].values)        # 标签一维数组\n",
    "\n",
    "# 检查数组形状以验证正确性\n",
    "print(\"X_train shape:\", X_train.shape)\n",
    "print(\"y_train shape:\", y_train.shape)\n",
    "print(\"X_test shape:\", X_test.shape)\n",
    "print(\"y_test shape:\", y_test.shape)\n",
    "# Train extended model\n",
    "predictions = train_model(X_train, y_train, X_test, y_test,num_fgs=37, weighted=False, batch_size=41, epochs=200, \n",
    "                annealing_epochs=10, max_lambda_kl=1.0, lambda_cmi=0.1, lambda_recon=0.1)\n",
    "\n",
    "# Evaluate the model\n",
    "y_test = np.array([np.array(item, dtype=np.float32) for item in y_test], dtype=np.float32)\n",
    "f1 = f1_score(y_test, predictions, average='micro')\n",
    "print(f'F1 Score: {f1}')\n",
    "\n",
    "# Save results\n",
    "with open(out_path / \"results.pickle\", \"wb\") as file:\n",
    "    pickle.dump({'pred': predictions, 'tgt': y_test}, file)"
   ]
  }
 ],
 "metadata": {
  "kernelspec": {
   "display_name": "zs",
   "language": "python",
   "name": "python3"
  },
  "language_info": {
   "codemirror_mode": {
    "name": "ipython",
    "version": 3
   },
   "file_extension": ".py",
   "mimetype": "text/x-python",
   "name": "python",
   "nbconvert_exporter": "python",
   "pygments_lexer": "ipython3",
   "version": "3.9.16"
  }
 },
 "nbformat": 4,
 "nbformat_minor": 2
}
