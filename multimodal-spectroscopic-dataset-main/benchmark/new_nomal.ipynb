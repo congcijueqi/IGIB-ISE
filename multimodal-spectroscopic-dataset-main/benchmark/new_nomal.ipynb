{
 "cells": [
  {
   "cell_type": "code",
   "execution_count": 1,
   "metadata": {},
   "outputs": [],
   "source": [
    "import torch\n",
    "import torch.nn as nn\n",
    "import torch.optim as optim\n",
    "import torch.nn.functional as F\n",
    "import numpy as np\n",
    "import pandas as pd\n",
    "import pickle\n",
    "from sklearn.metrics import f1_score\n",
    "from sklearn.model_selection import train_test_split\n",
    "from pathlib import Path\n",
    "from rdkit import Chem\n",
    "from rdkit import RDLogger\n",
    "from scipy.interpolate import interp1d\n",
    "from torch.utils.data import DataLoader, TensorDataset\n",
    "\n",
    "# Disable RDLogger warnings\n",
    "RDLogger.DisableLog('rdApp.*')\n",
    "import os\n",
    "\n",
    "os.environ['TF_ENABLE_ONEDNN_OPTS'] = '0'\n",
    "functional_groups = {\n",
    "    'Acid anhydride': Chem.MolFromSmarts('[CX3](=[OX1])[OX2][CX3](=[OX1])'),\n",
    "    'Acyl halide': Chem.MolFromSmarts('[CX3](=[OX1])[F,Cl,Br,I]'),\n",
    "    'Alcohol': Chem.MolFromSmarts('[#6][OX2H]'),\n",
    "    'Aldehyde': Chem.MolFromSmarts('[CX3H1](=O)[#6,H]'),\n",
    "    'Alkane': Chem.MolFromSmarts('[CX4;H3,H2]'),\n",
    "    'Alkene': Chem.MolFromSmarts('[CX3]=[CX3]'),\n",
    "    'Alkyne': Chem.MolFromSmarts('[CX2]#[CX2]'),\n",
    "    'Amide': Chem.MolFromSmarts('[NX3][CX3](=[OX1])[#6]'),\n",
    "    'Amine': Chem.MolFromSmarts('[NX3;H2,H1,H0;!$(NC=O)]'),\n",
    "    'Arene': Chem.MolFromSmarts('[cX3]1[cX3][cX3][cX3][cX3][cX3]1'),\n",
    "    'Azo compound': Chem.MolFromSmarts('[#6][NX2]=[NX2][#6]'),\n",
    "    'Carbamate': Chem.MolFromSmarts('[NX3][CX3](=[OX1])[OX2H0]'),\n",
    "    'Carboxylic acid': Chem.MolFromSmarts('[CX3](=O)[OX2H]'),\n",
    "    'Enamine': Chem.MolFromSmarts('[NX3][CX3]=[CX3]'),\n",
    "    'Enol': Chem.MolFromSmarts('[OX2H][#6X3]=[#6]'),\n",
    "    'Ester': Chem.MolFromSmarts('[#6][CX3](=O)[OX2H0][#6]'),\n",
    "    'Ether': Chem.MolFromSmarts('[OD2]([#6])[#6]'),\n",
    "    'Haloalkane': Chem.MolFromSmarts('[#6][F,Cl,Br,I]'),\n",
    "    'Hydrazine': Chem.MolFromSmarts('[NX3][NX3]'),\n",
    "    'Hydrazone': Chem.MolFromSmarts('[NX3][NX2]=[#6]'),\n",
    "    'Imide': Chem.MolFromSmarts('[CX3](=[OX1])[NX3][CX3](=[OX1])'),\n",
    "    'Imine': Chem.MolFromSmarts('[$([CX3]([#6])[#6]),$([CX3H][#6])]=[$([NX2][#6]),$([NX2H])]'),\n",
    "    'Isocyanate': Chem.MolFromSmarts('[NX2]=[C]=[O]'),\n",
    "    'Isothiocyanate': Chem.MolFromSmarts('[NX2]=[C]=[S]'),\n",
    "    'Ketone': Chem.MolFromSmarts('[#6][CX3](=O)[#6]'),\n",
    "    'Nitrile': Chem.MolFromSmarts('[NX1]#[CX2]'),\n",
    "    'Phenol': Chem.MolFromSmarts('[OX2H][cX3]:[c]'),\n",
    "    'Phosphine': Chem.MolFromSmarts('[PX3]'),\n",
    "    'Sulfide': Chem.MolFromSmarts('[#16X2H0]'),\n",
    "    'Sulfonamide': Chem.MolFromSmarts('[#16X4]([NX3])(=[OX1])(=[OX1])[#6]'),\n",
    "    'Sulfonate': Chem.MolFromSmarts('[#16X4](=[OX1])(=[OX1])([#6])[OX2H0]'),\n",
    "    'Sulfone': Chem.MolFromSmarts('[#16X4](=[OX1])(=[OX1])([#6])[#6]'),\n",
    "    'Sulfonic acid': Chem.MolFromSmarts('[#16X4](=[OX1])(=[OX1])([#6])[OX2H]'),\n",
    "    'Sulfoxide': Chem.MolFromSmarts('[#16X3]=[OX1]'),\n",
    "    'Thial': Chem.MolFromSmarts('[CX3H1](=S)[#6,H]'),\n",
    "    'Thioamide': Chem.MolFromSmarts('[NX3][CX3]=[SX1]'),\n",
    "    'Thiol': Chem.MolFromSmarts('[#16X2H]')\n",
    "}\n",
    "def match_group(mol: Chem.Mol, func_group) -> int:\n",
    "    if type(func_group) == Chem.Mol:\n",
    "        n = len(mol.GetSubstructMatches(func_group))\n",
    "    else:\n",
    "        n = func_group(mol)\n",
    "    return 0 if n == 0 else 1\n",
    "# Function to map SMILES to functional groups (no change)\n",
    "def get_functional_groups(smiles: str) -> dict:\n",
    "    smiles = smiles.strip().replace(' ', '')\n",
    "    mol = Chem.MolFromSmiles(smiles)\n",
    "    if mol is None: \n",
    "        return None\n",
    "    func_groups = [match_group(mol, smarts) for smarts in functional_groups.values()]\n",
    "    return func_groups\n",
    "\n",
    "def interpolate_to_600(spec):\n",
    "    old_x = np.arange(len(spec))\n",
    "    new_x = np.linspace(min(old_x), max(old_x), 600)\n",
    "    interp = interp1d(old_x, spec)\n",
    "    return interp(new_x)\n",
    "\n",
    "def make_msms_spectrum(spectrum):\n",
    "    msms_spectrum = np.zeros(10000)\n",
    "    for peak in spectrum:\n",
    "        peak_pos = int(peak[0]*10)\n",
    "        peak_pos = min(peak_pos, 9999)\n",
    "        msms_spectrum[peak_pos] = peak[1]\n",
    "    return msms_spectrum\n",
    "\n",
    "# Define CNN Model in PyTorch\n",
    "import torch\n",
    "import torch.nn as nn\n",
    "import torch.nn.functional as F\n",
    "\n",
    "class IndependentCNN(nn.Module):\n",
    "    def __init__(self, num_fgs):\n",
    "        super(IndependentCNN, self).__init__()\n",
    "        self.conv1 = nn.Conv1d(in_channels=1, out_channels=31, kernel_size=11, padding='same')\n",
    "        self.conv2 = nn.Conv1d(in_channels=31, out_channels=62, kernel_size=11, padding='same')\n",
    "\n",
    "        self.batch_norm1 = nn.BatchNorm1d(31)\n",
    "        self.batch_norm2 = nn.BatchNorm1d(62)\n",
    "\n",
    "        # MLP for selecting important channels (62 channels)\n",
    "        self.mlp = nn.Sequential(\n",
    "            nn.Linear(150, 128),  # Input 150 features per channel\n",
    "            nn.ReLU(),\n",
    "            nn.Linear(128, 1)     # Output importance score for each channel\n",
    "        )\n",
    "\n",
    "    def forward(self, x):\n",
    "        x = F.relu(self.batch_norm1(self.conv1(x)))\n",
    "        x = F.max_pool1d(x, 2)\n",
    "        x = F.relu(self.batch_norm2(self.conv2(x)))\n",
    "        x = F.max_pool1d(x, 2)\n",
    "\n",
    "        # 通道重要性计算\n",
    "        static_feature_map = x.clone().detach()\n",
    "        channel_means = x.mean(dim=1)\n",
    "        channel_std = x.std(dim=1)\n",
    "\n",
    "        channel_importance = torch.sigmoid(self.mlp(x))\n",
    "        ib_x_mean = x * channel_importance + (1 - channel_importance) * channel_means.unsqueeze(1)\n",
    "        ib_x_std = (1 - channel_importance) * channel_std.unsqueeze(1)\n",
    "        ib_x = ib_x_mean + torch.rand_like(ib_x_mean) * ib_x_std\n",
    "\n",
    "        # KL Divergence loss\n",
    "        epsilon = 1e-8\n",
    "        KL_tensor = 0.5 * (\n",
    "            (ib_x_std**2) / (channel_std.unsqueeze(1) + epsilon)**2 +\n",
    "            (channel_std.unsqueeze(1)**2) / (ib_x_std + epsilon)**2 - 1\n",
    "        ) + ((ib_x_mean - channel_means.unsqueeze(1))**2) / (channel_std.unsqueeze(1) + epsilon)**2\n",
    "\n",
    "        KL_Loss = torch.mean(KL_tensor)\n",
    "\n",
    "        # Flatten and pass through fully connected layers\n",
    "\n",
    "        return ib_x, KL_Loss\n",
    "\n",
    "class SelfAttentionLayer(nn.Module):\n",
    "    def __init__(self, input_dim):\n",
    "        super(SelfAttentionLayer, self).__init__()\n",
    "        self.query = nn.Linear(input_dim, input_dim)\n",
    "        self.key = nn.Linear(input_dim, input_dim)\n",
    "        self.value = nn.Linear(input_dim, input_dim)\n",
    "        self.softmax = nn.Softmax(dim=-1)\n",
    "\n",
    "    def forward(self, x):\n",
    "        # x: [batch_size, seq_len, input_dim]\n",
    "        q = self.query(x)  # [batch_size, seq_len, input_dim]\n",
    "        k = self.key(x)    # [batch_size, seq_len, input_dim]\n",
    "        v = self.value(x)  # [batch_size, seq_len, input_dim]\n",
    "        # 计算注意力分数\n",
    "        attention_scores = torch.bmm(q, k.transpose(1, 2))  # [batch_size, seq_len, seq_len]\n",
    "        attention_probs = self.softmax(attention_scores)   # [batch_size, seq_len, seq_len]\n",
    "        # 加权求和\n",
    "        output = torch.bmm(attention_probs, v)  # [batch_size, seq_len, input_dim]\n",
    "        return output\n",
    "\n",
    "\n",
    "class CNNModel(nn.Module): \n",
    "    def __init__(self, num_fgs):\n",
    "        super(CNNModel, self).__init__()\n",
    "        # 创建三个独立的CNN模块\n",
    "        self.cnn1 = IndependentCNN(num_fgs)\n",
    "        self.cnn2 = IndependentCNN(num_fgs)\n",
    "        self.cnn3 = IndependentCNN(num_fgs)\n",
    "\n",
    "        # 自注意力层，用于信息交互\n",
    "        self.attention = SelfAttentionLayer(input_dim=150)\n",
    "\n",
    "        # 全连接层\n",
    "        self.fc1 = nn.Linear(62 * 150*3, 4927)\n",
    "        self.fc2 = nn.Linear(4927, 2785)\n",
    "        self.fc3 = nn.Linear(2785, 1574)\n",
    "        self.fc4 = nn.Linear(1574, num_fgs)\n",
    "        self.dropout = nn.Dropout(0.48599073736368)\n",
    "\n",
    "    def forward(self, x):\n",
    "        # 拆分输入为三个通道\n",
    "        x1, x2, x3 = x[:, 0:1, :], x[:, 1:2, :], x[:, 2:3, :]\n",
    "\n",
    "        # 分别通过三个独立的CNN\n",
    "        ib_x_1, kl1 = self.cnn1(x1)\n",
    "        ib_x_2, kl2 = self.cnn2(x2)\n",
    "        ib_x_3, kl3 = self.cnn3(x3)\n",
    "\n",
    "        # 整合三个通道的输出\n",
    "        # 将三个通道堆叠后通过自注意力机制增强交互\n",
    "        print(ib_x_1.size())\n",
    "        ib_x_stacked = torch.concat([ib_x_1, ib_x_2, ib_x_3], dim=1)  # [batch_size, 3, seq_len, hidden_dim]\n",
    "        ib_x_interacted = self.attention(ib_x_stacked)  # [batch_size, seq_len, hidden_dim]\n",
    "\n",
    "        # 继续进行预测\n",
    "        x = ib_x_interacted.view(ib_x_interacted.size(0), -1)\n",
    "        x = F.relu(self.fc1(x))\n",
    "        x = self.dropout(x)\n",
    "        x = F.relu(self.fc2(x))\n",
    "        x = self.dropout(x)\n",
    "        x = F.relu(self.fc3(x))\n",
    "        x = self.dropout(x)\n",
    "        x = torch.sigmoid(self.fc4(x))\n",
    "\n",
    "        # KL损失取平均值\n",
    "        kl_loss = (kl1 + kl2 + kl3) / 3\n",
    "        return x, kl_loss\n",
    "\n",
    "\n",
    "\n"
   ]
  },
  {
   "cell_type": "code",
   "execution_count": 2,
   "metadata": {},
   "outputs": [],
   "source": [
    "# Training function in PyTorch\n",
    "from tqdm import tqdm  # 引入 tqdm\n",
    "\n",
    "b=0.0001\n",
    "def train_model(X_train, y_train, X_test,y_test, num_fgs, weighted=False, batch_size=41, epochs=41):\n",
    "    device = torch.device('cuda:2' if torch.cuda.is_available() else 'cpu')\n",
    "    model = CNNModel(num_fgs).to(device)\n",
    "    \n",
    "    # Define optimizer and loss\n",
    "    optimizer = optim.Adam(model.parameters())\n",
    "    \n",
    "    if weighted:\n",
    "        class_weights = calculate_class_weights(y_train)\n",
    "        criterion = WeightedBinaryCrossEntropyLoss(class_weights).to(device)\n",
    "    else:\n",
    "        criterion = nn.BCELoss().to(device)\n",
    "\n",
    "    # Create DataLoader\n",
    "    y_train = np.array([np.array(item, dtype=np.float32) for item in y_train], dtype=np.float32)\n",
    "    y_test = np.array([np.array(item, dtype=np.float32) for item in y_test], dtype=np.float32)\n",
    "    train_data = TensorDataset(torch.tensor(X_train, dtype=torch.float32), torch.tensor(y_train, dtype=torch.float32))\n",
    "    test_data = TensorDataset(torch.tensor(X_test, dtype=torch.float32), torch.tensor(y_test, dtype=torch.float32))\n",
    "    train_loader = DataLoader(train_data, batch_size=batch_size, shuffle=True)\n",
    "    test_loader = DataLoader(test_data, batch_size=batch_size, shuffle=False)\n",
    "\n",
    "    # Train the model\n",
    "    for epoch in range(epochs):\n",
    "        model.train()\n",
    "        running_loss = 0.0\n",
    "        \n",
    "        # Create tqdm progress bar for each epoch\n",
    "        with tqdm(train_loader, unit='batch', desc=f\"Epoch {epoch+1}/{epochs}\") as tepoch:\n",
    "            for inputs, targets in tepoch:\n",
    "                inputs, targets = inputs.to(device), targets.to(device)\n",
    "                \n",
    "                optimizer.zero_grad()\n",
    "                outputs,loss1 = model(inputs)  # Add channel dimension\n",
    "                loss2 = criterion(outputs, targets)\n",
    "                loss = loss2+loss1*b\n",
    "                loss.backward()\n",
    "                optimizer.step()\n",
    "                \n",
    "                running_loss += loss.item()\n",
    "\n",
    "                # Update the progress bar with loss information\n",
    "                tepoch.set_postfix(loss=running_loss / (tepoch.n + 1))\n",
    "        \n",
    "        # After every epoch, print the average loss\n",
    "        print(f'Epoch {epoch+1}/{epochs}, Loss: {running_loss / len(train_loader)}')\n",
    "\n",
    "    # Evaluate the model\n",
    "    model.eval()\n",
    "    predictions = []\n",
    "    with torch.no_grad():\n",
    "        for inputs, targets in test_loader:\n",
    "            inputs = inputs.to(device)\n",
    "            outputs,loss2 = model(inputs)\n",
    "            predictions.append(outputs.cpu().numpy())\n",
    "\n",
    "    predictions = np.concatenate(predictions)\n",
    "    return (predictions > 0.5).astype(int)\n",
    "\n",
    "\n",
    "# Custom loss function with class weights\n",
    "class WeightedBinaryCrossEntropyLoss(nn.Module):\n",
    "    def __init__(self, class_weights):\n",
    "        super(WeightedBinaryCrossEntropyLoss, self).__init__()\n",
    "        self.class_weights = class_weights\n",
    "\n",
    "    def forward(self, y_pred, y_true):\n",
    "        loss = self.class_weights[0] * (1 - y_true) * torch.log(1 - y_pred + 1e-15) + \\\n",
    "               self.class_weights[1] * y_true * torch.log(y_pred + 1e-15)\n",
    "        return -loss.mean()\n",
    "\n",
    "# Calculate class weights\n",
    "def calculate_class_weights(y_true):\n",
    "    num_samples = y_true.shape[0]\n",
    "    class_weights = np.zeros((2, y_true.shape[1]))\n",
    "    for i in range(y_true.shape[1]):\n",
    "        weights_n = num_samples / (2 * (y_true[:, i] == 0).sum())\n",
    "        weights_p = num_samples / (2 * (y_true[:, i] == 1).sum())\n",
    "        class_weights[0, i] = weights_n\n",
    "        class_weights[1, i] = weights_p\n",
    "    return torch.tensor(class_weights.T, dtype=torch.float32)\n",
    "\n"
   ]
  },
  {
   "cell_type": "code",
   "execution_count": 3,
   "metadata": {},
   "outputs": [
    {
     "name": "stdout",
     "output_type": "stream",
     "text": [
      "Loaded Data from:  1\n",
      "Loaded Data from:  2\n"
     ]
    }
   ],
   "source": [
    "# Loading data (no change)\n",
    "analytical_data = Path(\"/data/zjh2/multimodal-spectroscopic-dataset-main/data/multimodal_spectroscopic_dataset\")\n",
    "out_path = Path(\"/home/dwj/icml_guangpu/multimodal-spectroscopic-dataset-main/runs/runs_f_groups/all\")\n",
    "columns = [\"h_nmr_spectra\", \"c_nmr_spectra\", \"ir_spectra\"]\n",
    "seed = 3245\n",
    "\n",
    "# 准备存储合并后的数据\n",
    "all_data = []\n",
    "i=0\n",
    "# 一次性读取文件并处理所有列\n",
    "for parquet_file in analytical_data.glob(\"*.parquet\"):\n",
    "    i+=1\n",
    "    # 读取所有需要的列\n",
    "    data = pd.read_parquet(parquet_file, columns=columns + ['smiles'])\n",
    "    \n",
    "    # 对每个列进行插值\n",
    "    for column in columns:\n",
    "        data[column] = data[column].map(interpolate_to_600)\n",
    "    \n",
    "    # 添加功能团信息\n",
    "    data['func_group'] = data.smiles.map(get_functional_groups)\n",
    "    all_data.append(data)\n",
    "    if i==3:\n",
    "        break\n",
    "    print(f\"Loaded Data from: \", i)\n",
    "    \n",
    "# 合并所有数据\n",
    "training_data = pd.concat(all_data, ignore_index=True)\n",
    "\n"
   ]
  },
  {
   "cell_type": "code",
   "execution_count": 4,
   "metadata": {},
   "outputs": [
    {
     "name": "stdout",
     "output_type": "stream",
     "text": [
      "X_train shape: (8740, 3, 600)\n",
      "y_train shape: (8740,)\n",
      "X_test shape: (972, 3, 600)\n",
      "y_test shape: (972,)\n"
     ]
    }
   ],
   "source": [
    "\n",
    "# 将数据划分为训练集和测试集\n",
    "train, test = train_test_split(training_data, test_size=0.1, random_state=seed)\n",
    "\n",
    "# 定义特征列\n",
    "columns = [\"h_nmr_spectra\", \"c_nmr_spectra\", \"ir_spectra\"]\n",
    "\n",
    "# 提取训练集特征和标签\n",
    "X_train = np.array(train[columns].values.tolist())  # 确保特征值是一个二维数组\n",
    "y_train = np.array(train['func_group'].values)      # 标签转换为一维数组\n",
    "\n",
    "# 提取测试集特征和标签\n",
    "X_test = np.array(test[columns].values.tolist())    # 同样确保二维数组\n",
    "y_test = np.array(test['func_group'].values)        # 标签一维数组\n",
    "\n",
    "# 检查数组形状以验证正确性\n",
    "print(\"X_train shape:\", X_train.shape)\n",
    "print(\"y_train shape:\", y_train.shape)\n",
    "print(\"X_test shape:\", X_test.shape)\n",
    "print(\"y_test shape:\", y_test.shape)\n"
   ]
  },
  {
   "cell_type": "code",
   "execution_count": null,
   "metadata": {},
   "outputs": [
    {
     "name": "stdout",
     "output_type": "stream",
     "text": [
      "[0, 0, 1, 0, 1, 0, 0, 0, 0, 1, 0, 0, 1, 0, 0, 0, 1, 1, 0, 0, 0, 0, 0, 0, 0, 1, 0, 0, 0, 0, 0, 0, 0, 0, 0, 0, 0]\n"
     ]
    },
    {
     "name": "stderr",
     "output_type": "stream",
     "text": [
      "Epoch 1/41:   0%|          | 1/214 [00:02<08:24,  2.37s/batch, loss=0.695]"
     ]
    },
    {
     "name": "stdout",
     "output_type": "stream",
     "text": [
      "torch.Size([41, 62, 150])\n"
     ]
    },
    {
     "name": "stderr",
     "output_type": "stream",
     "text": [
      "Epoch 1/41:   2%|▏         | 5/214 [00:02<01:18,  2.65batch/s, loss=0.587]"
     ]
    },
    {
     "name": "stdout",
     "output_type": "stream",
     "text": [
      "torch.Size([41, 62, 150])\n",
      "torch.Size([41, 62, 150])\n",
      "torch.Size([41, 62, 150])\n",
      "torch.Size([41, 62, 150])\n",
      "torch.Size([41, 62, 150])\n",
      "torch.Size([41, 62, 150])\n",
      "torch.Size([41, 62, 150])\n",
      "torch.Size([41, 62, 150])\n"
     ]
    },
    {
     "name": "stderr",
     "output_type": "stream",
     "text": [
      "Epoch 1/41:   7%|▋         | 14/214 [00:02<00:21,  9.48batch/s, loss=0.374]"
     ]
    },
    {
     "name": "stdout",
     "output_type": "stream",
     "text": [
      "torch.Size([41, 62, 150])\n",
      "torch.Size([41, 62, 150])\n",
      "torch.Size([41, 62, 150])\n",
      "torch.Size([41, 62, 150])\n",
      "torch.Size([41, 62, 150])\n",
      "torch.Size([41, 62, 150])\n",
      "torch.Size([41, 62, 150])\n",
      "torch.Size([41, 62, 150])\n",
      "torch.Size([41, 62, 150])\n"
     ]
    },
    {
     "name": "stderr",
     "output_type": "stream",
     "text": [
      "Epoch 1/41:  11%|█         | 24/214 [00:02<00:10, 18.58batch/s, loss=0.303]"
     ]
    },
    {
     "name": "stdout",
     "output_type": "stream",
     "text": [
      "torch.Size([41, 62, 150])\n",
      "torch.Size([41, 62, 150])\n",
      "torch.Size([41, 62, 150])\n",
      "torch.Size([41, 62, 150])\n",
      "torch.Size([41, 62, 150])\n",
      "torch.Size([41, 62, 150])\n",
      "torch.Size([41, 62, 150])\n",
      "torch.Size([41, 62, 150])\n",
      "torch.Size([41, 62, 150])\n"
     ]
    },
    {
     "name": "stderr",
     "output_type": "stream",
     "text": [
      "Epoch 1/41:  16%|█▌        | 34/214 [00:03<00:06, 27.14batch/s, loss=0.273]"
     ]
    },
    {
     "name": "stdout",
     "output_type": "stream",
     "text": [
      "torch.Size([41, 62, 150])\n",
      "torch.Size([41, 62, 150])\n",
      "torch.Size([41, 62, 150])\n",
      "torch.Size([41, 62, 150])\n",
      "torch.Size([41, 62, 150])\n",
      "torch.Size([41, 62, 150])\n",
      "torch.Size([41, 62, 150])\n",
      "torch.Size([41, 62, 150])\n",
      "torch.Size([41, 62, 150])\n"
     ]
    },
    {
     "name": "stderr",
     "output_type": "stream",
     "text": [
      "Epoch 1/41:  21%|██        | 44/214 [00:03<00:05, 33.08batch/s, loss=0.287]"
     ]
    },
    {
     "name": "stdout",
     "output_type": "stream",
     "text": [
      "torch.Size([41, 62, 150])\n",
      "torch.Size([41, 62, 150])\n",
      "torch.Size([41, 62, 150])\n",
      "torch.Size([41, 62, 150])\n",
      "torch.Size([41, 62, 150])\n",
      "torch.Size([41, 62, 150])\n",
      "torch.Size([41, 62, 150])\n",
      "torch.Size([41, 62, 150])\n",
      "torch.Size([41, 62, 150])\n"
     ]
    },
    {
     "name": "stderr",
     "output_type": "stream",
     "text": [
      "Epoch 1/41:  23%|██▎       | 49/214 [00:03<00:04, 35.29batch/s, loss=0.268]"
     ]
    },
    {
     "name": "stdout",
     "output_type": "stream",
     "text": [
      "torch.Size([41, 62, 150])\n",
      "torch.Size([41, 62, 150])\n",
      "torch.Size([41, 62, 150])\n",
      "torch.Size([41, 62, 150])\n",
      "torch.Size([41, 62, 150])\n",
      "torch.Size([41, 62, 150])\n",
      "torch.Size([41, 62, 150])\n",
      "torch.Size([41, 62, 150])\n",
      "torch.Size([41, 62, 150])\n"
     ]
    },
    {
     "name": "stderr",
     "output_type": "stream",
     "text": [
      "Epoch 1/41:  28%|██▊       | 59/214 [00:03<00:03, 38.75batch/s, loss=0.257]"
     ]
    },
    {
     "name": "stdout",
     "output_type": "stream",
     "text": [
      "torch.Size([41, 62, 150])\n",
      "torch.Size([41, 62, 150])\n",
      "torch.Size([41, 62, 150])\n",
      "torch.Size([41, 62, 150])\n",
      "torch.Size([41, 62, 150])\n",
      "torch.Size([41, 62, 150])\n",
      "torch.Size([41, 62, 150])\n",
      "torch.Size([41, 62, 150])\n",
      "torch.Size([41, 62, 150])\n"
     ]
    },
    {
     "name": "stderr",
     "output_type": "stream",
     "text": [
      "Epoch 1/41:  32%|███▏      | 69/214 [00:04<00:03, 39.43batch/s, loss=0.248]"
     ]
    },
    {
     "name": "stdout",
     "output_type": "stream",
     "text": [
      "torch.Size([41, 62, 150])\n",
      "torch.Size([41, 62, 150])\n",
      "torch.Size([41, 62, 150])\n",
      "torch.Size([41, 62, 150])\n",
      "torch.Size([41, 62, 150])\n",
      "torch.Size([41, 62, 150])\n",
      "torch.Size([41, 62, 150])\n",
      "torch.Size([41, 62, 150])\n"
     ]
    },
    {
     "name": "stderr",
     "output_type": "stream",
     "text": [
      "Epoch 1/41:  37%|███▋      | 79/214 [00:04<00:03, 40.85batch/s, loss=0.254]"
     ]
    },
    {
     "name": "stdout",
     "output_type": "stream",
     "text": [
      "torch.Size([41, 62, 150])\n",
      "torch.Size([41, 62, 150])\n",
      "torch.Size([41, 62, 150])\n",
      "torch.Size([41, 62, 150])\n",
      "torch.Size([41, 62, 150])\n",
      "torch.Size([41, 62, 150])\n",
      "torch.Size([41, 62, 150])\n",
      "torch.Size([41, 62, 150])\n",
      "torch.Size([41, 62, 150])\n"
     ]
    },
    {
     "name": "stderr",
     "output_type": "stream",
     "text": [
      "Epoch 1/41:  42%|████▏     | 89/214 [00:04<00:02, 43.00batch/s, loss=0.25] "
     ]
    },
    {
     "name": "stdout",
     "output_type": "stream",
     "text": [
      "torch.Size([41, 62, 150])\n",
      "torch.Size([41, 62, 150])\n",
      "torch.Size([41, 62, 150])\n",
      "torch.Size([41, 62, 150])\n",
      "torch.Size([41, 62, 150])\n",
      "torch.Size([41, 62, 150])\n",
      "torch.Size([41, 62, 150])\n",
      "torch.Size([41, 62, 150])\n",
      "torch.Size([41, 62, 150])\n",
      "torch.Size([41, 62, 150])\n"
     ]
    },
    {
     "name": "stderr",
     "output_type": "stream",
     "text": [
      "Epoch 1/41:  44%|████▍     | 94/214 [00:04<00:02, 43.31batch/s, loss=0.244]"
     ]
    },
    {
     "name": "stdout",
     "output_type": "stream",
     "text": [
      "torch.Size([41, 62, 150])\n",
      "torch.Size([41, 62, 150])\n",
      "torch.Size([41, 62, 150])\n",
      "torch.Size([41, 62, 150])\n",
      "torch.Size([41, 62, 150])\n",
      "torch.Size([41, 62, 150])\n",
      "torch.Size([41, 62, 150])\n",
      "torch.Size([41, 62, 150])\n",
      "torch.Size([41, 62, 150])\n"
     ]
    },
    {
     "name": "stderr",
     "output_type": "stream",
     "text": [
      "Epoch 1/41:  49%|████▊     | 104/214 [00:04<00:02, 42.57batch/s, loss=0.241]"
     ]
    },
    {
     "name": "stdout",
     "output_type": "stream",
     "text": [
      "torch.Size([41, 62, 150])\n",
      "torch.Size([41, 62, 150])\n",
      "torch.Size([41, 62, 150])\n",
      "torch.Size([41, 62, 150])\n",
      "torch.Size([41, 62, 150])\n",
      "torch.Size([41, 62, 150])\n",
      "torch.Size([41, 62, 150])\n",
      "torch.Size([41, 62, 150])\n",
      "torch.Size([41, 62, 150])\n"
     ]
    },
    {
     "name": "stderr",
     "output_type": "stream",
     "text": [
      "Epoch 1/41:  53%|█████▎    | 114/214 [00:05<00:02, 44.13batch/s, loss=0.235]"
     ]
    },
    {
     "name": "stdout",
     "output_type": "stream",
     "text": [
      "torch.Size([41, 62, 150])\n",
      "torch.Size([41, 62, 150])\n",
      "torch.Size([41, 62, 150])\n",
      "torch.Size([41, 62, 150])\n",
      "torch.Size([41, 62, 150])\n",
      "torch.Size([41, 62, 150])\n",
      "torch.Size([41, 62, 150])\n",
      "torch.Size([41, 62, 150])\n",
      "torch.Size([41, 62, 150])\n"
     ]
    },
    {
     "name": "stderr",
     "output_type": "stream",
     "text": [
      "Epoch 1/41:  58%|█████▊    | 124/214 [00:05<00:02, 42.34batch/s, loss=0.232]"
     ]
    },
    {
     "name": "stdout",
     "output_type": "stream",
     "text": [
      "torch.Size([41, 62, 150])\n",
      "torch.Size([41, 62, 150])\n",
      "torch.Size([41, 62, 150])\n",
      "torch.Size([41, 62, 150])\n",
      "torch.Size([41, 62, 150])\n",
      "torch.Size([41, 62, 150])\n",
      "torch.Size([41, 62, 150])\n",
      "torch.Size([41, 62, 150])\n",
      "torch.Size([41, 62, 150])\n"
     ]
    },
    {
     "name": "stderr",
     "output_type": "stream",
     "text": [
      "Epoch 1/41:  63%|██████▎   | 134/214 [00:05<00:01, 43.44batch/s, loss=0.23] "
     ]
    },
    {
     "name": "stdout",
     "output_type": "stream",
     "text": [
      "torch.Size([41, 62, 150])\n",
      "torch.Size([41, 62, 150])\n",
      "torch.Size([41, 62, 150])\n",
      "torch.Size([41, 62, 150])\n",
      "torch.Size([41, 62, 150])\n",
      "torch.Size([41, 62, 150])\n",
      "torch.Size([41, 62, 150])\n",
      "torch.Size([41, 62, 150])\n",
      "torch.Size([41, 62, 150])\n"
     ]
    },
    {
     "name": "stderr",
     "output_type": "stream",
     "text": [
      "Epoch 1/41:  65%|██████▍   | 139/214 [00:05<00:01, 42.32batch/s, loss=0.234]"
     ]
    },
    {
     "name": "stdout",
     "output_type": "stream",
     "text": [
      "torch.Size([41, 62, 150])\n",
      "torch.Size([41, 62, 150])\n",
      "torch.Size([41, 62, 150])\n",
      "torch.Size([41, 62, 150])\n",
      "torch.Size([41, 62, 150])\n",
      "torch.Size([41, 62, 150])\n",
      "torch.Size([41, 62, 150])\n",
      "torch.Size([41, 62, 150])\n"
     ]
    },
    {
     "name": "stderr",
     "output_type": "stream",
     "text": [
      "Epoch 1/41:  70%|██████▉   | 149/214 [00:05<00:01, 41.95batch/s, loss=0.23] "
     ]
    },
    {
     "name": "stdout",
     "output_type": "stream",
     "text": [
      "torch.Size([41, 62, 150])\n",
      "torch.Size([41, 62, 150])\n",
      "torch.Size([41, 62, 150])\n",
      "torch.Size([41, 62, 150])\n",
      "torch.Size([41, 62, 150])\n",
      "torch.Size([41, 62, 150])\n",
      "torch.Size([41, 62, 150])\n",
      "torch.Size([41, 62, 150])\n",
      "torch.Size([41, 62, 150])\n"
     ]
    },
    {
     "name": "stderr",
     "output_type": "stream",
     "text": [
      "Epoch 1/41:  74%|███████▍  | 159/214 [00:06<00:01, 42.65batch/s, loss=0.227]"
     ]
    },
    {
     "name": "stdout",
     "output_type": "stream",
     "text": [
      "torch.Size([41, 62, 150])\n",
      "torch.Size([41, 62, 150])\n",
      "torch.Size([41, 62, 150])\n",
      "torch.Size([41, 62, 150])\n",
      "torch.Size([41, 62, 150])\n",
      "torch.Size([41, 62, 150])\n",
      "torch.Size([41, 62, 150])\n",
      "torch.Size([41, 62, 150])\n",
      "torch.Size([41, 62, 150])\n"
     ]
    },
    {
     "name": "stderr",
     "output_type": "stream",
     "text": [
      "Epoch 1/41:  79%|███████▉  | 169/214 [00:06<00:01, 43.58batch/s, loss=0.226]"
     ]
    },
    {
     "name": "stdout",
     "output_type": "stream",
     "text": [
      "torch.Size([41, 62, 150])\n",
      "torch.Size([41, 62, 150])\n",
      "torch.Size([41, 62, 150])\n",
      "torch.Size([41, 62, 150])\n",
      "torch.Size([41, 62, 150])\n",
      "torch.Size([41, 62, 150])\n",
      "torch.Size([41, 62, 150])\n",
      "torch.Size([41, 62, 150])\n",
      "torch.Size([41, 62, 150])\n"
     ]
    },
    {
     "name": "stderr",
     "output_type": "stream",
     "text": [
      "Epoch 1/41:  84%|████████▎ | 179/214 [00:06<00:00, 44.05batch/s, loss=0.231]"
     ]
    },
    {
     "name": "stdout",
     "output_type": "stream",
     "text": [
      "torch.Size([41, 62, 150])\n",
      "torch.Size([41, 62, 150])\n",
      "torch.Size([41, 62, 150])\n",
      "torch.Size([41, 62, 150])\n",
      "torch.Size([41, 62, 150])\n",
      "torch.Size([41, 62, 150])\n",
      "torch.Size([41, 62, 150])\n",
      "torch.Size([41, 62, 150])\n",
      "torch.Size([41, 62, 150])\n"
     ]
    },
    {
     "name": "stderr",
     "output_type": "stream",
     "text": [
      "Epoch 1/41:  86%|████████▌ | 184/214 [00:06<00:00, 44.09batch/s, loss=0.229]"
     ]
    },
    {
     "name": "stdout",
     "output_type": "stream",
     "text": [
      "torch.Size([41, 62, 150])\n",
      "torch.Size([41, 62, 150])\n",
      "torch.Size([41, 62, 150])\n",
      "torch.Size([41, 62, 150])\n",
      "torch.Size([41, 62, 150])\n",
      "torch.Size([41, 62, 150])\n",
      "torch.Size([41, 62, 150])\n",
      "torch.Size([41, 62, 150])\n",
      "torch.Size([41, 62, 150])\n"
     ]
    },
    {
     "name": "stderr",
     "output_type": "stream",
     "text": [
      "Epoch 1/41:  91%|█████████ | 194/214 [00:06<00:00, 43.88batch/s, loss=0.226]"
     ]
    },
    {
     "name": "stdout",
     "output_type": "stream",
     "text": [
      "torch.Size([41, 62, 150])\n",
      "torch.Size([41, 62, 150])\n",
      "torch.Size([41, 62, 150])\n",
      "torch.Size([41, 62, 150])\n",
      "torch.Size([41, 62, 150])\n",
      "torch.Size([41, 62, 150])\n",
      "torch.Size([41, 62, 150])\n",
      "torch.Size([41, 62, 150])\n",
      "torch.Size([41, 62, 150])\n"
     ]
    },
    {
     "name": "stderr",
     "output_type": "stream",
     "text": [
      "Epoch 1/41:  95%|█████████▌| 204/214 [00:07<00:00, 44.24batch/s, loss=0.225]"
     ]
    },
    {
     "name": "stdout",
     "output_type": "stream",
     "text": [
      "torch.Size([41, 62, 150])\n",
      "torch.Size([41, 62, 150])\n",
      "torch.Size([41, 62, 150])\n",
      "torch.Size([41, 62, 150])\n",
      "torch.Size([41, 62, 150])\n",
      "torch.Size([41, 62, 150])\n",
      "torch.Size([41, 62, 150])\n",
      "torch.Size([41, 62, 150])\n",
      "torch.Size([41, 62, 150])\n"
     ]
    },
    {
     "name": "stderr",
     "output_type": "stream",
     "text": [
      "Epoch 1/41:  98%|█████████▊| 209/214 [00:07<00:00, 43.26batch/s, loss=0.227]"
     ]
    },
    {
     "name": "stdout",
     "output_type": "stream",
     "text": [
      "torch.Size([41, 62, 150])\n",
      "torch.Size([41, 62, 150])\n",
      "torch.Size([41, 62, 150])\n",
      "torch.Size([41, 62, 150])\n",
      "torch.Size([41, 62, 150])\n",
      "torch.Size([41, 62, 150])\n",
      "torch.Size([41, 62, 150])\n"
     ]
    },
    {
     "name": "stderr",
     "output_type": "stream",
     "text": [
      "Epoch 1/41: 100%|██████████| 214/214 [00:07<00:00, 28.65batch/s, loss=0.228]\n"
     ]
    },
    {
     "name": "stdout",
     "output_type": "stream",
     "text": [
      "torch.Size([7, 62, 150])\n",
      "Epoch 1/41, Loss: 0.22327776705828783\n"
     ]
    },
    {
     "name": "stderr",
     "output_type": "stream",
     "text": [
      "Epoch 2/41:   2%|▏         | 5/214 [00:00<00:04, 43.32batch/s, loss=0.247]"
     ]
    },
    {
     "name": "stdout",
     "output_type": "stream",
     "text": [
      "torch.Size([41, 62, 150])\n",
      "torch.Size([41, 62, 150])\n",
      "torch.Size([41, 62, 150])\n",
      "torch.Size([41, 62, 150])\n",
      "torch.Size([41, 62, 150])\n",
      "torch.Size([41, 62, 150])\n",
      "torch.Size([41, 62, 150])\n",
      "torch.Size([41, 62, 150])\n"
     ]
    },
    {
     "name": "stderr",
     "output_type": "stream",
     "text": [
      "Epoch 2/41:   2%|▏         | 5/214 [00:00<00:04, 43.32batch/s, loss=0.281]"
     ]
    },
    {
     "name": "stdout",
     "output_type": "stream",
     "text": [
      "torch.Size([41, 62, 150])\n"
     ]
    },
    {
     "name": "stderr",
     "output_type": "stream",
     "text": [
      "Epoch 2/41:   7%|▋         | 15/214 [00:00<00:04, 43.14batch/s, loss=0.209]"
     ]
    },
    {
     "name": "stdout",
     "output_type": "stream",
     "text": [
      "torch.Size([41, 62, 150])\n",
      "torch.Size([41, 62, 150])\n",
      "torch.Size([41, 62, 150])\n",
      "torch.Size([41, 62, 150])\n",
      "torch.Size([41, 62, 150])\n",
      "torch.Size([41, 62, 150])\n",
      "torch.Size([41, 62, 150])\n",
      "torch.Size([41, 62, 150])\n"
     ]
    },
    {
     "name": "stderr",
     "output_type": "stream",
     "text": [
      "Epoch 2/41:   7%|▋         | 15/214 [00:00<00:04, 43.14batch/s, loss=0.222]"
     ]
    },
    {
     "name": "stdout",
     "output_type": "stream",
     "text": [
      "torch.Size([41, 62, 150])\n"
     ]
    },
    {
     "name": "stderr",
     "output_type": "stream",
     "text": [
      "Epoch 2/41:  12%|█▏        | 25/214 [00:00<00:04, 42.49batch/s, loss=0.249]"
     ]
    },
    {
     "name": "stdout",
     "output_type": "stream",
     "text": [
      "torch.Size([41, 62, 150])\n",
      "torch.Size([41, 62, 150])\n",
      "torch.Size([41, 62, 150])\n",
      "torch.Size([41, 62, 150])\n",
      "torch.Size([41, 62, 150])\n",
      "torch.Size([41, 62, 150])\n",
      "torch.Size([41, 62, 150])\n",
      "torch.Size([41, 62, 150])\n"
     ]
    },
    {
     "name": "stderr",
     "output_type": "stream",
     "text": [
      "Epoch 2/41:  12%|█▏        | 25/214 [00:00<00:04, 42.49batch/s, loss=0.209]"
     ]
    },
    {
     "name": "stdout",
     "output_type": "stream",
     "text": [
      "torch.Size([41, 62, 150])\n"
     ]
    },
    {
     "name": "stderr",
     "output_type": "stream",
     "text": [
      "Epoch 2/41:  14%|█▍        | 30/214 [00:00<00:04, 42.74batch/s, loss=0.229]"
     ]
    },
    {
     "name": "stdout",
     "output_type": "stream",
     "text": [
      "torch.Size([41, 62, 150])\n",
      "torch.Size([41, 62, 150])\n",
      "torch.Size([41, 62, 150])\n",
      "torch.Size([41, 62, 150])\n",
      "torch.Size([41, 62, 150])\n",
      "torch.Size([41, 62, 150])\n",
      "torch.Size([41, 62, 150])\n",
      "torch.Size([41, 62, 150])\n"
     ]
    },
    {
     "name": "stderr",
     "output_type": "stream",
     "text": [
      "Epoch 2/41:  16%|█▋        | 35/214 [00:00<00:04, 43.03batch/s, loss=0.236]"
     ]
    },
    {
     "name": "stdout",
     "output_type": "stream",
     "text": [
      "torch.Size([41, 62, 150])\n"
     ]
    },
    {
     "name": "stderr",
     "output_type": "stream",
     "text": [
      "Epoch 2/41:  19%|█▊        | 40/214 [00:01<00:04, 43.22batch/s, loss=0.224]"
     ]
    },
    {
     "name": "stdout",
     "output_type": "stream",
     "text": [
      "torch.Size([41, 62, 150])\n",
      "torch.Size([41, 62, 150])\n",
      "torch.Size([41, 62, 150])\n",
      "torch.Size([41, 62, 150])\n",
      "torch.Size([41, 62, 150])\n",
      "torch.Size([41, 62, 150])\n",
      "torch.Size([41, 62, 150])\n",
      "torch.Size([41, 62, 150])\n"
     ]
    },
    {
     "name": "stderr",
     "output_type": "stream",
     "text": [
      "Epoch 2/41:  21%|██        | 45/214 [00:01<00:03, 43.52batch/s, loss=0.228]"
     ]
    },
    {
     "name": "stdout",
     "output_type": "stream",
     "text": [
      "torch.Size([41, 62, 150])\n"
     ]
    },
    {
     "name": "stderr",
     "output_type": "stream",
     "text": [
      "Epoch 2/41:  23%|██▎       | 50/214 [00:01<00:03, 43.60batch/s, loss=0.216]"
     ]
    },
    {
     "name": "stdout",
     "output_type": "stream",
     "text": [
      "torch.Size([41, 62, 150])\n",
      "torch.Size([41, 62, 150])\n",
      "torch.Size([41, 62, 150])\n",
      "torch.Size([41, 62, 150])\n",
      "torch.Size([41, 62, 150])\n",
      "torch.Size([41, 62, 150])\n",
      "torch.Size([41, 62, 150])\n",
      "torch.Size([41, 62, 150])\n"
     ]
    },
    {
     "name": "stderr",
     "output_type": "stream",
     "text": [
      "Epoch 2/41:  23%|██▎       | 50/214 [00:01<00:03, 43.60batch/s, loss=0.22] "
     ]
    },
    {
     "name": "stdout",
     "output_type": "stream",
     "text": [
      "torch.Size([41, 62, 150])\n"
     ]
    },
    {
     "name": "stderr",
     "output_type": "stream",
     "text": [
      "Epoch 2/41:  28%|██▊       | 60/214 [00:01<00:03, 43.75batch/s, loss=0.213]"
     ]
    },
    {
     "name": "stdout",
     "output_type": "stream",
     "text": [
      "torch.Size([41, 62, 150])\n",
      "torch.Size([41, 62, 150])\n",
      "torch.Size([41, 62, 150])\n",
      "torch.Size([41, 62, 150])\n",
      "torch.Size([41, 62, 150])\n",
      "torch.Size([41, 62, 150])\n",
      "torch.Size([41, 62, 150])\n",
      "torch.Size([41, 62, 150])\n"
     ]
    },
    {
     "name": "stderr",
     "output_type": "stream",
     "text": [
      "Epoch 2/41:  28%|██▊       | 60/214 [00:01<00:03, 43.75batch/s, loss=0.216]"
     ]
    },
    {
     "name": "stdout",
     "output_type": "stream",
     "text": [
      "torch.Size([41, 62, 150])\n"
     ]
    },
    {
     "name": "stderr",
     "output_type": "stream",
     "text": [
      "Epoch 2/41:  33%|███▎      | 70/214 [00:01<00:03, 44.45batch/s, loss=0.209]"
     ]
    },
    {
     "name": "stdout",
     "output_type": "stream",
     "text": [
      "torch.Size([41, 62, 150])\n",
      "torch.Size([41, 62, 150])\n",
      "torch.Size([41, 62, 150])\n",
      "torch.Size([41, 62, 150])\n",
      "torch.Size([41, 62, 150])\n",
      "torch.Size([41, 62, 150])\n",
      "torch.Size([41, 62, 150])\n",
      "torch.Size([41, 62, 150])\n",
      "torch.Size([41, 62, 150])\n"
     ]
    },
    {
     "name": "stderr",
     "output_type": "stream",
     "text": [
      "Epoch 2/41:  33%|███▎      | 70/214 [00:01<00:03, 44.45batch/s, loss=0.211]"
     ]
    },
    {
     "name": "stdout",
     "output_type": "stream",
     "text": [
      "torch.Size([41, 62, 150])\n"
     ]
    },
    {
     "name": "stderr",
     "output_type": "stream",
     "text": [
      "Epoch 2/41:  37%|███▋      | 80/214 [00:01<00:02, 44.69batch/s, loss=0.208]"
     ]
    },
    {
     "name": "stdout",
     "output_type": "stream",
     "text": [
      "torch.Size([41, 62, 150])\n",
      "torch.Size([41, 62, 150])\n",
      "torch.Size([41, 62, 150])\n",
      "torch.Size([41, 62, 150])\n",
      "torch.Size([41, 62, 150])\n",
      "torch.Size([41, 62, 150])\n",
      "torch.Size([41, 62, 150])\n",
      "torch.Size([41, 62, 150])\n"
     ]
    },
    {
     "name": "stderr",
     "output_type": "stream",
     "text": [
      "Epoch 2/41:  37%|███▋      | 80/214 [00:01<00:02, 44.69batch/s, loss=0.211]"
     ]
    },
    {
     "name": "stdout",
     "output_type": "stream",
     "text": [
      "torch.Size([41, 62, 150])\n"
     ]
    },
    {
     "name": "stderr",
     "output_type": "stream",
     "text": [
      "Epoch 2/41:  42%|████▏     | 90/214 [00:02<00:02, 44.67batch/s, loss=0.218]"
     ]
    },
    {
     "name": "stdout",
     "output_type": "stream",
     "text": [
      "torch.Size([41, 62, 150])\n",
      "torch.Size([41, 62, 150])\n",
      "torch.Size([41, 62, 150])\n",
      "torch.Size([41, 62, 150])\n",
      "torch.Size([41, 62, 150])\n",
      "torch.Size([41, 62, 150])\n",
      "torch.Size([41, 62, 150])\n",
      "torch.Size([41, 62, 150])\n"
     ]
    },
    {
     "name": "stderr",
     "output_type": "stream",
     "text": [
      "Epoch 2/41:  42%|████▏     | 90/214 [00:02<00:02, 44.67batch/s, loss=0.208]"
     ]
    },
    {
     "name": "stdout",
     "output_type": "stream",
     "text": [
      "torch.Size([41, 62, 150])\n"
     ]
    },
    {
     "name": "stderr",
     "output_type": "stream",
     "text": [
      "Epoch 2/41:  44%|████▍     | 95/214 [00:02<00:02, 44.54batch/s, loss=0.215]"
     ]
    },
    {
     "name": "stdout",
     "output_type": "stream",
     "text": [
      "torch.Size([41, 62, 150])\n",
      "torch.Size([41, 62, 150])\n",
      "torch.Size([41, 62, 150])\n",
      "torch.Size([41, 62, 150])\n",
      "torch.Size([41, 62, 150])\n",
      "torch.Size([41, 62, 150])\n",
      "torch.Size([41, 62, 150])\n",
      "torch.Size([41, 62, 150])\n",
      "torch.Size([41, 62, 150])\n"
     ]
    },
    {
     "name": "stderr",
     "output_type": "stream",
     "text": [
      "Epoch 2/41:  49%|████▉     | 105/214 [00:02<00:02, 43.75batch/s, loss=0.212]"
     ]
    },
    {
     "name": "stdout",
     "output_type": "stream",
     "text": [
      "torch.Size([41, 62, 150])\n",
      "torch.Size([41, 62, 150])\n",
      "torch.Size([41, 62, 150])\n",
      "torch.Size([41, 62, 150])\n",
      "torch.Size([41, 62, 150])\n",
      "torch.Size([41, 62, 150])\n",
      "torch.Size([41, 62, 150])\n",
      "torch.Size([41, 62, 150])\n",
      "torch.Size([41, 62, 150])\n"
     ]
    },
    {
     "name": "stderr",
     "output_type": "stream",
     "text": [
      "Epoch 2/41:  54%|█████▎    | 115/214 [00:02<00:02, 42.92batch/s, loss=0.21] "
     ]
    },
    {
     "name": "stdout",
     "output_type": "stream",
     "text": [
      "torch.Size([41, 62, 150])\n",
      "torch.Size([41, 62, 150])\n",
      "torch.Size([41, 62, 150])\n",
      "torch.Size([41, 62, 150])\n",
      "torch.Size([41, 62, 150])\n",
      "torch.Size([41, 62, 150])\n",
      "torch.Size([41, 62, 150])\n",
      "torch.Size([41, 62, 150])\n",
      "torch.Size([41, 62, 150])\n"
     ]
    },
    {
     "name": "stderr",
     "output_type": "stream",
     "text": [
      "Epoch 2/41:  58%|█████▊    | 125/214 [00:02<00:02, 43.86batch/s, loss=0.209]"
     ]
    },
    {
     "name": "stdout",
     "output_type": "stream",
     "text": [
      "torch.Size([41, 62, 150])\n",
      "torch.Size([41, 62, 150])\n",
      "torch.Size([41, 62, 150])\n",
      "torch.Size([41, 62, 150])\n",
      "torch.Size([41, 62, 150])\n",
      "torch.Size([41, 62, 150])\n",
      "torch.Size([41, 62, 150])\n",
      "torch.Size([41, 62, 150])\n",
      "torch.Size([41, 62, 150])\n",
      "torch.Size([41, 62, 150])\n"
     ]
    },
    {
     "name": "stderr",
     "output_type": "stream",
     "text": [
      "Epoch 2/41:  63%|██████▎   | 135/214 [00:03<00:01, 44.56batch/s, loss=0.209]"
     ]
    },
    {
     "name": "stdout",
     "output_type": "stream",
     "text": [
      "torch.Size([41, 62, 150])\n",
      "torch.Size([41, 62, 150])\n",
      "torch.Size([41, 62, 150])\n",
      "torch.Size([41, 62, 150])\n",
      "torch.Size([41, 62, 150])\n",
      "torch.Size([41, 62, 150])\n",
      "torch.Size([41, 62, 150])\n",
      "torch.Size([41, 62, 150])\n",
      "torch.Size([41, 62, 150])\n",
      "torch.Size([41, 62, 150])\n"
     ]
    },
    {
     "name": "stderr",
     "output_type": "stream",
     "text": [
      "Epoch 2/41:  68%|██████▊   | 145/214 [00:03<00:01, 44.68batch/s, loss=0.208]"
     ]
    },
    {
     "name": "stdout",
     "output_type": "stream",
     "text": [
      "torch.Size([41, 62, 150])\n",
      "torch.Size([41, 62, 150])\n",
      "torch.Size([41, 62, 150])\n",
      "torch.Size([41, 62, 150])\n",
      "torch.Size([41, 62, 150])\n",
      "torch.Size([41, 62, 150])\n",
      "torch.Size([41, 62, 150])\n",
      "torch.Size([41, 62, 150])\n",
      "torch.Size([41, 62, 150])\n"
     ]
    },
    {
     "name": "stderr",
     "output_type": "stream",
     "text": [
      "Epoch 2/41:  72%|███████▏  | 155/214 [00:03<00:01, 44.72batch/s, loss=0.206]"
     ]
    },
    {
     "name": "stdout",
     "output_type": "stream",
     "text": [
      "torch.Size([41, 62, 150])\n",
      "torch.Size([41, 62, 150])\n",
      "torch.Size([41, 62, 150])\n",
      "torch.Size([41, 62, 150])\n",
      "torch.Size([41, 62, 150])\n",
      "torch.Size([41, 62, 150])\n",
      "torch.Size([41, 62, 150])\n",
      "torch.Size([41, 62, 150])\n",
      "torch.Size([41, 62, 150])\n",
      "torch.Size([41, 62, 150])\n"
     ]
    },
    {
     "name": "stderr",
     "output_type": "stream",
     "text": [
      "Epoch 2/41:  77%|███████▋  | 165/214 [00:03<00:01, 45.21batch/s, loss=0.206]"
     ]
    },
    {
     "name": "stdout",
     "output_type": "stream",
     "text": [
      "torch.Size([41, 62, 150])\n",
      "torch.Size([41, 62, 150])\n",
      "torch.Size([41, 62, 150])\n",
      "torch.Size([41, 62, 150])\n",
      "torch.Size([41, 62, 150])\n",
      "torch.Size([41, 62, 150])\n",
      "torch.Size([41, 62, 150])\n",
      "torch.Size([41, 62, 150])\n",
      "torch.Size([41, 62, 150])\n",
      "torch.Size([41, 62, 150])\n"
     ]
    },
    {
     "name": "stderr",
     "output_type": "stream",
     "text": [
      "Epoch 2/41:  82%|████████▏ | 175/214 [00:03<00:00, 44.95batch/s, loss=0.206]"
     ]
    },
    {
     "name": "stdout",
     "output_type": "stream",
     "text": [
      "torch.Size([41, 62, 150])\n",
      "torch.Size([41, 62, 150])\n",
      "torch.Size([41, 62, 150])\n",
      "torch.Size([41, 62, 150])\n",
      "torch.Size([41, 62, 150])\n",
      "torch.Size([41, 62, 150])\n",
      "torch.Size([41, 62, 150])\n",
      "torch.Size([41, 62, 150])\n",
      "torch.Size([41, 62, 150])\n"
     ]
    },
    {
     "name": "stderr",
     "output_type": "stream",
     "text": [
      "Epoch 2/41:  86%|████████▋ | 185/214 [00:04<00:00, 44.85batch/s, loss=0.211]"
     ]
    },
    {
     "name": "stdout",
     "output_type": "stream",
     "text": [
      "torch.Size([41, 62, 150])\n",
      "torch.Size([41, 62, 150])\n",
      "torch.Size([41, 62, 150])\n",
      "torch.Size([41, 62, 150])\n",
      "torch.Size([41, 62, 150])\n",
      "torch.Size([41, 62, 150])\n",
      "torch.Size([41, 62, 150])\n",
      "torch.Size([41, 62, 150])\n",
      "torch.Size([41, 62, 150])\n"
     ]
    },
    {
     "name": "stderr",
     "output_type": "stream",
     "text": [
      "Epoch 2/41:  89%|████████▉ | 190/214 [00:04<00:00, 45.14batch/s, loss=0.209]"
     ]
    },
    {
     "name": "stdout",
     "output_type": "stream",
     "text": [
      "torch.Size([41, 62, 150])\n",
      "torch.Size([41, 62, 150])\n",
      "torch.Size([41, 62, 150])\n",
      "torch.Size([41, 62, 150])\n",
      "torch.Size([41, 62, 150])\n",
      "torch.Size([41, 62, 150])\n",
      "torch.Size([41, 62, 150])\n",
      "torch.Size([41, 62, 150])\n",
      "torch.Size([41, 62, 150])\n",
      "torch.Size([41, 62, 150])\n"
     ]
    },
    {
     "name": "stderr",
     "output_type": "stream",
     "text": [
      "Epoch 2/41:  93%|█████████▎| 200/214 [00:04<00:00, 44.99batch/s, loss=0.209]"
     ]
    },
    {
     "name": "stdout",
     "output_type": "stream",
     "text": [
      "torch.Size([41, 62, 150])\n",
      "torch.Size([41, 62, 150])\n",
      "torch.Size([41, 62, 150])\n",
      "torch.Size([41, 62, 150])\n",
      "torch.Size([41, 62, 150])\n",
      "torch.Size([41, 62, 150])\n",
      "torch.Size([41, 62, 150])\n",
      "torch.Size([41, 62, 150])\n",
      "torch.Size([41, 62, 150])\n"
     ]
    },
    {
     "name": "stderr",
     "output_type": "stream",
     "text": [
      "Epoch 2/41:  98%|█████████▊| 210/214 [00:04<00:00, 44.90batch/s, loss=0.208]"
     ]
    },
    {
     "name": "stdout",
     "output_type": "stream",
     "text": [
      "torch.Size([41, 62, 150])\n",
      "torch.Size([41, 62, 150])\n",
      "torch.Size([41, 62, 150])\n",
      "torch.Size([41, 62, 150])\n",
      "torch.Size([41, 62, 150])\n",
      "torch.Size([41, 62, 150])\n",
      "torch.Size([41, 62, 150])\n",
      "torch.Size([41, 62, 150])\n",
      "torch.Size([41, 62, 150])\n",
      "torch.Size([7, 62, 150])\n"
     ]
    },
    {
     "name": "stderr",
     "output_type": "stream",
     "text": [
      "Epoch 2/41: 100%|██████████| 214/214 [00:04<00:00, 44.23batch/s, loss=0.209]\n"
     ]
    },
    {
     "name": "stdout",
     "output_type": "stream",
     "text": [
      "Epoch 2/41, Loss: 0.20580497801860917\n"
     ]
    },
    {
     "name": "stderr",
     "output_type": "stream",
     "text": [
      "Epoch 3/41:   2%|▏         | 5/214 [00:00<00:04, 45.48batch/s, loss=0.298]"
     ]
    },
    {
     "name": "stdout",
     "output_type": "stream",
     "text": [
      "torch.Size([41, 62, 150])\n",
      "torch.Size([41, 62, 150])\n",
      "torch.Size([41, 62, 150])\n",
      "torch.Size([41, 62, 150])\n",
      "torch.Size([41, 62, 150])\n",
      "torch.Size([41, 62, 150])\n",
      "torch.Size([41, 62, 150])\n",
      "torch.Size([41, 62, 150])\n",
      "torch.Size([41, 62, 150])\n",
      "torch.Size([41, 62, 150])\n"
     ]
    },
    {
     "name": "stderr",
     "output_type": "stream",
     "text": [
      "Epoch 3/41:   7%|▋         | 15/214 [00:00<00:04, 42.21batch/s, loss=0.214]"
     ]
    },
    {
     "name": "stdout",
     "output_type": "stream",
     "text": [
      "torch.Size([41, 62, 150])\n",
      "torch.Size([41, 62, 150])\n",
      "torch.Size([41, 62, 150])\n",
      "torch.Size([41, 62, 150])\n",
      "torch.Size([41, 62, 150])\n",
      "torch.Size([41, 62, 150])\n",
      "torch.Size([41, 62, 150])\n",
      "torch.Size([41, 62, 150])\n"
     ]
    },
    {
     "name": "stderr",
     "output_type": "stream",
     "text": [
      "Epoch 3/41:   7%|▋         | 15/214 [00:00<00:04, 42.21batch/s, loss=0.226]"
     ]
    },
    {
     "name": "stdout",
     "output_type": "stream",
     "text": [
      "torch.Size([41, 62, 150])\n"
     ]
    },
    {
     "name": "stderr",
     "output_type": "stream",
     "text": [
      "Epoch 3/41:  12%|█▏        | 25/214 [00:00<00:04, 43.70batch/s, loss=0.209]"
     ]
    },
    {
     "name": "stdout",
     "output_type": "stream",
     "text": [
      "torch.Size([41, 62, 150])\n",
      "torch.Size([41, 62, 150])\n",
      "torch.Size([41, 62, 150])\n",
      "torch.Size([41, 62, 150])\n",
      "torch.Size([41, 62, 150])\n",
      "torch.Size([41, 62, 150])\n",
      "torch.Size([41, 62, 150])\n",
      "torch.Size([41, 62, 150])\n"
     ]
    },
    {
     "name": "stderr",
     "output_type": "stream",
     "text": [
      "Epoch 3/41:  12%|█▏        | 25/214 [00:00<00:04, 43.70batch/s, loss=0.216]"
     ]
    },
    {
     "name": "stdout",
     "output_type": "stream",
     "text": [
      "torch.Size([41, 62, 150])\n"
     ]
    },
    {
     "name": "stderr",
     "output_type": "stream",
     "text": [
      "Epoch 3/41:  16%|█▋        | 35/214 [00:00<00:04, 44.57batch/s, loss=0.2]  "
     ]
    },
    {
     "name": "stdout",
     "output_type": "stream",
     "text": [
      "torch.Size([41, 62, 150])\n",
      "torch.Size([41, 62, 150])\n",
      "torch.Size([41, 62, 150])\n",
      "torch.Size([41, 62, 150])\n",
      "torch.Size([41, 62, 150])\n",
      "torch.Size([41, 62, 150])\n",
      "torch.Size([41, 62, 150])\n",
      "torch.Size([41, 62, 150])\n",
      "torch.Size([41, 62, 150])\n"
     ]
    },
    {
     "name": "stderr",
     "output_type": "stream",
     "text": [
      "Epoch 3/41:  16%|█▋        | 35/214 [00:00<00:04, 44.57batch/s, loss=0.206]"
     ]
    },
    {
     "name": "stdout",
     "output_type": "stream",
     "text": [
      "torch.Size([41, 62, 150])\n"
     ]
    },
    {
     "name": "stderr",
     "output_type": "stream",
     "text": [
      "Epoch 3/41:  21%|██        | 45/214 [00:01<00:03, 44.77batch/s, loss=0.202]"
     ]
    },
    {
     "name": "stdout",
     "output_type": "stream",
     "text": [
      "torch.Size([41, 62, 150])\n",
      "torch.Size([41, 62, 150])\n",
      "torch.Size([41, 62, 150])\n",
      "torch.Size([41, 62, 150])\n",
      "torch.Size([41, 62, 150])\n",
      "torch.Size([41, 62, 150])\n",
      "torch.Size([41, 62, 150])\n",
      "torch.Size([41, 62, 150])\n"
     ]
    },
    {
     "name": "stderr",
     "output_type": "stream",
     "text": [
      "Epoch 3/41:  21%|██        | 45/214 [00:01<00:03, 44.77batch/s, loss=0.207]"
     ]
    },
    {
     "name": "stdout",
     "output_type": "stream",
     "text": [
      "torch.Size([41, 62, 150])\n"
     ]
    },
    {
     "name": "stderr",
     "output_type": "stream",
     "text": [
      "Epoch 3/41:  26%|██▌       | 55/214 [00:01<00:03, 44.77batch/s, loss=0.217]"
     ]
    },
    {
     "name": "stdout",
     "output_type": "stream",
     "text": [
      "torch.Size([41, 62, 150])\n",
      "torch.Size([41, 62, 150])\n",
      "torch.Size([41, 62, 150])\n",
      "torch.Size([41, 62, 150])\n",
      "torch.Size([41, 62, 150])\n",
      "torch.Size([41, 62, 150])\n",
      "torch.Size([41, 62, 150])\n",
      "torch.Size([41, 62, 150])\n"
     ]
    },
    {
     "name": "stderr",
     "output_type": "stream",
     "text": [
      "Epoch 3/41:  26%|██▌       | 55/214 [00:01<00:03, 44.77batch/s, loss=0.201]"
     ]
    },
    {
     "name": "stdout",
     "output_type": "stream",
     "text": [
      "torch.Size([41, 62, 150])\n"
     ]
    },
    {
     "name": "stderr",
     "output_type": "stream",
     "text": [
      "Epoch 3/41:  28%|██▊       | 60/214 [00:01<00:03, 44.73batch/s, loss=0.209]"
     ]
    },
    {
     "name": "stdout",
     "output_type": "stream",
     "text": [
      "torch.Size([41, 62, 150])\n",
      "torch.Size([41, 62, 150])\n",
      "torch.Size([41, 62, 150])\n",
      "torch.Size([41, 62, 150])\n",
      "torch.Size([41, 62, 150])\n",
      "torch.Size([41, 62, 150])\n",
      "torch.Size([41, 62, 150])\n",
      "torch.Size([41, 62, 150])\n",
      "torch.Size([41, 62, 150])\n"
     ]
    },
    {
     "name": "stderr",
     "output_type": "stream",
     "text": [
      "Epoch 3/41:  30%|███       | 65/214 [00:01<00:03, 45.04batch/s, loss=0.213]"
     ]
    },
    {
     "name": "stdout",
     "output_type": "stream",
     "text": [
      "torch.Size([41, 62, 150])\n"
     ]
    },
    {
     "name": "stderr",
     "output_type": "stream",
     "text": [
      "Epoch 3/41:  33%|███▎      | 70/214 [00:01<00:03, 45.19batch/s, loss=0.208]"
     ]
    },
    {
     "name": "stdout",
     "output_type": "stream",
     "text": [
      "torch.Size([41, 62, 150])\n",
      "torch.Size([41, 62, 150])\n",
      "torch.Size([41, 62, 150])\n",
      "torch.Size([41, 62, 150])\n",
      "torch.Size([41, 62, 150])\n",
      "torch.Size([41, 62, 150])\n",
      "torch.Size([41, 62, 150])\n",
      "torch.Size([41, 62, 150])\n",
      "torch.Size([41, 62, 150])\n"
     ]
    },
    {
     "name": "stderr",
     "output_type": "stream",
     "text": [
      "Epoch 3/41:  35%|███▌      | 75/214 [00:01<00:03, 45.05batch/s, loss=0.21] "
     ]
    },
    {
     "name": "stdout",
     "output_type": "stream",
     "text": [
      "torch.Size([41, 62, 150])\n"
     ]
    },
    {
     "name": "stderr",
     "output_type": "stream",
     "text": [
      "Epoch 3/41:  37%|███▋      | 80/214 [00:01<00:02, 44.95batch/s, loss=0.206]"
     ]
    },
    {
     "name": "stdout",
     "output_type": "stream",
     "text": [
      "torch.Size([41, 62, 150])\n",
      "torch.Size([41, 62, 150])\n",
      "torch.Size([41, 62, 150])\n",
      "torch.Size([41, 62, 150])\n",
      "torch.Size([41, 62, 150])\n",
      "torch.Size([41, 62, 150])\n",
      "torch.Size([41, 62, 150])\n",
      "torch.Size([41, 62, 150])\n"
     ]
    },
    {
     "name": "stderr",
     "output_type": "stream",
     "text": [
      "Epoch 3/41:  40%|███▉      | 85/214 [00:01<00:02, 44.85batch/s, loss=0.208]"
     ]
    },
    {
     "name": "stdout",
     "output_type": "stream",
     "text": [
      "torch.Size([41, 62, 150])\n"
     ]
    },
    {
     "name": "stderr",
     "output_type": "stream",
     "text": [
      "Epoch 3/41:  42%|████▏     | 90/214 [00:02<00:02, 44.89batch/s, loss=0.201]"
     ]
    },
    {
     "name": "stdout",
     "output_type": "stream",
     "text": [
      "torch.Size([41, 62, 150])\n",
      "torch.Size([41, 62, 150])\n",
      "torch.Size([41, 62, 150])\n",
      "torch.Size([41, 62, 150])\n",
      "torch.Size([41, 62, 150])\n",
      "torch.Size([41, 62, 150])\n",
      "torch.Size([41, 62, 150])\n",
      "torch.Size([41, 62, 150])\n"
     ]
    },
    {
     "name": "stderr",
     "output_type": "stream",
     "text": [
      "Epoch 3/41:  42%|████▏     | 90/214 [00:02<00:02, 44.89batch/s, loss=0.204]"
     ]
    },
    {
     "name": "stdout",
     "output_type": "stream",
     "text": [
      "torch.Size([41, 62, 150])\n",
      "torch.Size([41, 62, 150])\n"
     ]
    },
    {
     "name": "stderr",
     "output_type": "stream",
     "text": [
      "Epoch 3/41:  47%|████▋     | 100/214 [00:02<00:02, 45.41batch/s, loss=0.198]"
     ]
    },
    {
     "name": "stdout",
     "output_type": "stream",
     "text": [
      "torch.Size([41, 62, 150])\n",
      "torch.Size([41, 62, 150])\n",
      "torch.Size([41, 62, 150])\n",
      "torch.Size([41, 62, 150])\n",
      "torch.Size([41, 62, 150])\n",
      "torch.Size([41, 62, 150])\n",
      "torch.Size([41, 62, 150])\n",
      "torch.Size([41, 62, 150])\n"
     ]
    },
    {
     "name": "stderr",
     "output_type": "stream",
     "text": [
      "Epoch 3/41:  47%|████▋     | 100/214 [00:02<00:02, 45.41batch/s, loss=0.202]"
     ]
    },
    {
     "name": "stdout",
     "output_type": "stream",
     "text": [
      "torch.Size([41, 62, 150])\n",
      "torch.Size([41, 62, 150])\n"
     ]
    },
    {
     "name": "stderr",
     "output_type": "stream",
     "text": [
      "Epoch 3/41:  51%|█████▏    | 110/214 [00:02<00:02, 45.02batch/s, loss=0.197]"
     ]
    },
    {
     "name": "stdout",
     "output_type": "stream",
     "text": [
      "torch.Size([41, 62, 150])\n",
      "torch.Size([41, 62, 150])\n",
      "torch.Size([41, 62, 150])\n",
      "torch.Size([41, 62, 150])\n",
      "torch.Size([41, 62, 150])\n",
      "torch.Size([41, 62, 150])\n",
      "torch.Size([41, 62, 150])\n"
     ]
    },
    {
     "name": "stderr",
     "output_type": "stream",
     "text": [
      "Epoch 3/41:  51%|█████▏    | 110/214 [00:02<00:02, 45.02batch/s, loss=0.2]  "
     ]
    },
    {
     "name": "stdout",
     "output_type": "stream",
     "text": [
      "torch.Size([41, 62, 150])\n",
      "torch.Size([41, 62, 150])\n",
      "torch.Size([41, 62, 150])\n"
     ]
    },
    {
     "name": "stderr",
     "output_type": "stream",
     "text": [
      "Epoch 3/41:  56%|█████▌    | 120/214 [00:02<00:02, 44.87batch/s, loss=0.195]"
     ]
    },
    {
     "name": "stdout",
     "output_type": "stream",
     "text": [
      "torch.Size([41, 62, 150])\n",
      "torch.Size([41, 62, 150])\n",
      "torch.Size([41, 62, 150])\n",
      "torch.Size([41, 62, 150])\n",
      "torch.Size([41, 62, 150])\n",
      "torch.Size([41, 62, 150])\n"
     ]
    },
    {
     "name": "stderr",
     "output_type": "stream",
     "text": [
      "Epoch 3/41:  56%|█████▌    | 120/214 [00:02<00:02, 44.87batch/s, loss=0.199]"
     ]
    },
    {
     "name": "stdout",
     "output_type": "stream",
     "text": [
      "torch.Size([41, 62, 150])\n",
      "torch.Size([41, 62, 150])\n",
      "torch.Size([41, 62, 150])\n",
      "torch.Size([41, 62, 150])\n"
     ]
    },
    {
     "name": "stderr",
     "output_type": "stream",
     "text": [
      "Epoch 3/41:  61%|██████    | 130/214 [00:02<00:01, 45.42batch/s, loss=0.2]  "
     ]
    },
    {
     "name": "stdout",
     "output_type": "stream",
     "text": [
      "torch.Size([41, 62, 150])\n",
      "torch.Size([41, 62, 150])\n",
      "torch.Size([41, 62, 150])\n",
      "torch.Size([41, 62, 150])\n",
      "torch.Size([41, 62, 150])\n",
      "torch.Size([41, 62, 150])\n"
     ]
    },
    {
     "name": "stderr",
     "output_type": "stream",
     "text": [
      "Epoch 3/41:  61%|██████    | 130/214 [00:02<00:01, 45.42batch/s, loss=0.198]"
     ]
    },
    {
     "name": "stdout",
     "output_type": "stream",
     "text": [
      "torch.Size([41, 62, 150])\n",
      "torch.Size([41, 62, 150])\n",
      "torch.Size([41, 62, 150])\n",
      "torch.Size([41, 62, 150])\n"
     ]
    },
    {
     "name": "stderr",
     "output_type": "stream",
     "text": [
      "Epoch 3/41:  65%|██████▌   | 140/214 [00:03<00:01, 45.01batch/s, loss=0.198]"
     ]
    },
    {
     "name": "stdout",
     "output_type": "stream",
     "text": [
      "torch.Size([41, 62, 150])\n",
      "torch.Size([41, 62, 150])\n",
      "torch.Size([41, 62, 150])\n",
      "torch.Size([41, 62, 150])\n",
      "torch.Size([41, 62, 150])\n"
     ]
    },
    {
     "name": "stderr",
     "output_type": "stream",
     "text": [
      "Epoch 3/41:  65%|██████▌   | 140/214 [00:03<00:01, 45.01batch/s, loss=0.197]"
     ]
    },
    {
     "name": "stdout",
     "output_type": "stream",
     "text": [
      "torch.Size([41, 62, 150])\n",
      "torch.Size([41, 62, 150])\n",
      "torch.Size([41, 62, 150])\n",
      "torch.Size([41, 62, 150])\n"
     ]
    },
    {
     "name": "stderr",
     "output_type": "stream",
     "text": [
      "Epoch 3/41:  68%|██████▊   | 145/214 [00:03<00:01, 44.78batch/s, loss=0.196]"
     ]
    },
    {
     "name": "stdout",
     "output_type": "stream",
     "text": [
      "torch.Size([41, 62, 150])\n",
      "torch.Size([41, 62, 150])\n",
      "torch.Size([41, 62, 150])\n",
      "torch.Size([41, 62, 150])\n",
      "torch.Size([41, 62, 150])\n"
     ]
    },
    {
     "name": "stderr",
     "output_type": "stream",
     "text": [
      "Epoch 3/41:  70%|███████   | 150/214 [00:03<00:01, 44.77batch/s, loss=0.195]"
     ]
    },
    {
     "name": "stdout",
     "output_type": "stream",
     "text": [
      "torch.Size([41, 62, 150])\n",
      "torch.Size([41, 62, 150])\n",
      "torch.Size([41, 62, 150])\n",
      "torch.Size([41, 62, 150])\n"
     ]
    },
    {
     "name": "stderr",
     "output_type": "stream",
     "text": [
      "Epoch 3/41:  72%|███████▏  | 155/214 [00:03<00:01, 44.94batch/s, loss=0.194]"
     ]
    },
    {
     "name": "stdout",
     "output_type": "stream",
     "text": [
      "torch.Size([41, 62, 150])\n",
      "torch.Size([41, 62, 150])\n",
      "torch.Size([41, 62, 150])\n",
      "torch.Size([41, 62, 150])\n",
      "torch.Size([41, 62, 150])\n",
      "torch.Size([41, 62, 150])\n"
     ]
    },
    {
     "name": "stderr",
     "output_type": "stream",
     "text": [
      "Epoch 3/41:  75%|███████▍  | 160/214 [00:03<00:01, 45.34batch/s, loss=0.192]"
     ]
    },
    {
     "name": "stdout",
     "output_type": "stream",
     "text": [
      "torch.Size([41, 62, 150])\n",
      "torch.Size([41, 62, 150])\n",
      "torch.Size([41, 62, 150])\n",
      "torch.Size([41, 62, 150])\n"
     ]
    },
    {
     "name": "stderr",
     "output_type": "stream",
     "text": [
      "Epoch 3/41:  77%|███████▋  | 165/214 [00:03<00:01, 44.95batch/s, loss=0.193]"
     ]
    },
    {
     "name": "stdout",
     "output_type": "stream",
     "text": [
      "torch.Size([41, 62, 150])\n",
      "torch.Size([41, 62, 150])\n",
      "torch.Size([41, 62, 150])\n",
      "torch.Size([41, 62, 150])\n",
      "torch.Size([41, 62, 150])\n"
     ]
    },
    {
     "name": "stderr",
     "output_type": "stream",
     "text": [
      "Epoch 3/41:  79%|███████▉  | 170/214 [00:03<00:00, 45.01batch/s, loss=0.191]"
     ]
    },
    {
     "name": "stdout",
     "output_type": "stream",
     "text": [
      "torch.Size([41, 62, 150])\n",
      "torch.Size([41, 62, 150])\n",
      "torch.Size([41, 62, 150])\n",
      "torch.Size([41, 62, 150])\n"
     ]
    },
    {
     "name": "stderr",
     "output_type": "stream",
     "text": [
      "Epoch 3/41:  82%|████████▏ | 175/214 [00:03<00:00, 44.84batch/s, loss=0.191]"
     ]
    },
    {
     "name": "stdout",
     "output_type": "stream",
     "text": [
      "torch.Size([41, 62, 150])\n",
      "torch.Size([41, 62, 150])\n",
      "torch.Size([41, 62, 150])\n",
      "torch.Size([41, 62, 150])\n",
      "torch.Size([41, 62, 150])\n"
     ]
    },
    {
     "name": "stderr",
     "output_type": "stream",
     "text": [
      "Epoch 3/41:  84%|████████▍ | 180/214 [00:04<00:00, 44.84batch/s, loss=0.19] "
     ]
    },
    {
     "name": "stdout",
     "output_type": "stream",
     "text": [
      "torch.Size([41, 62, 150])\n",
      "torch.Size([41, 62, 150])\n",
      "torch.Size([41, 62, 150])\n",
      "torch.Size([41, 62, 150])\n"
     ]
    },
    {
     "name": "stderr",
     "output_type": "stream",
     "text": [
      "Epoch 3/41:  86%|████████▋ | 185/214 [00:04<00:00, 45.03batch/s, loss=0.19] "
     ]
    },
    {
     "name": "stdout",
     "output_type": "stream",
     "text": [
      "torch.Size([41, 62, 150])\n",
      "torch.Size([41, 62, 150])\n",
      "torch.Size([41, 62, 150])\n",
      "torch.Size([41, 62, 150])\n",
      "torch.Size([41, 62, 150])\n",
      "torch.Size([41, 62, 150])\n"
     ]
    },
    {
     "name": "stderr",
     "output_type": "stream",
     "text": [
      "Epoch 3/41:  89%|████████▉ | 190/214 [00:04<00:00, 45.46batch/s, loss=0.194]"
     ]
    },
    {
     "name": "stdout",
     "output_type": "stream",
     "text": [
      "torch.Size([41, 62, 150])\n",
      "torch.Size([41, 62, 150])\n",
      "torch.Size([41, 62, 150])\n",
      "torch.Size([41, 62, 150])\n"
     ]
    },
    {
     "name": "stderr",
     "output_type": "stream",
     "text": [
      "Epoch 3/41:  91%|█████████ | 195/214 [00:04<00:00, 45.24batch/s, loss=0.19] "
     ]
    },
    {
     "name": "stdout",
     "output_type": "stream",
     "text": [
      "torch.Size([41, 62, 150])\n",
      "torch.Size([41, 62, 150])\n",
      "torch.Size([41, 62, 150])\n",
      "torch.Size([41, 62, 150])\n",
      "torch.Size([41, 62, 150])\n",
      "torch.Size([41, 62, 150])\n"
     ]
    },
    {
     "name": "stderr",
     "output_type": "stream",
     "text": [
      "Epoch 3/41:  93%|█████████▎| 200/214 [00:04<00:00, 45.20batch/s, loss=0.193]"
     ]
    },
    {
     "name": "stdout",
     "output_type": "stream",
     "text": [
      "torch.Size([41, 62, 150])\n",
      "torch.Size([41, 62, 150])\n",
      "torch.Size([41, 62, 150])\n"
     ]
    },
    {
     "name": "stderr",
     "output_type": "stream",
     "text": [
      "Epoch 3/41:  96%|█████████▌| 205/214 [00:04<00:00, 44.96batch/s, loss=0.189]"
     ]
    },
    {
     "name": "stdout",
     "output_type": "stream",
     "text": [
      "torch.Size([41, 62, 150])\n",
      "torch.Size([41, 62, 150])\n",
      "torch.Size([41, 62, 150])\n",
      "torch.Size([41, 62, 150])\n",
      "torch.Size([41, 62, 150])\n",
      "torch.Size([41, 62, 150])\n"
     ]
    },
    {
     "name": "stderr",
     "output_type": "stream",
     "text": [
      "Epoch 3/41:  96%|█████████▌| 205/214 [00:04<00:00, 44.96batch/s, loss=0.191]"
     ]
    },
    {
     "name": "stdout",
     "output_type": "stream",
     "text": [
      "torch.Size([41, 62, 150])\n",
      "torch.Size([41, 62, 150])\n",
      "torch.Size([41, 62, 150])\n"
     ]
    },
    {
     "name": "stderr",
     "output_type": "stream",
     "text": [
      "Epoch 3/41: 100%|██████████| 214/214 [00:04<00:00, 44.84batch/s, loss=0.191]\n"
     ]
    },
    {
     "name": "stdout",
     "output_type": "stream",
     "text": [
      "torch.Size([41, 62, 150])\n",
      "torch.Size([41, 62, 150])\n",
      "torch.Size([41, 62, 150])\n",
      "torch.Size([41, 62, 150])\n",
      "torch.Size([7, 62, 150])\n",
      "Epoch 3/41, Loss: 0.1883364586490337\n"
     ]
    },
    {
     "name": "stderr",
     "output_type": "stream",
     "text": [
      "Epoch 4/41:   0%|          | 0/214 [00:00<?, ?batch/s, loss=0.159]"
     ]
    },
    {
     "name": "stdout",
     "output_type": "stream",
     "text": [
      "torch.Size([41, 62, 150])\n"
     ]
    },
    {
     "name": "stderr",
     "output_type": "stream",
     "text": [
      "Epoch 4/41:   0%|          | 0/214 [00:00<?, ?batch/s, loss=0.719]"
     ]
    },
    {
     "name": "stdout",
     "output_type": "stream",
     "text": [
      "torch.Size([41, 62, 150])\n",
      "torch.Size([41, 62, 150])\n",
      "torch.Size([41, 62, 150])\n",
      "torch.Size([41, 62, 150])\n"
     ]
    },
    {
     "name": "stderr",
     "output_type": "stream",
     "text": [
      "Epoch 4/41:   2%|▏         | 5/214 [00:00<00:04, 46.25batch/s, loss=0.262]"
     ]
    },
    {
     "name": "stdout",
     "output_type": "stream",
     "text": [
      "torch.Size([41, 62, 150])\n",
      "torch.Size([41, 62, 150])\n",
      "torch.Size([41, 62, 150])\n",
      "torch.Size([41, 62, 150])\n",
      "torch.Size([41, 62, 150])\n"
     ]
    },
    {
     "name": "stderr",
     "output_type": "stream",
     "text": [
      "Epoch 4/41:   5%|▍         | 10/214 [00:00<00:04, 45.34batch/s, loss=0.29]"
     ]
    },
    {
     "name": "stdout",
     "output_type": "stream",
     "text": [
      "torch.Size([41, 62, 150])\n"
     ]
    },
    {
     "name": "stderr",
     "output_type": "stream",
     "text": [
      "Epoch 4/41:   5%|▍         | 10/214 [00:00<00:04, 45.34batch/s, loss=0.219]"
     ]
    },
    {
     "name": "stdout",
     "output_type": "stream",
     "text": [
      "torch.Size([41, 62, 150])\n",
      "torch.Size([41, 62, 150])\n",
      "torch.Size([41, 62, 150])\n"
     ]
    },
    {
     "name": "stderr",
     "output_type": "stream",
     "text": [
      "Epoch 4/41:   7%|▋         | 15/214 [00:00<00:04, 45.08batch/s, loss=0.206]"
     ]
    },
    {
     "name": "stdout",
     "output_type": "stream",
     "text": [
      "torch.Size([41, 62, 150])\n",
      "torch.Size([41, 62, 150])\n",
      "torch.Size([41, 62, 150])\n",
      "torch.Size([41, 62, 150])\n",
      "torch.Size([41, 62, 150])\n",
      "torch.Size([41, 62, 150])\n"
     ]
    },
    {
     "name": "stderr",
     "output_type": "stream",
     "text": [
      "Epoch 4/41:   9%|▉         | 20/214 [00:00<00:04, 44.98batch/s, loss=0.217]"
     ]
    },
    {
     "name": "stdout",
     "output_type": "stream",
     "text": [
      "torch.Size([41, 62, 150])\n"
     ]
    },
    {
     "name": "stderr",
     "output_type": "stream",
     "text": [
      "Epoch 4/41:   9%|▉         | 20/214 [00:00<00:04, 44.98batch/s, loss=0.189]"
     ]
    },
    {
     "name": "stdout",
     "output_type": "stream",
     "text": [
      "torch.Size([41, 62, 150])\n",
      "torch.Size([41, 62, 150])\n"
     ]
    },
    {
     "name": "stderr",
     "output_type": "stream",
     "text": [
      "Epoch 4/41:  12%|█▏        | 25/214 [00:00<00:04, 44.86batch/s, loss=0.192]"
     ]
    },
    {
     "name": "stdout",
     "output_type": "stream",
     "text": [
      "torch.Size([41, 62, 150])\n",
      "torch.Size([41, 62, 150])\n",
      "torch.Size([41, 62, 150])\n",
      "torch.Size([41, 62, 150])\n",
      "torch.Size([41, 62, 150])\n",
      "torch.Size([41, 62, 150])\n",
      "torch.Size([41, 62, 150])\n"
     ]
    },
    {
     "name": "stderr",
     "output_type": "stream",
     "text": [
      "Epoch 4/41:  14%|█▍        | 30/214 [00:00<00:04, 44.83batch/s, loss=0.179]"
     ]
    },
    {
     "name": "stdout",
     "output_type": "stream",
     "text": [
      "torch.Size([41, 62, 150])\n",
      "torch.Size([41, 62, 150])\n",
      "torch.Size([41, 62, 150])\n"
     ]
    },
    {
     "name": "stderr",
     "output_type": "stream",
     "text": [
      "Epoch 4/41:  16%|█▋        | 35/214 [00:00<00:03, 45.29batch/s, loss=0.187]"
     ]
    },
    {
     "name": "stdout",
     "output_type": "stream",
     "text": [
      "torch.Size([41, 62, 150])\n",
      "torch.Size([41, 62, 150])\n",
      "torch.Size([41, 62, 150])\n",
      "torch.Size([41, 62, 150])\n",
      "torch.Size([41, 62, 150])\n",
      "torch.Size([41, 62, 150])\n",
      "torch.Size([41, 62, 150])\n"
     ]
    },
    {
     "name": "stderr",
     "output_type": "stream",
     "text": [
      "Epoch 4/41:  19%|█▊        | 40/214 [00:00<00:03, 45.16batch/s, loss=0.178]"
     ]
    },
    {
     "name": "stdout",
     "output_type": "stream",
     "text": [
      "torch.Size([41, 62, 150])\n",
      "torch.Size([41, 62, 150])\n",
      "torch.Size([41, 62, 150])\n"
     ]
    },
    {
     "name": "stderr",
     "output_type": "stream",
     "text": [
      "Epoch 4/41:  21%|██        | 45/214 [00:01<00:03, 45.07batch/s, loss=0.185]"
     ]
    },
    {
     "name": "stdout",
     "output_type": "stream",
     "text": [
      "torch.Size([41, 62, 150])\n",
      "torch.Size([41, 62, 150])\n",
      "torch.Size([41, 62, 150])\n",
      "torch.Size([41, 62, 150])\n",
      "torch.Size([41, 62, 150])\n",
      "torch.Size([41, 62, 150])\n",
      "torch.Size([41, 62, 150])\n"
     ]
    },
    {
     "name": "stderr",
     "output_type": "stream",
     "text": [
      "Epoch 4/41:  23%|██▎       | 50/214 [00:01<00:03, 44.94batch/s, loss=0.177]"
     ]
    },
    {
     "name": "stdout",
     "output_type": "stream",
     "text": [
      "torch.Size([41, 62, 150])\n",
      "torch.Size([41, 62, 150])\n"
     ]
    },
    {
     "name": "stderr",
     "output_type": "stream",
     "text": [
      "Epoch 4/41:  26%|██▌       | 55/214 [00:01<00:03, 44.88batch/s, loss=0.183]"
     ]
    },
    {
     "name": "stdout",
     "output_type": "stream",
     "text": [
      "torch.Size([41, 62, 150])\n",
      "torch.Size([41, 62, 150])\n",
      "torch.Size([41, 62, 150])\n",
      "torch.Size([41, 62, 150])\n",
      "torch.Size([41, 62, 150])\n",
      "torch.Size([41, 62, 150])\n",
      "torch.Size([41, 62, 150])\n",
      "torch.Size([41, 62, 150])\n"
     ]
    },
    {
     "name": "stderr",
     "output_type": "stream",
     "text": [
      "Epoch 4/41:  28%|██▊       | 60/214 [00:01<00:03, 44.87batch/s, loss=0.173]"
     ]
    },
    {
     "name": "stdout",
     "output_type": "stream",
     "text": [
      "torch.Size([41, 62, 150])\n",
      "torch.Size([41, 62, 150])\n"
     ]
    },
    {
     "name": "stderr",
     "output_type": "stream",
     "text": [
      "Epoch 4/41:  30%|███       | 65/214 [00:01<00:03, 45.28batch/s, loss=0.182]"
     ]
    },
    {
     "name": "stdout",
     "output_type": "stream",
     "text": [
      "torch.Size([41, 62, 150])\n",
      "torch.Size([41, 62, 150])\n",
      "torch.Size([41, 62, 150])\n",
      "torch.Size([41, 62, 150])\n",
      "torch.Size([41, 62, 150])\n",
      "torch.Size([41, 62, 150])\n",
      "torch.Size([41, 62, 150])\n",
      "torch.Size([41, 62, 150])\n"
     ]
    },
    {
     "name": "stderr",
     "output_type": "stream",
     "text": [
      "Epoch 4/41:  33%|███▎      | 70/214 [00:01<00:03, 45.28batch/s, loss=0.173]"
     ]
    },
    {
     "name": "stdout",
     "output_type": "stream",
     "text": [
      "torch.Size([41, 62, 150])\n",
      "torch.Size([41, 62, 150])\n"
     ]
    },
    {
     "name": "stderr",
     "output_type": "stream",
     "text": [
      "Epoch 4/41:  35%|███▌      | 75/214 [00:01<00:03, 45.07batch/s, loss=0.18] "
     ]
    },
    {
     "name": "stdout",
     "output_type": "stream",
     "text": [
      "torch.Size([41, 62, 150])\n",
      "torch.Size([41, 62, 150])\n",
      "torch.Size([41, 62, 150])\n",
      "torch.Size([41, 62, 150])\n",
      "torch.Size([41, 62, 150])\n",
      "torch.Size([41, 62, 150])\n",
      "torch.Size([41, 62, 150])\n"
     ]
    },
    {
     "name": "stderr",
     "output_type": "stream",
     "text": [
      "Epoch 4/41:  37%|███▋      | 80/214 [00:01<00:02, 44.93batch/s, loss=0.173]"
     ]
    },
    {
     "name": "stdout",
     "output_type": "stream",
     "text": [
      "torch.Size([41, 62, 150])\n",
      "torch.Size([41, 62, 150])\n"
     ]
    },
    {
     "name": "stderr",
     "output_type": "stream",
     "text": [
      "Epoch 4/41:  40%|███▉      | 85/214 [00:01<00:02, 44.88batch/s, loss=0.175]"
     ]
    },
    {
     "name": "stdout",
     "output_type": "stream",
     "text": [
      "torch.Size([41, 62, 150])\n",
      "torch.Size([41, 62, 150])\n",
      "torch.Size([41, 62, 150])\n",
      "torch.Size([41, 62, 150])\n",
      "torch.Size([41, 62, 150])\n",
      "torch.Size([41, 62, 150])\n",
      "torch.Size([41, 62, 150])\n"
     ]
    },
    {
     "name": "stderr",
     "output_type": "stream",
     "text": [
      "Epoch 4/41:  42%|████▏     | 90/214 [00:01<00:02, 44.84batch/s, loss=0.179]"
     ]
    },
    {
     "name": "stdout",
     "output_type": "stream",
     "text": [
      "torch.Size([41, 62, 150])\n",
      "torch.Size([41, 62, 150])\n"
     ]
    },
    {
     "name": "stderr",
     "output_type": "stream",
     "text": [
      "Epoch 4/41:  44%|████▍     | 95/214 [00:02<00:02, 45.23batch/s, loss=0.173]"
     ]
    },
    {
     "name": "stdout",
     "output_type": "stream",
     "text": [
      "torch.Size([41, 62, 150])\n",
      "torch.Size([41, 62, 150])\n",
      "torch.Size([41, 62, 150])\n",
      "torch.Size([41, 62, 150])\n",
      "torch.Size([41, 62, 150])\n",
      "torch.Size([41, 62, 150])\n",
      "torch.Size([41, 62, 150])\n",
      "torch.Size([41, 62, 150])\n"
     ]
    },
    {
     "name": "stderr",
     "output_type": "stream",
     "text": [
      "Epoch 4/41:  44%|████▍     | 95/214 [00:02<00:02, 45.23batch/s, loss=0.176]"
     ]
    },
    {
     "name": "stdout",
     "output_type": "stream",
     "text": [
      "torch.Size([41, 62, 150])\n",
      "torch.Size([41, 62, 150])\n"
     ]
    },
    {
     "name": "stderr",
     "output_type": "stream",
     "text": [
      "Epoch 4/41:  49%|████▉     | 105/214 [00:02<00:02, 45.04batch/s, loss=0.172]"
     ]
    },
    {
     "name": "stdout",
     "output_type": "stream",
     "text": [
      "torch.Size([41, 62, 150])\n",
      "torch.Size([41, 62, 150])\n",
      "torch.Size([41, 62, 150])\n",
      "torch.Size([41, 62, 150])\n",
      "torch.Size([41, 62, 150])\n",
      "torch.Size([41, 62, 150])\n",
      "torch.Size([41, 62, 150])\n"
     ]
    },
    {
     "name": "stderr",
     "output_type": "stream",
     "text": [
      "Epoch 4/41:  49%|████▉     | 105/214 [00:02<00:02, 45.04batch/s, loss=0.176]"
     ]
    },
    {
     "name": "stdout",
     "output_type": "stream",
     "text": [
      "torch.Size([41, 62, 150])\n",
      "torch.Size([41, 62, 150])\n",
      "torch.Size([41, 62, 150])\n"
     ]
    },
    {
     "name": "stderr",
     "output_type": "stream",
     "text": [
      "Epoch 4/41:  54%|█████▎    | 115/214 [00:02<00:02, 44.88batch/s, loss=0.17] "
     ]
    },
    {
     "name": "stdout",
     "output_type": "stream",
     "text": [
      "torch.Size([41, 62, 150])\n",
      "torch.Size([41, 62, 150])\n",
      "torch.Size([41, 62, 150])\n",
      "torch.Size([41, 62, 150])\n",
      "torch.Size([41, 62, 150])\n",
      "torch.Size([41, 62, 150])\n"
     ]
    },
    {
     "name": "stderr",
     "output_type": "stream",
     "text": [
      "Epoch 4/41:  54%|█████▎    | 115/214 [00:02<00:02, 44.88batch/s, loss=0.174]"
     ]
    },
    {
     "name": "stdout",
     "output_type": "stream",
     "text": [
      "torch.Size([41, 62, 150])\n",
      "torch.Size([41, 62, 150])\n",
      "torch.Size([41, 62, 150])\n",
      "torch.Size([41, 62, 150])\n"
     ]
    },
    {
     "name": "stderr",
     "output_type": "stream",
     "text": [
      "Epoch 4/41:  58%|█████▊    | 125/214 [00:02<00:01, 44.99batch/s, loss=0.175]"
     ]
    },
    {
     "name": "stdout",
     "output_type": "stream",
     "text": [
      "torch.Size([41, 62, 150])\n",
      "torch.Size([41, 62, 150])\n",
      "torch.Size([41, 62, 150])\n",
      "torch.Size([41, 62, 150])\n",
      "torch.Size([41, 62, 150])\n",
      "torch.Size([41, 62, 150])\n"
     ]
    },
    {
     "name": "stderr",
     "output_type": "stream",
     "text": [
      "Epoch 4/41:  58%|█████▊    | 125/214 [00:02<00:01, 44.99batch/s, loss=0.173]"
     ]
    },
    {
     "name": "stdout",
     "output_type": "stream",
     "text": [
      "torch.Size([41, 62, 150])\n",
      "torch.Size([41, 62, 150])\n",
      "torch.Size([41, 62, 150])\n",
      "torch.Size([41, 62, 150])\n"
     ]
    },
    {
     "name": "stderr",
     "output_type": "stream",
     "text": [
      "Epoch 4/41:  63%|██████▎   | 135/214 [00:02<00:01, 44.94batch/s, loss=0.174]"
     ]
    },
    {
     "name": "stdout",
     "output_type": "stream",
     "text": [
      "torch.Size([41, 62, 150])\n",
      "torch.Size([41, 62, 150])\n",
      "torch.Size([41, 62, 150])\n",
      "torch.Size([41, 62, 150])\n",
      "torch.Size([41, 62, 150])\n"
     ]
    },
    {
     "name": "stderr",
     "output_type": "stream",
     "text": [
      "Epoch 4/41:  63%|██████▎   | 135/214 [00:03<00:01, 44.94batch/s, loss=0.173]"
     ]
    },
    {
     "name": "stdout",
     "output_type": "stream",
     "text": [
      "torch.Size([41, 62, 150])\n",
      "torch.Size([41, 62, 150])\n",
      "torch.Size([41, 62, 150])\n",
      "torch.Size([41, 62, 150])\n"
     ]
    },
    {
     "name": "stderr",
     "output_type": "stream",
     "text": [
      "Epoch 4/41:  65%|██████▌   | 140/214 [00:03<00:01, 44.72batch/s, loss=0.173]"
     ]
    },
    {
     "name": "stdout",
     "output_type": "stream",
     "text": [
      "torch.Size([41, 62, 150])\n",
      "torch.Size([41, 62, 150])\n",
      "torch.Size([41, 62, 150])\n",
      "torch.Size([41, 62, 150])\n",
      "torch.Size([41, 62, 150])\n"
     ]
    },
    {
     "name": "stderr",
     "output_type": "stream",
     "text": [
      "Epoch 4/41:  68%|██████▊   | 145/214 [00:03<00:01, 44.73batch/s, loss=0.171]"
     ]
    },
    {
     "name": "stdout",
     "output_type": "stream",
     "text": [
      "torch.Size([41, 62, 150])\n",
      "torch.Size([41, 62, 150])\n",
      "torch.Size([41, 62, 150])\n",
      "torch.Size([41, 62, 150])\n"
     ]
    },
    {
     "name": "stderr",
     "output_type": "stream",
     "text": [
      "Epoch 4/41:  70%|███████   | 150/214 [00:03<00:01, 44.71batch/s, loss=0.171]"
     ]
    },
    {
     "name": "stdout",
     "output_type": "stream",
     "text": [
      "torch.Size([41, 62, 150])\n",
      "torch.Size([41, 62, 150])\n",
      "torch.Size([41, 62, 150])\n",
      "torch.Size([41, 62, 150])\n",
      "torch.Size([41, 62, 150])\n"
     ]
    },
    {
     "name": "stderr",
     "output_type": "stream",
     "text": [
      "Epoch 4/41:  72%|███████▏  | 155/214 [00:03<00:01, 45.00batch/s, loss=0.17] "
     ]
    },
    {
     "name": "stdout",
     "output_type": "stream",
     "text": [
      "torch.Size([41, 62, 150])\n",
      "torch.Size([41, 62, 150])\n",
      "torch.Size([41, 62, 150])\n",
      "torch.Size([41, 62, 150])\n",
      "torch.Size([41, 62, 150])\n"
     ]
    },
    {
     "name": "stderr",
     "output_type": "stream",
     "text": [
      "Epoch 4/41:  75%|███████▍  | 160/214 [00:03<00:01, 45.28batch/s, loss=0.17] "
     ]
    },
    {
     "name": "stdout",
     "output_type": "stream",
     "text": [
      "torch.Size([41, 62, 150])\n",
      "torch.Size([41, 62, 150])\n",
      "torch.Size([41, 62, 150])\n",
      "torch.Size([41, 62, 150])\n",
      "torch.Size([41, 62, 150])\n"
     ]
    },
    {
     "name": "stderr",
     "output_type": "stream",
     "text": [
      "Epoch 4/41:  77%|███████▋  | 165/214 [00:03<00:01, 45.07batch/s, loss=0.17] "
     ]
    },
    {
     "name": "stdout",
     "output_type": "stream",
     "text": [
      "torch.Size([41, 62, 150])\n",
      "torch.Size([41, 62, 150])\n",
      "torch.Size([41, 62, 150])\n",
      "torch.Size([41, 62, 150])\n"
     ]
    },
    {
     "name": "stderr",
     "output_type": "stream",
     "text": [
      "Epoch 4/41:  79%|███████▉  | 170/214 [00:03<00:00, 44.95batch/s, loss=0.169]"
     ]
    },
    {
     "name": "stdout",
     "output_type": "stream",
     "text": [
      "torch.Size([41, 62, 150])\n",
      "torch.Size([41, 62, 150])\n",
      "torch.Size([41, 62, 150])\n",
      "torch.Size([41, 62, 150])\n",
      "torch.Size([41, 62, 150])\n"
     ]
    },
    {
     "name": "stderr",
     "output_type": "stream",
     "text": [
      "Epoch 4/41:  82%|████████▏ | 175/214 [00:03<00:00, 44.86batch/s, loss=0.169]"
     ]
    },
    {
     "name": "stdout",
     "output_type": "stream",
     "text": [
      "torch.Size([41, 62, 150])\n",
      "torch.Size([41, 62, 150])\n",
      "torch.Size([41, 62, 150])\n",
      "torch.Size([41, 62, 150])\n"
     ]
    },
    {
     "name": "stderr",
     "output_type": "stream",
     "text": [
      "Epoch 4/41:  84%|████████▍ | 180/214 [00:04<00:00, 44.89batch/s, loss=0.168]"
     ]
    },
    {
     "name": "stdout",
     "output_type": "stream",
     "text": [
      "torch.Size([41, 62, 150])\n",
      "torch.Size([41, 62, 150])\n",
      "torch.Size([41, 62, 150])\n",
      "torch.Size([41, 62, 150])\n",
      "torch.Size([41, 62, 150])\n"
     ]
    },
    {
     "name": "stderr",
     "output_type": "stream",
     "text": [
      "Epoch 4/41:  86%|████████▋ | 185/214 [00:04<00:00, 45.16batch/s, loss=0.172]"
     ]
    },
    {
     "name": "stdout",
     "output_type": "stream",
     "text": [
      "torch.Size([41, 62, 150])\n",
      "torch.Size([41, 62, 150])\n",
      "torch.Size([41, 62, 150])\n",
      "torch.Size([41, 62, 150])\n",
      "torch.Size([41, 62, 150])\n"
     ]
    },
    {
     "name": "stderr",
     "output_type": "stream",
     "text": [
      "Epoch 4/41:  89%|████████▉ | 190/214 [00:04<00:00, 45.16batch/s, loss=0.172]"
     ]
    },
    {
     "name": "stdout",
     "output_type": "stream",
     "text": [
      "torch.Size([41, 62, 150])\n",
      "torch.Size([41, 62, 150])\n",
      "torch.Size([41, 62, 150])\n",
      "torch.Size([41, 62, 150])\n",
      "torch.Size([41, 62, 150])\n"
     ]
    },
    {
     "name": "stderr",
     "output_type": "stream",
     "text": [
      "Epoch 4/41:  91%|█████████ | 195/214 [00:04<00:00, 44.96batch/s, loss=0.171]"
     ]
    },
    {
     "name": "stdout",
     "output_type": "stream",
     "text": [
      "torch.Size([41, 62, 150])\n",
      "torch.Size([41, 62, 150])\n",
      "torch.Size([41, 62, 150])\n",
      "torch.Size([41, 62, 150])\n"
     ]
    },
    {
     "name": "stderr",
     "output_type": "stream",
     "text": [
      "Epoch 4/41:  93%|█████████▎| 200/214 [00:04<00:00, 44.91batch/s, loss=0.171]"
     ]
    },
    {
     "name": "stdout",
     "output_type": "stream",
     "text": [
      "torch.Size([41, 62, 150])\n",
      "torch.Size([41, 62, 150])\n",
      "torch.Size([41, 62, 150])\n",
      "torch.Size([41, 62, 150])\n",
      "torch.Size([41, 62, 150])\n",
      "torch.Size([41, 62, 150])\n"
     ]
    },
    {
     "name": "stderr",
     "output_type": "stream",
     "text": [
      "Epoch 4/41:  93%|█████████▎| 200/214 [00:04<00:00, 44.91batch/s, loss=0.17] "
     ]
    },
    {
     "name": "stdout",
     "output_type": "stream",
     "text": [
      "torch.Size([41, 62, 150])\n",
      "torch.Size([41, 62, 150])\n",
      "torch.Size([41, 62, 150])\n"
     ]
    },
    {
     "name": "stderr",
     "output_type": "stream",
     "text": [
      "Epoch 4/41:  98%|█████████▊| 210/214 [00:04<00:00, 44.80batch/s, loss=0.171]"
     ]
    },
    {
     "name": "stdout",
     "output_type": "stream",
     "text": [
      "torch.Size([41, 62, 150])\n",
      "torch.Size([41, 62, 150])\n",
      "torch.Size([41, 62, 150])\n",
      "torch.Size([41, 62, 150])\n",
      "torch.Size([41, 62, 150])\n",
      "torch.Size([41, 62, 150])\n"
     ]
    },
    {
     "name": "stderr",
     "output_type": "stream",
     "text": [
      "Epoch 4/41:  98%|█████████▊| 210/214 [00:04<00:00, 44.80batch/s, loss=0.169]"
     ]
    },
    {
     "name": "stdout",
     "output_type": "stream",
     "text": [
      "torch.Size([41, 62, 150])\n",
      "torch.Size([41, 62, 150])\n",
      "torch.Size([41, 62, 150])\n",
      "torch.Size([7, 62, 150])\n"
     ]
    },
    {
     "name": "stderr",
     "output_type": "stream",
     "text": [
      "Epoch 4/41: 100%|██████████| 214/214 [00:04<00:00, 44.98batch/s, loss=0.17] \n"
     ]
    },
    {
     "name": "stdout",
     "output_type": "stream",
     "text": [
      "Epoch 4/41, Loss: 0.16741827551588834\n"
     ]
    },
    {
     "name": "stderr",
     "output_type": "stream",
     "text": [
      "Epoch 5/41:   2%|▏         | 5/214 [00:00<00:04, 46.59batch/s, loss=0.863]"
     ]
    },
    {
     "name": "stdout",
     "output_type": "stream",
     "text": [
      "torch.Size([41, 62, 150])\n",
      "torch.Size([41, 62, 150])\n",
      "torch.Size([41, 62, 150])\n",
      "torch.Size([41, 62, 150])\n",
      "torch.Size([41, 62, 150])\n",
      "torch.Size([41, 62, 150])\n"
     ]
    },
    {
     "name": "stderr",
     "output_type": "stream",
     "text": [
      "Epoch 5/41:   2%|▏         | 5/214 [00:00<00:04, 46.59batch/s, loss=0.25] "
     ]
    },
    {
     "name": "stdout",
     "output_type": "stream",
     "text": [
      "torch.Size([41, 62, 150])\n",
      "torch.Size([41, 62, 150])\n",
      "torch.Size([41, 62, 150])\n",
      "torch.Size([41, 62, 150])\n"
     ]
    },
    {
     "name": "stderr",
     "output_type": "stream",
     "text": [
      "Epoch 5/41:   7%|▋         | 15/214 [00:00<00:04, 45.03batch/s, loss=0.226]"
     ]
    },
    {
     "name": "stdout",
     "output_type": "stream",
     "text": [
      "torch.Size([41, 62, 150])\n",
      "torch.Size([41, 62, 150])\n",
      "torch.Size([41, 62, 150])\n",
      "torch.Size([41, 62, 150])\n",
      "torch.Size([41, 62, 150])\n"
     ]
    },
    {
     "name": "stderr",
     "output_type": "stream",
     "text": [
      "Epoch 5/41:   7%|▋         | 15/214 [00:00<00:04, 45.03batch/s, loss=0.185]"
     ]
    },
    {
     "name": "stdout",
     "output_type": "stream",
     "text": [
      "torch.Size([41, 62, 150])\n",
      "torch.Size([41, 62, 150])\n",
      "torch.Size([41, 62, 150])\n"
     ]
    },
    {
     "name": "stderr",
     "output_type": "stream",
     "text": [
      "Epoch 5/41:   7%|▋         | 15/214 [00:00<00:04, 45.03batch/s, loss=0.195]"
     ]
    },
    {
     "name": "stdout",
     "output_type": "stream",
     "text": [
      "torch.Size([41, 62, 150])\n"
     ]
    },
    {
     "name": "stderr",
     "output_type": "stream",
     "text": [
      "Epoch 5/41:   9%|▉         | 20/214 [00:00<00:04, 44.69batch/s, loss=0.187]"
     ]
    },
    {
     "name": "stdout",
     "output_type": "stream",
     "text": [
      "torch.Size([41, 62, 150])\n",
      "torch.Size([41, 62, 150])\n",
      "torch.Size([41, 62, 150])\n",
      "torch.Size([41, 62, 150])\n",
      "torch.Size([41, 62, 150])\n"
     ]
    },
    {
     "name": "stderr",
     "output_type": "stream",
     "text": [
      "Epoch 5/41:  12%|█▏        | 25/214 [00:00<00:04, 44.70batch/s, loss=0.17] "
     ]
    },
    {
     "name": "stdout",
     "output_type": "stream",
     "text": [
      "torch.Size([41, 62, 150])\n",
      "torch.Size([41, 62, 150])\n",
      "torch.Size([41, 62, 150])\n"
     ]
    },
    {
     "name": "stderr",
     "output_type": "stream",
     "text": [
      "Epoch 5/41:  12%|█▏        | 25/214 [00:00<00:04, 44.70batch/s, loss=0.177]"
     ]
    },
    {
     "name": "stdout",
     "output_type": "stream",
     "text": [
      "torch.Size([41, 62, 150])\n"
     ]
    },
    {
     "name": "stderr",
     "output_type": "stream",
     "text": [
      "Epoch 5/41:  14%|█▍        | 30/214 [00:00<00:04, 44.78batch/s, loss=0.176]"
     ]
    },
    {
     "name": "stdout",
     "output_type": "stream",
     "text": [
      "torch.Size([41, 62, 150])\n",
      "torch.Size([41, 62, 150])\n",
      "torch.Size([41, 62, 150])\n",
      "torch.Size([41, 62, 150])\n",
      "torch.Size([41, 62, 150])\n",
      "torch.Size([41, 62, 150])\n"
     ]
    },
    {
     "name": "stderr",
     "output_type": "stream",
     "text": [
      "Epoch 5/41:  16%|█▋        | 35/214 [00:00<00:03, 45.27batch/s, loss=0.165]"
     ]
    },
    {
     "name": "stdout",
     "output_type": "stream",
     "text": [
      "torch.Size([41, 62, 150])\n",
      "torch.Size([41, 62, 150])\n",
      "torch.Size([41, 62, 150])\n"
     ]
    },
    {
     "name": "stderr",
     "output_type": "stream",
     "text": [
      "Epoch 5/41:  16%|█▋        | 35/214 [00:00<00:03, 45.27batch/s, loss=0.17] "
     ]
    },
    {
     "name": "stdout",
     "output_type": "stream",
     "text": [
      "torch.Size([41, 62, 150])\n"
     ]
    },
    {
     "name": "stderr",
     "output_type": "stream",
     "text": [
      "Epoch 5/41:  19%|█▊        | 40/214 [00:00<00:03, 44.93batch/s, loss=0.172]"
     ]
    },
    {
     "name": "stdout",
     "output_type": "stream",
     "text": [
      "torch.Size([41, 62, 150])\n",
      "torch.Size([41, 62, 150])\n",
      "torch.Size([41, 62, 150])\n",
      "torch.Size([41, 62, 150])\n",
      "torch.Size([41, 62, 150])\n"
     ]
    },
    {
     "name": "stderr",
     "output_type": "stream",
     "text": [
      "Epoch 5/41:  21%|██        | 45/214 [00:01<00:03, 44.96batch/s, loss=0.163]"
     ]
    },
    {
     "name": "stdout",
     "output_type": "stream",
     "text": [
      "torch.Size([41, 62, 150])\n",
      "torch.Size([41, 62, 150])\n",
      "torch.Size([41, 62, 150])\n"
     ]
    },
    {
     "name": "stderr",
     "output_type": "stream",
     "text": [
      "Epoch 5/41:  21%|██        | 45/214 [00:01<00:03, 44.96batch/s, loss=0.166]"
     ]
    },
    {
     "name": "stdout",
     "output_type": "stream",
     "text": [
      "torch.Size([41, 62, 150])\n"
     ]
    },
    {
     "name": "stderr",
     "output_type": "stream",
     "text": [
      "Epoch 5/41:  23%|██▎       | 50/214 [00:01<00:03, 44.77batch/s, loss=0.164]"
     ]
    },
    {
     "name": "stdout",
     "output_type": "stream",
     "text": [
      "torch.Size([41, 62, 150])\n",
      "torch.Size([41, 62, 150])\n",
      "torch.Size([41, 62, 150])\n",
      "torch.Size([41, 62, 150])\n",
      "torch.Size([41, 62, 150])\n"
     ]
    },
    {
     "name": "stderr",
     "output_type": "stream",
     "text": [
      "Epoch 5/41:  26%|██▌       | 55/214 [00:01<00:03, 44.68batch/s, loss=0.174]"
     ]
    },
    {
     "name": "stdout",
     "output_type": "stream",
     "text": [
      "torch.Size([41, 62, 150])\n",
      "torch.Size([41, 62, 150])\n",
      "torch.Size([41, 62, 150])\n"
     ]
    },
    {
     "name": "stderr",
     "output_type": "stream",
     "text": [
      "Epoch 5/41:  26%|██▌       | 55/214 [00:01<00:03, 44.68batch/s, loss=0.161]"
     ]
    },
    {
     "name": "stdout",
     "output_type": "stream",
     "text": [
      "torch.Size([41, 62, 150])\n"
     ]
    },
    {
     "name": "stderr",
     "output_type": "stream",
     "text": [
      "Epoch 5/41:  28%|██▊       | 60/214 [00:01<00:03, 44.65batch/s, loss=0.16] "
     ]
    },
    {
     "name": "stdout",
     "output_type": "stream",
     "text": [
      "torch.Size([41, 62, 150])\n",
      "torch.Size([41, 62, 150])\n",
      "torch.Size([41, 62, 150])\n",
      "torch.Size([41, 62, 150])\n",
      "torch.Size([41, 62, 150])\n"
     ]
    },
    {
     "name": "stderr",
     "output_type": "stream",
     "text": [
      "Epoch 5/41:  28%|██▊       | 60/214 [00:01<00:03, 44.65batch/s, loss=0.168]"
     ]
    },
    {
     "name": "stdout",
     "output_type": "stream",
     "text": [
      "torch.Size([41, 62, 150])\n",
      "torch.Size([41, 62, 150])\n",
      "torch.Size([41, 62, 150])\n",
      "torch.Size([41, 62, 150])\n"
     ]
    },
    {
     "name": "stderr",
     "output_type": "stream",
     "text": [
      "Epoch 5/41:  30%|███       | 65/214 [00:01<00:03, 45.13batch/s, loss=0.17] "
     ]
    },
    {
     "name": "stdout",
     "output_type": "stream",
     "text": [
      "torch.Size([41, 62, 150])\n"
     ]
    },
    {
     "name": "stderr",
     "output_type": "stream",
     "text": [
      "Epoch 5/41:  33%|███▎      | 70/214 [00:01<00:03, 44.93batch/s, loss=0.17] "
     ]
    },
    {
     "name": "stdout",
     "output_type": "stream",
     "text": [
      "torch.Size([41, 62, 150])\n",
      "torch.Size([41, 62, 150])\n",
      "torch.Size([41, 62, 150])\n",
      "torch.Size([41, 62, 150])\n",
      "torch.Size([41, 62, 150])\n"
     ]
    },
    {
     "name": "stderr",
     "output_type": "stream",
     "text": [
      "Epoch 5/41:  33%|███▎      | 70/214 [00:01<00:03, 44.93batch/s, loss=0.167]"
     ]
    },
    {
     "name": "stdout",
     "output_type": "stream",
     "text": [
      "torch.Size([41, 62, 150])\n",
      "torch.Size([41, 62, 150])\n",
      "torch.Size([41, 62, 150])\n"
     ]
    },
    {
     "name": "stderr",
     "output_type": "stream",
     "text": [
      "Epoch 5/41:  35%|███▌      | 75/214 [00:01<00:03, 44.91batch/s, loss=0.17] "
     ]
    },
    {
     "name": "stdout",
     "output_type": "stream",
     "text": [
      "torch.Size([41, 62, 150])\n"
     ]
    },
    {
     "name": "stderr",
     "output_type": "stream",
     "text": [
      "Epoch 5/41:  37%|███▋      | 80/214 [00:01<00:02, 44.68batch/s, loss=0.169]"
     ]
    },
    {
     "name": "stdout",
     "output_type": "stream",
     "text": [
      "torch.Size([41, 62, 150])\n",
      "torch.Size([41, 62, 150])\n",
      "torch.Size([41, 62, 150])\n",
      "torch.Size([41, 62, 150])\n",
      "torch.Size([41, 62, 150])\n"
     ]
    },
    {
     "name": "stderr",
     "output_type": "stream",
     "text": [
      "Epoch 5/41:  37%|███▋      | 80/214 [00:01<00:02, 44.68batch/s, loss=0.165]"
     ]
    },
    {
     "name": "stdout",
     "output_type": "stream",
     "text": [
      "torch.Size([41, 62, 150])\n",
      "torch.Size([41, 62, 150])\n",
      "torch.Size([41, 62, 150])\n"
     ]
    },
    {
     "name": "stderr",
     "output_type": "stream",
     "text": [
      "Epoch 5/41:  37%|███▋      | 80/214 [00:01<00:02, 44.68batch/s, loss=0.167]"
     ]
    },
    {
     "name": "stdout",
     "output_type": "stream",
     "text": [
      "torch.Size([41, 62, 150])\n"
     ]
    },
    {
     "name": "stderr",
     "output_type": "stream",
     "text": [
      "Epoch 5/41:  40%|███▉      | 85/214 [00:01<00:02, 44.53batch/s, loss=0.167]"
     ]
    },
    {
     "name": "stdout",
     "output_type": "stream",
     "text": [
      "torch.Size([41, 62, 150])\n",
      "torch.Size([41, 62, 150])\n",
      "torch.Size([41, 62, 150])\n",
      "torch.Size([41, 62, 150])\n",
      "torch.Size([41, 62, 150])\n"
     ]
    },
    {
     "name": "stderr",
     "output_type": "stream",
     "text": [
      "Epoch 5/41:  42%|████▏     | 90/214 [00:02<00:02, 44.69batch/s, loss=0.163]"
     ]
    },
    {
     "name": "stdout",
     "output_type": "stream",
     "text": [
      "torch.Size([41, 62, 150])\n",
      "torch.Size([41, 62, 150])\n",
      "torch.Size([41, 62, 150])\n",
      "torch.Size([41, 62, 150])\n"
     ]
    },
    {
     "name": "stderr",
     "output_type": "stream",
     "text": [
      "Epoch 5/41:  42%|████▏     | 90/214 [00:02<00:02, 44.69batch/s, loss=0.164]"
     ]
    },
    {
     "name": "stdout",
     "output_type": "stream",
     "text": [
      "torch.Size([41, 62, 150])\n"
     ]
    },
    {
     "name": "stderr",
     "output_type": "stream",
     "text": [
      "Epoch 5/41:  44%|████▍     | 95/214 [00:02<00:02, 45.16batch/s, loss=0.164]"
     ]
    },
    {
     "name": "stdout",
     "output_type": "stream",
     "text": [
      "torch.Size([41, 62, 150])\n",
      "torch.Size([41, 62, 150])\n",
      "torch.Size([41, 62, 150])\n",
      "torch.Size([41, 62, 150])\n",
      "torch.Size([41, 62, 150])\n"
     ]
    },
    {
     "name": "stderr",
     "output_type": "stream",
     "text": [
      "Epoch 5/41:  47%|████▋     | 100/214 [00:02<00:02, 44.87batch/s, loss=0.162]"
     ]
    },
    {
     "name": "stdout",
     "output_type": "stream",
     "text": [
      "torch.Size([41, 62, 150])\n",
      "torch.Size([41, 62, 150])\n",
      "torch.Size([41, 62, 150])\n"
     ]
    },
    {
     "name": "stderr",
     "output_type": "stream",
     "text": [
      "Epoch 5/41:  47%|████▋     | 100/214 [00:02<00:02, 44.87batch/s, loss=0.164]"
     ]
    },
    {
     "name": "stdout",
     "output_type": "stream",
     "text": [
      "torch.Size([41, 62, 150])\n"
     ]
    },
    {
     "name": "stderr",
     "output_type": "stream",
     "text": [
      "Epoch 5/41:  49%|████▉     | 105/214 [00:02<00:02, 44.92batch/s, loss=0.163]"
     ]
    },
    {
     "name": "stdout",
     "output_type": "stream",
     "text": [
      "torch.Size([41, 62, 150])\n",
      "torch.Size([41, 62, 150])\n",
      "torch.Size([41, 62, 150])\n",
      "torch.Size([41, 62, 150])\n",
      "torch.Size([41, 62, 150])\n"
     ]
    },
    {
     "name": "stderr",
     "output_type": "stream",
     "text": [
      "Epoch 5/41:  51%|█████▏    | 110/214 [00:02<00:02, 44.78batch/s, loss=0.16] "
     ]
    },
    {
     "name": "stdout",
     "output_type": "stream",
     "text": [
      "torch.Size([41, 62, 150])\n",
      "torch.Size([41, 62, 150])\n",
      "torch.Size([41, 62, 150])\n"
     ]
    },
    {
     "name": "stderr",
     "output_type": "stream",
     "text": [
      "Epoch 5/41:  51%|█████▏    | 110/214 [00:02<00:02, 44.78batch/s, loss=0.161]"
     ]
    },
    {
     "name": "stdout",
     "output_type": "stream",
     "text": [
      "torch.Size([41, 62, 150])\n"
     ]
    },
    {
     "name": "stderr",
     "output_type": "stream",
     "text": [
      "Epoch 5/41:  54%|█████▎    | 115/214 [00:02<00:02, 44.74batch/s, loss=0.161]"
     ]
    },
    {
     "name": "stdout",
     "output_type": "stream",
     "text": [
      "torch.Size([41, 62, 150])\n",
      "torch.Size([41, 62, 150])\n",
      "torch.Size([41, 62, 150])\n",
      "torch.Size([41, 62, 150])\n",
      "torch.Size([41, 62, 150])\n"
     ]
    },
    {
     "name": "stderr",
     "output_type": "stream",
     "text": [
      "Epoch 5/41:  56%|█████▌    | 120/214 [00:02<00:02, 44.80batch/s, loss=0.164]"
     ]
    },
    {
     "name": "stdout",
     "output_type": "stream",
     "text": [
      "torch.Size([41, 62, 150])\n",
      "torch.Size([41, 62, 150])\n",
      "torch.Size([41, 62, 150])\n"
     ]
    },
    {
     "name": "stderr",
     "output_type": "stream",
     "text": [
      "Epoch 5/41:  56%|█████▌    | 120/214 [00:02<00:02, 44.80batch/s, loss=0.159]"
     ]
    },
    {
     "name": "stdout",
     "output_type": "stream",
     "text": [
      "torch.Size([41, 62, 150])\n",
      "torch.Size([41, 62, 150])\n"
     ]
    },
    {
     "name": "stderr",
     "output_type": "stream",
     "text": [
      "Epoch 5/41:  58%|█████▊    | 125/214 [00:02<00:01, 45.16batch/s, loss=0.158]"
     ]
    },
    {
     "name": "stdout",
     "output_type": "stream",
     "text": [
      "torch.Size([41, 62, 150])\n",
      "torch.Size([41, 62, 150])\n",
      "torch.Size([41, 62, 150])\n",
      "torch.Size([41, 62, 150])\n",
      "torch.Size([41, 62, 150])\n"
     ]
    },
    {
     "name": "stderr",
     "output_type": "stream",
     "text": [
      "Epoch 5/41:  58%|█████▊    | 125/214 [00:02<00:01, 45.16batch/s, loss=0.162]"
     ]
    },
    {
     "name": "stdout",
     "output_type": "stream",
     "text": [
      "torch.Size([41, 62, 150])\n",
      "torch.Size([41, 62, 150])\n",
      "torch.Size([41, 62, 150])\n"
     ]
    },
    {
     "name": "stderr",
     "output_type": "stream",
     "text": [
      "Epoch 5/41:  61%|██████    | 130/214 [00:02<00:01, 44.91batch/s, loss=0.159]"
     ]
    },
    {
     "name": "stdout",
     "output_type": "stream",
     "text": [
      "torch.Size([41, 62, 150])\n",
      "torch.Size([41, 62, 150])\n"
     ]
    },
    {
     "name": "stderr",
     "output_type": "stream",
     "text": [
      "Epoch 5/41:  63%|██████▎   | 135/214 [00:03<00:01, 44.97batch/s, loss=0.158]"
     ]
    },
    {
     "name": "stdout",
     "output_type": "stream",
     "text": [
      "torch.Size([41, 62, 150])\n",
      "torch.Size([41, 62, 150])\n",
      "torch.Size([41, 62, 150])\n",
      "torch.Size([41, 62, 150])\n"
     ]
    },
    {
     "name": "stderr",
     "output_type": "stream",
     "text": [
      "Epoch 5/41:  63%|██████▎   | 135/214 [00:03<00:01, 44.97batch/s, loss=0.162]"
     ]
    },
    {
     "name": "stdout",
     "output_type": "stream",
     "text": [
      "torch.Size([41, 62, 150])\n",
      "torch.Size([41, 62, 150])\n",
      "torch.Size([41, 62, 150])\n",
      "torch.Size([41, 62, 150])\n"
     ]
    },
    {
     "name": "stderr",
     "output_type": "stream",
     "text": [
      "Epoch 5/41:  65%|██████▌   | 140/214 [00:03<00:01, 44.96batch/s, loss=0.158]"
     ]
    },
    {
     "name": "stdout",
     "output_type": "stream",
     "text": [
      "torch.Size([41, 62, 150])\n",
      "torch.Size([41, 62, 150])\n"
     ]
    },
    {
     "name": "stderr",
     "output_type": "stream",
     "text": [
      "Epoch 5/41:  68%|██████▊   | 145/214 [00:03<00:01, 44.88batch/s, loss=0.163]"
     ]
    },
    {
     "name": "stdout",
     "output_type": "stream",
     "text": [
      "torch.Size([41, 62, 150])\n",
      "torch.Size([41, 62, 150])\n",
      "torch.Size([41, 62, 150])\n"
     ]
    },
    {
     "name": "stderr",
     "output_type": "stream",
     "text": [
      "Epoch 5/41:  68%|██████▊   | 145/214 [00:03<00:01, 44.88batch/s, loss=0.162]"
     ]
    },
    {
     "name": "stdout",
     "output_type": "stream",
     "text": [
      "torch.Size([41, 62, 150])\n",
      "torch.Size([41, 62, 150])\n",
      "torch.Size([41, 62, 150])\n",
      "torch.Size([41, 62, 150])\n"
     ]
    },
    {
     "name": "stderr",
     "output_type": "stream",
     "text": [
      "Epoch 5/41:  70%|███████   | 150/214 [00:03<00:01, 44.85batch/s, loss=0.158]"
     ]
    },
    {
     "name": "stdout",
     "output_type": "stream",
     "text": [
      "torch.Size([41, 62, 150])\n",
      "torch.Size([41, 62, 150])\n"
     ]
    },
    {
     "name": "stderr",
     "output_type": "stream",
     "text": [
      "Epoch 5/41:  70%|███████   | 150/214 [00:03<00:01, 44.85batch/s, loss=0.162]"
     ]
    },
    {
     "name": "stdout",
     "output_type": "stream",
     "text": [
      "torch.Size([41, 62, 150])\n",
      "torch.Size([41, 62, 150])\n",
      "torch.Size([41, 62, 150])\n",
      "torch.Size([41, 62, 150])\n"
     ]
    },
    {
     "name": "stderr",
     "output_type": "stream",
     "text": [
      "Epoch 5/41:  72%|███████▏  | 155/214 [00:03<00:01, 44.93batch/s, loss=0.16] "
     ]
    },
    {
     "name": "stdout",
     "output_type": "stream",
     "text": [
      "torch.Size([41, 62, 150])\n",
      "torch.Size([41, 62, 150])\n",
      "torch.Size([41, 62, 150])\n"
     ]
    },
    {
     "name": "stderr",
     "output_type": "stream",
     "text": [
      "Epoch 5/41:  75%|███████▍  | 160/214 [00:03<00:01, 44.49batch/s, loss=0.163]"
     ]
    },
    {
     "name": "stdout",
     "output_type": "stream",
     "text": [
      "torch.Size([41, 62, 150])\n",
      "torch.Size([41, 62, 150])\n"
     ]
    },
    {
     "name": "stderr",
     "output_type": "stream",
     "text": [
      "Epoch 5/41:  75%|███████▍  | 160/214 [00:03<00:01, 44.49batch/s, loss=0.161]"
     ]
    },
    {
     "name": "stdout",
     "output_type": "stream",
     "text": [
      "torch.Size([41, 62, 150])\n",
      "torch.Size([41, 62, 150])\n",
      "torch.Size([41, 62, 150])\n",
      "torch.Size([41, 62, 150])\n"
     ]
    },
    {
     "name": "stderr",
     "output_type": "stream",
     "text": [
      "Epoch 5/41:  77%|███████▋  | 165/214 [00:03<00:01, 44.28batch/s, loss=0.159]"
     ]
    },
    {
     "name": "stdout",
     "output_type": "stream",
     "text": [
      "torch.Size([41, 62, 150])\n",
      "torch.Size([41, 62, 150])\n",
      "torch.Size([41, 62, 150])\n"
     ]
    },
    {
     "name": "stderr",
     "output_type": "stream",
     "text": [
      "Epoch 5/41:  77%|███████▋  | 165/214 [00:03<00:01, 44.28batch/s, loss=0.161]"
     ]
    },
    {
     "name": "stdout",
     "output_type": "stream",
     "text": [
      "torch.Size([41, 62, 150])\n",
      "torch.Size([41, 62, 150])\n"
     ]
    },
    {
     "name": "stderr",
     "output_type": "stream",
     "text": [
      "Epoch 5/41:  79%|███████▉  | 170/214 [00:03<00:00, 44.19batch/s, loss=0.16] "
     ]
    },
    {
     "name": "stdout",
     "output_type": "stream",
     "text": [
      "torch.Size([41, 62, 150])\n",
      "torch.Size([41, 62, 150])\n",
      "torch.Size([41, 62, 150])\n",
      "torch.Size([41, 62, 150])\n"
     ]
    },
    {
     "name": "stderr",
     "output_type": "stream",
     "text": [
      "Epoch 5/41:  82%|████████▏ | 175/214 [00:03<00:00, 44.32batch/s, loss=0.158]"
     ]
    },
    {
     "name": "stdout",
     "output_type": "stream",
     "text": [
      "torch.Size([41, 62, 150])\n",
      "torch.Size([41, 62, 150])\n",
      "torch.Size([41, 62, 150])\n"
     ]
    },
    {
     "name": "stderr",
     "output_type": "stream",
     "text": [
      "Epoch 5/41:  82%|████████▏ | 175/214 [00:03<00:00, 44.32batch/s, loss=0.16] "
     ]
    },
    {
     "name": "stdout",
     "output_type": "stream",
     "text": [
      "torch.Size([41, 62, 150])\n",
      "torch.Size([41, 62, 150])\n"
     ]
    },
    {
     "name": "stderr",
     "output_type": "stream",
     "text": [
      "Epoch 5/41:  84%|████████▍ | 180/214 [00:04<00:00, 44.31batch/s, loss=0.159]"
     ]
    },
    {
     "name": "stdout",
     "output_type": "stream",
     "text": [
      "torch.Size([41, 62, 150])\n",
      "torch.Size([41, 62, 150])\n",
      "torch.Size([41, 62, 150])\n",
      "torch.Size([41, 62, 150])\n"
     ]
    },
    {
     "name": "stderr",
     "output_type": "stream",
     "text": [
      "Epoch 5/41:  86%|████████▋ | 185/214 [00:04<00:00, 44.87batch/s, loss=0.162]"
     ]
    },
    {
     "name": "stdout",
     "output_type": "stream",
     "text": [
      "torch.Size([41, 62, 150])\n",
      "torch.Size([41, 62, 150])\n",
      "torch.Size([41, 62, 150])\n",
      "torch.Size([41, 62, 150])\n"
     ]
    },
    {
     "name": "stderr",
     "output_type": "stream",
     "text": [
      "Epoch 5/41:  86%|████████▋ | 185/214 [00:04<00:00, 44.87batch/s, loss=0.159]"
     ]
    },
    {
     "name": "stdout",
     "output_type": "stream",
     "text": [
      "torch.Size([41, 62, 150])\n",
      "torch.Size([41, 62, 150])\n"
     ]
    },
    {
     "name": "stderr",
     "output_type": "stream",
     "text": [
      "Epoch 5/41:  89%|████████▉ | 190/214 [00:04<00:00, 44.78batch/s, loss=0.158]"
     ]
    },
    {
     "name": "stdout",
     "output_type": "stream",
     "text": [
      "torch.Size([41, 62, 150])\n",
      "torch.Size([41, 62, 150])\n",
      "torch.Size([41, 62, 150])\n",
      "torch.Size([41, 62, 150])\n"
     ]
    },
    {
     "name": "stderr",
     "output_type": "stream",
     "text": [
      "Epoch 5/41:  91%|█████████ | 195/214 [00:04<00:00, 44.82batch/s, loss=0.161]"
     ]
    },
    {
     "name": "stdout",
     "output_type": "stream",
     "text": [
      "torch.Size([41, 62, 150])\n",
      "torch.Size([41, 62, 150])\n",
      "torch.Size([41, 62, 150])\n"
     ]
    },
    {
     "name": "stderr",
     "output_type": "stream",
     "text": [
      "Epoch 5/41:  91%|█████████ | 195/214 [00:04<00:00, 44.82batch/s, loss=0.159]"
     ]
    },
    {
     "name": "stdout",
     "output_type": "stream",
     "text": [
      "torch.Size([41, 62, 150])\n",
      "torch.Size([41, 62, 150])\n"
     ]
    },
    {
     "name": "stderr",
     "output_type": "stream",
     "text": [
      "Epoch 5/41:  93%|█████████▎| 200/214 [00:04<00:00, 44.70batch/s, loss=0.158]"
     ]
    },
    {
     "name": "stdout",
     "output_type": "stream",
     "text": [
      "torch.Size([41, 62, 150])\n",
      "torch.Size([41, 62, 150])\n",
      "torch.Size([41, 62, 150])\n",
      "torch.Size([41, 62, 150])\n"
     ]
    },
    {
     "name": "stderr",
     "output_type": "stream",
     "text": [
      "Epoch 5/41:  93%|█████████▎| 200/214 [00:04<00:00, 44.70batch/s, loss=0.16] "
     ]
    },
    {
     "name": "stdout",
     "output_type": "stream",
     "text": [
      "torch.Size([41, 62, 150])\n",
      "torch.Size([41, 62, 150])\n",
      "torch.Size([41, 62, 150])\n"
     ]
    },
    {
     "name": "stderr",
     "output_type": "stream",
     "text": [
      "Epoch 5/41:  96%|█████████▌| 205/214 [00:04<00:00, 44.70batch/s, loss=0.158]"
     ]
    },
    {
     "name": "stdout",
     "output_type": "stream",
     "text": [
      "torch.Size([41, 62, 150])\n",
      "torch.Size([41, 62, 150])\n"
     ]
    },
    {
     "name": "stderr",
     "output_type": "stream",
     "text": [
      "Epoch 5/41:  98%|█████████▊| 210/214 [00:04<00:00, 44.79batch/s, loss=0.161]"
     ]
    },
    {
     "name": "stdout",
     "output_type": "stream",
     "text": [
      "torch.Size([41, 62, 150])\n",
      "torch.Size([41, 62, 150])\n",
      "torch.Size([41, 62, 150])\n",
      "torch.Size([41, 62, 150])\n",
      "torch.Size([41, 62, 150])\n"
     ]
    },
    {
     "name": "stderr",
     "output_type": "stream",
     "text": [
      "Epoch 5/41:  98%|█████████▊| 210/214 [00:04<00:00, 44.79batch/s, loss=0.159]"
     ]
    },
    {
     "name": "stdout",
     "output_type": "stream",
     "text": [
      "torch.Size([41, 62, 150])\n",
      "torch.Size([41, 62, 150])\n",
      "torch.Size([7, 62, 150])\n"
     ]
    },
    {
     "name": "stderr",
     "output_type": "stream",
     "text": [
      "Epoch 5/41: 100%|██████████| 214/214 [00:04<00:00, 44.82batch/s, loss=0.16] \n"
     ]
    },
    {
     "name": "stdout",
     "output_type": "stream",
     "text": [
      "Epoch 5/41, Loss: 0.15773262313314687\n"
     ]
    },
    {
     "name": "stderr",
     "output_type": "stream",
     "text": [
      "Epoch 6/41:   0%|          | 0/214 [00:00<?, ?batch/s, loss=0.151]"
     ]
    },
    {
     "name": "stdout",
     "output_type": "stream",
     "text": [
      "torch.Size([41, 62, 150])\n",
      "torch.Size([41, 62, 150])\n"
     ]
    },
    {
     "name": "stderr",
     "output_type": "stream",
     "text": [
      "Epoch 6/41:   2%|▏         | 5/214 [00:00<00:04, 45.00batch/s, loss=0.152]"
     ]
    },
    {
     "name": "stdout",
     "output_type": "stream",
     "text": [
      "torch.Size([41, 62, 150])\n",
      "torch.Size([41, 62, 150])\n",
      "torch.Size([41, 62, 150])\n",
      "torch.Size([41, 62, 150])\n"
     ]
    },
    {
     "name": "stderr",
     "output_type": "stream",
     "text": [
      "Epoch 6/41:   2%|▏         | 5/214 [00:00<00:04, 45.00batch/s, loss=0.205]"
     ]
    },
    {
     "name": "stdout",
     "output_type": "stream",
     "text": [
      "torch.Size([41, 62, 150])\n",
      "torch.Size([41, 62, 150])\n",
      "torch.Size([41, 62, 150])\n"
     ]
    },
    {
     "name": "stderr",
     "output_type": "stream",
     "text": [
      "Epoch 6/41:   2%|▏         | 5/214 [00:00<00:04, 45.00batch/s, loss=0.232]"
     ]
    },
    {
     "name": "stdout",
     "output_type": "stream",
     "text": [
      "torch.Size([41, 62, 150])\n"
     ]
    },
    {
     "name": "stderr",
     "output_type": "stream",
     "text": [
      "Epoch 6/41:   5%|▍         | 10/214 [00:00<00:04, 44.79batch/s, loss=0.152]"
     ]
    },
    {
     "name": "stdout",
     "output_type": "stream",
     "text": [
      "torch.Size([41, 62, 150])\n"
     ]
    },
    {
     "name": "stderr",
     "output_type": "stream",
     "text": [
      "Epoch 6/41:   7%|▋         | 15/214 [00:00<00:04, 44.73batch/s, loss=0.205]"
     ]
    },
    {
     "name": "stdout",
     "output_type": "stream",
     "text": [
      "torch.Size([41, 62, 150])\n",
      "torch.Size([41, 62, 150])\n",
      "torch.Size([41, 62, 150])\n",
      "torch.Size([41, 62, 150])\n"
     ]
    },
    {
     "name": "stderr",
     "output_type": "stream",
     "text": [
      "Epoch 6/41:   7%|▋         | 15/214 [00:00<00:04, 44.73batch/s, loss=0.169]"
     ]
    },
    {
     "name": "stdout",
     "output_type": "stream",
     "text": [
      "torch.Size([41, 62, 150])\n",
      "torch.Size([41, 62, 150])\n",
      "torch.Size([41, 62, 150])\n"
     ]
    },
    {
     "name": "stderr",
     "output_type": "stream",
     "text": [
      "Epoch 6/41:   7%|▋         | 15/214 [00:00<00:04, 44.73batch/s, loss=0.18] "
     ]
    },
    {
     "name": "stdout",
     "output_type": "stream",
     "text": [
      "torch.Size([41, 62, 150])\n"
     ]
    },
    {
     "name": "stderr",
     "output_type": "stream",
     "text": [
      "Epoch 6/41:   9%|▉         | 20/214 [00:00<00:04, 44.60batch/s, loss=0.19]"
     ]
    },
    {
     "name": "stdout",
     "output_type": "stream",
     "text": [
      "torch.Size([41, 62, 150])\n"
     ]
    },
    {
     "name": "stderr",
     "output_type": "stream",
     "text": [
      "Epoch 6/41:   9%|▉         | 20/214 [00:00<00:04, 44.60batch/s, loss=0.175]"
     ]
    },
    {
     "name": "stdout",
     "output_type": "stream",
     "text": [
      "torch.Size([41, 62, 150])\n",
      "torch.Size([41, 62, 150])\n",
      "torch.Size([41, 62, 150])\n",
      "torch.Size([41, 62, 150])\n"
     ]
    },
    {
     "name": "stderr",
     "output_type": "stream",
     "text": [
      "Epoch 6/41:  12%|█▏        | 25/214 [00:00<00:04, 44.58batch/s, loss=0.158]"
     ]
    },
    {
     "name": "stdout",
     "output_type": "stream",
     "text": [
      "torch.Size([41, 62, 150])\n",
      "torch.Size([41, 62, 150])\n",
      "torch.Size([41, 62, 150])\n"
     ]
    },
    {
     "name": "stderr",
     "output_type": "stream",
     "text": [
      "Epoch 6/41:  12%|█▏        | 25/214 [00:00<00:04, 44.58batch/s, loss=0.164]"
     ]
    },
    {
     "name": "stdout",
     "output_type": "stream",
     "text": [
      "torch.Size([41, 62, 150])\n"
     ]
    },
    {
     "name": "stderr",
     "output_type": "stream",
     "text": [
      "Epoch 6/41:  12%|█▏        | 25/214 [00:00<00:04, 44.58batch/s, loss=0.17] "
     ]
    },
    {
     "name": "stdout",
     "output_type": "stream",
     "text": [
      "torch.Size([41, 62, 150])\n",
      "torch.Size([41, 62, 150])\n"
     ]
    },
    {
     "name": "stderr",
     "output_type": "stream",
     "text": [
      "Epoch 6/41:  14%|█▍        | 30/214 [00:00<00:04, 44.83batch/s, loss=0.163]"
     ]
    },
    {
     "name": "stdout",
     "output_type": "stream",
     "text": [
      "torch.Size([41, 62, 150])\n",
      "torch.Size([41, 62, 150])\n",
      "torch.Size([41, 62, 150])\n",
      "torch.Size([41, 62, 150])\n"
     ]
    },
    {
     "name": "stderr",
     "output_type": "stream",
     "text": [
      "Epoch 6/41:  16%|█▋        | 35/214 [00:00<00:03, 44.92batch/s, loss=0.154]"
     ]
    },
    {
     "name": "stdout",
     "output_type": "stream",
     "text": [
      "torch.Size([41, 62, 150])\n",
      "torch.Size([41, 62, 150])\n",
      "torch.Size([41, 62, 150])\n"
     ]
    },
    {
     "name": "stderr",
     "output_type": "stream",
     "text": [
      "Epoch 6/41:  16%|█▋        | 35/214 [00:00<00:03, 44.92batch/s, loss=0.157]"
     ]
    },
    {
     "name": "stdout",
     "output_type": "stream",
     "text": [
      "torch.Size([41, 62, 150])\n"
     ]
    },
    {
     "name": "stderr",
     "output_type": "stream",
     "text": [
      "Epoch 6/41:  16%|█▋        | 35/214 [00:00<00:03, 44.92batch/s, loss=0.166]"
     ]
    },
    {
     "name": "stdout",
     "output_type": "stream",
     "text": [
      "torch.Size([41, 62, 150])\n",
      "torch.Size([41, 62, 150])\n"
     ]
    },
    {
     "name": "stderr",
     "output_type": "stream",
     "text": [
      "Epoch 6/41:  19%|█▊        | 40/214 [00:00<00:03, 44.82batch/s, loss=0.161]"
     ]
    },
    {
     "name": "stdout",
     "output_type": "stream",
     "text": [
      "torch.Size([41, 62, 150])\n",
      "torch.Size([41, 62, 150])\n",
      "torch.Size([41, 62, 150])\n"
     ]
    },
    {
     "name": "stderr",
     "output_type": "stream",
     "text": [
      "Epoch 6/41:  21%|██        | 45/214 [00:01<00:03, 44.80batch/s, loss=0.153]"
     ]
    },
    {
     "name": "stdout",
     "output_type": "stream",
     "text": [
      "torch.Size([41, 62, 150])\n",
      "torch.Size([41, 62, 150])\n",
      "torch.Size([41, 62, 150])\n"
     ]
    },
    {
     "name": "stderr",
     "output_type": "stream",
     "text": [
      "Epoch 6/41:  21%|██        | 45/214 [00:01<00:03, 44.80batch/s, loss=0.155]"
     ]
    },
    {
     "name": "stdout",
     "output_type": "stream",
     "text": [
      "torch.Size([41, 62, 150])\n"
     ]
    },
    {
     "name": "stderr",
     "output_type": "stream",
     "text": [
      "Epoch 6/41:  21%|██        | 45/214 [00:01<00:03, 44.80batch/s, loss=0.162]"
     ]
    },
    {
     "name": "stdout",
     "output_type": "stream",
     "text": [
      "torch.Size([41, 62, 150])\n",
      "torch.Size([41, 62, 150])\n",
      "torch.Size([41, 62, 150])\n"
     ]
    },
    {
     "name": "stderr",
     "output_type": "stream",
     "text": [
      "Epoch 6/41:  23%|██▎       | 50/214 [00:01<00:03, 44.74batch/s, loss=0.155]"
     ]
    },
    {
     "name": "stdout",
     "output_type": "stream",
     "text": [
      "torch.Size([41, 62, 150])\n",
      "torch.Size([41, 62, 150])\n"
     ]
    },
    {
     "name": "stderr",
     "output_type": "stream",
     "text": [
      "Epoch 6/41:  26%|██▌       | 55/214 [00:01<00:03, 44.79batch/s, loss=0.164]"
     ]
    },
    {
     "name": "stdout",
     "output_type": "stream",
     "text": [
      "torch.Size([41, 62, 150])\n",
      "torch.Size([41, 62, 150])\n",
      "torch.Size([41, 62, 150])\n"
     ]
    },
    {
     "name": "stderr",
     "output_type": "stream",
     "text": [
      "Epoch 6/41:  26%|██▌       | 55/214 [00:01<00:03, 44.79batch/s, loss=0.152]"
     ]
    },
    {
     "name": "stdout",
     "output_type": "stream",
     "text": [
      "torch.Size([41, 62, 150])\n"
     ]
    },
    {
     "name": "stderr",
     "output_type": "stream",
     "text": [
      "Epoch 6/41:  26%|██▌       | 55/214 [00:01<00:03, 44.79batch/s, loss=0.159]"
     ]
    },
    {
     "name": "stdout",
     "output_type": "stream",
     "text": [
      "torch.Size([41, 62, 150])\n",
      "torch.Size([41, 62, 150])\n",
      "torch.Size([41, 62, 150])\n",
      "torch.Size([41, 62, 150])\n"
     ]
    },
    {
     "name": "stderr",
     "output_type": "stream",
     "text": [
      "Epoch 6/41:  28%|██▊       | 60/214 [00:01<00:03, 44.86batch/s, loss=0.151]"
     ]
    },
    {
     "name": "stdout",
     "output_type": "stream",
     "text": [
      "torch.Size([41, 62, 150])\n",
      "torch.Size([41, 62, 150])\n"
     ]
    },
    {
     "name": "stderr",
     "output_type": "stream",
     "text": [
      "Epoch 6/41:  28%|██▊       | 60/214 [00:01<00:03, 44.86batch/s, loss=0.158]"
     ]
    },
    {
     "name": "stdout",
     "output_type": "stream",
     "text": [
      "torch.Size([41, 62, 150])\n",
      "torch.Size([41, 62, 150])\n"
     ]
    },
    {
     "name": "stderr",
     "output_type": "stream",
     "text": [
      "Epoch 6/41:  30%|███       | 65/214 [00:01<00:03, 44.49batch/s, loss=0.161]"
     ]
    },
    {
     "name": "stdout",
     "output_type": "stream",
     "text": [
      "torch.Size([41, 62, 150])\n"
     ]
    },
    {
     "name": "stderr",
     "output_type": "stream",
     "text": [
      "Epoch 6/41:  30%|███       | 65/214 [00:01<00:03, 44.49batch/s, loss=0.157]"
     ]
    },
    {
     "name": "stdout",
     "output_type": "stream",
     "text": [
      "torch.Size([41, 62, 150])\n",
      "torch.Size([41, 62, 150])\n",
      "torch.Size([41, 62, 150])\n",
      "torch.Size([41, 62, 150])\n"
     ]
    },
    {
     "name": "stderr",
     "output_type": "stream",
     "text": [
      "Epoch 6/41:  33%|███▎      | 70/214 [00:01<00:03, 44.27batch/s, loss=0.159]"
     ]
    },
    {
     "name": "stdout",
     "output_type": "stream",
     "text": [
      "torch.Size([41, 62, 150])\n",
      "torch.Size([41, 62, 150])\n"
     ]
    },
    {
     "name": "stderr",
     "output_type": "stream",
     "text": [
      "Epoch 6/41:  33%|███▎      | 70/214 [00:01<00:03, 44.27batch/s, loss=0.154]"
     ]
    },
    {
     "name": "stdout",
     "output_type": "stream",
     "text": [
      "torch.Size([41, 62, 150])\n",
      "torch.Size([41, 62, 150])\n"
     ]
    },
    {
     "name": "stderr",
     "output_type": "stream",
     "text": [
      "Epoch 6/41:  33%|███▎      | 70/214 [00:01<00:03, 44.27batch/s, loss=0.156]"
     ]
    },
    {
     "name": "stdout",
     "output_type": "stream",
     "text": [
      "torch.Size([41, 62, 150])\n"
     ]
    },
    {
     "name": "stderr",
     "output_type": "stream",
     "text": [
      "Epoch 6/41:  35%|███▌      | 75/214 [00:01<00:03, 44.31batch/s, loss=0.154]"
     ]
    },
    {
     "name": "stdout",
     "output_type": "stream",
     "text": [
      "torch.Size([41, 62, 150])\n",
      "torch.Size([41, 62, 150])\n",
      "torch.Size([41, 62, 150])\n",
      "torch.Size([41, 62, 150])\n"
     ]
    },
    {
     "name": "stderr",
     "output_type": "stream",
     "text": [
      "Epoch 6/41:  37%|███▋      | 80/214 [00:01<00:03, 44.50batch/s, loss=0.159]"
     ]
    },
    {
     "name": "stdout",
     "output_type": "stream",
     "text": [
      "torch.Size([41, 62, 150])\n",
      "torch.Size([41, 62, 150])\n"
     ]
    },
    {
     "name": "stderr",
     "output_type": "stream",
     "text": [
      "Epoch 6/41:  37%|███▋      | 80/214 [00:01<00:03, 44.50batch/s, loss=0.153]"
     ]
    },
    {
     "name": "stdout",
     "output_type": "stream",
     "text": [
      "torch.Size([41, 62, 150])\n",
      "torch.Size([41, 62, 150])\n"
     ]
    },
    {
     "name": "stderr",
     "output_type": "stream",
     "text": [
      "Epoch 6/41:  37%|███▋      | 80/214 [00:01<00:03, 44.50batch/s, loss=0.155]"
     ]
    },
    {
     "name": "stdout",
     "output_type": "stream",
     "text": [
      "torch.Size([41, 62, 150])\n"
     ]
    },
    {
     "name": "stderr",
     "output_type": "stream",
     "text": [
      "Epoch 6/41:  40%|███▉      | 85/214 [00:01<00:02, 44.49batch/s, loss=0.153]"
     ]
    },
    {
     "name": "stdout",
     "output_type": "stream",
     "text": [
      "torch.Size([41, 62, 150])\n",
      "torch.Size([41, 62, 150])\n",
      "torch.Size([41, 62, 150])\n",
      "torch.Size([41, 62, 150])\n"
     ]
    },
    {
     "name": "stderr",
     "output_type": "stream",
     "text": [
      "Epoch 6/41:  40%|███▉      | 85/214 [00:01<00:02, 44.49batch/s, loss=0.157]"
     ]
    },
    {
     "name": "stdout",
     "output_type": "stream",
     "text": [
      "torch.Size([41, 62, 150])\n",
      "torch.Size([41, 62, 150])\n",
      "torch.Size([41, 62, 150])\n"
     ]
    },
    {
     "name": "stderr",
     "output_type": "stream",
     "text": [
      "Epoch 6/41:  42%|████▏     | 90/214 [00:02<00:02, 44.90batch/s, loss=0.151]"
     ]
    },
    {
     "name": "stdout",
     "output_type": "stream",
     "text": [
      "torch.Size([41, 62, 150])\n",
      "torch.Size([41, 62, 150])\n"
     ]
    },
    {
     "name": "stderr",
     "output_type": "stream",
     "text": [
      "Epoch 6/41:  42%|████▏     | 90/214 [00:02<00:02, 44.90batch/s, loss=0.153]"
     ]
    },
    {
     "name": "stdout",
     "output_type": "stream",
     "text": [
      "torch.Size([41, 62, 150])\n"
     ]
    },
    {
     "name": "stderr",
     "output_type": "stream",
     "text": [
      "Epoch 6/41:  44%|████▍     | 95/214 [00:02<00:02, 44.92batch/s, loss=0.151]"
     ]
    },
    {
     "name": "stdout",
     "output_type": "stream",
     "text": [
      "torch.Size([41, 62, 150])\n",
      "torch.Size([41, 62, 150])\n",
      "torch.Size([41, 62, 150])\n",
      "torch.Size([41, 62, 150])\n"
     ]
    },
    {
     "name": "stderr",
     "output_type": "stream",
     "text": [
      "Epoch 6/41:  44%|████▍     | 95/214 [00:02<00:02, 44.92batch/s, loss=0.156]"
     ]
    },
    {
     "name": "stdout",
     "output_type": "stream",
     "text": [
      "torch.Size([41, 62, 150])\n",
      "torch.Size([41, 62, 150])\n",
      "torch.Size([41, 62, 150])\n"
     ]
    },
    {
     "name": "stderr",
     "output_type": "stream",
     "text": [
      "Epoch 6/41:  47%|████▋     | 100/214 [00:02<00:02, 44.82batch/s, loss=0.152]"
     ]
    },
    {
     "name": "stdout",
     "output_type": "stream",
     "text": [
      "torch.Size([41, 62, 150])\n"
     ]
    },
    {
     "name": "stderr",
     "output_type": "stream",
     "text": [
      "Epoch 6/41:  47%|████▋     | 100/214 [00:02<00:02, 44.82batch/s, loss=0.153]"
     ]
    },
    {
     "name": "stdout",
     "output_type": "stream",
     "text": [
      "torch.Size([41, 62, 150])\n"
     ]
    },
    {
     "name": "stderr",
     "output_type": "stream",
     "text": [
      "Epoch 6/41:  49%|████▉     | 105/214 [00:02<00:02, 44.71batch/s, loss=0.151]"
     ]
    },
    {
     "name": "stdout",
     "output_type": "stream",
     "text": [
      "torch.Size([41, 62, 150])\n",
      "torch.Size([41, 62, 150])\n",
      "torch.Size([41, 62, 150])\n",
      "torch.Size([41, 62, 150])\n"
     ]
    },
    {
     "name": "stderr",
     "output_type": "stream",
     "text": [
      "Epoch 6/41:  49%|████▉     | 105/214 [00:02<00:02, 44.71batch/s, loss=0.155]"
     ]
    },
    {
     "name": "stdout",
     "output_type": "stream",
     "text": [
      "torch.Size([41, 62, 150])\n",
      "torch.Size([41, 62, 150])\n",
      "torch.Size([41, 62, 150])\n"
     ]
    },
    {
     "name": "stderr",
     "output_type": "stream",
     "text": [
      "Epoch 6/41:  51%|█████▏    | 110/214 [00:02<00:02, 44.70batch/s, loss=0.157]"
     ]
    },
    {
     "name": "stdout",
     "output_type": "stream",
     "text": [
      "torch.Size([41, 62, 150])\n"
     ]
    },
    {
     "name": "stderr",
     "output_type": "stream",
     "text": [
      "Epoch 6/41:  51%|█████▏    | 110/214 [00:02<00:02, 44.70batch/s, loss=0.151]"
     ]
    },
    {
     "name": "stdout",
     "output_type": "stream",
     "text": [
      "torch.Size([41, 62, 150])\n"
     ]
    },
    {
     "name": "stderr",
     "output_type": "stream",
     "text": [
      "Epoch 6/41:  54%|█████▎    | 115/214 [00:02<00:02, 44.63batch/s, loss=0.157]"
     ]
    },
    {
     "name": "stdout",
     "output_type": "stream",
     "text": [
      "torch.Size([41, 62, 150])\n",
      "torch.Size([41, 62, 150])\n",
      "torch.Size([41, 62, 150])\n",
      "torch.Size([41, 62, 150])\n"
     ]
    },
    {
     "name": "stderr",
     "output_type": "stream",
     "text": [
      "Epoch 6/41:  54%|█████▎    | 115/214 [00:02<00:02, 44.63batch/s, loss=0.155]"
     ]
    },
    {
     "name": "stdout",
     "output_type": "stream",
     "text": [
      "torch.Size([41, 62, 150])\n",
      "torch.Size([41, 62, 150])\n",
      "torch.Size([41, 62, 150])\n",
      "torch.Size([41, 62, 150])\n"
     ]
    },
    {
     "name": "stderr",
     "output_type": "stream",
     "text": [
      "Epoch 6/41:  54%|█████▎    | 115/214 [00:02<00:02, 44.63batch/s, loss=0.156]"
     ]
    },
    {
     "name": "stdout",
     "output_type": "stream",
     "text": [
      "torch.Size([41, 62, 150])\n"
     ]
    },
    {
     "name": "stderr",
     "output_type": "stream",
     "text": [
      "Epoch 6/41:  56%|█████▌    | 120/214 [00:02<00:02, 44.96batch/s, loss=0.157]"
     ]
    },
    {
     "name": "stdout",
     "output_type": "stream",
     "text": [
      "torch.Size([41, 62, 150])\n"
     ]
    },
    {
     "name": "stderr",
     "output_type": "stream",
     "text": [
      "Epoch 6/41:  56%|█████▌    | 120/214 [00:02<00:02, 44.96batch/s, loss=0.156]"
     ]
    },
    {
     "name": "stdout",
     "output_type": "stream",
     "text": [
      "torch.Size([41, 62, 150])\n",
      "torch.Size([41, 62, 150])\n",
      "torch.Size([41, 62, 150])\n",
      "torch.Size([41, 62, 150])\n"
     ]
    },
    {
     "name": "stderr",
     "output_type": "stream",
     "text": [
      "Epoch 6/41:  58%|█████▊    | 125/214 [00:02<00:01, 44.63batch/s, loss=0.153]"
     ]
    },
    {
     "name": "stdout",
     "output_type": "stream",
     "text": [
      "torch.Size([41, 62, 150])\n",
      "torch.Size([41, 62, 150])\n",
      "torch.Size([41, 62, 150])\n"
     ]
    },
    {
     "name": "stderr",
     "output_type": "stream",
     "text": [
      "Epoch 6/41:  58%|█████▊    | 125/214 [00:02<00:01, 44.63batch/s, loss=0.155]"
     ]
    },
    {
     "name": "stdout",
     "output_type": "stream",
     "text": [
      "torch.Size([41, 62, 150])\n"
     ]
    },
    {
     "name": "stderr",
     "output_type": "stream",
     "text": [
      "Epoch 6/41:  58%|█████▊    | 125/214 [00:02<00:01, 44.63batch/s, loss=0.156]"
     ]
    },
    {
     "name": "stdout",
     "output_type": "stream",
     "text": [
      "torch.Size([41, 62, 150])\n"
     ]
    },
    {
     "name": "stderr",
     "output_type": "stream",
     "text": [
      "Epoch 6/41:  61%|██████    | 130/214 [00:02<00:01, 43.01batch/s, loss=0.154]"
     ]
    },
    {
     "name": "stdout",
     "output_type": "stream",
     "text": [
      "torch.Size([41, 62, 150])\n",
      "torch.Size([41, 62, 150])\n",
      "torch.Size([41, 62, 150])\n",
      "torch.Size([41, 62, 150])\n"
     ]
    },
    {
     "name": "stderr",
     "output_type": "stream",
     "text": [
      "Epoch 6/41:  63%|██████▎   | 135/214 [00:03<00:01, 43.47batch/s, loss=0.153]"
     ]
    },
    {
     "name": "stdout",
     "output_type": "stream",
     "text": [
      "torch.Size([41, 62, 150])\n",
      "torch.Size([41, 62, 150])\n",
      "torch.Size([41, 62, 150])\n"
     ]
    },
    {
     "name": "stderr",
     "output_type": "stream",
     "text": [
      "Epoch 6/41:  63%|██████▎   | 135/214 [00:03<00:01, 43.47batch/s, loss=0.154]"
     ]
    },
    {
     "name": "stdout",
     "output_type": "stream",
     "text": [
      "torch.Size([41, 62, 150])\n"
     ]
    },
    {
     "name": "stderr",
     "output_type": "stream",
     "text": [
      "Epoch 6/41:  63%|██████▎   | 135/214 [00:03<00:01, 43.47batch/s, loss=0.155]"
     ]
    },
    {
     "name": "stdout",
     "output_type": "stream",
     "text": [
      "torch.Size([41, 62, 150])\n"
     ]
    },
    {
     "name": "stderr",
     "output_type": "stream",
     "text": [
      "Epoch 6/41:  65%|██████▌   | 140/214 [00:03<00:01, 43.79batch/s, loss=0.154]"
     ]
    },
    {
     "name": "stdout",
     "output_type": "stream",
     "text": [
      "torch.Size([41, 62, 150])\n",
      "torch.Size([41, 62, 150])\n",
      "torch.Size([41, 62, 150])\n",
      "torch.Size([41, 62, 150])\n"
     ]
    },
    {
     "name": "stderr",
     "output_type": "stream",
     "text": [
      "Epoch 6/41:  68%|██████▊   | 145/214 [00:03<00:01, 44.06batch/s, loss=0.151]"
     ]
    },
    {
     "name": "stdout",
     "output_type": "stream",
     "text": [
      "torch.Size([41, 62, 150])\n",
      "torch.Size([41, 62, 150])\n",
      "torch.Size([41, 62, 150])\n"
     ]
    },
    {
     "name": "stderr",
     "output_type": "stream",
     "text": [
      "Epoch 6/41:  68%|██████▊   | 145/214 [00:03<00:01, 44.06batch/s, loss=0.153]"
     ]
    },
    {
     "name": "stdout",
     "output_type": "stream",
     "text": [
      "torch.Size([41, 62, 150])\n"
     ]
    },
    {
     "name": "stderr",
     "output_type": "stream",
     "text": [
      "Epoch 6/41:  68%|██████▊   | 145/214 [00:03<00:01, 44.06batch/s, loss=0.154]"
     ]
    },
    {
     "name": "stdout",
     "output_type": "stream",
     "text": [
      "torch.Size([41, 62, 150])\n",
      "torch.Size([41, 62, 150])\n"
     ]
    },
    {
     "name": "stderr",
     "output_type": "stream",
     "text": [
      "Epoch 6/41:  70%|███████   | 150/214 [00:03<00:01, 44.46batch/s, loss=0.152]"
     ]
    },
    {
     "name": "stdout",
     "output_type": "stream",
     "text": [
      "torch.Size([41, 62, 150])\n",
      "torch.Size([41, 62, 150])\n",
      "torch.Size([41, 62, 150])\n",
      "torch.Size([41, 62, 150])\n"
     ]
    },
    {
     "name": "stderr",
     "output_type": "stream",
     "text": [
      "Epoch 6/41:  72%|███████▏  | 155/214 [00:03<00:01, 44.72batch/s, loss=0.155]"
     ]
    },
    {
     "name": "stdout",
     "output_type": "stream",
     "text": [
      "torch.Size([41, 62, 150])\n",
      "torch.Size([41, 62, 150])\n",
      "torch.Size([41, 62, 150])\n"
     ]
    },
    {
     "name": "stderr",
     "output_type": "stream",
     "text": [
      "Epoch 6/41:  72%|███████▏  | 155/214 [00:03<00:01, 44.72batch/s, loss=0.151]"
     ]
    },
    {
     "name": "stdout",
     "output_type": "stream",
     "text": [
      "torch.Size([41, 62, 150])\n"
     ]
    },
    {
     "name": "stderr",
     "output_type": "stream",
     "text": [
      "Epoch 6/41:  72%|███████▏  | 155/214 [00:03<00:01, 44.72batch/s, loss=0.153]"
     ]
    },
    {
     "name": "stdout",
     "output_type": "stream",
     "text": [
      "torch.Size([41, 62, 150])\n",
      "torch.Size([41, 62, 150])\n"
     ]
    },
    {
     "name": "stderr",
     "output_type": "stream",
     "text": [
      "Epoch 6/41:  75%|███████▍  | 160/214 [00:03<00:01, 44.77batch/s, loss=0.152]"
     ]
    },
    {
     "name": "stdout",
     "output_type": "stream",
     "text": [
      "torch.Size([41, 62, 150])\n",
      "torch.Size([41, 62, 150])\n",
      "torch.Size([41, 62, 150])\n",
      "torch.Size([41, 62, 150])\n"
     ]
    },
    {
     "name": "stderr",
     "output_type": "stream",
     "text": [
      "Epoch 6/41:  77%|███████▋  | 165/214 [00:03<00:01, 44.81batch/s, loss=0.155]"
     ]
    },
    {
     "name": "stdout",
     "output_type": "stream",
     "text": [
      "torch.Size([41, 62, 150])\n",
      "torch.Size([41, 62, 150])\n",
      "torch.Size([41, 62, 150])\n"
     ]
    },
    {
     "name": "stderr",
     "output_type": "stream",
     "text": [
      "Epoch 6/41:  77%|███████▋  | 165/214 [00:03<00:01, 44.81batch/s, loss=0.151]"
     ]
    },
    {
     "name": "stdout",
     "output_type": "stream",
     "text": [
      "torch.Size([41, 62, 150])\n"
     ]
    },
    {
     "name": "stderr",
     "output_type": "stream",
     "text": [
      "Epoch 6/41:  77%|███████▋  | 165/214 [00:03<00:01, 44.81batch/s, loss=0.153]"
     ]
    },
    {
     "name": "stdout",
     "output_type": "stream",
     "text": [
      "torch.Size([41, 62, 150])\n"
     ]
    },
    {
     "name": "stderr",
     "output_type": "stream",
     "text": [
      "Epoch 6/41:  79%|███████▉  | 170/214 [00:03<00:00, 44.75batch/s, loss=0.152]"
     ]
    },
    {
     "name": "stdout",
     "output_type": "stream",
     "text": [
      "torch.Size([41, 62, 150])\n",
      "torch.Size([41, 62, 150])\n",
      "torch.Size([41, 62, 150])\n",
      "torch.Size([41, 62, 150])\n"
     ]
    },
    {
     "name": "stderr",
     "output_type": "stream",
     "text": [
      "Epoch 6/41:  82%|████████▏ | 175/214 [00:03<00:00, 44.84batch/s, loss=0.155]"
     ]
    },
    {
     "name": "stdout",
     "output_type": "stream",
     "text": [
      "torch.Size([41, 62, 150])\n",
      "torch.Size([41, 62, 150])\n",
      "torch.Size([41, 62, 150])\n",
      "torch.Size([41, 62, 150])\n"
     ]
    },
    {
     "name": "stderr",
     "output_type": "stream",
     "text": [
      "Epoch 6/41:  82%|████████▏ | 175/214 [00:03<00:00, 44.84batch/s, loss=0.152]"
     ]
    },
    {
     "name": "stdout",
     "output_type": "stream",
     "text": [
      "torch.Size([41, 62, 150])\n",
      "torch.Size([41, 62, 150])\n"
     ]
    },
    {
     "name": "stderr",
     "output_type": "stream",
     "text": [
      "Epoch 6/41:  84%|████████▍ | 180/214 [00:04<00:00, 44.92batch/s, loss=0.151]"
     ]
    },
    {
     "name": "stdout",
     "output_type": "stream",
     "text": [
      "torch.Size([41, 62, 150])\n",
      "torch.Size([41, 62, 150])\n",
      "torch.Size([41, 62, 150])\n",
      "torch.Size([41, 62, 150])\n"
     ]
    },
    {
     "name": "stderr",
     "output_type": "stream",
     "text": [
      "Epoch 6/41:  86%|████████▋ | 185/214 [00:04<00:00, 44.78batch/s, loss=0.154]"
     ]
    },
    {
     "name": "stdout",
     "output_type": "stream",
     "text": [
      "torch.Size([41, 62, 150])\n",
      "torch.Size([41, 62, 150])\n",
      "torch.Size([41, 62, 150])\n"
     ]
    },
    {
     "name": "stderr",
     "output_type": "stream",
     "text": [
      "Epoch 6/41:  86%|████████▋ | 185/214 [00:04<00:00, 44.78batch/s, loss=0.152]"
     ]
    },
    {
     "name": "stdout",
     "output_type": "stream",
     "text": [
      "torch.Size([41, 62, 150])\n",
      "torch.Size([41, 62, 150])\n"
     ]
    },
    {
     "name": "stderr",
     "output_type": "stream",
     "text": [
      "Epoch 6/41:  89%|████████▉ | 190/214 [00:04<00:00, 44.46batch/s, loss=0.151]"
     ]
    },
    {
     "name": "stdout",
     "output_type": "stream",
     "text": [
      "torch.Size([41, 62, 150])\n",
      "torch.Size([41, 62, 150])\n",
      "torch.Size([41, 62, 150])\n",
      "torch.Size([41, 62, 150])\n"
     ]
    },
    {
     "name": "stderr",
     "output_type": "stream",
     "text": [
      "Epoch 6/41:  89%|████████▉ | 190/214 [00:04<00:00, 44.46batch/s, loss=0.153]"
     ]
    },
    {
     "name": "stdout",
     "output_type": "stream",
     "text": [
      "torch.Size([41, 62, 150])\n",
      "torch.Size([41, 62, 150])\n",
      "torch.Size([41, 62, 150])\n"
     ]
    },
    {
     "name": "stderr",
     "output_type": "stream",
     "text": [
      "Epoch 6/41:  91%|█████████ | 195/214 [00:04<00:00, 44.44batch/s, loss=0.151]"
     ]
    },
    {
     "name": "stdout",
     "output_type": "stream",
     "text": [
      "torch.Size([41, 62, 150])\n",
      "torch.Size([41, 62, 150])\n"
     ]
    },
    {
     "name": "stderr",
     "output_type": "stream",
     "text": [
      "Epoch 6/41:  93%|█████████▎| 200/214 [00:04<00:00, 44.53batch/s, loss=0.154]"
     ]
    },
    {
     "name": "stdout",
     "output_type": "stream",
     "text": [
      "torch.Size([41, 62, 150])\n",
      "torch.Size([41, 62, 150])\n",
      "torch.Size([41, 62, 150])\n",
      "torch.Size([41, 62, 150])\n"
     ]
    },
    {
     "name": "stderr",
     "output_type": "stream",
     "text": [
      "Epoch 6/41:  93%|█████████▎| 200/214 [00:04<00:00, 44.53batch/s, loss=0.152]"
     ]
    },
    {
     "name": "stdout",
     "output_type": "stream",
     "text": [
      "torch.Size([41, 62, 150])\n",
      "torch.Size([41, 62, 150])\n",
      "torch.Size([41, 62, 150])\n"
     ]
    },
    {
     "name": "stderr",
     "output_type": "stream",
     "text": [
      "Epoch 6/41:  96%|█████████▌| 205/214 [00:04<00:00, 44.57batch/s, loss=0.154]"
     ]
    },
    {
     "name": "stdout",
     "output_type": "stream",
     "text": [
      "torch.Size([41, 62, 150])\n",
      "torch.Size([41, 62, 150])\n"
     ]
    },
    {
     "name": "stderr",
     "output_type": "stream",
     "text": [
      "Epoch 6/41:  96%|█████████▌| 205/214 [00:04<00:00, 44.57batch/s, loss=0.153]"
     ]
    },
    {
     "name": "stdout",
     "output_type": "stream",
     "text": [
      "torch.Size([41, 62, 150])\n",
      "torch.Size([41, 62, 150])\n",
      "torch.Size([41, 62, 150])\n",
      "torch.Size([41, 62, 150])\n",
      "torch.Size([41, 62, 150])\n"
     ]
    },
    {
     "name": "stderr",
     "output_type": "stream",
     "text": [
      "Epoch 6/41:  98%|█████████▊| 210/214 [00:04<00:00, 44.90batch/s, loss=0.151]"
     ]
    },
    {
     "name": "stdout",
     "output_type": "stream",
     "text": [
      "torch.Size([41, 62, 150])\n",
      "torch.Size([41, 62, 150])\n",
      "torch.Size([41, 62, 150])\n"
     ]
    },
    {
     "name": "stderr",
     "output_type": "stream",
     "text": [
      "Epoch 6/41: 100%|██████████| 214/214 [00:04<00:00, 44.61batch/s, loss=0.153]\n"
     ]
    },
    {
     "name": "stdout",
     "output_type": "stream",
     "text": [
      "torch.Size([7, 62, 150])\n",
      "Epoch 6/41, Loss: 0.15104894381817255\n"
     ]
    },
    {
     "name": "stderr",
     "output_type": "stream",
     "text": [
      "Epoch 7/41:   0%|          | 0/214 [00:00<?, ?batch/s]"
     ]
    },
    {
     "name": "stdout",
     "output_type": "stream",
     "text": [
      "torch.Size([41, 62, 150])\n"
     ]
    },
    {
     "name": "stderr",
     "output_type": "stream",
     "text": [
      "Epoch 7/41:   2%|▏         | 5/214 [00:00<00:04, 44.54batch/s, loss=0.773]"
     ]
    },
    {
     "name": "stdout",
     "output_type": "stream",
     "text": [
      "torch.Size([41, 62, 150])\n",
      "torch.Size([41, 62, 150])\n",
      "torch.Size([41, 62, 150])\n",
      "torch.Size([41, 62, 150])\n"
     ]
    },
    {
     "name": "stderr",
     "output_type": "stream",
     "text": [
      "Epoch 7/41:   2%|▏         | 5/214 [00:00<00:04, 44.54batch/s, loss=0.205]"
     ]
    },
    {
     "name": "stdout",
     "output_type": "stream",
     "text": [
      "torch.Size([41, 62, 150])\n",
      "torch.Size([41, 62, 150])\n",
      "torch.Size([41, 62, 150])\n"
     ]
    },
    {
     "name": "stderr",
     "output_type": "stream",
     "text": [
      "Epoch 7/41:   2%|▏         | 5/214 [00:00<00:04, 44.54batch/s, loss=0.232]"
     ]
    },
    {
     "name": "stdout",
     "output_type": "stream",
     "text": [
      "torch.Size([41, 62, 150])\n"
     ]
    },
    {
     "name": "stderr",
     "output_type": "stream",
     "text": [
      "Epoch 7/41:   5%|▍         | 10/214 [00:00<00:04, 44.48batch/s, loss=0.257]"
     ]
    },
    {
     "name": "stdout",
     "output_type": "stream",
     "text": [
      "torch.Size([41, 62, 150])\n"
     ]
    },
    {
     "name": "stderr",
     "output_type": "stream",
     "text": [
      "Epoch 7/41:   5%|▍         | 10/214 [00:00<00:04, 44.48batch/s, loss=0.196]"
     ]
    },
    {
     "name": "stdout",
     "output_type": "stream",
     "text": [
      "torch.Size([41, 62, 150])\n",
      "torch.Size([41, 62, 150])\n",
      "torch.Size([41, 62, 150])\n",
      "torch.Size([41, 62, 150])\n"
     ]
    },
    {
     "name": "stderr",
     "output_type": "stream",
     "text": [
      "Epoch 7/41:   7%|▋         | 15/214 [00:00<00:04, 44.54batch/s, loss=0.164]"
     ]
    },
    {
     "name": "stdout",
     "output_type": "stream",
     "text": [
      "torch.Size([41, 62, 150])\n",
      "torch.Size([41, 62, 150])\n",
      "torch.Size([41, 62, 150])\n"
     ]
    },
    {
     "name": "stderr",
     "output_type": "stream",
     "text": [
      "Epoch 7/41:   7%|▋         | 15/214 [00:00<00:04, 44.54batch/s, loss=0.173]"
     ]
    },
    {
     "name": "stdout",
     "output_type": "stream",
     "text": [
      "torch.Size([41, 62, 150])\n"
     ]
    },
    {
     "name": "stderr",
     "output_type": "stream",
     "text": [
      "Epoch 7/41:   7%|▋         | 15/214 [00:00<00:04, 44.54batch/s, loss=0.184]"
     ]
    },
    {
     "name": "stdout",
     "output_type": "stream",
     "text": [
      "torch.Size([41, 62, 150])\n"
     ]
    },
    {
     "name": "stderr",
     "output_type": "stream",
     "text": [
      "Epoch 7/41:   9%|▉         | 20/214 [00:00<00:04, 44.46batch/s, loss=0.17] "
     ]
    },
    {
     "name": "stdout",
     "output_type": "stream",
     "text": [
      "torch.Size([41, 62, 150])\n",
      "torch.Size([41, 62, 150])\n",
      "torch.Size([41, 62, 150])\n",
      "torch.Size([41, 62, 150])\n"
     ]
    },
    {
     "name": "stderr",
     "output_type": "stream",
     "text": [
      "Epoch 7/41:  12%|█▏        | 25/214 [00:00<00:04, 44.87batch/s, loss=0.153]"
     ]
    },
    {
     "name": "stdout",
     "output_type": "stream",
     "text": [
      "torch.Size([41, 62, 150])\n",
      "torch.Size([41, 62, 150])\n",
      "torch.Size([41, 62, 150])\n",
      "torch.Size([41, 62, 150])\n"
     ]
    },
    {
     "name": "stderr",
     "output_type": "stream",
     "text": [
      "Epoch 7/41:  12%|█▏        | 25/214 [00:00<00:04, 44.87batch/s, loss=0.158]"
     ]
    },
    {
     "name": "stdout",
     "output_type": "stream",
     "text": [
      "torch.Size([41, 62, 150])\n"
     ]
    },
    {
     "name": "stderr",
     "output_type": "stream",
     "text": [
      "Epoch 7/41:  12%|█▏        | 25/214 [00:00<00:04, 44.87batch/s, loss=0.163]"
     ]
    },
    {
     "name": "stdout",
     "output_type": "stream",
     "text": [
      "torch.Size([41, 62, 150])\n"
     ]
    },
    {
     "name": "stderr",
     "output_type": "stream",
     "text": [
      "Epoch 7/41:  14%|█▍        | 30/214 [00:00<00:04, 45.20batch/s, loss=0.155]"
     ]
    },
    {
     "name": "stdout",
     "output_type": "stream",
     "text": [
      "torch.Size([41, 62, 150])\n",
      "torch.Size([41, 62, 150])\n",
      "torch.Size([41, 62, 150])\n",
      "torch.Size([41, 62, 150])\n"
     ]
    },
    {
     "name": "stderr",
     "output_type": "stream",
     "text": [
      "Epoch 7/41:  16%|█▋        | 35/214 [00:00<00:03, 45.02batch/s, loss=0.151]"
     ]
    },
    {
     "name": "stdout",
     "output_type": "stream",
     "text": [
      "torch.Size([41, 62, 150])\n",
      "torch.Size([41, 62, 150])\n",
      "torch.Size([41, 62, 150])\n",
      "torch.Size([41, 62, 150])\n"
     ]
    },
    {
     "name": "stderr",
     "output_type": "stream",
     "text": [
      "Epoch 7/41:  16%|█▋        | 35/214 [00:00<00:03, 45.02batch/s, loss=0.159]"
     ]
    },
    {
     "name": "stdout",
     "output_type": "stream",
     "text": [
      "torch.Size([41, 62, 150])\n"
     ]
    },
    {
     "name": "stderr",
     "output_type": "stream",
     "text": [
      "Epoch 7/41:  19%|█▊        | 40/214 [00:00<00:03, 45.01batch/s, loss=0.154]"
     ]
    },
    {
     "name": "stdout",
     "output_type": "stream",
     "text": [
      "torch.Size([41, 62, 150])\n",
      "torch.Size([41, 62, 150])\n",
      "torch.Size([41, 62, 150])\n",
      "torch.Size([41, 62, 150])\n",
      "torch.Size([41, 62, 150])\n"
     ]
    },
    {
     "name": "stderr",
     "output_type": "stream",
     "text": [
      "Epoch 7/41:  21%|██        | 45/214 [00:01<00:03, 44.94batch/s, loss=0.15] "
     ]
    },
    {
     "name": "stdout",
     "output_type": "stream",
     "text": [
      "torch.Size([41, 62, 150])\n",
      "torch.Size([41, 62, 150])\n",
      "torch.Size([41, 62, 150])\n"
     ]
    },
    {
     "name": "stderr",
     "output_type": "stream",
     "text": [
      "Epoch 7/41:  21%|██        | 45/214 [00:01<00:03, 44.94batch/s, loss=0.153]"
     ]
    },
    {
     "name": "stdout",
     "output_type": "stream",
     "text": [
      "torch.Size([41, 62, 150])\n"
     ]
    },
    {
     "name": "stderr",
     "output_type": "stream",
     "text": [
      "Epoch 7/41:  23%|██▎       | 50/214 [00:01<00:03, 44.84batch/s, loss=0.151]"
     ]
    },
    {
     "name": "stdout",
     "output_type": "stream",
     "text": [
      "torch.Size([41, 62, 150])\n",
      "torch.Size([41, 62, 150])\n",
      "torch.Size([41, 62, 150])\n",
      "torch.Size([41, 62, 150])\n",
      "torch.Size([41, 62, 150])\n"
     ]
    },
    {
     "name": "stderr",
     "output_type": "stream",
     "text": [
      "Epoch 7/41:  26%|██▌       | 55/214 [00:01<00:03, 44.90batch/s, loss=0.159]"
     ]
    },
    {
     "name": "stdout",
     "output_type": "stream",
     "text": [
      "torch.Size([41, 62, 150])\n",
      "torch.Size([41, 62, 150])\n",
      "torch.Size([41, 62, 150])\n"
     ]
    },
    {
     "name": "stderr",
     "output_type": "stream",
     "text": [
      "Epoch 7/41:  26%|██▌       | 55/214 [00:01<00:03, 44.90batch/s, loss=0.148]"
     ]
    },
    {
     "name": "stdout",
     "output_type": "stream",
     "text": [
      "torch.Size([41, 62, 150])\n"
     ]
    },
    {
     "name": "stderr",
     "output_type": "stream",
     "text": [
      "Epoch 7/41:  28%|██▊       | 60/214 [00:01<00:03, 44.34batch/s, loss=0.159]"
     ]
    },
    {
     "name": "stdout",
     "output_type": "stream",
     "text": [
      "torch.Size([41, 62, 150])\n",
      "torch.Size([41, 62, 150])\n",
      "torch.Size([41, 62, 150])\n",
      "torch.Size([41, 62, 150])\n",
      "torch.Size([41, 62, 150])\n"
     ]
    },
    {
     "name": "stderr",
     "output_type": "stream",
     "text": [
      "Epoch 7/41:  28%|██▊       | 60/214 [00:01<00:03, 44.34batch/s, loss=0.152]"
     ]
    },
    {
     "name": "stdout",
     "output_type": "stream",
     "text": [
      "torch.Size([41, 62, 150])\n",
      "torch.Size([41, 62, 150])\n",
      "torch.Size([41, 62, 150])\n"
     ]
    },
    {
     "name": "stderr",
     "output_type": "stream",
     "text": [
      "Epoch 7/41:  28%|██▊       | 60/214 [00:01<00:03, 44.34batch/s, loss=0.155]"
     ]
    },
    {
     "name": "stdout",
     "output_type": "stream",
     "text": [
      "torch.Size([41, 62, 150])\n"
     ]
    },
    {
     "name": "stderr",
     "output_type": "stream",
     "text": [
      "Epoch 7/41:  30%|███       | 65/214 [00:01<00:03, 43.54batch/s, loss=0.154]"
     ]
    },
    {
     "name": "stdout",
     "output_type": "stream",
     "text": [
      "torch.Size([41, 62, 150])\n",
      "torch.Size([41, 62, 150])\n",
      "torch.Size([41, 62, 150])\n",
      "torch.Size([41, 62, 150])\n",
      "torch.Size([41, 62, 150])\n"
     ]
    },
    {
     "name": "stderr",
     "output_type": "stream",
     "text": [
      "Epoch 7/41:  33%|███▎      | 70/214 [00:01<00:03, 43.82batch/s, loss=0.152]"
     ]
    },
    {
     "name": "stdout",
     "output_type": "stream",
     "text": [
      "torch.Size([41, 62, 150])\n",
      "torch.Size([41, 62, 150])\n",
      "torch.Size([41, 62, 150])\n"
     ]
    },
    {
     "name": "stderr",
     "output_type": "stream",
     "text": [
      "Epoch 7/41:  33%|███▎      | 70/214 [00:01<00:03, 43.82batch/s, loss=0.154]"
     ]
    },
    {
     "name": "stdout",
     "output_type": "stream",
     "text": [
      "torch.Size([41, 62, 150])\n"
     ]
    },
    {
     "name": "stderr",
     "output_type": "stream",
     "text": [
      "Epoch 7/41:  35%|███▌      | 75/214 [00:01<00:03, 44.02batch/s, loss=0.153]"
     ]
    },
    {
     "name": "stdout",
     "output_type": "stream",
     "text": [
      "torch.Size([41, 62, 150])\n",
      "torch.Size([41, 62, 150])\n",
      "torch.Size([41, 62, 150])\n",
      "torch.Size([41, 62, 150])\n",
      "torch.Size([41, 62, 150])\n",
      "torch.Size([41, 62, 150])\n"
     ]
    },
    {
     "name": "stderr",
     "output_type": "stream",
     "text": [
      "Epoch 7/41:  37%|███▋      | 80/214 [00:01<00:03, 44.28batch/s, loss=0.149]"
     ]
    },
    {
     "name": "stdout",
     "output_type": "stream",
     "text": [
      "torch.Size([41, 62, 150])\n",
      "torch.Size([41, 62, 150])\n"
     ]
    },
    {
     "name": "stderr",
     "output_type": "stream",
     "text": [
      "Epoch 7/41:  37%|███▋      | 80/214 [00:01<00:03, 44.28batch/s, loss=0.15] "
     ]
    },
    {
     "name": "stdout",
     "output_type": "stream",
     "text": [
      "torch.Size([41, 62, 150])\n"
     ]
    },
    {
     "name": "stderr",
     "output_type": "stream",
     "text": [
      "Epoch 7/41:  40%|███▉      | 85/214 [00:01<00:02, 44.48batch/s, loss=0.152]"
     ]
    },
    {
     "name": "stdout",
     "output_type": "stream",
     "text": [
      "torch.Size([41, 62, 150])\n",
      "torch.Size([41, 62, 150])\n",
      "torch.Size([41, 62, 150])\n",
      "torch.Size([41, 62, 150])\n",
      "torch.Size([41, 62, 150])\n",
      "torch.Size([41, 62, 150])\n",
      "torch.Size([41, 62, 150])\n"
     ]
    },
    {
     "name": "stderr",
     "output_type": "stream",
     "text": [
      "Epoch 7/41:  42%|████▏     | 90/214 [00:02<00:02, 45.04batch/s, loss=0.147]"
     ]
    },
    {
     "name": "stdout",
     "output_type": "stream",
     "text": [
      "torch.Size([41, 62, 150])\n",
      "torch.Size([41, 62, 150])\n"
     ]
    },
    {
     "name": "stderr",
     "output_type": "stream",
     "text": [
      "Epoch 7/41:  42%|████▏     | 90/214 [00:02<00:02, 45.04batch/s, loss=0.148]"
     ]
    },
    {
     "name": "stdout",
     "output_type": "stream",
     "text": [
      "torch.Size([41, 62, 150])\n"
     ]
    },
    {
     "name": "stderr",
     "output_type": "stream",
     "text": [
      "Epoch 7/41:  44%|████▍     | 95/214 [00:02<00:02, 44.80batch/s, loss=0.151]"
     ]
    },
    {
     "name": "stdout",
     "output_type": "stream",
     "text": [
      "torch.Size([41, 62, 150])\n",
      "torch.Size([41, 62, 150])\n",
      "torch.Size([41, 62, 150])\n",
      "torch.Size([41, 62, 150])\n",
      "torch.Size([41, 62, 150])\n",
      "torch.Size([41, 62, 150])\n"
     ]
    },
    {
     "name": "stderr",
     "output_type": "stream",
     "text": [
      "Epoch 7/41:  47%|████▋     | 100/214 [00:02<00:02, 44.81batch/s, loss=0.146]"
     ]
    },
    {
     "name": "stdout",
     "output_type": "stream",
     "text": [
      "torch.Size([41, 62, 150])\n",
      "torch.Size([41, 62, 150])\n"
     ]
    },
    {
     "name": "stderr",
     "output_type": "stream",
     "text": [
      "Epoch 7/41:  47%|████▋     | 100/214 [00:02<00:02, 44.81batch/s, loss=0.148]"
     ]
    },
    {
     "name": "stdout",
     "output_type": "stream",
     "text": [
      "torch.Size([41, 62, 150])\n"
     ]
    },
    {
     "name": "stderr",
     "output_type": "stream",
     "text": [
      "Epoch 7/41:  49%|████▉     | 105/214 [00:02<00:02, 44.71batch/s, loss=0.149]"
     ]
    },
    {
     "name": "stdout",
     "output_type": "stream",
     "text": [
      "torch.Size([41, 62, 150])\n",
      "torch.Size([41, 62, 150])\n",
      "torch.Size([41, 62, 150])\n",
      "torch.Size([41, 62, 150])\n",
      "torch.Size([41, 62, 150])\n",
      "torch.Size([41, 62, 150])\n"
     ]
    },
    {
     "name": "stderr",
     "output_type": "stream",
     "text": [
      "Epoch 7/41:  51%|█████▏    | 110/214 [00:02<00:02, 44.67batch/s, loss=0.152]"
     ]
    },
    {
     "name": "stdout",
     "output_type": "stream",
     "text": [
      "torch.Size([41, 62, 150])\n",
      "torch.Size([41, 62, 150])\n"
     ]
    },
    {
     "name": "stderr",
     "output_type": "stream",
     "text": [
      "Epoch 7/41:  51%|█████▏    | 110/214 [00:02<00:02, 44.67batch/s, loss=0.146]"
     ]
    },
    {
     "name": "stdout",
     "output_type": "stream",
     "text": [
      "torch.Size([41, 62, 150])\n"
     ]
    },
    {
     "name": "stderr",
     "output_type": "stream",
     "text": [
      "Epoch 7/41:  54%|█████▎    | 115/214 [00:02<00:02, 44.83batch/s, loss=0.147]"
     ]
    },
    {
     "name": "stdout",
     "output_type": "stream",
     "text": [
      "torch.Size([41, 62, 150])\n",
      "torch.Size([41, 62, 150])\n",
      "torch.Size([41, 62, 150])\n",
      "torch.Size([41, 62, 150])\n",
      "torch.Size([41, 62, 150])\n",
      "torch.Size([41, 62, 150])\n",
      "torch.Size([41, 62, 150])\n"
     ]
    },
    {
     "name": "stderr",
     "output_type": "stream",
     "text": [
      "Epoch 7/41:  54%|█████▎    | 115/214 [00:02<00:02, 44.83batch/s, loss=0.15] "
     ]
    },
    {
     "name": "stdout",
     "output_type": "stream",
     "text": [
      "torch.Size([41, 62, 150])\n",
      "torch.Size([41, 62, 150])\n"
     ]
    },
    {
     "name": "stderr",
     "output_type": "stream",
     "text": [
      "Epoch 7/41:  56%|█████▌    | 120/214 [00:02<00:02, 45.25batch/s, loss=0.151]"
     ]
    },
    {
     "name": "stdout",
     "output_type": "stream",
     "text": [
      "torch.Size([41, 62, 150])\n"
     ]
    },
    {
     "name": "stderr",
     "output_type": "stream",
     "text": [
      "Epoch 7/41:  58%|█████▊    | 125/214 [00:02<00:01, 44.90batch/s, loss=0.147]"
     ]
    },
    {
     "name": "stdout",
     "output_type": "stream",
     "text": [
      "torch.Size([41, 62, 150])\n",
      "torch.Size([41, 62, 150])\n",
      "torch.Size([41, 62, 150])\n",
      "torch.Size([41, 62, 150])\n",
      "torch.Size([41, 62, 150])\n",
      "torch.Size([41, 62, 150])\n"
     ]
    },
    {
     "name": "stderr",
     "output_type": "stream",
     "text": [
      "Epoch 7/41:  58%|█████▊    | 125/214 [00:02<00:01, 44.90batch/s, loss=0.149]"
     ]
    },
    {
     "name": "stdout",
     "output_type": "stream",
     "text": [
      "torch.Size([41, 62, 150])\n",
      "torch.Size([41, 62, 150])\n"
     ]
    },
    {
     "name": "stderr",
     "output_type": "stream",
     "text": [
      "Epoch 7/41:  61%|██████    | 130/214 [00:02<00:01, 44.90batch/s, loss=0.15] "
     ]
    },
    {
     "name": "stdout",
     "output_type": "stream",
     "text": [
      "torch.Size([41, 62, 150])\n"
     ]
    },
    {
     "name": "stderr",
     "output_type": "stream",
     "text": [
      "Epoch 7/41:  63%|██████▎   | 135/214 [00:03<00:01, 44.76batch/s, loss=0.145]"
     ]
    },
    {
     "name": "stdout",
     "output_type": "stream",
     "text": [
      "torch.Size([41, 62, 150])\n",
      "torch.Size([41, 62, 150])\n",
      "torch.Size([41, 62, 150])\n",
      "torch.Size([41, 62, 150])\n",
      "torch.Size([41, 62, 150])\n",
      "torch.Size([41, 62, 150])\n"
     ]
    },
    {
     "name": "stderr",
     "output_type": "stream",
     "text": [
      "Epoch 7/41:  63%|██████▎   | 135/214 [00:03<00:01, 44.76batch/s, loss=0.148]"
     ]
    },
    {
     "name": "stdout",
     "output_type": "stream",
     "text": [
      "torch.Size([41, 62, 150])\n",
      "torch.Size([41, 62, 150])\n"
     ]
    },
    {
     "name": "stderr",
     "output_type": "stream",
     "text": [
      "Epoch 7/41:  63%|██████▎   | 135/214 [00:03<00:01, 44.76batch/s, loss=0.149]"
     ]
    },
    {
     "name": "stdout",
     "output_type": "stream",
     "text": [
      "torch.Size([41, 62, 150])\n"
     ]
    },
    {
     "name": "stderr",
     "output_type": "stream",
     "text": [
      "Epoch 7/41:  68%|██████▊   | 145/214 [00:03<00:01, 44.95batch/s, loss=0.15] "
     ]
    },
    {
     "name": "stdout",
     "output_type": "stream",
     "text": [
      "torch.Size([41, 62, 150])\n",
      "torch.Size([41, 62, 150])\n",
      "torch.Size([41, 62, 150])\n",
      "torch.Size([41, 62, 150])\n",
      "torch.Size([41, 62, 150])\n",
      "torch.Size([41, 62, 150])\n",
      "torch.Size([41, 62, 150])\n"
     ]
    },
    {
     "name": "stderr",
     "output_type": "stream",
     "text": [
      "Epoch 7/41:  68%|██████▊   | 145/214 [00:03<00:01, 44.95batch/s, loss=0.147]"
     ]
    },
    {
     "name": "stdout",
     "output_type": "stream",
     "text": [
      "torch.Size([41, 62, 150])\n",
      "torch.Size([41, 62, 150])\n"
     ]
    },
    {
     "name": "stderr",
     "output_type": "stream",
     "text": [
      "Epoch 7/41:  68%|██████▊   | 145/214 [00:03<00:01, 44.95batch/s, loss=0.148]"
     ]
    },
    {
     "name": "stdout",
     "output_type": "stream",
     "text": [
      "torch.Size([41, 62, 150])\n"
     ]
    },
    {
     "name": "stderr",
     "output_type": "stream",
     "text": [
      "Epoch 7/41:  72%|███████▏  | 155/214 [00:03<00:01, 45.04batch/s, loss=0.149]"
     ]
    },
    {
     "name": "stdout",
     "output_type": "stream",
     "text": [
      "torch.Size([41, 62, 150])\n",
      "torch.Size([41, 62, 150])\n",
      "torch.Size([41, 62, 150])\n",
      "torch.Size([41, 62, 150])\n",
      "torch.Size([41, 62, 150])\n",
      "torch.Size([41, 62, 150])\n",
      "torch.Size([41, 62, 150])\n"
     ]
    },
    {
     "name": "stderr",
     "output_type": "stream",
     "text": [
      "Epoch 7/41:  72%|███████▏  | 155/214 [00:03<00:01, 45.04batch/s, loss=0.147]"
     ]
    },
    {
     "name": "stdout",
     "output_type": "stream",
     "text": [
      "torch.Size([41, 62, 150])\n"
     ]
    },
    {
     "name": "stderr",
     "output_type": "stream",
     "text": [
      "Epoch 7/41:  72%|███████▏  | 155/214 [00:03<00:01, 45.04batch/s, loss=0.147]"
     ]
    },
    {
     "name": "stdout",
     "output_type": "stream",
     "text": [
      "torch.Size([41, 62, 150])\n"
     ]
    },
    {
     "name": "stderr",
     "output_type": "stream",
     "text": [
      "Epoch 7/41:  77%|███████▋  | 165/214 [00:03<00:01, 45.00batch/s, loss=0.149]"
     ]
    },
    {
     "name": "stdout",
     "output_type": "stream",
     "text": [
      "torch.Size([41, 62, 150])\n",
      "torch.Size([41, 62, 150])\n",
      "torch.Size([41, 62, 150])\n",
      "torch.Size([41, 62, 150])\n",
      "torch.Size([41, 62, 150])\n",
      "torch.Size([41, 62, 150])\n",
      "torch.Size([41, 62, 150])\n",
      "torch.Size([41, 62, 150])\n"
     ]
    },
    {
     "name": "stderr",
     "output_type": "stream",
     "text": [
      "Epoch 7/41:  77%|███████▋  | 165/214 [00:03<00:01, 45.00batch/s, loss=0.145]"
     ]
    },
    {
     "name": "stdout",
     "output_type": "stream",
     "text": [
      "torch.Size([41, 62, 150])\n"
     ]
    },
    {
     "name": "stderr",
     "output_type": "stream",
     "text": [
      "Epoch 7/41:  77%|███████▋  | 165/214 [00:03<00:01, 45.00batch/s, loss=0.146]"
     ]
    },
    {
     "name": "stdout",
     "output_type": "stream",
     "text": [
      "torch.Size([41, 62, 150])\n"
     ]
    },
    {
     "name": "stderr",
     "output_type": "stream",
     "text": [
      "Epoch 7/41:  82%|████████▏ | 175/214 [00:03<00:00, 45.08batch/s, loss=0.148]"
     ]
    },
    {
     "name": "stdout",
     "output_type": "stream",
     "text": [
      "torch.Size([41, 62, 150])\n",
      "torch.Size([41, 62, 150])\n",
      "torch.Size([41, 62, 150])\n",
      "torch.Size([41, 62, 150])\n",
      "torch.Size([41, 62, 150])\n",
      "torch.Size([41, 62, 150])\n",
      "torch.Size([41, 62, 150])\n",
      "torch.Size([41, 62, 150])\n"
     ]
    },
    {
     "name": "stderr",
     "output_type": "stream",
     "text": [
      "Epoch 7/41:  82%|████████▏ | 175/214 [00:03<00:00, 45.08batch/s, loss=0.145]"
     ]
    },
    {
     "name": "stdout",
     "output_type": "stream",
     "text": [
      "torch.Size([41, 62, 150])\n"
     ]
    },
    {
     "name": "stderr",
     "output_type": "stream",
     "text": [
      "Epoch 7/41:  82%|████████▏ | 175/214 [00:03<00:00, 45.08batch/s, loss=0.146]"
     ]
    },
    {
     "name": "stdout",
     "output_type": "stream",
     "text": [
      "torch.Size([41, 62, 150])\n"
     ]
    },
    {
     "name": "stderr",
     "output_type": "stream",
     "text": [
      "Epoch 7/41:  86%|████████▋ | 185/214 [00:04<00:00, 44.62batch/s, loss=0.148]"
     ]
    },
    {
     "name": "stdout",
     "output_type": "stream",
     "text": [
      "torch.Size([41, 62, 150])\n",
      "torch.Size([41, 62, 150])\n",
      "torch.Size([41, 62, 150])\n",
      "torch.Size([41, 62, 150])\n",
      "torch.Size([41, 62, 150])\n",
      "torch.Size([41, 62, 150])\n",
      "torch.Size([41, 62, 150])\n"
     ]
    },
    {
     "name": "stderr",
     "output_type": "stream",
     "text": [
      "Epoch 7/41:  86%|████████▋ | 185/214 [00:04<00:00, 44.62batch/s, loss=0.145]"
     ]
    },
    {
     "name": "stdout",
     "output_type": "stream",
     "text": [
      "torch.Size([41, 62, 150])\n"
     ]
    },
    {
     "name": "stderr",
     "output_type": "stream",
     "text": [
      "Epoch 7/41:  86%|████████▋ | 185/214 [00:04<00:00, 44.62batch/s, loss=0.146]"
     ]
    },
    {
     "name": "stdout",
     "output_type": "stream",
     "text": [
      "torch.Size([41, 62, 150])\n"
     ]
    },
    {
     "name": "stderr",
     "output_type": "stream",
     "text": [
      "Epoch 7/41:  89%|████████▉ | 190/214 [00:04<00:00, 44.40batch/s, loss=0.147]"
     ]
    },
    {
     "name": "stdout",
     "output_type": "stream",
     "text": [
      "torch.Size([41, 62, 150])\n",
      "torch.Size([41, 62, 150])\n",
      "torch.Size([41, 62, 150])\n",
      "torch.Size([41, 62, 150])\n",
      "torch.Size([41, 62, 150])\n",
      "torch.Size([41, 62, 150])\n",
      "torch.Size([41, 62, 150])\n"
     ]
    },
    {
     "name": "stderr",
     "output_type": "stream",
     "text": [
      "Epoch 7/41:  91%|█████████ | 195/214 [00:04<00:00, 44.54batch/s, loss=0.148]"
     ]
    },
    {
     "name": "stdout",
     "output_type": "stream",
     "text": [
      "torch.Size([41, 62, 150])\n"
     ]
    },
    {
     "name": "stderr",
     "output_type": "stream",
     "text": [
      "Epoch 7/41:  91%|█████████ | 195/214 [00:04<00:00, 44.54batch/s, loss=0.145]"
     ]
    },
    {
     "name": "stdout",
     "output_type": "stream",
     "text": [
      "torch.Size([41, 62, 150])\n"
     ]
    },
    {
     "name": "stderr",
     "output_type": "stream",
     "text": [
      "Epoch 7/41:  93%|█████████▎| 200/214 [00:04<00:00, 44.46batch/s, loss=0.147]"
     ]
    },
    {
     "name": "stdout",
     "output_type": "stream",
     "text": [
      "torch.Size([41, 62, 150])\n",
      "torch.Size([41, 62, 150])\n",
      "torch.Size([41, 62, 150])\n",
      "torch.Size([41, 62, 150])\n",
      "torch.Size([41, 62, 150])\n",
      "torch.Size([41, 62, 150])\n",
      "torch.Size([41, 62, 150])\n"
     ]
    },
    {
     "name": "stderr",
     "output_type": "stream",
     "text": [
      "Epoch 7/41:  93%|█████████▎| 200/214 [00:04<00:00, 44.46batch/s, loss=0.147]"
     ]
    },
    {
     "name": "stdout",
     "output_type": "stream",
     "text": [
      "torch.Size([41, 62, 150])\n"
     ]
    },
    {
     "name": "stderr",
     "output_type": "stream",
     "text": [
      "Epoch 7/41:  96%|█████████▌| 205/214 [00:04<00:00, 44.43batch/s, loss=0.148]"
     ]
    },
    {
     "name": "stdout",
     "output_type": "stream",
     "text": [
      "torch.Size([41, 62, 150])\n"
     ]
    },
    {
     "name": "stderr",
     "output_type": "stream",
     "text": [
      "Epoch 7/41:  98%|█████████▊| 210/214 [00:04<00:00, 44.79batch/s, loss=0.146]"
     ]
    },
    {
     "name": "stdout",
     "output_type": "stream",
     "text": [
      "torch.Size([41, 62, 150])\n",
      "torch.Size([41, 62, 150])\n",
      "torch.Size([41, 62, 150])\n",
      "torch.Size([41, 62, 150])\n",
      "torch.Size([41, 62, 150])\n",
      "torch.Size([41, 62, 150])\n",
      "torch.Size([41, 62, 150])\n",
      "torch.Size([41, 62, 150])\n"
     ]
    },
    {
     "name": "stderr",
     "output_type": "stream",
     "text": [
      "Epoch 7/41:  98%|█████████▊| 210/214 [00:04<00:00, 44.79batch/s, loss=0.147]"
     ]
    },
    {
     "name": "stdout",
     "output_type": "stream",
     "text": [
      "torch.Size([7, 62, 150])\n"
     ]
    },
    {
     "name": "stderr",
     "output_type": "stream",
     "text": [
      "Epoch 7/41: 100%|██████████| 214/214 [00:04<00:00, 44.72batch/s, loss=0.147]\n"
     ]
    },
    {
     "name": "stdout",
     "output_type": "stream",
     "text": [
      "Epoch 7/41, Loss: 0.145370076993637\n"
     ]
    },
    {
     "name": "stderr",
     "output_type": "stream",
     "text": [
      "Epoch 8/41:   2%|▏         | 5/214 [00:00<00:04, 45.07batch/s, loss=0.187]"
     ]
    },
    {
     "name": "stdout",
     "output_type": "stream",
     "text": [
      "torch.Size([41, 62, 150])\n",
      "torch.Size([41, 62, 150])\n",
      "torch.Size([41, 62, 150])\n",
      "torch.Size([41, 62, 150])\n",
      "torch.Size([41, 62, 150])\n",
      "torch.Size([41, 62, 150])\n",
      "torch.Size([41, 62, 150])\n",
      "torch.Size([41, 62, 150])\n",
      "torch.Size([41, 62, 150])\n"
     ]
    },
    {
     "name": "stderr",
     "output_type": "stream",
     "text": [
      "Epoch 8/41:   2%|▏         | 5/214 [00:00<00:04, 45.07batch/s, loss=0.212]"
     ]
    },
    {
     "name": "stdout",
     "output_type": "stream",
     "text": [
      "torch.Size([41, 62, 150])\n"
     ]
    },
    {
     "name": "stderr",
     "output_type": "stream",
     "text": [
      "Epoch 8/41:   7%|▋         | 15/214 [00:00<00:04, 44.77batch/s, loss=0.151]"
     ]
    },
    {
     "name": "stdout",
     "output_type": "stream",
     "text": [
      "torch.Size([41, 62, 150])\n",
      "torch.Size([41, 62, 150])\n",
      "torch.Size([41, 62, 150])\n",
      "torch.Size([41, 62, 150])\n",
      "torch.Size([41, 62, 150])\n",
      "torch.Size([41, 62, 150])\n",
      "torch.Size([41, 62, 150])\n"
     ]
    },
    {
     "name": "stderr",
     "output_type": "stream",
     "text": [
      "Epoch 8/41:   7%|▋         | 15/214 [00:00<00:04, 44.77batch/s, loss=0.159]"
     ]
    },
    {
     "name": "stdout",
     "output_type": "stream",
     "text": [
      "torch.Size([41, 62, 150])\n"
     ]
    },
    {
     "name": "stderr",
     "output_type": "stream",
     "text": [
      "Epoch 8/41:   7%|▋         | 15/214 [00:00<00:04, 44.77batch/s, loss=0.167]"
     ]
    },
    {
     "name": "stdout",
     "output_type": "stream",
     "text": [
      "torch.Size([41, 62, 150])\n",
      "torch.Size([41, 62, 150])\n"
     ]
    },
    {
     "name": "stderr",
     "output_type": "stream",
     "text": [
      "Epoch 8/41:  12%|█▏        | 25/214 [00:00<00:04, 44.86batch/s, loss=0.141]"
     ]
    },
    {
     "name": "stdout",
     "output_type": "stream",
     "text": [
      "torch.Size([41, 62, 150])\n",
      "torch.Size([41, 62, 150])\n",
      "torch.Size([41, 62, 150])\n",
      "torch.Size([41, 62, 150])\n",
      "torch.Size([41, 62, 150])\n",
      "torch.Size([41, 62, 150])\n"
     ]
    },
    {
     "name": "stderr",
     "output_type": "stream",
     "text": [
      "Epoch 8/41:  12%|█▏        | 25/214 [00:00<00:04, 44.86batch/s, loss=0.146]"
     ]
    },
    {
     "name": "stdout",
     "output_type": "stream",
     "text": [
      "torch.Size([41, 62, 150])\n"
     ]
    },
    {
     "name": "stderr",
     "output_type": "stream",
     "text": [
      "Epoch 8/41:  12%|█▏        | 25/214 [00:00<00:04, 44.86batch/s, loss=0.156]"
     ]
    },
    {
     "name": "stdout",
     "output_type": "stream",
     "text": [
      "torch.Size([41, 62, 150])\n",
      "torch.Size([41, 62, 150])\n"
     ]
    },
    {
     "name": "stderr",
     "output_type": "stream",
     "text": [
      "Epoch 8/41:  14%|█▍        | 30/214 [00:00<00:04, 44.19batch/s, loss=0.153]"
     ]
    },
    {
     "name": "stdout",
     "output_type": "stream",
     "text": [
      "torch.Size([41, 62, 150])\n",
      "torch.Size([41, 62, 150])\n",
      "torch.Size([41, 62, 150])\n",
      "torch.Size([41, 62, 150])\n",
      "torch.Size([41, 62, 150])\n",
      "torch.Size([41, 62, 150])\n"
     ]
    },
    {
     "name": "stderr",
     "output_type": "stream",
     "text": [
      "Epoch 8/41:  16%|█▋        | 35/214 [00:00<00:04, 44.29batch/s, loss=0.158]"
     ]
    },
    {
     "name": "stdout",
     "output_type": "stream",
     "text": [
      "torch.Size([41, 62, 150])\n"
     ]
    },
    {
     "name": "stderr",
     "output_type": "stream",
     "text": [
      "Epoch 8/41:  16%|█▋        | 35/214 [00:00<00:04, 44.29batch/s, loss=0.149]"
     ]
    },
    {
     "name": "stdout",
     "output_type": "stream",
     "text": [
      "torch.Size([41, 62, 150])\n",
      "torch.Size([41, 62, 150])\n"
     ]
    },
    {
     "name": "stderr",
     "output_type": "stream",
     "text": [
      "Epoch 8/41:  19%|█▊        | 40/214 [00:00<00:03, 44.25batch/s, loss=0.153]"
     ]
    },
    {
     "name": "stdout",
     "output_type": "stream",
     "text": [
      "torch.Size([41, 62, 150])\n",
      "torch.Size([41, 62, 150])\n",
      "torch.Size([41, 62, 150])\n",
      "torch.Size([41, 62, 150])\n",
      "torch.Size([41, 62, 150])\n",
      "torch.Size([41, 62, 150])\n"
     ]
    },
    {
     "name": "stderr",
     "output_type": "stream",
     "text": [
      "Epoch 8/41:  21%|██        | 45/214 [00:01<00:03, 44.35batch/s, loss=0.156]"
     ]
    },
    {
     "name": "stdout",
     "output_type": "stream",
     "text": [
      "torch.Size([41, 62, 150])\n"
     ]
    },
    {
     "name": "stderr",
     "output_type": "stream",
     "text": [
      "Epoch 8/41:  21%|██        | 45/214 [00:01<00:03, 44.35batch/s, loss=0.145]"
     ]
    },
    {
     "name": "stdout",
     "output_type": "stream",
     "text": [
      "torch.Size([41, 62, 150])\n",
      "torch.Size([41, 62, 150])\n"
     ]
    },
    {
     "name": "stderr",
     "output_type": "stream",
     "text": [
      "Epoch 8/41:  23%|██▎       | 50/214 [00:01<00:03, 44.40batch/s, loss=0.147]"
     ]
    },
    {
     "name": "stdout",
     "output_type": "stream",
     "text": [
      "torch.Size([41, 62, 150])\n",
      "torch.Size([41, 62, 150])\n",
      "torch.Size([41, 62, 150])\n",
      "torch.Size([41, 62, 150])\n",
      "torch.Size([41, 62, 150])\n",
      "torch.Size([41, 62, 150])\n",
      "torch.Size([41, 62, 150])\n"
     ]
    },
    {
     "name": "stderr",
     "output_type": "stream",
     "text": [
      "Epoch 8/41:  23%|██▎       | 50/214 [00:01<00:03, 44.40batch/s, loss=0.15] "
     ]
    },
    {
     "name": "stdout",
     "output_type": "stream",
     "text": [
      "torch.Size([41, 62, 150])\n"
     ]
    },
    {
     "name": "stderr",
     "output_type": "stream",
     "text": [
      "Epoch 8/41:  26%|██▌       | 55/214 [00:01<00:03, 44.97batch/s, loss=0.141]"
     ]
    },
    {
     "name": "stdout",
     "output_type": "stream",
     "text": [
      "torch.Size([41, 62, 150])\n",
      "torch.Size([41, 62, 150])\n"
     ]
    },
    {
     "name": "stderr",
     "output_type": "stream",
     "text": [
      "Epoch 8/41:  28%|██▊       | 60/214 [00:01<00:03, 44.89batch/s, loss=0.146]"
     ]
    },
    {
     "name": "stdout",
     "output_type": "stream",
     "text": [
      "torch.Size([41, 62, 150])\n",
      "torch.Size([41, 62, 150])\n",
      "torch.Size([41, 62, 150])\n",
      "torch.Size([41, 62, 150])\n",
      "torch.Size([41, 62, 150])\n",
      "torch.Size([41, 62, 150])\n",
      "torch.Size([41, 62, 150])\n"
     ]
    },
    {
     "name": "stderr",
     "output_type": "stream",
     "text": [
      "Epoch 8/41:  28%|██▊       | 60/214 [00:01<00:03, 44.89batch/s, loss=0.148]"
     ]
    },
    {
     "name": "stdout",
     "output_type": "stream",
     "text": [
      "torch.Size([41, 62, 150])\n"
     ]
    },
    {
     "name": "stderr",
     "output_type": "stream",
     "text": [
      "Epoch 8/41:  30%|███       | 65/214 [00:01<00:03, 44.88batch/s, loss=0.141]"
     ]
    },
    {
     "name": "stdout",
     "output_type": "stream",
     "text": [
      "torch.Size([41, 62, 150])\n"
     ]
    },
    {
     "name": "stderr",
     "output_type": "stream",
     "text": [
      "Epoch 8/41:  33%|███▎      | 70/214 [00:01<00:03, 44.92batch/s, loss=0.145]"
     ]
    },
    {
     "name": "stdout",
     "output_type": "stream",
     "text": [
      "torch.Size([41, 62, 150])\n",
      "torch.Size([41, 62, 150])\n",
      "torch.Size([41, 62, 150])\n",
      "torch.Size([41, 62, 150])\n",
      "torch.Size([41, 62, 150])\n",
      "torch.Size([41, 62, 150])\n",
      "torch.Size([41, 62, 150])\n",
      "torch.Size([41, 62, 150])\n"
     ]
    },
    {
     "name": "stderr",
     "output_type": "stream",
     "text": [
      "Epoch 8/41:  33%|███▎      | 70/214 [00:01<00:03, 44.92batch/s, loss=0.147]"
     ]
    },
    {
     "name": "stdout",
     "output_type": "stream",
     "text": [
      "torch.Size([41, 62, 150])\n"
     ]
    },
    {
     "name": "stderr",
     "output_type": "stream",
     "text": [
      "Epoch 8/41:  35%|███▌      | 75/214 [00:01<00:03, 44.89batch/s, loss=0.149]"
     ]
    },
    {
     "name": "stdout",
     "output_type": "stream",
     "text": [
      "torch.Size([41, 62, 150])\n"
     ]
    },
    {
     "name": "stderr",
     "output_type": "stream",
     "text": [
      "Epoch 8/41:  37%|███▋      | 80/214 [00:01<00:02, 44.85batch/s, loss=0.145]"
     ]
    },
    {
     "name": "stdout",
     "output_type": "stream",
     "text": [
      "torch.Size([41, 62, 150])\n",
      "torch.Size([41, 62, 150])\n",
      "torch.Size([41, 62, 150])\n",
      "torch.Size([41, 62, 150])\n",
      "torch.Size([41, 62, 150])\n",
      "torch.Size([41, 62, 150])\n",
      "torch.Size([41, 62, 150])\n"
     ]
    },
    {
     "name": "stderr",
     "output_type": "stream",
     "text": [
      "Epoch 8/41:  37%|███▋      | 80/214 [00:01<00:02, 44.85batch/s, loss=0.147]"
     ]
    },
    {
     "name": "stdout",
     "output_type": "stream",
     "text": [
      "torch.Size([41, 62, 150])\n",
      "torch.Size([41, 62, 150])\n"
     ]
    },
    {
     "name": "stderr",
     "output_type": "stream",
     "text": [
      "Epoch 8/41:  42%|████▏     | 90/214 [00:02<00:02, 44.53batch/s, loss=0.143]"
     ]
    },
    {
     "name": "stdout",
     "output_type": "stream",
     "text": [
      "torch.Size([41, 62, 150])\n",
      "torch.Size([41, 62, 150])\n",
      "torch.Size([41, 62, 150])\n",
      "torch.Size([41, 62, 150])\n",
      "torch.Size([41, 62, 150])\n",
      "torch.Size([41, 62, 150])\n",
      "torch.Size([41, 62, 150])\n"
     ]
    },
    {
     "name": "stderr",
     "output_type": "stream",
     "text": [
      "Epoch 8/41:  42%|████▏     | 90/214 [00:02<00:02, 44.53batch/s, loss=0.146]"
     ]
    },
    {
     "name": "stdout",
     "output_type": "stream",
     "text": [
      "torch.Size([41, 62, 150])\n",
      "torch.Size([41, 62, 150])\n"
     ]
    },
    {
     "name": "stderr",
     "output_type": "stream",
     "text": [
      "Epoch 8/41:  47%|████▋     | 100/214 [00:02<00:02, 44.40batch/s, loss=0.142]"
     ]
    },
    {
     "name": "stdout",
     "output_type": "stream",
     "text": [
      "torch.Size([41, 62, 150])\n",
      "torch.Size([41, 62, 150])\n",
      "torch.Size([41, 62, 150])\n",
      "torch.Size([41, 62, 150])\n",
      "torch.Size([41, 62, 150])\n",
      "torch.Size([41, 62, 150])\n",
      "torch.Size([41, 62, 150])\n"
     ]
    },
    {
     "name": "stderr",
     "output_type": "stream",
     "text": [
      "Epoch 8/41:  47%|████▋     | 100/214 [00:02<00:02, 44.40batch/s, loss=0.144]"
     ]
    },
    {
     "name": "stdout",
     "output_type": "stream",
     "text": [
      "torch.Size([41, 62, 150])\n",
      "torch.Size([41, 62, 150])\n"
     ]
    },
    {
     "name": "stderr",
     "output_type": "stream",
     "text": [
      "Epoch 8/41:  51%|█████▏    | 110/214 [00:02<00:02, 44.48batch/s, loss=0.147]"
     ]
    },
    {
     "name": "stdout",
     "output_type": "stream",
     "text": [
      "torch.Size([41, 62, 150])\n",
      "torch.Size([41, 62, 150])\n",
      "torch.Size([41, 62, 150])\n",
      "torch.Size([41, 62, 150])\n",
      "torch.Size([41, 62, 150])\n",
      "torch.Size([41, 62, 150])\n",
      "torch.Size([41, 62, 150])\n"
     ]
    },
    {
     "name": "stderr",
     "output_type": "stream",
     "text": [
      "Epoch 8/41:  51%|█████▏    | 110/214 [00:02<00:02, 44.48batch/s, loss=0.143]"
     ]
    },
    {
     "name": "stdout",
     "output_type": "stream",
     "text": [
      "torch.Size([41, 62, 150])\n",
      "torch.Size([41, 62, 150])\n"
     ]
    },
    {
     "name": "stderr",
     "output_type": "stream",
     "text": [
      "Epoch 8/41:  54%|█████▎    | 115/214 [00:02<00:02, 44.89batch/s, loss=0.145]"
     ]
    },
    {
     "name": "stdout",
     "output_type": "stream",
     "text": [
      "torch.Size([41, 62, 150])\n",
      "torch.Size([41, 62, 150])\n",
      "torch.Size([41, 62, 150])\n",
      "torch.Size([41, 62, 150])\n",
      "torch.Size([41, 62, 150])\n",
      "torch.Size([41, 62, 150])\n",
      "torch.Size([41, 62, 150])\n",
      "torch.Size([41, 62, 150])\n"
     ]
    },
    {
     "name": "stderr",
     "output_type": "stream",
     "text": [
      "Epoch 8/41:  56%|█████▌    | 120/214 [00:02<00:02, 44.82batch/s, loss=0.142]"
     ]
    },
    {
     "name": "stdout",
     "output_type": "stream",
     "text": [
      "torch.Size([41, 62, 150])\n",
      "torch.Size([41, 62, 150])\n"
     ]
    },
    {
     "name": "stderr",
     "output_type": "stream",
     "text": [
      "Epoch 8/41:  58%|█████▊    | 125/214 [00:02<00:01, 44.80batch/s, loss=0.145]"
     ]
    },
    {
     "name": "stdout",
     "output_type": "stream",
     "text": [
      "torch.Size([41, 62, 150])\n",
      "torch.Size([41, 62, 150])\n",
      "torch.Size([41, 62, 150])\n",
      "torch.Size([41, 62, 150])\n",
      "torch.Size([41, 62, 150])\n",
      "torch.Size([41, 62, 150])\n",
      "torch.Size([41, 62, 150])\n"
     ]
    },
    {
     "name": "stderr",
     "output_type": "stream",
     "text": [
      "Epoch 8/41:  61%|██████    | 130/214 [00:02<00:01, 44.66batch/s, loss=0.142]"
     ]
    },
    {
     "name": "stdout",
     "output_type": "stream",
     "text": [
      "torch.Size([41, 62, 150])\n",
      "torch.Size([41, 62, 150])\n"
     ]
    },
    {
     "name": "stderr",
     "output_type": "stream",
     "text": [
      "Epoch 8/41:  63%|██████▎   | 135/214 [00:03<00:01, 44.69batch/s, loss=0.144]"
     ]
    },
    {
     "name": "stdout",
     "output_type": "stream",
     "text": [
      "torch.Size([41, 62, 150])\n",
      "torch.Size([41, 62, 150])\n",
      "torch.Size([41, 62, 150])\n",
      "torch.Size([41, 62, 150])\n",
      "torch.Size([41, 62, 150])\n",
      "torch.Size([41, 62, 150])\n",
      "torch.Size([41, 62, 150])\n"
     ]
    },
    {
     "name": "stderr",
     "output_type": "stream",
     "text": [
      "Epoch 8/41:  65%|██████▌   | 140/214 [00:03<00:01, 44.69batch/s, loss=0.146]"
     ]
    },
    {
     "name": "stdout",
     "output_type": "stream",
     "text": [
      "torch.Size([41, 62, 150])\n",
      "torch.Size([41, 62, 150])\n"
     ]
    },
    {
     "name": "stderr",
     "output_type": "stream",
     "text": [
      "Epoch 8/41:  68%|██████▊   | 145/214 [00:03<00:01, 44.79batch/s, loss=0.142]"
     ]
    },
    {
     "name": "stdout",
     "output_type": "stream",
     "text": [
      "torch.Size([41, 62, 150])\n",
      "torch.Size([41, 62, 150])\n",
      "torch.Size([41, 62, 150])\n",
      "torch.Size([41, 62, 150])\n",
      "torch.Size([41, 62, 150])\n",
      "torch.Size([41, 62, 150])\n",
      "torch.Size([41, 62, 150])\n"
     ]
    },
    {
     "name": "stderr",
     "output_type": "stream",
     "text": [
      "Epoch 8/41:  68%|██████▊   | 145/214 [00:03<00:01, 44.79batch/s, loss=0.145]"
     ]
    },
    {
     "name": "stdout",
     "output_type": "stream",
     "text": [
      "torch.Size([41, 62, 150])\n",
      "torch.Size([41, 62, 150])\n"
     ]
    },
    {
     "name": "stderr",
     "output_type": "stream",
     "text": [
      "Epoch 8/41:  72%|███████▏  | 155/214 [00:03<00:01, 44.36batch/s, loss=0.142]"
     ]
    },
    {
     "name": "stdout",
     "output_type": "stream",
     "text": [
      "torch.Size([41, 62, 150])\n",
      "torch.Size([41, 62, 150])\n",
      "torch.Size([41, 62, 150])\n",
      "torch.Size([41, 62, 150])\n",
      "torch.Size([41, 62, 150])\n",
      "torch.Size([41, 62, 150])\n",
      "torch.Size([41, 62, 150])\n"
     ]
    },
    {
     "name": "stderr",
     "output_type": "stream",
     "text": [
      "Epoch 8/41:  72%|███████▏  | 155/214 [00:03<00:01, 44.36batch/s, loss=0.143]"
     ]
    },
    {
     "name": "stdout",
     "output_type": "stream",
     "text": [
      "torch.Size([41, 62, 150])\n",
      "torch.Size([41, 62, 150])\n"
     ]
    },
    {
     "name": "stderr",
     "output_type": "stream",
     "text": [
      "Epoch 8/41:  77%|███████▋  | 165/214 [00:03<00:01, 44.50batch/s, loss=0.145]"
     ]
    },
    {
     "name": "stdout",
     "output_type": "stream",
     "text": [
      "torch.Size([41, 62, 150])\n",
      "torch.Size([41, 62, 150])\n",
      "torch.Size([41, 62, 150])\n",
      "torch.Size([41, 62, 150])\n",
      "torch.Size([41, 62, 150])\n",
      "torch.Size([41, 62, 150])\n",
      "torch.Size([41, 62, 150])\n"
     ]
    },
    {
     "name": "stderr",
     "output_type": "stream",
     "text": [
      "Epoch 8/41:  77%|███████▋  | 165/214 [00:03<00:01, 44.50batch/s, loss=0.142]"
     ]
    },
    {
     "name": "stdout",
     "output_type": "stream",
     "text": [
      "torch.Size([41, 62, 150])\n",
      "torch.Size([41, 62, 150])\n"
     ]
    },
    {
     "name": "stderr",
     "output_type": "stream",
     "text": [
      "Epoch 8/41:  79%|███████▉  | 170/214 [00:03<00:00, 44.53batch/s, loss=0.144]"
     ]
    },
    {
     "name": "stdout",
     "output_type": "stream",
     "text": [
      "torch.Size([41, 62, 150])\n",
      "torch.Size([41, 62, 150])\n",
      "torch.Size([41, 62, 150])\n",
      "torch.Size([41, 62, 150])\n",
      "torch.Size([41, 62, 150])\n",
      "torch.Size([41, 62, 150])\n",
      "torch.Size([41, 62, 150])\n",
      "torch.Size([41, 62, 150])\n"
     ]
    },
    {
     "name": "stderr",
     "output_type": "stream",
     "text": [
      "Epoch 8/41:  82%|████████▏ | 175/214 [00:03<00:00, 45.13batch/s, loss=0.141]"
     ]
    },
    {
     "name": "stdout",
     "output_type": "stream",
     "text": [
      "torch.Size([41, 62, 150])\n",
      "torch.Size([41, 62, 150])\n"
     ]
    },
    {
     "name": "stderr",
     "output_type": "stream",
     "text": [
      "Epoch 8/41:  84%|████████▍ | 180/214 [00:04<00:00, 44.99batch/s, loss=0.144]"
     ]
    },
    {
     "name": "stdout",
     "output_type": "stream",
     "text": [
      "torch.Size([41, 62, 150])\n",
      "torch.Size([41, 62, 150])\n",
      "torch.Size([41, 62, 150])\n",
      "torch.Size([41, 62, 150])\n",
      "torch.Size([41, 62, 150])\n",
      "torch.Size([41, 62, 150])\n",
      "torch.Size([41, 62, 150])\n",
      "torch.Size([41, 62, 150])\n"
     ]
    },
    {
     "name": "stderr",
     "output_type": "stream",
     "text": [
      "Epoch 8/41:  86%|████████▋ | 185/214 [00:04<00:00, 44.91batch/s, loss=0.141]"
     ]
    },
    {
     "name": "stdout",
     "output_type": "stream",
     "text": [
      "torch.Size([41, 62, 150])\n"
     ]
    },
    {
     "name": "stderr",
     "output_type": "stream",
     "text": [
      "Epoch 8/41:  89%|████████▉ | 190/214 [00:04<00:00, 44.87batch/s, loss=0.144]"
     ]
    },
    {
     "name": "stdout",
     "output_type": "stream",
     "text": [
      "torch.Size([41, 62, 150])\n",
      "torch.Size([41, 62, 150])\n",
      "torch.Size([41, 62, 150])\n",
      "torch.Size([41, 62, 150])\n",
      "torch.Size([41, 62, 150])\n",
      "torch.Size([41, 62, 150])\n",
      "torch.Size([41, 62, 150])\n",
      "torch.Size([41, 62, 150])\n"
     ]
    },
    {
     "name": "stderr",
     "output_type": "stream",
     "text": [
      "Epoch 8/41:  91%|█████████ | 195/214 [00:04<00:00, 44.79batch/s, loss=0.144]"
     ]
    },
    {
     "name": "stdout",
     "output_type": "stream",
     "text": [
      "torch.Size([41, 62, 150])\n"
     ]
    },
    {
     "name": "stderr",
     "output_type": "stream",
     "text": [
      "Epoch 8/41:  93%|█████████▎| 200/214 [00:04<00:00, 44.86batch/s, loss=0.143]"
     ]
    },
    {
     "name": "stdout",
     "output_type": "stream",
     "text": [
      "torch.Size([41, 62, 150])\n",
      "torch.Size([41, 62, 150])\n",
      "torch.Size([41, 62, 150])\n",
      "torch.Size([41, 62, 150])\n",
      "torch.Size([41, 62, 150])\n",
      "torch.Size([41, 62, 150])\n",
      "torch.Size([41, 62, 150])\n",
      "torch.Size([41, 62, 150])\n",
      "torch.Size([41, 62, 150])\n"
     ]
    },
    {
     "name": "stderr",
     "output_type": "stream",
     "text": [
      "Epoch 8/41:  93%|█████████▎| 200/214 [00:04<00:00, 44.86batch/s, loss=0.143]"
     ]
    },
    {
     "name": "stdout",
     "output_type": "stream",
     "text": [
      "torch.Size([41, 62, 150])\n"
     ]
    },
    {
     "name": "stderr",
     "output_type": "stream",
     "text": [
      "Epoch 8/41:  98%|█████████▊| 210/214 [00:04<00:00, 44.63batch/s, loss=0.143]"
     ]
    },
    {
     "name": "stdout",
     "output_type": "stream",
     "text": [
      "torch.Size([41, 62, 150])\n",
      "torch.Size([41, 62, 150])\n",
      "torch.Size([41, 62, 150])\n",
      "torch.Size([41, 62, 150])\n",
      "torch.Size([41, 62, 150])\n",
      "torch.Size([41, 62, 150])\n",
      "torch.Size([41, 62, 150])\n",
      "torch.Size([41, 62, 150])\n"
     ]
    },
    {
     "name": "stderr",
     "output_type": "stream",
     "text": [
      "Epoch 8/41: 100%|██████████| 214/214 [00:04<00:00, 44.66batch/s, loss=0.144]\n"
     ]
    },
    {
     "name": "stdout",
     "output_type": "stream",
     "text": [
      "torch.Size([7, 62, 150])\n",
      "Epoch 8/41, Loss: 0.1420969266757787\n"
     ]
    },
    {
     "name": "stderr",
     "output_type": "stream",
     "text": [
      "Epoch 9/41:   2%|▏         | 5/214 [00:00<00:04, 44.74batch/s, loss=0.194]"
     ]
    },
    {
     "name": "stdout",
     "output_type": "stream",
     "text": [
      "torch.Size([41, 62, 150])\n",
      "torch.Size([41, 62, 150])\n",
      "torch.Size([41, 62, 150])\n",
      "torch.Size([41, 62, 150])\n",
      "torch.Size([41, 62, 150])\n",
      "torch.Size([41, 62, 150])\n",
      "torch.Size([41, 62, 150])\n",
      "torch.Size([41, 62, 150])\n"
     ]
    },
    {
     "name": "stderr",
     "output_type": "stream",
     "text": [
      "Epoch 9/41:   2%|▏         | 5/214 [00:00<00:04, 44.74batch/s, loss=0.215]"
     ]
    },
    {
     "name": "stdout",
     "output_type": "stream",
     "text": [
      "torch.Size([41, 62, 150])\n",
      "torch.Size([41, 62, 150])\n"
     ]
    },
    {
     "name": "stderr",
     "output_type": "stream",
     "text": [
      "Epoch 9/41:   7%|▋         | 15/214 [00:00<00:04, 44.83batch/s, loss=0.154]"
     ]
    },
    {
     "name": "stdout",
     "output_type": "stream",
     "text": [
      "torch.Size([41, 62, 150])\n",
      "torch.Size([41, 62, 150])\n",
      "torch.Size([41, 62, 150])\n",
      "torch.Size([41, 62, 150])\n",
      "torch.Size([41, 62, 150])\n",
      "torch.Size([41, 62, 150])\n",
      "torch.Size([41, 62, 150])\n"
     ]
    },
    {
     "name": "stderr",
     "output_type": "stream",
     "text": [
      "Epoch 9/41:   7%|▋         | 15/214 [00:00<00:04, 44.83batch/s, loss=0.171]"
     ]
    },
    {
     "name": "stdout",
     "output_type": "stream",
     "text": [
      "torch.Size([41, 62, 150])\n",
      "torch.Size([41, 62, 150])\n",
      "torch.Size([41, 62, 150])\n"
     ]
    },
    {
     "name": "stderr",
     "output_type": "stream",
     "text": [
      "Epoch 9/41:  12%|█▏        | 25/214 [00:00<00:04, 45.41batch/s, loss=0.143]"
     ]
    },
    {
     "name": "stdout",
     "output_type": "stream",
     "text": [
      "torch.Size([41, 62, 150])\n",
      "torch.Size([41, 62, 150])\n",
      "torch.Size([41, 62, 150])\n",
      "torch.Size([41, 62, 150])\n",
      "torch.Size([41, 62, 150])\n",
      "torch.Size([41, 62, 150])\n",
      "torch.Size([41, 62, 150])\n"
     ]
    },
    {
     "name": "stderr",
     "output_type": "stream",
     "text": [
      "Epoch 9/41:  12%|█▏        | 25/214 [00:00<00:04, 45.41batch/s, loss=0.159]"
     ]
    },
    {
     "name": "stdout",
     "output_type": "stream",
     "text": [
      "torch.Size([41, 62, 150])\n",
      "torch.Size([41, 62, 150])\n",
      "torch.Size([41, 62, 150])\n"
     ]
    },
    {
     "name": "stderr",
     "output_type": "stream",
     "text": [
      "Epoch 9/41:  16%|█▋        | 35/214 [00:00<00:03, 45.19batch/s, loss=0.142]"
     ]
    },
    {
     "name": "stdout",
     "output_type": "stream",
     "text": [
      "torch.Size([41, 62, 150])\n",
      "torch.Size([41, 62, 150])\n",
      "torch.Size([41, 62, 150])\n",
      "torch.Size([41, 62, 150])\n",
      "torch.Size([41, 62, 150])\n",
      "torch.Size([41, 62, 150])\n",
      "torch.Size([41, 62, 150])\n"
     ]
    },
    {
     "name": "stderr",
     "output_type": "stream",
     "text": [
      "Epoch 9/41:  16%|█▋        | 35/214 [00:00<00:03, 45.19batch/s, loss=0.154]"
     ]
    },
    {
     "name": "stdout",
     "output_type": "stream",
     "text": [
      "torch.Size([41, 62, 150])\n",
      "torch.Size([41, 62, 150])\n",
      "torch.Size([41, 62, 150])\n"
     ]
    },
    {
     "name": "stderr",
     "output_type": "stream",
     "text": [
      "Epoch 9/41:  21%|██        | 45/214 [00:01<00:03, 45.04batch/s, loss=0.141]"
     ]
    },
    {
     "name": "stdout",
     "output_type": "stream",
     "text": [
      "torch.Size([41, 62, 150])\n",
      "torch.Size([41, 62, 150])\n",
      "torch.Size([41, 62, 150])\n",
      "torch.Size([41, 62, 150])\n",
      "torch.Size([41, 62, 150])\n",
      "torch.Size([41, 62, 150])\n",
      "torch.Size([41, 62, 150])\n"
     ]
    },
    {
     "name": "stderr",
     "output_type": "stream",
     "text": [
      "Epoch 9/41:  21%|██        | 45/214 [00:01<00:03, 45.04batch/s, loss=0.151]"
     ]
    },
    {
     "name": "stdout",
     "output_type": "stream",
     "text": [
      "torch.Size([41, 62, 150])\n",
      "torch.Size([41, 62, 150])\n",
      "torch.Size([41, 62, 150])\n"
     ]
    },
    {
     "name": "stderr",
     "output_type": "stream",
     "text": [
      "Epoch 9/41:  26%|██▌       | 55/214 [00:01<00:03, 44.96batch/s, loss=0.142]"
     ]
    },
    {
     "name": "stdout",
     "output_type": "stream",
     "text": [
      "torch.Size([41, 62, 150])\n",
      "torch.Size([41, 62, 150])\n",
      "torch.Size([41, 62, 150])\n",
      "torch.Size([41, 62, 150])\n",
      "torch.Size([41, 62, 150])\n",
      "torch.Size([41, 62, 150])\n"
     ]
    },
    {
     "name": "stderr",
     "output_type": "stream",
     "text": [
      "Epoch 9/41:  26%|██▌       | 55/214 [00:01<00:03, 44.96batch/s, loss=0.149]"
     ]
    },
    {
     "name": "stdout",
     "output_type": "stream",
     "text": [
      "torch.Size([41, 62, 150])\n",
      "torch.Size([41, 62, 150])\n",
      "torch.Size([41, 62, 150])\n"
     ]
    },
    {
     "name": "stderr",
     "output_type": "stream",
     "text": [
      "Epoch 9/41:  30%|███       | 65/214 [00:01<00:03, 44.64batch/s, loss=0.151]"
     ]
    },
    {
     "name": "stdout",
     "output_type": "stream",
     "text": [
      "torch.Size([41, 62, 150])\n",
      "torch.Size([41, 62, 150])\n",
      "torch.Size([41, 62, 150])\n",
      "torch.Size([41, 62, 150])\n",
      "torch.Size([41, 62, 150])\n",
      "torch.Size([41, 62, 150])\n"
     ]
    },
    {
     "name": "stderr",
     "output_type": "stream",
     "text": [
      "Epoch 9/41:  30%|███       | 65/214 [00:01<00:03, 44.64batch/s, loss=0.146]"
     ]
    },
    {
     "name": "stdout",
     "output_type": "stream",
     "text": [
      "torch.Size([41, 62, 150])\n",
      "torch.Size([41, 62, 150])\n",
      "torch.Size([41, 62, 150])\n"
     ]
    },
    {
     "name": "stderr",
     "output_type": "stream",
     "text": [
      "Epoch 9/41:  33%|███▎      | 70/214 [00:01<00:03, 44.61batch/s, loss=0.146]"
     ]
    },
    {
     "name": "stdout",
     "output_type": "stream",
     "text": [
      "torch.Size([41, 62, 150])\n",
      "torch.Size([41, 62, 150])\n",
      "torch.Size([41, 62, 150])\n",
      "torch.Size([41, 62, 150])\n",
      "torch.Size([41, 62, 150])\n",
      "torch.Size([41, 62, 150])\n",
      "torch.Size([41, 62, 150])\n"
     ]
    },
    {
     "name": "stderr",
     "output_type": "stream",
     "text": [
      "Epoch 9/41:  35%|███▌      | 75/214 [00:01<00:03, 44.70batch/s, loss=0.142]"
     ]
    },
    {
     "name": "stdout",
     "output_type": "stream",
     "text": [
      "torch.Size([41, 62, 150])\n",
      "torch.Size([41, 62, 150])\n",
      "torch.Size([41, 62, 150])\n"
     ]
    },
    {
     "name": "stderr",
     "output_type": "stream",
     "text": [
      "Epoch 9/41:  37%|███▋      | 80/214 [00:01<00:02, 44.94batch/s, loss=0.145]"
     ]
    },
    {
     "name": "stdout",
     "output_type": "stream",
     "text": [
      "torch.Size([41, 62, 150])\n",
      "torch.Size([41, 62, 150])\n",
      "torch.Size([41, 62, 150])\n",
      "torch.Size([41, 62, 150])\n",
      "torch.Size([41, 62, 150])\n",
      "torch.Size([41, 62, 150])\n",
      "torch.Size([41, 62, 150])\n"
     ]
    },
    {
     "name": "stderr",
     "output_type": "stream",
     "text": [
      "Epoch 9/41:  40%|███▉      | 85/214 [00:01<00:02, 45.16batch/s, loss=0.142]"
     ]
    },
    {
     "name": "stdout",
     "output_type": "stream",
     "text": [
      "torch.Size([41, 62, 150])\n",
      "torch.Size([41, 62, 150])\n",
      "torch.Size([41, 62, 150])\n"
     ]
    },
    {
     "name": "stderr",
     "output_type": "stream",
     "text": [
      "Epoch 9/41:  42%|████▏     | 90/214 [00:02<00:02, 44.92batch/s, loss=0.145]"
     ]
    },
    {
     "name": "stdout",
     "output_type": "stream",
     "text": [
      "torch.Size([41, 62, 150])\n",
      "torch.Size([41, 62, 150])\n",
      "torch.Size([41, 62, 150])\n",
      "torch.Size([41, 62, 150])\n",
      "torch.Size([41, 62, 150])\n",
      "torch.Size([41, 62, 150])\n",
      "torch.Size([41, 62, 150])\n"
     ]
    },
    {
     "name": "stderr",
     "output_type": "stream",
     "text": [
      "Epoch 9/41:  44%|████▍     | 95/214 [00:02<00:02, 45.01batch/s, loss=0.142]"
     ]
    },
    {
     "name": "stdout",
     "output_type": "stream",
     "text": [
      "torch.Size([41, 62, 150])\n",
      "torch.Size([41, 62, 150])\n",
      "torch.Size([41, 62, 150])\n"
     ]
    },
    {
     "name": "stderr",
     "output_type": "stream",
     "text": [
      "Epoch 9/41:  47%|████▋     | 100/214 [00:02<00:02, 44.97batch/s, loss=0.144]"
     ]
    },
    {
     "name": "stdout",
     "output_type": "stream",
     "text": [
      "torch.Size([41, 62, 150])\n",
      "torch.Size([41, 62, 150])\n",
      "torch.Size([41, 62, 150])\n",
      "torch.Size([41, 62, 150])\n",
      "torch.Size([41, 62, 150])\n",
      "torch.Size([41, 62, 150])\n",
      "torch.Size([41, 62, 150])\n"
     ]
    },
    {
     "name": "stderr",
     "output_type": "stream",
     "text": [
      "Epoch 9/41:  49%|████▉     | 105/214 [00:02<00:02, 45.04batch/s, loss=0.141]"
     ]
    },
    {
     "name": "stdout",
     "output_type": "stream",
     "text": [
      "torch.Size([41, 62, 150])\n",
      "torch.Size([41, 62, 150])\n",
      "torch.Size([41, 62, 150])\n"
     ]
    },
    {
     "name": "stderr",
     "output_type": "stream",
     "text": [
      "Epoch 9/41:  51%|█████▏    | 110/214 [00:02<00:02, 45.01batch/s, loss=0.144]"
     ]
    },
    {
     "name": "stdout",
     "output_type": "stream",
     "text": [
      "torch.Size([41, 62, 150])\n",
      "torch.Size([41, 62, 150])\n",
      "torch.Size([41, 62, 150])\n",
      "torch.Size([41, 62, 150])\n",
      "torch.Size([41, 62, 150])\n",
      "torch.Size([41, 62, 150])\n",
      "torch.Size([41, 62, 150])\n"
     ]
    },
    {
     "name": "stderr",
     "output_type": "stream",
     "text": [
      "Epoch 9/41:  54%|█████▎    | 115/214 [00:02<00:02, 45.13batch/s, loss=0.141]"
     ]
    },
    {
     "name": "stdout",
     "output_type": "stream",
     "text": [
      "torch.Size([41, 62, 150])\n",
      "torch.Size([41, 62, 150])\n"
     ]
    },
    {
     "name": "stderr",
     "output_type": "stream",
     "text": [
      "Epoch 9/41:  56%|█████▌    | 120/214 [00:02<00:02, 44.64batch/s, loss=0.143]"
     ]
    },
    {
     "name": "stdout",
     "output_type": "stream",
     "text": [
      "torch.Size([41, 62, 150])\n",
      "torch.Size([41, 62, 150])\n",
      "torch.Size([41, 62, 150])\n",
      "torch.Size([41, 62, 150])\n",
      "torch.Size([41, 62, 150])\n",
      "torch.Size([41, 62, 150])\n",
      "torch.Size([41, 62, 150])\n"
     ]
    },
    {
     "name": "stderr",
     "output_type": "stream",
     "text": [
      "Epoch 9/41:  58%|█████▊    | 125/214 [00:02<00:01, 44.75batch/s, loss=0.14] "
     ]
    },
    {
     "name": "stdout",
     "output_type": "stream",
     "text": [
      "torch.Size([41, 62, 150])\n",
      "torch.Size([41, 62, 150])\n"
     ]
    },
    {
     "name": "stderr",
     "output_type": "stream",
     "text": [
      "Epoch 9/41:  61%|██████    | 130/214 [00:02<00:01, 44.71batch/s, loss=0.141]"
     ]
    },
    {
     "name": "stdout",
     "output_type": "stream",
     "text": [
      "torch.Size([41, 62, 150])\n",
      "torch.Size([41, 62, 150])\n",
      "torch.Size([41, 62, 150])\n",
      "torch.Size([41, 62, 150])\n",
      "torch.Size([41, 62, 150])\n",
      "torch.Size([41, 62, 150])\n",
      "torch.Size([41, 62, 150])\n"
     ]
    },
    {
     "name": "stderr",
     "output_type": "stream",
     "text": [
      "Epoch 9/41:  63%|██████▎   | 135/214 [00:03<00:01, 44.77batch/s, loss=0.143]"
     ]
    },
    {
     "name": "stdout",
     "output_type": "stream",
     "text": [
      "torch.Size([41, 62, 150])\n",
      "torch.Size([41, 62, 150])\n",
      "torch.Size([41, 62, 150])\n"
     ]
    },
    {
     "name": "stderr",
     "output_type": "stream",
     "text": [
      "Epoch 9/41:  65%|██████▌   | 140/214 [00:03<00:01, 44.91batch/s, loss=0.14] "
     ]
    },
    {
     "name": "stdout",
     "output_type": "stream",
     "text": [
      "torch.Size([41, 62, 150])\n",
      "torch.Size([41, 62, 150])\n",
      "torch.Size([41, 62, 150])\n",
      "torch.Size([41, 62, 150])\n",
      "torch.Size([41, 62, 150])\n",
      "torch.Size([41, 62, 150])\n",
      "torch.Size([41, 62, 150])\n"
     ]
    },
    {
     "name": "stderr",
     "output_type": "stream",
     "text": [
      "Epoch 9/41:  68%|██████▊   | 145/214 [00:03<00:01, 45.35batch/s, loss=0.143]"
     ]
    },
    {
     "name": "stdout",
     "output_type": "stream",
     "text": [
      "torch.Size([41, 62, 150])\n",
      "torch.Size([41, 62, 150])\n",
      "torch.Size([41, 62, 150])\n"
     ]
    },
    {
     "name": "stderr",
     "output_type": "stream",
     "text": [
      "Epoch 9/41:  70%|███████   | 150/214 [00:03<00:01, 45.01batch/s, loss=0.14] "
     ]
    },
    {
     "name": "stdout",
     "output_type": "stream",
     "text": [
      "torch.Size([41, 62, 150])\n",
      "torch.Size([41, 62, 150])\n",
      "torch.Size([41, 62, 150])\n",
      "torch.Size([41, 62, 150])\n",
      "torch.Size([41, 62, 150])\n",
      "torch.Size([41, 62, 150])\n"
     ]
    },
    {
     "name": "stderr",
     "output_type": "stream",
     "text": [
      "Epoch 9/41:  72%|███████▏  | 155/214 [00:03<00:01, 45.13batch/s, loss=0.142]"
     ]
    },
    {
     "name": "stdout",
     "output_type": "stream",
     "text": [
      "torch.Size([41, 62, 150])\n",
      "torch.Size([41, 62, 150])\n",
      "torch.Size([41, 62, 150])\n",
      "torch.Size([41, 62, 150])\n"
     ]
    },
    {
     "name": "stderr",
     "output_type": "stream",
     "text": [
      "Epoch 9/41:  75%|███████▍  | 160/214 [00:03<00:01, 44.70batch/s, loss=0.139]"
     ]
    },
    {
     "name": "stdout",
     "output_type": "stream",
     "text": [
      "torch.Size([41, 62, 150])\n",
      "torch.Size([41, 62, 150])\n",
      "torch.Size([41, 62, 150])\n",
      "torch.Size([41, 62, 150])\n",
      "torch.Size([41, 62, 150])\n"
     ]
    },
    {
     "name": "stderr",
     "output_type": "stream",
     "text": [
      "Epoch 9/41:  77%|███████▋  | 165/214 [00:03<00:01, 44.85batch/s, loss=0.142]"
     ]
    },
    {
     "name": "stdout",
     "output_type": "stream",
     "text": [
      "torch.Size([41, 62, 150])\n",
      "torch.Size([41, 62, 150])\n",
      "torch.Size([41, 62, 150])\n",
      "torch.Size([41, 62, 150])\n"
     ]
    },
    {
     "name": "stderr",
     "output_type": "stream",
     "text": [
      "Epoch 9/41:  79%|███████▉  | 170/214 [00:03<00:00, 44.94batch/s, loss=0.142]"
     ]
    },
    {
     "name": "stdout",
     "output_type": "stream",
     "text": [
      "torch.Size([41, 62, 150])\n",
      "torch.Size([41, 62, 150])\n",
      "torch.Size([41, 62, 150])\n",
      "torch.Size([41, 62, 150])\n",
      "torch.Size([41, 62, 150])\n",
      "torch.Size([41, 62, 150])\n"
     ]
    },
    {
     "name": "stderr",
     "output_type": "stream",
     "text": [
      "Epoch 9/41:  79%|███████▉  | 170/214 [00:03<00:00, 44.94batch/s, loss=0.141]"
     ]
    },
    {
     "name": "stdout",
     "output_type": "stream",
     "text": [
      "torch.Size([41, 62, 150])\n",
      "torch.Size([41, 62, 150])\n",
      "torch.Size([41, 62, 150])\n",
      "torch.Size([41, 62, 150])\n"
     ]
    },
    {
     "name": "stderr",
     "output_type": "stream",
     "text": [
      "Epoch 9/41:  84%|████████▍ | 180/214 [00:04<00:00, 44.60batch/s, loss=0.142]"
     ]
    },
    {
     "name": "stdout",
     "output_type": "stream",
     "text": [
      "torch.Size([41, 62, 150])\n",
      "torch.Size([41, 62, 150])\n",
      "torch.Size([41, 62, 150])\n",
      "torch.Size([41, 62, 150])\n",
      "torch.Size([41, 62, 150])\n"
     ]
    },
    {
     "name": "stderr",
     "output_type": "stream",
     "text": [
      "Epoch 9/41:  84%|████████▍ | 180/214 [00:04<00:00, 44.60batch/s, loss=0.141]"
     ]
    },
    {
     "name": "stdout",
     "output_type": "stream",
     "text": [
      "torch.Size([41, 62, 150])\n",
      "torch.Size([41, 62, 150])\n",
      "torch.Size([41, 62, 150])\n",
      "torch.Size([41, 62, 150])\n"
     ]
    },
    {
     "name": "stderr",
     "output_type": "stream",
     "text": [
      "Epoch 9/41:  86%|████████▋ | 185/214 [00:04<00:00, 44.56batch/s, loss=0.141]"
     ]
    },
    {
     "name": "stdout",
     "output_type": "stream",
     "text": [
      "torch.Size([41, 62, 150])\n",
      "torch.Size([41, 62, 150])\n",
      "torch.Size([41, 62, 150])\n",
      "torch.Size([41, 62, 150])\n",
      "torch.Size([41, 62, 150])\n"
     ]
    },
    {
     "name": "stderr",
     "output_type": "stream",
     "text": [
      "Epoch 9/41:  89%|████████▉ | 190/214 [00:04<00:00, 44.55batch/s, loss=0.14] "
     ]
    },
    {
     "name": "stdout",
     "output_type": "stream",
     "text": [
      "torch.Size([41, 62, 150])\n",
      "torch.Size([41, 62, 150])\n",
      "torch.Size([41, 62, 150])\n",
      "torch.Size([41, 62, 150])\n"
     ]
    },
    {
     "name": "stderr",
     "output_type": "stream",
     "text": [
      "Epoch 9/41:  91%|█████████ | 195/214 [00:04<00:00, 44.64batch/s, loss=0.14] "
     ]
    },
    {
     "name": "stdout",
     "output_type": "stream",
     "text": [
      "torch.Size([41, 62, 150])\n",
      "torch.Size([41, 62, 150])\n",
      "torch.Size([41, 62, 150])\n",
      "torch.Size([41, 62, 150])\n",
      "torch.Size([41, 62, 150])\n",
      "torch.Size([41, 62, 150])\n"
     ]
    },
    {
     "name": "stderr",
     "output_type": "stream",
     "text": [
      "Epoch 9/41:  93%|█████████▎| 200/214 [00:04<00:00, 44.80batch/s, loss=0.139]"
     ]
    },
    {
     "name": "stdout",
     "output_type": "stream",
     "text": [
      "torch.Size([41, 62, 150])\n",
      "torch.Size([41, 62, 150])\n",
      "torch.Size([41, 62, 150])\n",
      "torch.Size([41, 62, 150])\n"
     ]
    },
    {
     "name": "stderr",
     "output_type": "stream",
     "text": [
      "Epoch 9/41:  96%|█████████▌| 205/214 [00:04<00:00, 45.28batch/s, loss=0.14] "
     ]
    },
    {
     "name": "stdout",
     "output_type": "stream",
     "text": [
      "torch.Size([41, 62, 150])\n",
      "torch.Size([41, 62, 150])\n",
      "torch.Size([41, 62, 150])\n",
      "torch.Size([41, 62, 150])\n",
      "torch.Size([41, 62, 150])\n",
      "torch.Size([41, 62, 150])\n"
     ]
    },
    {
     "name": "stderr",
     "output_type": "stream",
     "text": [
      "Epoch 9/41:  98%|█████████▊| 210/214 [00:04<00:00, 45.01batch/s, loss=0.139]"
     ]
    },
    {
     "name": "stdout",
     "output_type": "stream",
     "text": [
      "torch.Size([41, 62, 150])\n",
      "torch.Size([41, 62, 150])\n",
      "torch.Size([41, 62, 150])\n",
      "torch.Size([41, 62, 150])\n"
     ]
    },
    {
     "name": "stderr",
     "output_type": "stream",
     "text": [
      "Epoch 9/41: 100%|██████████| 214/214 [00:04<00:00, 44.92batch/s, loss=0.14] \n"
     ]
    },
    {
     "name": "stdout",
     "output_type": "stream",
     "text": [
      "torch.Size([7, 62, 150])\n",
      "Epoch 9/41, Loss: 0.13839992922600183\n"
     ]
    },
    {
     "name": "stderr",
     "output_type": "stream",
     "text": [
      "Epoch 10/41:   0%|          | 0/214 [00:00<?, ?batch/s, loss=0.509]"
     ]
    },
    {
     "name": "stdout",
     "output_type": "stream",
     "text": [
      "torch.Size([41, 62, 150])\n",
      "torch.Size([41, 62, 150])\n",
      "torch.Size([41, 62, 150])\n",
      "torch.Size([41, 62, 150])\n"
     ]
    },
    {
     "name": "stderr",
     "output_type": "stream",
     "text": [
      "Epoch 10/41:   2%|▏         | 5/214 [00:00<00:04, 44.89batch/s, loss=0.172]"
     ]
    },
    {
     "name": "stdout",
     "output_type": "stream",
     "text": [
      "torch.Size([41, 62, 150])\n",
      "torch.Size([41, 62, 150])\n",
      "torch.Size([41, 62, 150])\n",
      "torch.Size([41, 62, 150])\n"
     ]
    },
    {
     "name": "stderr",
     "output_type": "stream",
     "text": [
      "Epoch 10/41:   2%|▏         | 5/214 [00:00<00:04, 44.89batch/s, loss=0.196]"
     ]
    },
    {
     "name": "stdout",
     "output_type": "stream",
     "text": [
      "torch.Size([41, 62, 150])\n",
      "torch.Size([41, 62, 150])\n"
     ]
    },
    {
     "name": "stderr",
     "output_type": "stream",
     "text": [
      "Epoch 10/41:   5%|▍         | 10/214 [00:00<00:04, 44.98batch/s, loss=0.157]"
     ]
    },
    {
     "name": "stdout",
     "output_type": "stream",
     "text": [
      "torch.Size([41, 62, 150])\n",
      "torch.Size([41, 62, 150])\n",
      "torch.Size([41, 62, 150])\n",
      "torch.Size([41, 62, 150])\n"
     ]
    },
    {
     "name": "stderr",
     "output_type": "stream",
     "text": [
      "Epoch 10/41:   7%|▋         | 15/214 [00:00<00:04, 44.94batch/s, loss=0.14] "
     ]
    },
    {
     "name": "stdout",
     "output_type": "stream",
     "text": [
      "torch.Size([41, 62, 150])\n",
      "torch.Size([41, 62, 150])\n",
      "torch.Size([41, 62, 150])\n",
      "torch.Size([41, 62, 150])\n"
     ]
    },
    {
     "name": "stderr",
     "output_type": "stream",
     "text": [
      "Epoch 10/41:   7%|▋         | 15/214 [00:00<00:04, 44.94batch/s, loss=0.157]"
     ]
    },
    {
     "name": "stdout",
     "output_type": "stream",
     "text": [
      "torch.Size([41, 62, 150])\n",
      "torch.Size([41, 62, 150])\n"
     ]
    },
    {
     "name": "stderr",
     "output_type": "stream",
     "text": [
      "Epoch 10/41:   9%|▉         | 20/214 [00:00<00:04, 45.07batch/s, loss=0.144]"
     ]
    },
    {
     "name": "stdout",
     "output_type": "stream",
     "text": [
      "torch.Size([41, 62, 150])\n",
      "torch.Size([41, 62, 150])\n",
      "torch.Size([41, 62, 150])\n"
     ]
    },
    {
     "name": "stderr",
     "output_type": "stream",
     "text": [
      "Epoch 10/41:  12%|█▏        | 25/214 [00:00<00:04, 44.67batch/s, loss=0.137]"
     ]
    },
    {
     "name": "stdout",
     "output_type": "stream",
     "text": [
      "torch.Size([41, 62, 150])\n",
      "torch.Size([41, 62, 150])\n",
      "torch.Size([41, 62, 150])\n",
      "torch.Size([41, 62, 150])\n"
     ]
    },
    {
     "name": "stderr",
     "output_type": "stream",
     "text": [
      "Epoch 10/41:  12%|█▏        | 25/214 [00:00<00:04, 44.67batch/s, loss=0.146]"
     ]
    },
    {
     "name": "stdout",
     "output_type": "stream",
     "text": [
      "torch.Size([41, 62, 150])\n",
      "torch.Size([41, 62, 150])\n"
     ]
    },
    {
     "name": "stderr",
     "output_type": "stream",
     "text": [
      "Epoch 10/41:  14%|█▍        | 30/214 [00:00<00:04, 44.58batch/s, loss=0.135]"
     ]
    },
    {
     "name": "stdout",
     "output_type": "stream",
     "text": [
      "torch.Size([41, 62, 150])\n",
      "torch.Size([41, 62, 150])\n",
      "torch.Size([41, 62, 150])\n"
     ]
    },
    {
     "name": "stderr",
     "output_type": "stream",
     "text": [
      "Epoch 10/41:  16%|█▋        | 35/214 [00:00<00:04, 44.58batch/s, loss=0.13] "
     ]
    },
    {
     "name": "stdout",
     "output_type": "stream",
     "text": [
      "torch.Size([41, 62, 150])\n",
      "torch.Size([41, 62, 150])\n",
      "torch.Size([41, 62, 150])\n",
      "torch.Size([41, 62, 150])\n"
     ]
    },
    {
     "name": "stderr",
     "output_type": "stream",
     "text": [
      "Epoch 10/41:  16%|█▋        | 35/214 [00:00<00:04, 44.58batch/s, loss=0.137]"
     ]
    },
    {
     "name": "stdout",
     "output_type": "stream",
     "text": [
      "torch.Size([41, 62, 150])\n",
      "torch.Size([41, 62, 150])\n"
     ]
    },
    {
     "name": "stderr",
     "output_type": "stream",
     "text": [
      "Epoch 10/41:  19%|█▊        | 40/214 [00:00<00:03, 44.63batch/s, loss=0.129]"
     ]
    },
    {
     "name": "stdout",
     "output_type": "stream",
     "text": [
      "torch.Size([41, 62, 150])\n",
      "torch.Size([41, 62, 150])\n",
      "torch.Size([41, 62, 150])\n"
     ]
    },
    {
     "name": "stderr",
     "output_type": "stream",
     "text": [
      "Epoch 10/41:  21%|██        | 45/214 [00:01<00:03, 44.65batch/s, loss=0.143]"
     ]
    },
    {
     "name": "stdout",
     "output_type": "stream",
     "text": [
      "torch.Size([41, 62, 150])\n",
      "torch.Size([41, 62, 150])\n",
      "torch.Size([41, 62, 150])\n",
      "torch.Size([41, 62, 150])\n"
     ]
    },
    {
     "name": "stderr",
     "output_type": "stream",
     "text": [
      "Epoch 10/41:  21%|██        | 45/214 [00:01<00:03, 44.65batch/s, loss=0.133]"
     ]
    },
    {
     "name": "stdout",
     "output_type": "stream",
     "text": [
      "torch.Size([41, 62, 150])\n",
      "torch.Size([41, 62, 150])\n",
      "torch.Size([41, 62, 150])\n"
     ]
    },
    {
     "name": "stderr",
     "output_type": "stream",
     "text": [
      "Epoch 10/41:  23%|██▎       | 50/214 [00:01<00:03, 45.04batch/s, loss=0.142]"
     ]
    },
    {
     "name": "stdout",
     "output_type": "stream",
     "text": [
      "torch.Size([41, 62, 150])\n",
      "torch.Size([41, 62, 150])\n",
      "torch.Size([41, 62, 150])\n"
     ]
    },
    {
     "name": "stderr",
     "output_type": "stream",
     "text": [
      "Epoch 10/41:  23%|██▎       | 50/214 [00:01<00:03, 45.04batch/s, loss=0.139]"
     ]
    },
    {
     "name": "stdout",
     "output_type": "stream",
     "text": [
      "torch.Size([41, 62, 150])\n",
      "torch.Size([41, 62, 150])\n",
      "torch.Size([41, 62, 150])\n",
      "torch.Size([41, 62, 150])\n"
     ]
    },
    {
     "name": "stderr",
     "output_type": "stream",
     "text": [
      "Epoch 10/41:  26%|██▌       | 55/214 [00:01<00:03, 44.86batch/s, loss=0.134]"
     ]
    },
    {
     "name": "stdout",
     "output_type": "stream",
     "text": [
      "torch.Size([41, 62, 150])\n",
      "torch.Size([41, 62, 150])\n",
      "torch.Size([41, 62, 150])\n"
     ]
    },
    {
     "name": "stderr",
     "output_type": "stream",
     "text": [
      "Epoch 10/41:  28%|██▊       | 60/214 [00:01<00:03, 44.80batch/s, loss=0.142]"
     ]
    },
    {
     "name": "stdout",
     "output_type": "stream",
     "text": [
      "torch.Size([41, 62, 150])\n",
      "torch.Size([41, 62, 150])\n"
     ]
    },
    {
     "name": "stderr",
     "output_type": "stream",
     "text": [
      "Epoch 10/41:  28%|██▊       | 60/214 [00:01<00:03, 44.80batch/s, loss=0.14] "
     ]
    },
    {
     "name": "stdout",
     "output_type": "stream",
     "text": [
      "torch.Size([41, 62, 150])\n",
      "torch.Size([41, 62, 150])\n",
      "torch.Size([41, 62, 150])\n",
      "torch.Size([41, 62, 150])\n"
     ]
    },
    {
     "name": "stderr",
     "output_type": "stream",
     "text": [
      "Epoch 10/41:  30%|███       | 65/214 [00:01<00:03, 44.72batch/s, loss=0.135]"
     ]
    },
    {
     "name": "stdout",
     "output_type": "stream",
     "text": [
      "torch.Size([41, 62, 150])\n",
      "torch.Size([41, 62, 150])\n",
      "torch.Size([41, 62, 150])\n"
     ]
    },
    {
     "name": "stderr",
     "output_type": "stream",
     "text": [
      "Epoch 10/41:  30%|███       | 65/214 [00:01<00:03, 44.72batch/s, loss=0.139]"
     ]
    },
    {
     "name": "stdout",
     "output_type": "stream",
     "text": [
      "torch.Size([41, 62, 150])\n",
      "torch.Size([41, 62, 150])\n"
     ]
    },
    {
     "name": "stderr",
     "output_type": "stream",
     "text": [
      "Epoch 10/41:  33%|███▎      | 70/214 [00:01<00:03, 44.66batch/s, loss=0.137]"
     ]
    },
    {
     "name": "stdout",
     "output_type": "stream",
     "text": [
      "torch.Size([41, 62, 150])\n",
      "torch.Size([41, 62, 150])\n",
      "torch.Size([41, 62, 150])\n",
      "torch.Size([41, 62, 150])\n"
     ]
    },
    {
     "name": "stderr",
     "output_type": "stream",
     "text": [
      "Epoch 10/41:  35%|███▌      | 75/214 [00:01<00:03, 44.78batch/s, loss=0.134]"
     ]
    },
    {
     "name": "stdout",
     "output_type": "stream",
     "text": [
      "torch.Size([41, 62, 150])\n",
      "torch.Size([41, 62, 150])\n",
      "torch.Size([41, 62, 150])\n",
      "torch.Size([41, 62, 150])\n"
     ]
    },
    {
     "name": "stderr",
     "output_type": "stream",
     "text": [
      "Epoch 10/41:  35%|███▌      | 75/214 [00:01<00:03, 44.78batch/s, loss=0.138]"
     ]
    },
    {
     "name": "stdout",
     "output_type": "stream",
     "text": [
      "torch.Size([41, 62, 150])\n"
     ]
    },
    {
     "name": "stderr",
     "output_type": "stream",
     "text": [
      "Epoch 10/41:  37%|███▋      | 80/214 [00:01<00:02, 44.77batch/s, loss=0.136]"
     ]
    },
    {
     "name": "stdout",
     "output_type": "stream",
     "text": [
      "torch.Size([41, 62, 150])\n",
      "torch.Size([41, 62, 150])\n",
      "torch.Size([41, 62, 150])\n",
      "torch.Size([41, 62, 150])\n"
     ]
    },
    {
     "name": "stderr",
     "output_type": "stream",
     "text": [
      "Epoch 10/41:  40%|███▉      | 85/214 [00:01<00:02, 43.22batch/s, loss=0.141]"
     ]
    },
    {
     "name": "stdout",
     "output_type": "stream",
     "text": [
      "torch.Size([41, 62, 150])\n",
      "torch.Size([41, 62, 150])\n",
      "torch.Size([41, 62, 150])\n",
      "torch.Size([41, 62, 150])\n"
     ]
    },
    {
     "name": "stderr",
     "output_type": "stream",
     "text": [
      "Epoch 10/41:  40%|███▉      | 85/214 [00:01<00:02, 43.22batch/s, loss=0.134]"
     ]
    },
    {
     "name": "stdout",
     "output_type": "stream",
     "text": [
      "torch.Size([41, 62, 150])\n"
     ]
    },
    {
     "name": "stderr",
     "output_type": "stream",
     "text": [
      "Epoch 10/41:  40%|███▉      | 85/214 [00:02<00:02, 43.22batch/s, loss=0.139]"
     ]
    },
    {
     "name": "stdout",
     "output_type": "stream",
     "text": [
      "torch.Size([41, 62, 150])\n",
      "torch.Size([41, 62, 150])\n",
      "torch.Size([41, 62, 150])\n"
     ]
    },
    {
     "name": "stderr",
     "output_type": "stream",
     "text": [
      "Epoch 10/41:  42%|████▏     | 90/214 [00:02<00:02, 41.47batch/s, loss=0.139]"
     ]
    },
    {
     "name": "stdout",
     "output_type": "stream",
     "text": [
      "torch.Size([41, 62, 150])\n",
      "torch.Size([41, 62, 150])\n",
      "torch.Size([41, 62, 150])\n",
      "torch.Size([41, 62, 150])\n"
     ]
    },
    {
     "name": "stderr",
     "output_type": "stream",
     "text": [
      "Epoch 10/41:  44%|████▍     | 95/214 [00:02<00:02, 41.63batch/s, loss=0.141]"
     ]
    },
    {
     "name": "stdout",
     "output_type": "stream",
     "text": [
      "torch.Size([41, 62, 150])\n",
      "torch.Size([41, 62, 150])\n"
     ]
    },
    {
     "name": "stderr",
     "output_type": "stream",
     "text": [
      "Epoch 10/41:  44%|████▍     | 95/214 [00:02<00:02, 41.63batch/s, loss=0.137]"
     ]
    },
    {
     "name": "stdout",
     "output_type": "stream",
     "text": [
      "torch.Size([41, 62, 150])\n",
      "torch.Size([41, 62, 150])\n",
      "torch.Size([41, 62, 150])\n"
     ]
    },
    {
     "name": "stderr",
     "output_type": "stream",
     "text": [
      "Epoch 10/41:  47%|████▋     | 100/214 [00:02<00:02, 42.54batch/s, loss=0.138]"
     ]
    },
    {
     "name": "stdout",
     "output_type": "stream",
     "text": [
      "torch.Size([41, 62, 150])\n",
      "torch.Size([41, 62, 150])\n",
      "torch.Size([41, 62, 150])\n",
      "torch.Size([41, 62, 150])\n"
     ]
    },
    {
     "name": "stderr",
     "output_type": "stream",
     "text": [
      "Epoch 10/41:  49%|████▉     | 105/214 [00:02<00:02, 43.22batch/s, loss=0.14] "
     ]
    },
    {
     "name": "stdout",
     "output_type": "stream",
     "text": [
      "torch.Size([41, 62, 150])\n",
      "torch.Size([41, 62, 150])\n",
      "torch.Size([41, 62, 150])\n"
     ]
    },
    {
     "name": "stderr",
     "output_type": "stream",
     "text": [
      "Epoch 10/41:  49%|████▉     | 105/214 [00:02<00:02, 43.22batch/s, loss=0.137]"
     ]
    },
    {
     "name": "stdout",
     "output_type": "stream",
     "text": [
      "torch.Size([41, 62, 150])\n",
      "torch.Size([41, 62, 150])\n",
      "torch.Size([41, 62, 150])\n"
     ]
    },
    {
     "name": "stderr",
     "output_type": "stream",
     "text": [
      "Epoch 10/41:  51%|█████▏    | 110/214 [00:02<00:02, 44.08batch/s, loss=0.136]"
     ]
    },
    {
     "name": "stdout",
     "output_type": "stream",
     "text": [
      "torch.Size([41, 62, 150])\n",
      "torch.Size([41, 62, 150])\n",
      "torch.Size([41, 62, 150])\n",
      "torch.Size([41, 62, 150])\n"
     ]
    },
    {
     "name": "stderr",
     "output_type": "stream",
     "text": [
      "Epoch 10/41:  54%|█████▎    | 115/214 [00:02<00:02, 44.18batch/s, loss=0.139]"
     ]
    },
    {
     "name": "stdout",
     "output_type": "stream",
     "text": [
      "torch.Size([41, 62, 150])\n",
      "torch.Size([41, 62, 150])\n",
      "torch.Size([41, 62, 150])\n"
     ]
    },
    {
     "name": "stderr",
     "output_type": "stream",
     "text": [
      "Epoch 10/41:  54%|█████▎    | 115/214 [00:02<00:02, 44.18batch/s, loss=0.137]"
     ]
    },
    {
     "name": "stdout",
     "output_type": "stream",
     "text": [
      "torch.Size([41, 62, 150])\n",
      "torch.Size([41, 62, 150])\n"
     ]
    },
    {
     "name": "stderr",
     "output_type": "stream",
     "text": [
      "Epoch 10/41:  56%|█████▌    | 120/214 [00:02<00:02, 44.48batch/s, loss=0.136]"
     ]
    },
    {
     "name": "stdout",
     "output_type": "stream",
     "text": [
      "torch.Size([41, 62, 150])\n",
      "torch.Size([41, 62, 150])\n",
      "torch.Size([41, 62, 150])\n",
      "torch.Size([41, 62, 150])\n",
      "torch.Size([41, 62, 150])\n"
     ]
    },
    {
     "name": "stderr",
     "output_type": "stream",
     "text": [
      "Epoch 10/41:  58%|█████▊    | 125/214 [00:02<00:01, 44.55batch/s, loss=0.139]"
     ]
    },
    {
     "name": "stdout",
     "output_type": "stream",
     "text": [
      "torch.Size([41, 62, 150])\n",
      "torch.Size([41, 62, 150])\n",
      "torch.Size([41, 62, 150])\n"
     ]
    },
    {
     "name": "stderr",
     "output_type": "stream",
     "text": [
      "Epoch 10/41:  58%|█████▊    | 125/214 [00:02<00:01, 44.55batch/s, loss=0.136]"
     ]
    },
    {
     "name": "stdout",
     "output_type": "stream",
     "text": [
      "torch.Size([41, 62, 150])\n"
     ]
    },
    {
     "name": "stderr",
     "output_type": "stream",
     "text": [
      "Epoch 10/41:  61%|██████    | 130/214 [00:02<00:01, 44.70batch/s, loss=0.136]"
     ]
    },
    {
     "name": "stdout",
     "output_type": "stream",
     "text": [
      "torch.Size([41, 62, 150])\n",
      "torch.Size([41, 62, 150])\n",
      "torch.Size([41, 62, 150])\n",
      "torch.Size([41, 62, 150])\n",
      "torch.Size([41, 62, 150])\n",
      "torch.Size([41, 62, 150])\n"
     ]
    },
    {
     "name": "stderr",
     "output_type": "stream",
     "text": [
      "Epoch 10/41:  63%|██████▎   | 135/214 [00:03<00:01, 44.84batch/s, loss=0.139]"
     ]
    },
    {
     "name": "stdout",
     "output_type": "stream",
     "text": [
      "torch.Size([41, 62, 150])\n",
      "torch.Size([41, 62, 150])\n",
      "torch.Size([41, 62, 150])\n"
     ]
    },
    {
     "name": "stderr",
     "output_type": "stream",
     "text": [
      "Epoch 10/41:  63%|██████▎   | 135/214 [00:03<00:01, 44.84batch/s, loss=0.135]"
     ]
    },
    {
     "name": "stdout",
     "output_type": "stream",
     "text": [
      "torch.Size([41, 62, 150])\n"
     ]
    },
    {
     "name": "stderr",
     "output_type": "stream",
     "text": [
      "Epoch 10/41:  65%|██████▌   | 140/214 [00:03<00:01, 44.98batch/s, loss=0.136]"
     ]
    },
    {
     "name": "stdout",
     "output_type": "stream",
     "text": [
      "torch.Size([41, 62, 150])\n",
      "torch.Size([41, 62, 150])\n",
      "torch.Size([41, 62, 150])\n",
      "torch.Size([41, 62, 150])\n",
      "torch.Size([41, 62, 150])\n"
     ]
    },
    {
     "name": "stderr",
     "output_type": "stream",
     "text": [
      "Epoch 10/41:  65%|██████▌   | 140/214 [00:03<00:01, 44.98batch/s, loss=0.138]"
     ]
    },
    {
     "name": "stdout",
     "output_type": "stream",
     "text": [
      "torch.Size([41, 62, 150])\n",
      "torch.Size([41, 62, 150])\n",
      "torch.Size([41, 62, 150])\n"
     ]
    },
    {
     "name": "stderr",
     "output_type": "stream",
     "text": [
      "Epoch 10/41:  68%|██████▊   | 145/214 [00:03<00:01, 43.05batch/s, loss=0.139]"
     ]
    },
    {
     "name": "stdout",
     "output_type": "stream",
     "text": [
      "torch.Size([41, 62, 150])\n"
     ]
    },
    {
     "name": "stderr",
     "output_type": "stream",
     "text": [
      "Epoch 10/41:  70%|███████   | 150/214 [00:03<00:01, 43.49batch/s, loss=0.139]"
     ]
    },
    {
     "name": "stdout",
     "output_type": "stream",
     "text": [
      "torch.Size([41, 62, 150])\n",
      "torch.Size([41, 62, 150])\n",
      "torch.Size([41, 62, 150])\n",
      "torch.Size([41, 62, 150])\n",
      "torch.Size([41, 62, 150])\n"
     ]
    },
    {
     "name": "stderr",
     "output_type": "stream",
     "text": [
      "Epoch 10/41:  70%|███████   | 150/214 [00:03<00:01, 43.49batch/s, loss=0.138]"
     ]
    },
    {
     "name": "stdout",
     "output_type": "stream",
     "text": [
      "torch.Size([41, 62, 150])\n",
      "torch.Size([41, 62, 150])\n",
      "torch.Size([41, 62, 150])\n"
     ]
    },
    {
     "name": "stderr",
     "output_type": "stream",
     "text": [
      "Epoch 10/41:  72%|███████▏  | 155/214 [00:03<00:01, 43.78batch/s, loss=0.139]"
     ]
    },
    {
     "name": "stdout",
     "output_type": "stream",
     "text": [
      "torch.Size([41, 62, 150])\n"
     ]
    },
    {
     "name": "stderr",
     "output_type": "stream",
     "text": [
      "Epoch 10/41:  75%|███████▍  | 160/214 [00:03<00:01, 44.07batch/s, loss=0.139]"
     ]
    },
    {
     "name": "stdout",
     "output_type": "stream",
     "text": [
      "torch.Size([41, 62, 150])\n",
      "torch.Size([41, 62, 150])\n",
      "torch.Size([41, 62, 150])\n",
      "torch.Size([41, 62, 150])\n",
      "torch.Size([41, 62, 150])\n"
     ]
    },
    {
     "name": "stderr",
     "output_type": "stream",
     "text": [
      "Epoch 10/41:  75%|███████▍  | 160/214 [00:03<00:01, 44.07batch/s, loss=0.137]"
     ]
    },
    {
     "name": "stdout",
     "output_type": "stream",
     "text": [
      "torch.Size([41, 62, 150])\n",
      "torch.Size([41, 62, 150])\n",
      "torch.Size([41, 62, 150])\n"
     ]
    },
    {
     "name": "stderr",
     "output_type": "stream",
     "text": [
      "Epoch 10/41:  75%|███████▍  | 160/214 [00:03<00:01, 44.07batch/s, loss=0.138]"
     ]
    },
    {
     "name": "stdout",
     "output_type": "stream",
     "text": [
      "torch.Size([41, 62, 150])\n"
     ]
    },
    {
     "name": "stderr",
     "output_type": "stream",
     "text": [
      "Epoch 10/41:  77%|███████▋  | 165/214 [00:03<00:01, 44.19batch/s, loss=0.138]"
     ]
    },
    {
     "name": "stdout",
     "output_type": "stream",
     "text": [
      "torch.Size([41, 62, 150])\n",
      "torch.Size([41, 62, 150])\n",
      "torch.Size([41, 62, 150])\n",
      "torch.Size([41, 62, 150])\n",
      "torch.Size([41, 62, 150])\n",
      "torch.Size([41, 62, 150])\n"
     ]
    },
    {
     "name": "stderr",
     "output_type": "stream",
     "text": [
      "Epoch 10/41:  79%|███████▉  | 170/214 [00:03<00:00, 44.87batch/s, loss=0.136]"
     ]
    },
    {
     "name": "stdout",
     "output_type": "stream",
     "text": [
      "torch.Size([41, 62, 150])\n",
      "torch.Size([41, 62, 150])\n",
      "torch.Size([41, 62, 150])\n"
     ]
    },
    {
     "name": "stderr",
     "output_type": "stream",
     "text": [
      "Epoch 10/41:  79%|███████▉  | 170/214 [00:03<00:00, 44.87batch/s, loss=0.137]"
     ]
    },
    {
     "name": "stdout",
     "output_type": "stream",
     "text": [
      "torch.Size([41, 62, 150])\n"
     ]
    },
    {
     "name": "stderr",
     "output_type": "stream",
     "text": [
      "Epoch 10/41:  82%|████████▏ | 175/214 [00:04<00:00, 44.66batch/s, loss=0.138]"
     ]
    },
    {
     "name": "stdout",
     "output_type": "stream",
     "text": [
      "torch.Size([41, 62, 150])\n",
      "torch.Size([41, 62, 150])\n",
      "torch.Size([41, 62, 150])\n",
      "torch.Size([41, 62, 150])\n",
      "torch.Size([41, 62, 150])\n"
     ]
    },
    {
     "name": "stderr",
     "output_type": "stream",
     "text": [
      "Epoch 10/41:  84%|████████▍ | 180/214 [00:04<00:00, 44.84batch/s, loss=0.136]"
     ]
    },
    {
     "name": "stdout",
     "output_type": "stream",
     "text": [
      "torch.Size([41, 62, 150])\n",
      "torch.Size([41, 62, 150])\n",
      "torch.Size([41, 62, 150])\n",
      "torch.Size([41, 62, 150])\n"
     ]
    },
    {
     "name": "stderr",
     "output_type": "stream",
     "text": [
      "Epoch 10/41:  84%|████████▍ | 180/214 [00:04<00:00, 44.84batch/s, loss=0.137]"
     ]
    },
    {
     "name": "stdout",
     "output_type": "stream",
     "text": [
      "torch.Size([41, 62, 150])\n"
     ]
    },
    {
     "name": "stderr",
     "output_type": "stream",
     "text": [
      "Epoch 10/41:  86%|████████▋ | 185/214 [00:04<00:00, 44.77batch/s, loss=0.136]"
     ]
    },
    {
     "name": "stdout",
     "output_type": "stream",
     "text": [
      "torch.Size([41, 62, 150])\n",
      "torch.Size([41, 62, 150])\n",
      "torch.Size([41, 62, 150])\n",
      "torch.Size([41, 62, 150])\n"
     ]
    },
    {
     "name": "stderr",
     "output_type": "stream",
     "text": [
      "Epoch 10/41:  89%|████████▉ | 190/214 [00:04<00:00, 44.81batch/s, loss=0.136]"
     ]
    },
    {
     "name": "stdout",
     "output_type": "stream",
     "text": [
      "torch.Size([41, 62, 150])\n",
      "torch.Size([41, 62, 150])\n",
      "torch.Size([41, 62, 150])\n",
      "torch.Size([41, 62, 150])\n",
      "torch.Size([41, 62, 150])\n"
     ]
    },
    {
     "name": "stderr",
     "output_type": "stream",
     "text": [
      "Epoch 10/41:  89%|████████▉ | 190/214 [00:04<00:00, 44.81batch/s, loss=0.137]"
     ]
    },
    {
     "name": "stdout",
     "output_type": "stream",
     "text": [
      "torch.Size([41, 62, 150])\n"
     ]
    },
    {
     "name": "stderr",
     "output_type": "stream",
     "text": [
      "Epoch 10/41:  91%|█████████ | 195/214 [00:04<00:00, 44.84batch/s, loss=0.136]"
     ]
    },
    {
     "name": "stdout",
     "output_type": "stream",
     "text": [
      "torch.Size([41, 62, 150])\n",
      "torch.Size([41, 62, 150])\n",
      "torch.Size([41, 62, 150])\n",
      "torch.Size([41, 62, 150])\n"
     ]
    },
    {
     "name": "stderr",
     "output_type": "stream",
     "text": [
      "Epoch 10/41:  93%|█████████▎| 200/214 [00:04<00:00, 44.97batch/s, loss=0.136]"
     ]
    },
    {
     "name": "stdout",
     "output_type": "stream",
     "text": [
      "torch.Size([41, 62, 150])\n",
      "torch.Size([41, 62, 150])\n",
      "torch.Size([41, 62, 150])\n",
      "torch.Size([41, 62, 150])\n"
     ]
    },
    {
     "name": "stderr",
     "output_type": "stream",
     "text": [
      "Epoch 10/41:  93%|█████████▎| 200/214 [00:04<00:00, 44.97batch/s, loss=0.136]"
     ]
    },
    {
     "name": "stdout",
     "output_type": "stream",
     "text": [
      "torch.Size([41, 62, 150])\n"
     ]
    },
    {
     "name": "stderr",
     "output_type": "stream",
     "text": [
      "Epoch 10/41:  96%|█████████▌| 205/214 [00:04<00:00, 44.51batch/s, loss=0.136]"
     ]
    },
    {
     "name": "stdout",
     "output_type": "stream",
     "text": [
      "torch.Size([41, 62, 150])\n",
      "torch.Size([41, 62, 150])\n",
      "torch.Size([41, 62, 150])\n",
      "torch.Size([41, 62, 150])\n"
     ]
    },
    {
     "name": "stderr",
     "output_type": "stream",
     "text": [
      "Epoch 10/41:  98%|█████████▊| 210/214 [00:04<00:00, 44.56batch/s, loss=0.135]"
     ]
    },
    {
     "name": "stdout",
     "output_type": "stream",
     "text": [
      "torch.Size([41, 62, 150])\n",
      "torch.Size([41, 62, 150])\n",
      "torch.Size([41, 62, 150])\n",
      "torch.Size([41, 62, 150])\n"
     ]
    },
    {
     "name": "stderr",
     "output_type": "stream",
     "text": [
      "Epoch 10/41:  98%|█████████▊| 210/214 [00:04<00:00, 44.56batch/s, loss=0.136]"
     ]
    },
    {
     "name": "stdout",
     "output_type": "stream",
     "text": [
      "torch.Size([41, 62, 150])\n"
     ]
    },
    {
     "name": "stderr",
     "output_type": "stream",
     "text": [
      "Epoch 10/41: 100%|██████████| 214/214 [00:04<00:00, 44.29batch/s, loss=0.137]\n"
     ]
    },
    {
     "name": "stdout",
     "output_type": "stream",
     "text": [
      "torch.Size([41, 62, 150])\n",
      "torch.Size([7, 62, 150])\n",
      "Epoch 10/41, Loss: 0.1353659037953225\n"
     ]
    },
    {
     "name": "stderr",
     "output_type": "stream",
     "text": [
      "Epoch 11/41:   0%|          | 0/214 [00:00<?, ?batch/s, loss=0.275]"
     ]
    },
    {
     "name": "stdout",
     "output_type": "stream",
     "text": [
      "torch.Size([41, 62, 150])\n",
      "torch.Size([41, 62, 150])\n"
     ]
    },
    {
     "name": "stderr",
     "output_type": "stream",
     "text": [
      "Epoch 11/41:   2%|▏         | 5/214 [00:00<00:04, 44.72batch/s, loss=0.132]"
     ]
    },
    {
     "name": "stdout",
     "output_type": "stream",
     "text": [
      "torch.Size([41, 62, 150])\n",
      "torch.Size([41, 62, 150])\n",
      "torch.Size([41, 62, 150])\n",
      "torch.Size([41, 62, 150])\n"
     ]
    },
    {
     "name": "stderr",
     "output_type": "stream",
     "text": [
      "Epoch 11/41:   2%|▏         | 5/214 [00:00<00:04, 44.72batch/s, loss=0.155]"
     ]
    },
    {
     "name": "stdout",
     "output_type": "stream",
     "text": [
      "torch.Size([41, 62, 150])\n"
     ]
    },
    {
     "name": "stderr",
     "output_type": "stream",
     "text": [
      "Epoch 11/41:   2%|▏         | 5/214 [00:00<00:04, 44.72batch/s, loss=0.203]"
     ]
    },
    {
     "name": "stdout",
     "output_type": "stream",
     "text": [
      "torch.Size([41, 62, 150])\n",
      "torch.Size([41, 62, 150])\n",
      "torch.Size([41, 62, 150])\n"
     ]
    },
    {
     "name": "stderr",
     "output_type": "stream",
     "text": [
      "Epoch 11/41:   5%|▍         | 10/214 [00:00<00:04, 44.68batch/s, loss=0.136]"
     ]
    },
    {
     "name": "stdout",
     "output_type": "stream",
     "text": [
      "torch.Size([41, 62, 150])\n"
     ]
    },
    {
     "name": "stderr",
     "output_type": "stream",
     "text": [
      "Epoch 11/41:   7%|▋         | 15/214 [00:00<00:04, 45.44batch/s, loss=0.179]"
     ]
    },
    {
     "name": "stdout",
     "output_type": "stream",
     "text": [
      "torch.Size([41, 62, 150])\n",
      "torch.Size([41, 62, 150])\n",
      "torch.Size([41, 62, 150])\n",
      "torch.Size([41, 62, 150])\n",
      "torch.Size([41, 62, 150])\n"
     ]
    },
    {
     "name": "stderr",
     "output_type": "stream",
     "text": [
      "Epoch 11/41:   7%|▋         | 15/214 [00:00<00:04, 45.44batch/s, loss=0.131]"
     ]
    },
    {
     "name": "stdout",
     "output_type": "stream",
     "text": [
      "torch.Size([41, 62, 150])\n"
     ]
    },
    {
     "name": "stderr",
     "output_type": "stream",
     "text": [
      "Epoch 11/41:   7%|▋         | 15/214 [00:00<00:04, 45.44batch/s, loss=0.157]"
     ]
    },
    {
     "name": "stdout",
     "output_type": "stream",
     "text": [
      "torch.Size([41, 62, 150])\n",
      "torch.Size([41, 62, 150])\n",
      "torch.Size([41, 62, 150])\n"
     ]
    },
    {
     "name": "stderr",
     "output_type": "stream",
     "text": [
      "Epoch 11/41:   9%|▉         | 20/214 [00:00<00:04, 45.12batch/s, loss=0.164]"
     ]
    },
    {
     "name": "stdout",
     "output_type": "stream",
     "text": [
      "torch.Size([41, 62, 150])\n"
     ]
    },
    {
     "name": "stderr",
     "output_type": "stream",
     "text": [
      "Epoch 11/41:  12%|█▏        | 25/214 [00:00<00:04, 45.21batch/s, loss=0.158]"
     ]
    },
    {
     "name": "stdout",
     "output_type": "stream",
     "text": [
      "torch.Size([41, 62, 150])\n",
      "torch.Size([41, 62, 150])\n",
      "torch.Size([41, 62, 150])\n",
      "torch.Size([41, 62, 150])\n"
     ]
    },
    {
     "name": "stderr",
     "output_type": "stream",
     "text": [
      "Epoch 11/41:  12%|█▏        | 25/214 [00:00<00:04, 45.21batch/s, loss=0.133]"
     ]
    },
    {
     "name": "stdout",
     "output_type": "stream",
     "text": [
      "torch.Size([41, 62, 150])\n"
     ]
    },
    {
     "name": "stderr",
     "output_type": "stream",
     "text": [
      "Epoch 11/41:  12%|█▏        | 25/214 [00:00<00:04, 45.21batch/s, loss=0.147]"
     ]
    },
    {
     "name": "stdout",
     "output_type": "stream",
     "text": [
      "torch.Size([41, 62, 150])\n",
      "torch.Size([41, 62, 150])\n",
      "torch.Size([41, 62, 150])\n",
      "torch.Size([41, 62, 150])\n"
     ]
    },
    {
     "name": "stderr",
     "output_type": "stream",
     "text": [
      "Epoch 11/41:  14%|█▍        | 30/214 [00:00<00:04, 44.97batch/s, loss=0.151]"
     ]
    },
    {
     "name": "stdout",
     "output_type": "stream",
     "text": [
      "torch.Size([41, 62, 150])\n"
     ]
    },
    {
     "name": "stderr",
     "output_type": "stream",
     "text": [
      "Epoch 11/41:  14%|█▍        | 30/214 [00:00<00:04, 44.97batch/s, loss=0.143]"
     ]
    },
    {
     "name": "stdout",
     "output_type": "stream",
     "text": [
      "torch.Size([41, 62, 150])\n",
      "torch.Size([41, 62, 150])\n",
      "torch.Size([41, 62, 150])\n"
     ]
    },
    {
     "name": "stderr",
     "output_type": "stream",
     "text": [
      "Epoch 11/41:  16%|█▋        | 35/214 [00:00<00:03, 44.91batch/s, loss=0.148]"
     ]
    },
    {
     "name": "stdout",
     "output_type": "stream",
     "text": [
      "torch.Size([41, 62, 150])\n"
     ]
    },
    {
     "name": "stderr",
     "output_type": "stream",
     "text": [
      "Epoch 11/41:  16%|█▋        | 35/214 [00:00<00:03, 44.91batch/s, loss=0.142]"
     ]
    },
    {
     "name": "stdout",
     "output_type": "stream",
     "text": [
      "torch.Size([41, 62, 150])\n",
      "torch.Size([41, 62, 150])\n",
      "torch.Size([41, 62, 150])\n",
      "torch.Size([41, 62, 150])\n",
      "torch.Size([41, 62, 150])\n"
     ]
    },
    {
     "name": "stderr",
     "output_type": "stream",
     "text": [
      "Epoch 11/41:  19%|█▊        | 40/214 [00:00<00:03, 44.95batch/s, loss=0.146]"
     ]
    },
    {
     "name": "stdout",
     "output_type": "stream",
     "text": [
      "torch.Size([41, 62, 150])\n"
     ]
    },
    {
     "name": "stderr",
     "output_type": "stream",
     "text": [
      "Epoch 11/41:  19%|█▊        | 40/214 [00:00<00:03, 44.95batch/s, loss=0.138]"
     ]
    },
    {
     "name": "stdout",
     "output_type": "stream",
     "text": [
      "torch.Size([41, 62, 150])\n",
      "torch.Size([41, 62, 150])\n",
      "torch.Size([41, 62, 150])\n"
     ]
    },
    {
     "name": "stderr",
     "output_type": "stream",
     "text": [
      "Epoch 11/41:  19%|█▊        | 40/214 [00:00<00:03, 44.95batch/s, loss=0.141]"
     ]
    },
    {
     "name": "stdout",
     "output_type": "stream",
     "text": [
      "torch.Size([41, 62, 150])\n"
     ]
    },
    {
     "name": "stderr",
     "output_type": "stream",
     "text": [
      "Epoch 11/41:  21%|██        | 45/214 [00:01<00:03, 44.96batch/s, loss=0.139]"
     ]
    },
    {
     "name": "stdout",
     "output_type": "stream",
     "text": [
      "torch.Size([41, 62, 150])\n",
      "torch.Size([41, 62, 150])\n",
      "torch.Size([41, 62, 150])\n",
      "torch.Size([41, 62, 150])\n"
     ]
    },
    {
     "name": "stderr",
     "output_type": "stream",
     "text": [
      "Epoch 11/41:  23%|██▎       | 50/214 [00:01<00:03, 44.65batch/s, loss=0.142]"
     ]
    },
    {
     "name": "stdout",
     "output_type": "stream",
     "text": [
      "torch.Size([41, 62, 150])\n"
     ]
    },
    {
     "name": "stderr",
     "output_type": "stream",
     "text": [
      "Epoch 11/41:  23%|██▎       | 50/214 [00:01<00:03, 44.65batch/s, loss=0.137]"
     ]
    },
    {
     "name": "stdout",
     "output_type": "stream",
     "text": [
      "torch.Size([41, 62, 150])\n",
      "torch.Size([41, 62, 150])\n",
      "torch.Size([41, 62, 150])\n"
     ]
    },
    {
     "name": "stderr",
     "output_type": "stream",
     "text": [
      "Epoch 11/41:  23%|██▎       | 50/214 [00:01<00:03, 44.65batch/s, loss=0.14] "
     ]
    },
    {
     "name": "stdout",
     "output_type": "stream",
     "text": [
      "torch.Size([41, 62, 150])\n"
     ]
    },
    {
     "name": "stderr",
     "output_type": "stream",
     "text": [
      "Epoch 11/41:  26%|██▌       | 55/214 [00:01<00:03, 44.51batch/s, loss=0.136]"
     ]
    },
    {
     "name": "stdout",
     "output_type": "stream",
     "text": [
      "torch.Size([41, 62, 150])\n",
      "torch.Size([41, 62, 150])\n",
      "torch.Size([41, 62, 150])\n",
      "torch.Size([41, 62, 150])\n"
     ]
    },
    {
     "name": "stderr",
     "output_type": "stream",
     "text": [
      "Epoch 11/41:  26%|██▌       | 55/214 [00:01<00:03, 44.51batch/s, loss=0.138]"
     ]
    },
    {
     "name": "stdout",
     "output_type": "stream",
     "text": [
      "torch.Size([41, 62, 150])\n"
     ]
    },
    {
     "name": "stderr",
     "output_type": "stream",
     "text": [
      "Epoch 11/41:  28%|██▊       | 60/214 [00:01<00:03, 44.47batch/s, loss=0.133]"
     ]
    },
    {
     "name": "stdout",
     "output_type": "stream",
     "text": [
      "torch.Size([41, 62, 150])\n",
      "torch.Size([41, 62, 150])\n",
      "torch.Size([41, 62, 150])\n"
     ]
    },
    {
     "name": "stderr",
     "output_type": "stream",
     "text": [
      "Epoch 11/41:  28%|██▊       | 60/214 [00:01<00:03, 44.47batch/s, loss=0.135]"
     ]
    },
    {
     "name": "stdout",
     "output_type": "stream",
     "text": [
      "torch.Size([41, 62, 150])\n"
     ]
    },
    {
     "name": "stderr",
     "output_type": "stream",
     "text": [
      "Epoch 11/41:  30%|███       | 65/214 [00:01<00:03, 44.59batch/s, loss=0.133]"
     ]
    },
    {
     "name": "stdout",
     "output_type": "stream",
     "text": [
      "torch.Size([41, 62, 150])\n",
      "torch.Size([41, 62, 150])\n",
      "torch.Size([41, 62, 150])\n",
      "torch.Size([41, 62, 150])\n"
     ]
    },
    {
     "name": "stderr",
     "output_type": "stream",
     "text": [
      "Epoch 11/41:  30%|███       | 65/214 [00:01<00:03, 44.59batch/s, loss=0.135]"
     ]
    },
    {
     "name": "stdout",
     "output_type": "stream",
     "text": [
      "torch.Size([41, 62, 150])\n"
     ]
    },
    {
     "name": "stderr",
     "output_type": "stream",
     "text": [
      "Epoch 11/41:  33%|███▎      | 70/214 [00:01<00:03, 44.55batch/s, loss=0.131]"
     ]
    },
    {
     "name": "stdout",
     "output_type": "stream",
     "text": [
      "torch.Size([41, 62, 150])\n",
      "torch.Size([41, 62, 150])\n",
      "torch.Size([41, 62, 150])\n",
      "torch.Size([41, 62, 150])\n"
     ]
    },
    {
     "name": "stderr",
     "output_type": "stream",
     "text": [
      "Epoch 11/41:  33%|███▎      | 70/214 [00:01<00:03, 44.55batch/s, loss=0.133]"
     ]
    },
    {
     "name": "stdout",
     "output_type": "stream",
     "text": [
      "torch.Size([41, 62, 150])\n"
     ]
    },
    {
     "name": "stderr",
     "output_type": "stream",
     "text": [
      "Epoch 11/41:  35%|███▌      | 75/214 [00:01<00:03, 45.04batch/s, loss=0.131]"
     ]
    },
    {
     "name": "stdout",
     "output_type": "stream",
     "text": [
      "torch.Size([41, 62, 150])\n",
      "torch.Size([41, 62, 150])\n",
      "torch.Size([41, 62, 150])\n",
      "torch.Size([41, 62, 150])\n"
     ]
    },
    {
     "name": "stderr",
     "output_type": "stream",
     "text": [
      "Epoch 11/41:  35%|███▌      | 75/214 [00:01<00:03, 45.04batch/s, loss=0.133]"
     ]
    },
    {
     "name": "stdout",
     "output_type": "stream",
     "text": [
      "torch.Size([41, 62, 150])\n"
     ]
    },
    {
     "name": "stderr",
     "output_type": "stream",
     "text": [
      "Epoch 11/41:  37%|███▋      | 80/214 [00:01<00:02, 44.96batch/s, loss=0.131]"
     ]
    },
    {
     "name": "stdout",
     "output_type": "stream",
     "text": [
      "torch.Size([41, 62, 150])\n",
      "torch.Size([41, 62, 150])\n",
      "torch.Size([41, 62, 150])\n",
      "torch.Size([41, 62, 150])\n"
     ]
    },
    {
     "name": "stderr",
     "output_type": "stream",
     "text": [
      "Epoch 11/41:  37%|███▋      | 80/214 [00:01<00:02, 44.96batch/s, loss=0.133]"
     ]
    },
    {
     "name": "stdout",
     "output_type": "stream",
     "text": [
      "torch.Size([41, 62, 150])\n"
     ]
    },
    {
     "name": "stderr",
     "output_type": "stream",
     "text": [
      "Epoch 11/41:  40%|███▉      | 85/214 [00:01<00:02, 45.01batch/s, loss=0.131]"
     ]
    },
    {
     "name": "stdout",
     "output_type": "stream",
     "text": [
      "torch.Size([41, 62, 150])\n",
      "torch.Size([41, 62, 150])\n",
      "torch.Size([41, 62, 150])\n"
     ]
    },
    {
     "name": "stderr",
     "output_type": "stream",
     "text": [
      "Epoch 11/41:  40%|███▉      | 85/214 [00:01<00:02, 45.01batch/s, loss=0.133]"
     ]
    },
    {
     "name": "stdout",
     "output_type": "stream",
     "text": [
      "torch.Size([41, 62, 150])\n"
     ]
    },
    {
     "name": "stderr",
     "output_type": "stream",
     "text": [
      "Epoch 11/41:  42%|████▏     | 90/214 [00:02<00:02, 44.91batch/s, loss=0.131]"
     ]
    },
    {
     "name": "stdout",
     "output_type": "stream",
     "text": [
      "torch.Size([41, 62, 150])\n",
      "torch.Size([41, 62, 150])\n",
      "torch.Size([41, 62, 150])\n",
      "torch.Size([41, 62, 150])\n"
     ]
    },
    {
     "name": "stderr",
     "output_type": "stream",
     "text": [
      "Epoch 11/41:  42%|████▏     | 90/214 [00:02<00:02, 44.91batch/s, loss=0.133]"
     ]
    },
    {
     "name": "stdout",
     "output_type": "stream",
     "text": [
      "torch.Size([41, 62, 150])\n"
     ]
    },
    {
     "name": "stderr",
     "output_type": "stream",
     "text": [
      "Epoch 11/41:  44%|████▍     | 95/214 [00:02<00:02, 44.91batch/s, loss=0.136]"
     ]
    },
    {
     "name": "stdout",
     "output_type": "stream",
     "text": [
      "torch.Size([41, 62, 150])\n",
      "torch.Size([41, 62, 150])\n",
      "torch.Size([41, 62, 150])\n"
     ]
    },
    {
     "name": "stderr",
     "output_type": "stream",
     "text": [
      "Epoch 11/41:  44%|████▍     | 95/214 [00:02<00:02, 44.91batch/s, loss=0.131]"
     ]
    },
    {
     "name": "stdout",
     "output_type": "stream",
     "text": [
      "torch.Size([41, 62, 150])\n"
     ]
    },
    {
     "name": "stderr",
     "output_type": "stream",
     "text": [
      "Epoch 11/41:  47%|████▋     | 100/214 [00:02<00:02, 44.90batch/s, loss=0.136]"
     ]
    },
    {
     "name": "stdout",
     "output_type": "stream",
     "text": [
      "torch.Size([41, 62, 150])\n",
      "torch.Size([41, 62, 150])\n",
      "torch.Size([41, 62, 150])\n",
      "torch.Size([41, 62, 150])\n",
      "torch.Size([41, 62, 150])\n"
     ]
    },
    {
     "name": "stderr",
     "output_type": "stream",
     "text": [
      "Epoch 11/41:  47%|████▋     | 100/214 [00:02<00:02, 44.90batch/s, loss=0.131]"
     ]
    },
    {
     "name": "stdout",
     "output_type": "stream",
     "text": [
      "torch.Size([41, 62, 150])\n"
     ]
    },
    {
     "name": "stderr",
     "output_type": "stream",
     "text": [
      "Epoch 11/41:  47%|████▋     | 100/214 [00:02<00:02, 44.90batch/s, loss=0.135]"
     ]
    },
    {
     "name": "stdout",
     "output_type": "stream",
     "text": [
      "torch.Size([41, 62, 150])\n",
      "torch.Size([41, 62, 150])\n",
      "torch.Size([41, 62, 150])\n"
     ]
    },
    {
     "name": "stderr",
     "output_type": "stream",
     "text": [
      "Epoch 11/41:  49%|████▉     | 105/214 [00:02<00:02, 44.89batch/s, loss=0.136]"
     ]
    },
    {
     "name": "stdout",
     "output_type": "stream",
     "text": [
      "torch.Size([41, 62, 150])\n"
     ]
    },
    {
     "name": "stderr",
     "output_type": "stream",
     "text": [
      "Epoch 11/41:  51%|█████▏    | 110/214 [00:02<00:02, 44.54batch/s, loss=0.136]"
     ]
    },
    {
     "name": "stdout",
     "output_type": "stream",
     "text": [
      "torch.Size([41, 62, 150])\n",
      "torch.Size([41, 62, 150])\n",
      "torch.Size([41, 62, 150])\n",
      "torch.Size([41, 62, 150])\n"
     ]
    },
    {
     "name": "stderr",
     "output_type": "stream",
     "text": [
      "Epoch 11/41:  51%|█████▏    | 110/214 [00:02<00:02, 44.54batch/s, loss=0.131]"
     ]
    },
    {
     "name": "stdout",
     "output_type": "stream",
     "text": [
      "torch.Size([41, 62, 150])\n"
     ]
    },
    {
     "name": "stderr",
     "output_type": "stream",
     "text": [
      "Epoch 11/41:  51%|█████▏    | 110/214 [00:02<00:02, 44.54batch/s, loss=0.134]"
     ]
    },
    {
     "name": "stdout",
     "output_type": "stream",
     "text": [
      "torch.Size([41, 62, 150])\n",
      "torch.Size([41, 62, 150])\n",
      "torch.Size([41, 62, 150])\n"
     ]
    },
    {
     "name": "stderr",
     "output_type": "stream",
     "text": [
      "Epoch 11/41:  51%|█████▏    | 110/214 [00:02<00:02, 44.54batch/s, loss=0.136]"
     ]
    },
    {
     "name": "stdout",
     "output_type": "stream",
     "text": [
      "torch.Size([41, 62, 150])\n"
     ]
    },
    {
     "name": "stderr",
     "output_type": "stream",
     "text": [
      "Epoch 11/41:  54%|█████▎    | 115/214 [00:02<00:02, 44.31batch/s, loss=0.135]"
     ]
    },
    {
     "name": "stdout",
     "output_type": "stream",
     "text": [
      "torch.Size([41, 62, 150])\n",
      "torch.Size([41, 62, 150])\n",
      "torch.Size([41, 62, 150])\n",
      "torch.Size([41, 62, 150])\n"
     ]
    },
    {
     "name": "stderr",
     "output_type": "stream",
     "text": [
      "Epoch 11/41:  56%|█████▌    | 120/214 [00:02<00:02, 44.37batch/s, loss=0.136]"
     ]
    },
    {
     "name": "stdout",
     "output_type": "stream",
     "text": [
      "torch.Size([41, 62, 150])\n"
     ]
    },
    {
     "name": "stderr",
     "output_type": "stream",
     "text": [
      "Epoch 11/41:  56%|█████▌    | 120/214 [00:02<00:02, 44.37batch/s, loss=0.134]"
     ]
    },
    {
     "name": "stdout",
     "output_type": "stream",
     "text": [
      "torch.Size([41, 62, 150])\n",
      "torch.Size([41, 62, 150])\n",
      "torch.Size([41, 62, 150])\n"
     ]
    },
    {
     "name": "stderr",
     "output_type": "stream",
     "text": [
      "Epoch 11/41:  56%|█████▌    | 120/214 [00:02<00:02, 44.37batch/s, loss=0.135]"
     ]
    },
    {
     "name": "stdout",
     "output_type": "stream",
     "text": [
      "torch.Size([41, 62, 150])\n"
     ]
    },
    {
     "name": "stderr",
     "output_type": "stream",
     "text": [
      "Epoch 11/41:  58%|█████▊    | 125/214 [00:02<00:02, 44.42batch/s, loss=0.134]"
     ]
    },
    {
     "name": "stdout",
     "output_type": "stream",
     "text": [
      "torch.Size([41, 62, 150])\n",
      "torch.Size([41, 62, 150])\n",
      "torch.Size([41, 62, 150])\n",
      "torch.Size([41, 62, 150])\n"
     ]
    },
    {
     "name": "stderr",
     "output_type": "stream",
     "text": [
      "Epoch 11/41:  58%|█████▊    | 125/214 [00:02<00:02, 44.42batch/s, loss=0.134]"
     ]
    },
    {
     "name": "stdout",
     "output_type": "stream",
     "text": [
      "torch.Size([41, 62, 150])\n"
     ]
    },
    {
     "name": "stderr",
     "output_type": "stream",
     "text": [
      "Epoch 11/41:  61%|██████    | 130/214 [00:02<00:01, 44.48batch/s, loss=0.132]"
     ]
    },
    {
     "name": "stdout",
     "output_type": "stream",
     "text": [
      "torch.Size([41, 62, 150])\n",
      "torch.Size([41, 62, 150])\n",
      "torch.Size([41, 62, 150])\n",
      "torch.Size([41, 62, 150])\n"
     ]
    },
    {
     "name": "stderr",
     "output_type": "stream",
     "text": [
      "Epoch 11/41:  61%|██████    | 130/214 [00:02<00:01, 44.48batch/s, loss=0.133]"
     ]
    },
    {
     "name": "stdout",
     "output_type": "stream",
     "text": [
      "torch.Size([41, 62, 150])\n"
     ]
    },
    {
     "name": "stderr",
     "output_type": "stream",
     "text": [
      "Epoch 11/41:  63%|██████▎   | 135/214 [00:03<00:01, 44.96batch/s, loss=0.132]"
     ]
    },
    {
     "name": "stdout",
     "output_type": "stream",
     "text": [
      "torch.Size([41, 62, 150])\n",
      "torch.Size([41, 62, 150])\n",
      "torch.Size([41, 62, 150])\n",
      "torch.Size([41, 62, 150])\n"
     ]
    },
    {
     "name": "stderr",
     "output_type": "stream",
     "text": [
      "Epoch 11/41:  63%|██████▎   | 135/214 [00:03<00:01, 44.96batch/s, loss=0.133]"
     ]
    },
    {
     "name": "stdout",
     "output_type": "stream",
     "text": [
      "torch.Size([41, 62, 150])\n"
     ]
    },
    {
     "name": "stderr",
     "output_type": "stream",
     "text": [
      "Epoch 11/41:  65%|██████▌   | 140/214 [00:03<00:01, 44.87batch/s, loss=0.132]"
     ]
    },
    {
     "name": "stdout",
     "output_type": "stream",
     "text": [
      "torch.Size([41, 62, 150])\n",
      "torch.Size([41, 62, 150])\n",
      "torch.Size([41, 62, 150])\n",
      "torch.Size([41, 62, 150])\n"
     ]
    },
    {
     "name": "stderr",
     "output_type": "stream",
     "text": [
      "Epoch 11/41:  68%|██████▊   | 145/214 [00:03<00:01, 44.94batch/s, loss=0.132]"
     ]
    },
    {
     "name": "stdout",
     "output_type": "stream",
     "text": [
      "torch.Size([41, 62, 150])\n",
      "torch.Size([41, 62, 150])\n",
      "torch.Size([41, 62, 150])\n",
      "torch.Size([41, 62, 150])\n"
     ]
    },
    {
     "name": "stderr",
     "output_type": "stream",
     "text": [
      "Epoch 11/41:  68%|██████▊   | 145/214 [00:03<00:01, 44.94batch/s, loss=0.133]"
     ]
    },
    {
     "name": "stdout",
     "output_type": "stream",
     "text": [
      "torch.Size([41, 62, 150])\n",
      "torch.Size([41, 62, 150])\n"
     ]
    },
    {
     "name": "stderr",
     "output_type": "stream",
     "text": [
      "Epoch 11/41:  70%|███████   | 150/214 [00:03<00:01, 44.84batch/s, loss=0.132]"
     ]
    },
    {
     "name": "stdout",
     "output_type": "stream",
     "text": [
      "torch.Size([41, 62, 150])\n",
      "torch.Size([41, 62, 150])\n",
      "torch.Size([41, 62, 150])\n"
     ]
    },
    {
     "name": "stderr",
     "output_type": "stream",
     "text": [
      "Epoch 11/41:  72%|███████▏  | 155/214 [00:03<00:01, 44.87batch/s, loss=0.132]"
     ]
    },
    {
     "name": "stdout",
     "output_type": "stream",
     "text": [
      "torch.Size([41, 62, 150])\n",
      "torch.Size([41, 62, 150])\n",
      "torch.Size([41, 62, 150])\n",
      "torch.Size([41, 62, 150])\n"
     ]
    },
    {
     "name": "stderr",
     "output_type": "stream",
     "text": [
      "Epoch 11/41:  72%|███████▏  | 155/214 [00:03<00:01, 44.87batch/s, loss=0.134]"
     ]
    },
    {
     "name": "stdout",
     "output_type": "stream",
     "text": [
      "torch.Size([41, 62, 150])\n",
      "torch.Size([41, 62, 150])\n",
      "torch.Size([41, 62, 150])\n"
     ]
    },
    {
     "name": "stderr",
     "output_type": "stream",
     "text": [
      "Epoch 11/41:  75%|███████▍  | 160/214 [00:03<00:01, 44.85batch/s, loss=0.132]"
     ]
    },
    {
     "name": "stdout",
     "output_type": "stream",
     "text": [
      "torch.Size([41, 62, 150])\n",
      "torch.Size([41, 62, 150])\n"
     ]
    },
    {
     "name": "stderr",
     "output_type": "stream",
     "text": [
      "Epoch 11/41:  77%|███████▋  | 165/214 [00:03<00:01, 45.01batch/s, loss=0.135]"
     ]
    },
    {
     "name": "stdout",
     "output_type": "stream",
     "text": [
      "torch.Size([41, 62, 150])\n",
      "torch.Size([41, 62, 150])\n",
      "torch.Size([41, 62, 150])\n",
      "torch.Size([41, 62, 150])\n",
      "torch.Size([41, 62, 150])\n"
     ]
    },
    {
     "name": "stderr",
     "output_type": "stream",
     "text": [
      "Epoch 11/41:  77%|███████▋  | 165/214 [00:03<00:01, 45.01batch/s, loss=0.134]"
     ]
    },
    {
     "name": "stdout",
     "output_type": "stream",
     "text": [
      "torch.Size([41, 62, 150])\n",
      "torch.Size([41, 62, 150])\n",
      "torch.Size([41, 62, 150])\n"
     ]
    },
    {
     "name": "stderr",
     "output_type": "stream",
     "text": [
      "Epoch 11/41:  79%|███████▉  | 170/214 [00:03<00:00, 44.77batch/s, loss=0.135]"
     ]
    },
    {
     "name": "stdout",
     "output_type": "stream",
     "text": [
      "torch.Size([41, 62, 150])\n"
     ]
    },
    {
     "name": "stderr",
     "output_type": "stream",
     "text": [
      "Epoch 11/41:  82%|████████▏ | 175/214 [00:03<00:00, 44.56batch/s, loss=0.135]"
     ]
    },
    {
     "name": "stdout",
     "output_type": "stream",
     "text": [
      "torch.Size([41, 62, 150])\n",
      "torch.Size([41, 62, 150])\n",
      "torch.Size([41, 62, 150])\n",
      "torch.Size([41, 62, 150])\n",
      "torch.Size([41, 62, 150])\n"
     ]
    },
    {
     "name": "stderr",
     "output_type": "stream",
     "text": [
      "Epoch 11/41:  82%|████████▏ | 175/214 [00:03<00:00, 44.56batch/s, loss=0.133]"
     ]
    },
    {
     "name": "stdout",
     "output_type": "stream",
     "text": [
      "torch.Size([41, 62, 150])\n",
      "torch.Size([41, 62, 150])\n",
      "torch.Size([41, 62, 150])\n"
     ]
    },
    {
     "name": "stderr",
     "output_type": "stream",
     "text": [
      "Epoch 11/41:  82%|████████▏ | 175/214 [00:03<00:00, 44.56batch/s, loss=0.134]"
     ]
    },
    {
     "name": "stdout",
     "output_type": "stream",
     "text": [
      "torch.Size([41, 62, 150])\n"
     ]
    },
    {
     "name": "stderr",
     "output_type": "stream",
     "text": [
      "Epoch 11/41:  84%|████████▍ | 180/214 [00:04<00:00, 44.46batch/s, loss=0.134]"
     ]
    },
    {
     "name": "stdout",
     "output_type": "stream",
     "text": [
      "torch.Size([41, 62, 150])\n",
      "torch.Size([41, 62, 150])\n",
      "torch.Size([41, 62, 150])\n",
      "torch.Size([41, 62, 150])\n",
      "torch.Size([41, 62, 150])\n"
     ]
    },
    {
     "name": "stderr",
     "output_type": "stream",
     "text": [
      "Epoch 11/41:  86%|████████▋ | 185/214 [00:04<00:00, 44.57batch/s, loss=0.132]"
     ]
    },
    {
     "name": "stdout",
     "output_type": "stream",
     "text": [
      "torch.Size([41, 62, 150])\n",
      "torch.Size([41, 62, 150])\n",
      "torch.Size([41, 62, 150])\n"
     ]
    },
    {
     "name": "stderr",
     "output_type": "stream",
     "text": [
      "Epoch 11/41:  86%|████████▋ | 185/214 [00:04<00:00, 44.57batch/s, loss=0.133]"
     ]
    },
    {
     "name": "stdout",
     "output_type": "stream",
     "text": [
      "torch.Size([41, 62, 150])\n"
     ]
    },
    {
     "name": "stderr",
     "output_type": "stream",
     "text": [
      "Epoch 11/41:  89%|████████▉ | 190/214 [00:04<00:00, 44.55batch/s, loss=0.133]"
     ]
    },
    {
     "name": "stdout",
     "output_type": "stream",
     "text": [
      "torch.Size([41, 62, 150])\n",
      "torch.Size([41, 62, 150])\n",
      "torch.Size([41, 62, 150])\n",
      "torch.Size([41, 62, 150])\n",
      "torch.Size([41, 62, 150])\n",
      "torch.Size([41, 62, 150])\n"
     ]
    },
    {
     "name": "stderr",
     "output_type": "stream",
     "text": [
      "Epoch 11/41:  91%|█████████ | 195/214 [00:04<00:00, 44.98batch/s, loss=0.132]"
     ]
    },
    {
     "name": "stdout",
     "output_type": "stream",
     "text": [
      "torch.Size([41, 62, 150])\n",
      "torch.Size([41, 62, 150])\n",
      "torch.Size([41, 62, 150])\n"
     ]
    },
    {
     "name": "stderr",
     "output_type": "stream",
     "text": [
      "Epoch 11/41:  91%|█████████ | 195/214 [00:04<00:00, 44.98batch/s, loss=0.132]"
     ]
    },
    {
     "name": "stdout",
     "output_type": "stream",
     "text": [
      "torch.Size([41, 62, 150])\n"
     ]
    },
    {
     "name": "stderr",
     "output_type": "stream",
     "text": [
      "Epoch 11/41:  93%|█████████▎| 200/214 [00:04<00:00, 45.01batch/s, loss=0.133]"
     ]
    },
    {
     "name": "stdout",
     "output_type": "stream",
     "text": [
      "torch.Size([41, 62, 150])\n",
      "torch.Size([41, 62, 150])\n",
      "torch.Size([41, 62, 150])\n",
      "torch.Size([41, 62, 150])\n",
      "torch.Size([41, 62, 150])\n",
      "torch.Size([41, 62, 150])\n"
     ]
    },
    {
     "name": "stderr",
     "output_type": "stream",
     "text": [
      "Epoch 11/41:  96%|█████████▌| 205/214 [00:04<00:00, 45.08batch/s, loss=0.132]"
     ]
    },
    {
     "name": "stdout",
     "output_type": "stream",
     "text": [
      "torch.Size([41, 62, 150])\n",
      "torch.Size([41, 62, 150])\n"
     ]
    },
    {
     "name": "stderr",
     "output_type": "stream",
     "text": [
      "Epoch 11/41:  96%|█████████▌| 205/214 [00:04<00:00, 45.08batch/s, loss=0.132]"
     ]
    },
    {
     "name": "stdout",
     "output_type": "stream",
     "text": [
      "torch.Size([41, 62, 150])\n"
     ]
    },
    {
     "name": "stderr",
     "output_type": "stream",
     "text": [
      "Epoch 11/41:  98%|█████████▊| 210/214 [00:04<00:00, 44.92batch/s, loss=0.133]"
     ]
    },
    {
     "name": "stdout",
     "output_type": "stream",
     "text": [
      "torch.Size([41, 62, 150])\n",
      "torch.Size([41, 62, 150])\n",
      "torch.Size([41, 62, 150])\n",
      "torch.Size([41, 62, 150])\n",
      "torch.Size([41, 62, 150])\n",
      "torch.Size([41, 62, 150])\n"
     ]
    },
    {
     "name": "stderr",
     "output_type": "stream",
     "text": [
      "Epoch 11/41: 100%|██████████| 214/214 [00:04<00:00, 44.80batch/s, loss=0.134]\n"
     ]
    },
    {
     "name": "stdout",
     "output_type": "stream",
     "text": [
      "torch.Size([7, 62, 150])\n",
      "Epoch 11/41, Loss: 0.1318385058961739\n"
     ]
    },
    {
     "name": "stderr",
     "output_type": "stream",
     "text": [
      "Epoch 12/41:   0%|          | 0/214 [00:00<?, ?batch/s, loss=0.103]"
     ]
    },
    {
     "name": "stdout",
     "output_type": "stream",
     "text": [
      "torch.Size([41, 62, 150])\n"
     ]
    },
    {
     "name": "stderr",
     "output_type": "stream",
     "text": [
      "Epoch 12/41:   0%|          | 0/214 [00:00<?, ?batch/s, loss=0.242]"
     ]
    },
    {
     "name": "stdout",
     "output_type": "stream",
     "text": [
      "torch.Size([41, 62, 150])\n"
     ]
    },
    {
     "name": "stderr",
     "output_type": "stream",
     "text": [
      "Epoch 12/41:   2%|▏         | 5/214 [00:00<00:04, 44.82batch/s, loss=0.178]"
     ]
    },
    {
     "name": "stdout",
     "output_type": "stream",
     "text": [
      "torch.Size([41, 62, 150])\n",
      "torch.Size([41, 62, 150])\n",
      "torch.Size([41, 62, 150])\n",
      "torch.Size([41, 62, 150])\n",
      "torch.Size([41, 62, 150])\n",
      "torch.Size([41, 62, 150])\n"
     ]
    },
    {
     "name": "stderr",
     "output_type": "stream",
     "text": [
      "Epoch 12/41:   2%|▏         | 5/214 [00:00<00:04, 44.82batch/s, loss=0.201]"
     ]
    },
    {
     "name": "stdout",
     "output_type": "stream",
     "text": [
      "torch.Size([41, 62, 150])\n",
      "torch.Size([41, 62, 150])\n"
     ]
    },
    {
     "name": "stderr",
     "output_type": "stream",
     "text": [
      "Epoch 12/41:   5%|▍         | 10/214 [00:00<00:04, 45.11batch/s, loss=0.221]"
     ]
    },
    {
     "name": "stdout",
     "output_type": "stream",
     "text": [
      "torch.Size([41, 62, 150])\n"
     ]
    },
    {
     "name": "stderr",
     "output_type": "stream",
     "text": [
      "Epoch 12/41:   5%|▍         | 10/214 [00:00<00:04, 45.11batch/s, loss=0.132]"
     ]
    },
    {
     "name": "stdout",
     "output_type": "stream",
     "text": [
      "torch.Size([41, 62, 150])\n"
     ]
    },
    {
     "name": "stderr",
     "output_type": "stream",
     "text": [
      "Epoch 12/41:   7%|▋         | 15/214 [00:00<00:04, 44.68batch/s, loss=0.141]"
     ]
    },
    {
     "name": "stdout",
     "output_type": "stream",
     "text": [
      "torch.Size([41, 62, 150])\n",
      "torch.Size([41, 62, 150])\n",
      "torch.Size([41, 62, 150])\n",
      "torch.Size([41, 62, 150])\n",
      "torch.Size([41, 62, 150])\n"
     ]
    },
    {
     "name": "stderr",
     "output_type": "stream",
     "text": [
      "Epoch 12/41:   7%|▋         | 15/214 [00:00<00:04, 44.68batch/s, loss=0.158]"
     ]
    },
    {
     "name": "stdout",
     "output_type": "stream",
     "text": [
      "torch.Size([41, 62, 150])\n",
      "torch.Size([41, 62, 150])\n"
     ]
    },
    {
     "name": "stderr",
     "output_type": "stream",
     "text": [
      "Epoch 12/41:   7%|▋         | 15/214 [00:00<00:04, 44.68batch/s, loss=0.166]"
     ]
    },
    {
     "name": "stdout",
     "output_type": "stream",
     "text": [
      "torch.Size([41, 62, 150])\n"
     ]
    },
    {
     "name": "stderr",
     "output_type": "stream",
     "text": [
      "Epoch 12/41:   9%|▉         | 20/214 [00:00<00:04, 44.24batch/s, loss=0.133]"
     ]
    },
    {
     "name": "stdout",
     "output_type": "stream",
     "text": [
      "torch.Size([41, 62, 150])\n"
     ]
    },
    {
     "name": "stderr",
     "output_type": "stream",
     "text": [
      "Epoch 12/41:  12%|█▏        | 25/214 [00:00<00:04, 44.32batch/s, loss=0.134]"
     ]
    },
    {
     "name": "stdout",
     "output_type": "stream",
     "text": [
      "torch.Size([41, 62, 150])\n",
      "torch.Size([41, 62, 150])\n",
      "torch.Size([41, 62, 150])\n",
      "torch.Size([41, 62, 150])\n",
      "torch.Size([41, 62, 150])\n"
     ]
    },
    {
     "name": "stderr",
     "output_type": "stream",
     "text": [
      "Epoch 12/41:  12%|█▏        | 25/214 [00:00<00:04, 44.32batch/s, loss=0.144]"
     ]
    },
    {
     "name": "stdout",
     "output_type": "stream",
     "text": [
      "torch.Size([41, 62, 150])\n",
      "torch.Size([41, 62, 150])\n"
     ]
    },
    {
     "name": "stderr",
     "output_type": "stream",
     "text": [
      "Epoch 12/41:  12%|█▏        | 25/214 [00:00<00:04, 44.32batch/s, loss=0.149]"
     ]
    },
    {
     "name": "stdout",
     "output_type": "stream",
     "text": [
      "torch.Size([41, 62, 150])\n"
     ]
    },
    {
     "name": "stderr",
     "output_type": "stream",
     "text": [
      "Epoch 12/41:  14%|█▍        | 30/214 [00:00<00:04, 44.30batch/s, loss=0.155]"
     ]
    },
    {
     "name": "stdout",
     "output_type": "stream",
     "text": [
      "torch.Size([41, 62, 150])\n"
     ]
    },
    {
     "name": "stderr",
     "output_type": "stream",
     "text": [
      "Epoch 12/41:  16%|█▋        | 35/214 [00:00<00:04, 44.39batch/s, loss=0.151]"
     ]
    },
    {
     "name": "stdout",
     "output_type": "stream",
     "text": [
      "torch.Size([41, 62, 150])\n",
      "torch.Size([41, 62, 150])\n",
      "torch.Size([41, 62, 150])\n",
      "torch.Size([41, 62, 150])\n",
      "torch.Size([41, 62, 150])\n"
     ]
    },
    {
     "name": "stderr",
     "output_type": "stream",
     "text": [
      "Epoch 12/41:  16%|█▋        | 35/214 [00:00<00:04, 44.39batch/s, loss=0.137]"
     ]
    },
    {
     "name": "stdout",
     "output_type": "stream",
     "text": [
      "torch.Size([41, 62, 150])\n",
      "torch.Size([41, 62, 150])\n"
     ]
    },
    {
     "name": "stderr",
     "output_type": "stream",
     "text": [
      "Epoch 12/41:  16%|█▋        | 35/214 [00:00<00:04, 44.39batch/s, loss=0.141]"
     ]
    },
    {
     "name": "stdout",
     "output_type": "stream",
     "text": [
      "torch.Size([41, 62, 150])\n"
     ]
    },
    {
     "name": "stderr",
     "output_type": "stream",
     "text": [
      "Epoch 12/41:  16%|█▋        | 35/214 [00:00<00:04, 44.39batch/s, loss=0.144]"
     ]
    },
    {
     "name": "stdout",
     "output_type": "stream",
     "text": [
      "torch.Size([41, 62, 150])\n"
     ]
    },
    {
     "name": "stderr",
     "output_type": "stream",
     "text": [
      "Epoch 12/41:  19%|█▊        | 40/214 [00:00<00:03, 44.53batch/s, loss=0.142]"
     ]
    },
    {
     "name": "stdout",
     "output_type": "stream",
     "text": [
      "torch.Size([41, 62, 150])\n",
      "torch.Size([41, 62, 150])\n",
      "torch.Size([41, 62, 150])\n",
      "torch.Size([41, 62, 150])\n",
      "torch.Size([41, 62, 150])\n",
      "torch.Size([41, 62, 150])\n"
     ]
    },
    {
     "name": "stderr",
     "output_type": "stream",
     "text": [
      "Epoch 12/41:  21%|██        | 45/214 [00:01<00:03, 44.85batch/s, loss=0.132]"
     ]
    },
    {
     "name": "stdout",
     "output_type": "stream",
     "text": [
      "torch.Size([41, 62, 150])\n",
      "torch.Size([41, 62, 150])\n"
     ]
    },
    {
     "name": "stderr",
     "output_type": "stream",
     "text": [
      "Epoch 12/41:  21%|██        | 45/214 [00:01<00:03, 44.85batch/s, loss=0.134]"
     ]
    },
    {
     "name": "stdout",
     "output_type": "stream",
     "text": [
      "torch.Size([41, 62, 150])\n"
     ]
    },
    {
     "name": "stderr",
     "output_type": "stream",
     "text": [
      "Epoch 12/41:  21%|██        | 45/214 [00:01<00:03, 44.85batch/s, loss=0.137]"
     ]
    },
    {
     "name": "stdout",
     "output_type": "stream",
     "text": [
      "torch.Size([41, 62, 150])\n"
     ]
    },
    {
     "name": "stderr",
     "output_type": "stream",
     "text": [
      "Epoch 12/41:  23%|██▎       | 50/214 [00:01<00:03, 44.68batch/s, loss=0.139]"
     ]
    },
    {
     "name": "stdout",
     "output_type": "stream",
     "text": [
      "torch.Size([41, 62, 150])\n",
      "torch.Size([41, 62, 150])\n",
      "torch.Size([41, 62, 150])\n",
      "torch.Size([41, 62, 150])\n",
      "torch.Size([41, 62, 150])\n",
      "torch.Size([41, 62, 150])\n"
     ]
    },
    {
     "name": "stderr",
     "output_type": "stream",
     "text": [
      "Epoch 12/41:  26%|██▌       | 55/214 [00:01<00:03, 44.80batch/s, loss=0.131]"
     ]
    },
    {
     "name": "stdout",
     "output_type": "stream",
     "text": [
      "torch.Size([41, 62, 150])\n"
     ]
    },
    {
     "name": "stderr",
     "output_type": "stream",
     "text": [
      "Epoch 12/41:  26%|██▌       | 55/214 [00:01<00:03, 44.80batch/s, loss=0.134]"
     ]
    },
    {
     "name": "stdout",
     "output_type": "stream",
     "text": [
      "torch.Size([41, 62, 150])\n"
     ]
    },
    {
     "name": "stderr",
     "output_type": "stream",
     "text": [
      "Epoch 12/41:  26%|██▌       | 55/214 [00:01<00:03, 44.80batch/s, loss=0.136]"
     ]
    },
    {
     "name": "stdout",
     "output_type": "stream",
     "text": [
      "torch.Size([41, 62, 150])\n"
     ]
    },
    {
     "name": "stderr",
     "output_type": "stream",
     "text": [
      "Epoch 12/41:  28%|██▊       | 60/214 [00:01<00:03, 44.69batch/s, loss=0.138]"
     ]
    },
    {
     "name": "stdout",
     "output_type": "stream",
     "text": [
      "torch.Size([41, 62, 150])\n",
      "torch.Size([41, 62, 150])\n",
      "torch.Size([41, 62, 150])\n",
      "torch.Size([41, 62, 150])\n",
      "torch.Size([41, 62, 150])\n",
      "torch.Size([41, 62, 150])\n",
      "torch.Size([41, 62, 150])\n"
     ]
    },
    {
     "name": "stderr",
     "output_type": "stream",
     "text": [
      "Epoch 12/41:  30%|███       | 65/214 [00:01<00:03, 44.82batch/s, loss=0.14] "
     ]
    },
    {
     "name": "stdout",
     "output_type": "stream",
     "text": [
      "torch.Size([41, 62, 150])\n"
     ]
    },
    {
     "name": "stderr",
     "output_type": "stream",
     "text": [
      "Epoch 12/41:  30%|███       | 65/214 [00:01<00:03, 44.82batch/s, loss=0.133]"
     ]
    },
    {
     "name": "stdout",
     "output_type": "stream",
     "text": [
      "torch.Size([41, 62, 150])\n"
     ]
    },
    {
     "name": "stderr",
     "output_type": "stream",
     "text": [
      "Epoch 12/41:  33%|███▎      | 70/214 [00:01<00:03, 44.73batch/s, loss=0.137]"
     ]
    },
    {
     "name": "stdout",
     "output_type": "stream",
     "text": [
      "torch.Size([41, 62, 150])\n",
      "torch.Size([41, 62, 150])\n",
      "torch.Size([41, 62, 150])\n",
      "torch.Size([41, 62, 150])\n",
      "torch.Size([41, 62, 150])\n",
      "torch.Size([41, 62, 150])\n",
      "torch.Size([41, 62, 150])\n",
      "torch.Size([41, 62, 150])\n"
     ]
    },
    {
     "name": "stderr",
     "output_type": "stream",
     "text": [
      "Epoch 12/41:  35%|███▌      | 75/214 [00:01<00:03, 44.73batch/s, loss=0.132]"
     ]
    },
    {
     "name": "stdout",
     "output_type": "stream",
     "text": [
      "torch.Size([41, 62, 150])\n"
     ]
    },
    {
     "name": "stderr",
     "output_type": "stream",
     "text": [
      "Epoch 12/41:  37%|███▋      | 80/214 [00:01<00:03, 44.42batch/s, loss=0.137]"
     ]
    },
    {
     "name": "stdout",
     "output_type": "stream",
     "text": [
      "torch.Size([41, 62, 150])\n",
      "torch.Size([41, 62, 150])\n",
      "torch.Size([41, 62, 150])\n",
      "torch.Size([41, 62, 150])\n",
      "torch.Size([41, 62, 150])\n",
      "torch.Size([41, 62, 150])\n",
      "torch.Size([41, 62, 150])\n",
      "torch.Size([41, 62, 150])\n"
     ]
    },
    {
     "name": "stderr",
     "output_type": "stream",
     "text": [
      "Epoch 12/41:  40%|███▉      | 85/214 [00:01<00:02, 44.56batch/s, loss=0.138]"
     ]
    },
    {
     "name": "stdout",
     "output_type": "stream",
     "text": [
      "torch.Size([41, 62, 150])\n"
     ]
    },
    {
     "name": "stderr",
     "output_type": "stream",
     "text": [
      "Epoch 12/41:  42%|████▏     | 90/214 [00:02<00:02, 44.61batch/s, loss=0.135]"
     ]
    },
    {
     "name": "stdout",
     "output_type": "stream",
     "text": [
      "torch.Size([41, 62, 150])\n",
      "torch.Size([41, 62, 150])\n",
      "torch.Size([41, 62, 150])\n",
      "torch.Size([41, 62, 150])\n",
      "torch.Size([41, 62, 150])\n",
      "torch.Size([41, 62, 150])\n",
      "torch.Size([41, 62, 150])\n",
      "torch.Size([41, 62, 150])\n"
     ]
    },
    {
     "name": "stderr",
     "output_type": "stream",
     "text": [
      "Epoch 12/41:  42%|████▏     | 90/214 [00:02<00:02, 44.61batch/s, loss=0.136]"
     ]
    },
    {
     "name": "stdout",
     "output_type": "stream",
     "text": [
      "torch.Size([41, 62, 150])\n",
      "torch.Size([41, 62, 150])\n"
     ]
    },
    {
     "name": "stderr",
     "output_type": "stream",
     "text": [
      "Epoch 12/41:  47%|████▋     | 100/214 [00:02<00:02, 44.90batch/s, loss=0.133]"
     ]
    },
    {
     "name": "stdout",
     "output_type": "stream",
     "text": [
      "torch.Size([41, 62, 150])\n",
      "torch.Size([41, 62, 150])\n",
      "torch.Size([41, 62, 150])\n",
      "torch.Size([41, 62, 150])\n",
      "torch.Size([41, 62, 150])\n",
      "torch.Size([41, 62, 150])\n",
      "torch.Size([41, 62, 150])\n",
      "torch.Size([41, 62, 150])\n"
     ]
    },
    {
     "name": "stderr",
     "output_type": "stream",
     "text": [
      "Epoch 12/41:  47%|████▋     | 100/214 [00:02<00:02, 44.90batch/s, loss=0.136]"
     ]
    },
    {
     "name": "stdout",
     "output_type": "stream",
     "text": [
      "torch.Size([41, 62, 150])\n",
      "torch.Size([41, 62, 150])\n"
     ]
    },
    {
     "name": "stderr",
     "output_type": "stream",
     "text": [
      "Epoch 12/41:  51%|█████▏    | 110/214 [00:02<00:02, 45.02batch/s, loss=0.133]"
     ]
    },
    {
     "name": "stdout",
     "output_type": "stream",
     "text": [
      "torch.Size([41, 62, 150])\n",
      "torch.Size([41, 62, 150])\n",
      "torch.Size([41, 62, 150])\n",
      "torch.Size([41, 62, 150])\n",
      "torch.Size([41, 62, 150])\n",
      "torch.Size([41, 62, 150])\n",
      "torch.Size([41, 62, 150])\n"
     ]
    },
    {
     "name": "stderr",
     "output_type": "stream",
     "text": [
      "Epoch 12/41:  51%|█████▏    | 110/214 [00:02<00:02, 45.02batch/s, loss=0.136]"
     ]
    },
    {
     "name": "stdout",
     "output_type": "stream",
     "text": [
      "torch.Size([41, 62, 150])\n",
      "torch.Size([41, 62, 150])\n",
      "torch.Size([41, 62, 150])\n"
     ]
    },
    {
     "name": "stderr",
     "output_type": "stream",
     "text": [
      "Epoch 12/41:  56%|█████▌    | 120/214 [00:02<00:02, 44.99batch/s, loss=0.131]"
     ]
    },
    {
     "name": "stdout",
     "output_type": "stream",
     "text": [
      "torch.Size([41, 62, 150])\n",
      "torch.Size([41, 62, 150])\n",
      "torch.Size([41, 62, 150])\n",
      "torch.Size([41, 62, 150])\n",
      "torch.Size([41, 62, 150])\n",
      "torch.Size([41, 62, 150])\n",
      "torch.Size([41, 62, 150])\n"
     ]
    },
    {
     "name": "stderr",
     "output_type": "stream",
     "text": [
      "Epoch 12/41:  56%|█████▌    | 120/214 [00:02<00:02, 44.99batch/s, loss=0.135]"
     ]
    },
    {
     "name": "stdout",
     "output_type": "stream",
     "text": [
      "torch.Size([41, 62, 150])\n",
      "torch.Size([41, 62, 150])\n",
      "torch.Size([41, 62, 150])\n"
     ]
    },
    {
     "name": "stderr",
     "output_type": "stream",
     "text": [
      "Epoch 12/41:  61%|██████    | 130/214 [00:02<00:01, 45.00batch/s, loss=0.131]"
     ]
    },
    {
     "name": "stdout",
     "output_type": "stream",
     "text": [
      "torch.Size([41, 62, 150])\n",
      "torch.Size([41, 62, 150])\n",
      "torch.Size([41, 62, 150])\n",
      "torch.Size([41, 62, 150])\n",
      "torch.Size([41, 62, 150])\n",
      "torch.Size([41, 62, 150])\n",
      "torch.Size([41, 62, 150])\n"
     ]
    },
    {
     "name": "stderr",
     "output_type": "stream",
     "text": [
      "Epoch 12/41:  61%|██████    | 130/214 [00:02<00:01, 45.00batch/s, loss=0.134]"
     ]
    },
    {
     "name": "stdout",
     "output_type": "stream",
     "text": [
      "torch.Size([41, 62, 150])\n",
      "torch.Size([41, 62, 150])\n",
      "torch.Size([41, 62, 150])\n"
     ]
    },
    {
     "name": "stderr",
     "output_type": "stream",
     "text": [
      "Epoch 12/41:  65%|██████▌   | 140/214 [00:03<00:01, 44.67batch/s, loss=0.131]"
     ]
    },
    {
     "name": "stdout",
     "output_type": "stream",
     "text": [
      "torch.Size([41, 62, 150])\n",
      "torch.Size([41, 62, 150])\n",
      "torch.Size([41, 62, 150])\n",
      "torch.Size([41, 62, 150])\n",
      "torch.Size([41, 62, 150])\n",
      "torch.Size([41, 62, 150])\n"
     ]
    },
    {
     "name": "stderr",
     "output_type": "stream",
     "text": [
      "Epoch 12/41:  65%|██████▌   | 140/214 [00:03<00:01, 44.67batch/s, loss=0.134]"
     ]
    },
    {
     "name": "stdout",
     "output_type": "stream",
     "text": [
      "torch.Size([41, 62, 150])\n",
      "torch.Size([41, 62, 150])\n",
      "torch.Size([41, 62, 150])\n"
     ]
    },
    {
     "name": "stderr",
     "output_type": "stream",
     "text": [
      "Epoch 12/41:  70%|███████   | 150/214 [00:03<00:01, 44.61batch/s, loss=0.135]"
     ]
    },
    {
     "name": "stdout",
     "output_type": "stream",
     "text": [
      "torch.Size([41, 62, 150])\n",
      "torch.Size([41, 62, 150])\n",
      "torch.Size([41, 62, 150])\n",
      "torch.Size([41, 62, 150])\n",
      "torch.Size([41, 62, 150])\n",
      "torch.Size([41, 62, 150])\n"
     ]
    },
    {
     "name": "stderr",
     "output_type": "stream",
     "text": [
      "Epoch 12/41:  70%|███████   | 150/214 [00:03<00:01, 44.61batch/s, loss=0.133]"
     ]
    },
    {
     "name": "stdout",
     "output_type": "stream",
     "text": [
      "torch.Size([41, 62, 150])\n",
      "torch.Size([41, 62, 150])\n",
      "torch.Size([41, 62, 150])\n"
     ]
    },
    {
     "name": "stderr",
     "output_type": "stream",
     "text": [
      "Epoch 12/41:  72%|███████▏  | 155/214 [00:03<00:01, 44.64batch/s, loss=0.134]"
     ]
    },
    {
     "name": "stdout",
     "output_type": "stream",
     "text": [
      "torch.Size([41, 62, 150])\n",
      "torch.Size([41, 62, 150])\n",
      "torch.Size([41, 62, 150])\n",
      "torch.Size([41, 62, 150])\n",
      "torch.Size([41, 62, 150])\n",
      "torch.Size([41, 62, 150])\n",
      "torch.Size([41, 62, 150])\n"
     ]
    },
    {
     "name": "stderr",
     "output_type": "stream",
     "text": [
      "Epoch 12/41:  75%|███████▍  | 160/214 [00:03<00:01, 44.94batch/s, loss=0.132]"
     ]
    },
    {
     "name": "stdout",
     "output_type": "stream",
     "text": [
      "torch.Size([41, 62, 150])\n",
      "torch.Size([41, 62, 150])\n",
      "torch.Size([41, 62, 150])\n"
     ]
    },
    {
     "name": "stderr",
     "output_type": "stream",
     "text": [
      "Epoch 12/41:  77%|███████▋  | 165/214 [00:03<00:01, 45.25batch/s, loss=0.134]"
     ]
    },
    {
     "name": "stdout",
     "output_type": "stream",
     "text": [
      "torch.Size([41, 62, 150])\n",
      "torch.Size([41, 62, 150])\n",
      "torch.Size([41, 62, 150])\n",
      "torch.Size([41, 62, 150])\n",
      "torch.Size([41, 62, 150])\n",
      "torch.Size([41, 62, 150])\n",
      "torch.Size([41, 62, 150])\n"
     ]
    },
    {
     "name": "stderr",
     "output_type": "stream",
     "text": [
      "Epoch 12/41:  79%|███████▉  | 170/214 [00:03<00:00, 44.85batch/s, loss=0.132]"
     ]
    },
    {
     "name": "stdout",
     "output_type": "stream",
     "text": [
      "torch.Size([41, 62, 150])\n",
      "torch.Size([41, 62, 150])\n"
     ]
    },
    {
     "name": "stderr",
     "output_type": "stream",
     "text": [
      "Epoch 12/41:  82%|████████▏ | 175/214 [00:03<00:00, 44.83batch/s, loss=0.134]"
     ]
    },
    {
     "name": "stdout",
     "output_type": "stream",
     "text": [
      "torch.Size([41, 62, 150])\n",
      "torch.Size([41, 62, 150])\n",
      "torch.Size([41, 62, 150])\n",
      "torch.Size([41, 62, 150])\n",
      "torch.Size([41, 62, 150])\n",
      "torch.Size([41, 62, 150])\n",
      "torch.Size([41, 62, 150])\n",
      "torch.Size([41, 62, 150])\n"
     ]
    },
    {
     "name": "stderr",
     "output_type": "stream",
     "text": [
      "Epoch 12/41:  84%|████████▍ | 180/214 [00:04<00:00, 44.84batch/s, loss=0.131]"
     ]
    },
    {
     "name": "stdout",
     "output_type": "stream",
     "text": [
      "torch.Size([41, 62, 150])\n"
     ]
    },
    {
     "name": "stderr",
     "output_type": "stream",
     "text": [
      "Epoch 12/41:  86%|████████▋ | 185/214 [00:04<00:00, 44.73batch/s, loss=0.133]"
     ]
    },
    {
     "name": "stdout",
     "output_type": "stream",
     "text": [
      "torch.Size([41, 62, 150])\n",
      "torch.Size([41, 62, 150])\n",
      "torch.Size([41, 62, 150])\n",
      "torch.Size([41, 62, 150])\n",
      "torch.Size([41, 62, 150])\n",
      "torch.Size([41, 62, 150])\n",
      "torch.Size([41, 62, 150])\n",
      "torch.Size([41, 62, 150])\n"
     ]
    },
    {
     "name": "stderr",
     "output_type": "stream",
     "text": [
      "Epoch 12/41:  89%|████████▉ | 190/214 [00:04<00:00, 44.51batch/s, loss=0.134]"
     ]
    },
    {
     "name": "stdout",
     "output_type": "stream",
     "text": [
      "torch.Size([41, 62, 150])\n"
     ]
    },
    {
     "name": "stderr",
     "output_type": "stream",
     "text": [
      "Epoch 12/41:  91%|█████████ | 195/214 [00:04<00:00, 44.58batch/s, loss=0.132]"
     ]
    },
    {
     "name": "stdout",
     "output_type": "stream",
     "text": [
      "torch.Size([41, 62, 150])\n",
      "torch.Size([41, 62, 150])\n",
      "torch.Size([41, 62, 150])\n",
      "torch.Size([41, 62, 150])\n",
      "torch.Size([41, 62, 150])\n",
      "torch.Size([41, 62, 150])\n",
      "torch.Size([41, 62, 150])\n",
      "torch.Size([41, 62, 150])\n"
     ]
    },
    {
     "name": "stderr",
     "output_type": "stream",
     "text": [
      "Epoch 12/41:  91%|█████████ | 195/214 [00:04<00:00, 44.58batch/s, loss=0.133]"
     ]
    },
    {
     "name": "stdout",
     "output_type": "stream",
     "text": [
      "torch.Size([41, 62, 150])\n"
     ]
    },
    {
     "name": "stderr",
     "output_type": "stream",
     "text": [
      "Epoch 12/41:  96%|█████████▌| 205/214 [00:04<00:00, 44.29batch/s, loss=0.131]"
     ]
    },
    {
     "name": "stdout",
     "output_type": "stream",
     "text": [
      "torch.Size([41, 62, 150])\n",
      "torch.Size([41, 62, 150])\n",
      "torch.Size([41, 62, 150])\n",
      "torch.Size([41, 62, 150])\n",
      "torch.Size([41, 62, 150])\n",
      "torch.Size([41, 62, 150])\n",
      "torch.Size([41, 62, 150])\n",
      "torch.Size([41, 62, 150])\n"
     ]
    },
    {
     "name": "stderr",
     "output_type": "stream",
     "text": [
      "Epoch 12/41:  96%|█████████▌| 205/214 [00:04<00:00, 44.29batch/s, loss=0.132]"
     ]
    },
    {
     "name": "stdout",
     "output_type": "stream",
     "text": [
      "torch.Size([41, 62, 150])\n"
     ]
    },
    {
     "name": "stderr",
     "output_type": "stream",
     "text": [
      "Epoch 12/41: 100%|██████████| 214/214 [00:04<00:00, 44.68batch/s, loss=0.132]\n"
     ]
    },
    {
     "name": "stdout",
     "output_type": "stream",
     "text": [
      "torch.Size([41, 62, 150])\n",
      "torch.Size([41, 62, 150])\n",
      "torch.Size([41, 62, 150])\n",
      "torch.Size([41, 62, 150])\n",
      "torch.Size([41, 62, 150])\n",
      "torch.Size([7, 62, 150])\n",
      "Epoch 12/41, Loss: 0.12989044544574258\n"
     ]
    },
    {
     "name": "stderr",
     "output_type": "stream",
     "text": [
      "Epoch 13/41:   0%|          | 0/214 [00:00<?, ?batch/s, loss=0.245]"
     ]
    },
    {
     "name": "stdout",
     "output_type": "stream",
     "text": [
      "torch.Size([41, 62, 150])\n",
      "torch.Size([41, 62, 150])\n"
     ]
    },
    {
     "name": "stderr",
     "output_type": "stream",
     "text": [
      "Epoch 13/41:   0%|          | 0/214 [00:00<?, ?batch/s, loss=0.38] "
     ]
    },
    {
     "name": "stdout",
     "output_type": "stream",
     "text": [
      "torch.Size([41, 62, 150])\n"
     ]
    },
    {
     "name": "stderr",
     "output_type": "stream",
     "text": [
      "Epoch 13/41:   2%|▏         | 5/214 [00:00<00:04, 44.41batch/s, loss=0.186]"
     ]
    },
    {
     "name": "stdout",
     "output_type": "stream",
     "text": [
      "torch.Size([41, 62, 150])\n",
      "torch.Size([41, 62, 150])\n",
      "torch.Size([41, 62, 150])\n",
      "torch.Size([41, 62, 150])\n",
      "torch.Size([41, 62, 150])\n",
      "torch.Size([41, 62, 150])\n",
      "torch.Size([41, 62, 150])\n"
     ]
    },
    {
     "name": "stderr",
     "output_type": "stream",
     "text": [
      "Epoch 13/41:   5%|▍         | 10/214 [00:00<00:04, 45.53batch/s, loss=0.125]"
     ]
    },
    {
     "name": "stdout",
     "output_type": "stream",
     "text": [
      "torch.Size([41, 62, 150])\n",
      "torch.Size([41, 62, 150])\n"
     ]
    },
    {
     "name": "stderr",
     "output_type": "stream",
     "text": [
      "Epoch 13/41:   5%|▍         | 10/214 [00:00<00:04, 45.53batch/s, loss=0.135]"
     ]
    },
    {
     "name": "stdout",
     "output_type": "stream",
     "text": [
      "torch.Size([41, 62, 150])\n"
     ]
    },
    {
     "name": "stderr",
     "output_type": "stream",
     "text": [
      "Epoch 13/41:   7%|▋         | 15/214 [00:00<00:04, 44.74batch/s, loss=0.149]"
     ]
    },
    {
     "name": "stdout",
     "output_type": "stream",
     "text": [
      "torch.Size([41, 62, 150])\n",
      "torch.Size([41, 62, 150])\n",
      "torch.Size([41, 62, 150])\n",
      "torch.Size([41, 62, 150])\n",
      "torch.Size([41, 62, 150])\n",
      "torch.Size([41, 62, 150])\n"
     ]
    },
    {
     "name": "stderr",
     "output_type": "stream",
     "text": [
      "Epoch 13/41:   9%|▉         | 20/214 [00:00<00:04, 44.68batch/s, loss=0.125]"
     ]
    },
    {
     "name": "stdout",
     "output_type": "stream",
     "text": [
      "torch.Size([41, 62, 150])\n",
      "torch.Size([41, 62, 150])\n"
     ]
    },
    {
     "name": "stderr",
     "output_type": "stream",
     "text": [
      "Epoch 13/41:   9%|▉         | 20/214 [00:00<00:04, 44.68batch/s, loss=0.131]"
     ]
    },
    {
     "name": "stdout",
     "output_type": "stream",
     "text": [
      "torch.Size([41, 62, 150])\n"
     ]
    },
    {
     "name": "stderr",
     "output_type": "stream",
     "text": [
      "Epoch 13/41:  12%|█▏        | 25/214 [00:00<00:04, 44.62batch/s, loss=0.135]"
     ]
    },
    {
     "name": "stdout",
     "output_type": "stream",
     "text": [
      "torch.Size([41, 62, 150])\n",
      "torch.Size([41, 62, 150])\n",
      "torch.Size([41, 62, 150])\n",
      "torch.Size([41, 62, 150])\n",
      "torch.Size([41, 62, 150])\n",
      "torch.Size([41, 62, 150])\n"
     ]
    },
    {
     "name": "stderr",
     "output_type": "stream",
     "text": [
      "Epoch 13/41:  14%|█▍        | 30/214 [00:00<00:04, 44.79batch/s, loss=0.145]"
     ]
    },
    {
     "name": "stdout",
     "output_type": "stream",
     "text": [
      "torch.Size([41, 62, 150])\n",
      "torch.Size([41, 62, 150])\n"
     ]
    },
    {
     "name": "stderr",
     "output_type": "stream",
     "text": [
      "Epoch 13/41:  14%|█▍        | 30/214 [00:00<00:04, 44.79batch/s, loss=0.125]"
     ]
    },
    {
     "name": "stdout",
     "output_type": "stream",
     "text": [
      "torch.Size([41, 62, 150])\n"
     ]
    },
    {
     "name": "stderr",
     "output_type": "stream",
     "text": [
      "Epoch 13/41:  16%|█▋        | 35/214 [00:00<00:04, 44.67batch/s, loss=0.129]"
     ]
    },
    {
     "name": "stdout",
     "output_type": "stream",
     "text": [
      "torch.Size([41, 62, 150])\n",
      "torch.Size([41, 62, 150])\n",
      "torch.Size([41, 62, 150])\n",
      "torch.Size([41, 62, 150])\n",
      "torch.Size([41, 62, 150])\n",
      "torch.Size([41, 62, 150])\n"
     ]
    },
    {
     "name": "stderr",
     "output_type": "stream",
     "text": [
      "Epoch 13/41:  16%|█▋        | 35/214 [00:00<00:04, 44.67batch/s, loss=0.136]"
     ]
    },
    {
     "name": "stdout",
     "output_type": "stream",
     "text": [
      "torch.Size([41, 62, 150])\n",
      "torch.Size([41, 62, 150])\n",
      "torch.Size([41, 62, 150])\n"
     ]
    },
    {
     "name": "stderr",
     "output_type": "stream",
     "text": [
      "Epoch 13/41:  21%|██        | 45/214 [00:01<00:03, 44.41batch/s, loss=0.125]"
     ]
    },
    {
     "name": "stdout",
     "output_type": "stream",
     "text": [
      "torch.Size([41, 62, 150])\n",
      "torch.Size([41, 62, 150])\n",
      "torch.Size([41, 62, 150])\n",
      "torch.Size([41, 62, 150])\n",
      "torch.Size([41, 62, 150])\n",
      "torch.Size([41, 62, 150])\n"
     ]
    },
    {
     "name": "stderr",
     "output_type": "stream",
     "text": [
      "Epoch 13/41:  21%|██        | 45/214 [00:01<00:03, 44.41batch/s, loss=0.133]"
     ]
    },
    {
     "name": "stdout",
     "output_type": "stream",
     "text": [
      "torch.Size([41, 62, 150])\n",
      "torch.Size([41, 62, 150])\n",
      "torch.Size([41, 62, 150])\n"
     ]
    },
    {
     "name": "stderr",
     "output_type": "stream",
     "text": [
      "Epoch 13/41:  26%|██▌       | 55/214 [00:01<00:03, 44.45batch/s, loss=0.134]"
     ]
    },
    {
     "name": "stdout",
     "output_type": "stream",
     "text": [
      "torch.Size([41, 62, 150])\n",
      "torch.Size([41, 62, 150])\n",
      "torch.Size([41, 62, 150])\n",
      "torch.Size([41, 62, 150])\n",
      "torch.Size([41, 62, 150])\n",
      "torch.Size([41, 62, 150])\n"
     ]
    },
    {
     "name": "stderr",
     "output_type": "stream",
     "text": [
      "Epoch 13/41:  26%|██▌       | 55/214 [00:01<00:03, 44.45batch/s, loss=0.129]"
     ]
    },
    {
     "name": "stdout",
     "output_type": "stream",
     "text": [
      "torch.Size([41, 62, 150])\n",
      "torch.Size([41, 62, 150])\n",
      "torch.Size([41, 62, 150])\n"
     ]
    },
    {
     "name": "stderr",
     "output_type": "stream",
     "text": [
      "Epoch 13/41:  28%|██▊       | 60/214 [00:01<00:03, 44.41batch/s, loss=0.13] "
     ]
    },
    {
     "name": "stdout",
     "output_type": "stream",
     "text": [
      "torch.Size([41, 62, 150])\n",
      "torch.Size([41, 62, 150])\n",
      "torch.Size([41, 62, 150])\n",
      "torch.Size([41, 62, 150])\n",
      "torch.Size([41, 62, 150])\n",
      "torch.Size([41, 62, 150])\n"
     ]
    },
    {
     "name": "stderr",
     "output_type": "stream",
     "text": [
      "Epoch 13/41:  30%|███       | 65/214 [00:01<00:03, 44.44batch/s, loss=0.127]"
     ]
    },
    {
     "name": "stdout",
     "output_type": "stream",
     "text": [
      "torch.Size([41, 62, 150])\n",
      "torch.Size([41, 62, 150])\n",
      "torch.Size([41, 62, 150])\n",
      "torch.Size([41, 62, 150])\n"
     ]
    },
    {
     "name": "stderr",
     "output_type": "stream",
     "text": [
      "Epoch 13/41:  33%|███▎      | 70/214 [00:01<00:03, 45.05batch/s, loss=0.127]"
     ]
    },
    {
     "name": "stdout",
     "output_type": "stream",
     "text": [
      "torch.Size([41, 62, 150])\n",
      "torch.Size([41, 62, 150])\n",
      "torch.Size([41, 62, 150])\n",
      "torch.Size([41, 62, 150])\n",
      "torch.Size([41, 62, 150])\n"
     ]
    },
    {
     "name": "stderr",
     "output_type": "stream",
     "text": [
      "Epoch 13/41:  35%|███▌      | 75/214 [00:01<00:03, 43.38batch/s, loss=0.124]"
     ]
    },
    {
     "name": "stdout",
     "output_type": "stream",
     "text": [
      "torch.Size([41, 62, 150])\n",
      "torch.Size([41, 62, 150])\n",
      "torch.Size([41, 62, 150])\n",
      "torch.Size([41, 62, 150])\n"
     ]
    },
    {
     "name": "stderr",
     "output_type": "stream",
     "text": [
      "Epoch 13/41:  37%|███▋      | 80/214 [00:01<00:03, 43.90batch/s, loss=0.125]"
     ]
    },
    {
     "name": "stdout",
     "output_type": "stream",
     "text": [
      "torch.Size([41, 62, 150])\n",
      "torch.Size([41, 62, 150])\n",
      "torch.Size([41, 62, 150])\n",
      "torch.Size([41, 62, 150])\n",
      "torch.Size([41, 62, 150])\n"
     ]
    },
    {
     "name": "stderr",
     "output_type": "stream",
     "text": [
      "Epoch 13/41:  40%|███▉      | 85/214 [00:01<00:02, 44.01batch/s, loss=0.125]"
     ]
    },
    {
     "name": "stdout",
     "output_type": "stream",
     "text": [
      "torch.Size([41, 62, 150])\n",
      "torch.Size([41, 62, 150])\n",
      "torch.Size([41, 62, 150])\n",
      "torch.Size([41, 62, 150])\n"
     ]
    },
    {
     "name": "stderr",
     "output_type": "stream",
     "text": [
      "Epoch 13/41:  42%|████▏     | 90/214 [00:02<00:02, 44.24batch/s, loss=0.125]"
     ]
    },
    {
     "name": "stdout",
     "output_type": "stream",
     "text": [
      "torch.Size([41, 62, 150])\n",
      "torch.Size([41, 62, 150])\n",
      "torch.Size([41, 62, 150])\n",
      "torch.Size([41, 62, 150])\n",
      "torch.Size([41, 62, 150])\n"
     ]
    },
    {
     "name": "stderr",
     "output_type": "stream",
     "text": [
      "Epoch 13/41:  44%|████▍     | 95/214 [00:02<00:02, 44.44batch/s, loss=0.13] "
     ]
    },
    {
     "name": "stdout",
     "output_type": "stream",
     "text": [
      "torch.Size([41, 62, 150])\n",
      "torch.Size([41, 62, 150])\n",
      "torch.Size([41, 62, 150])\n",
      "torch.Size([41, 62, 150])\n",
      "torch.Size([41, 62, 150])\n"
     ]
    },
    {
     "name": "stderr",
     "output_type": "stream",
     "text": [
      "Epoch 13/41:  47%|████▋     | 100/214 [00:02<00:02, 44.68batch/s, loss=0.13]"
     ]
    },
    {
     "name": "stdout",
     "output_type": "stream",
     "text": [
      "torch.Size([41, 62, 150])\n",
      "torch.Size([41, 62, 150])\n",
      "torch.Size([41, 62, 150])\n",
      "torch.Size([41, 62, 150])\n",
      "torch.Size([41, 62, 150])\n"
     ]
    },
    {
     "name": "stderr",
     "output_type": "stream",
     "text": [
      "Epoch 13/41:  49%|████▉     | 105/214 [00:02<00:02, 44.43batch/s, loss=0.129]"
     ]
    },
    {
     "name": "stdout",
     "output_type": "stream",
     "text": [
      "torch.Size([41, 62, 150])\n",
      "torch.Size([41, 62, 150])\n",
      "torch.Size([41, 62, 150])\n",
      "torch.Size([41, 62, 150])\n"
     ]
    },
    {
     "name": "stderr",
     "output_type": "stream",
     "text": [
      "Epoch 13/41:  51%|█████▏    | 110/214 [00:02<00:02, 44.50batch/s, loss=0.129]"
     ]
    },
    {
     "name": "stdout",
     "output_type": "stream",
     "text": [
      "torch.Size([41, 62, 150])\n",
      "torch.Size([41, 62, 150])\n",
      "torch.Size([41, 62, 150])\n",
      "torch.Size([41, 62, 150])\n",
      "torch.Size([41, 62, 150])\n"
     ]
    },
    {
     "name": "stderr",
     "output_type": "stream",
     "text": [
      "Epoch 13/41:  51%|█████▏    | 110/214 [00:02<00:02, 44.50batch/s, loss=0.128]"
     ]
    },
    {
     "name": "stdout",
     "output_type": "stream",
     "text": [
      "torch.Size([41, 62, 150])\n",
      "torch.Size([41, 62, 150])\n",
      "torch.Size([41, 62, 150])\n",
      "torch.Size([41, 62, 150])\n"
     ]
    },
    {
     "name": "stderr",
     "output_type": "stream",
     "text": [
      "Epoch 13/41:  54%|█████▎    | 115/214 [00:02<00:02, 44.41batch/s, loss=0.128]"
     ]
    },
    {
     "name": "stdout",
     "output_type": "stream",
     "text": [
      "torch.Size([41, 62, 150])\n",
      "torch.Size([41, 62, 150])\n",
      "torch.Size([41, 62, 150])\n",
      "torch.Size([41, 62, 150])\n",
      "torch.Size([41, 62, 150])\n"
     ]
    },
    {
     "name": "stderr",
     "output_type": "stream",
     "text": [
      "Epoch 13/41:  56%|█████▌    | 120/214 [00:02<00:02, 44.55batch/s, loss=0.127]"
     ]
    },
    {
     "name": "stdout",
     "output_type": "stream",
     "text": [
      "torch.Size([41, 62, 150])\n",
      "torch.Size([41, 62, 150])\n",
      "torch.Size([41, 62, 150])\n",
      "torch.Size([41, 62, 150])\n"
     ]
    },
    {
     "name": "stderr",
     "output_type": "stream",
     "text": [
      "Epoch 13/41:  58%|█████▊    | 125/214 [00:02<00:01, 44.64batch/s, loss=0.127]"
     ]
    },
    {
     "name": "stdout",
     "output_type": "stream",
     "text": [
      "torch.Size([41, 62, 150])\n",
      "torch.Size([41, 62, 150])\n",
      "torch.Size([41, 62, 150])\n",
      "torch.Size([41, 62, 150])\n",
      "torch.Size([41, 62, 150])\n",
      "torch.Size([41, 62, 150])\n"
     ]
    },
    {
     "name": "stderr",
     "output_type": "stream",
     "text": [
      "Epoch 13/41:  61%|██████    | 130/214 [00:02<00:01, 45.11batch/s, loss=0.126]"
     ]
    },
    {
     "name": "stdout",
     "output_type": "stream",
     "text": [
      "torch.Size([41, 62, 150])\n",
      "torch.Size([41, 62, 150])\n",
      "torch.Size([41, 62, 150])\n",
      "torch.Size([41, 62, 150])\n"
     ]
    },
    {
     "name": "stderr",
     "output_type": "stream",
     "text": [
      "Epoch 13/41:  63%|██████▎   | 135/214 [00:03<00:01, 44.92batch/s, loss=0.127]"
     ]
    },
    {
     "name": "stdout",
     "output_type": "stream",
     "text": [
      "torch.Size([41, 62, 150])\n",
      "torch.Size([41, 62, 150])\n",
      "torch.Size([41, 62, 150])\n",
      "torch.Size([41, 62, 150])\n",
      "torch.Size([41, 62, 150])\n"
     ]
    },
    {
     "name": "stderr",
     "output_type": "stream",
     "text": [
      "Epoch 13/41:  65%|██████▌   | 140/214 [00:03<00:01, 45.00batch/s, loss=0.126]"
     ]
    },
    {
     "name": "stdout",
     "output_type": "stream",
     "text": [
      "torch.Size([41, 62, 150])\n",
      "torch.Size([41, 62, 150])\n",
      "torch.Size([41, 62, 150])\n",
      "torch.Size([41, 62, 150])\n",
      "torch.Size([41, 62, 150])\n"
     ]
    },
    {
     "name": "stderr",
     "output_type": "stream",
     "text": [
      "Epoch 13/41:  68%|██████▊   | 145/214 [00:03<00:01, 44.92batch/s, loss=0.127]"
     ]
    },
    {
     "name": "stdout",
     "output_type": "stream",
     "text": [
      "torch.Size([41, 62, 150])\n",
      "torch.Size([41, 62, 150])\n",
      "torch.Size([41, 62, 150])\n",
      "torch.Size([41, 62, 150])\n"
     ]
    },
    {
     "name": "stderr",
     "output_type": "stream",
     "text": [
      "Epoch 13/41:  70%|███████   | 150/214 [00:03<00:01, 44.94batch/s, loss=0.127]"
     ]
    },
    {
     "name": "stdout",
     "output_type": "stream",
     "text": [
      "torch.Size([41, 62, 150])\n",
      "torch.Size([41, 62, 150])\n",
      "torch.Size([41, 62, 150])\n",
      "torch.Size([41, 62, 150])\n",
      "torch.Size([41, 62, 150])\n",
      "torch.Size([41, 62, 150])\n"
     ]
    },
    {
     "name": "stderr",
     "output_type": "stream",
     "text": [
      "Epoch 13/41:  72%|███████▏  | 155/214 [00:03<00:01, 44.95batch/s, loss=0.126]"
     ]
    },
    {
     "name": "stdout",
     "output_type": "stream",
     "text": [
      "torch.Size([41, 62, 150])\n",
      "torch.Size([41, 62, 150])\n",
      "torch.Size([41, 62, 150])\n",
      "torch.Size([41, 62, 150])\n"
     ]
    },
    {
     "name": "stderr",
     "output_type": "stream",
     "text": [
      "Epoch 13/41:  75%|███████▍  | 160/214 [00:03<00:01, 45.11batch/s, loss=0.127]"
     ]
    },
    {
     "name": "stdout",
     "output_type": "stream",
     "text": [
      "torch.Size([41, 62, 150])\n",
      "torch.Size([41, 62, 150])\n",
      "torch.Size([41, 62, 150])\n",
      "torch.Size([41, 62, 150])\n",
      "torch.Size([41, 62, 150])\n",
      "torch.Size([41, 62, 150])\n"
     ]
    },
    {
     "name": "stderr",
     "output_type": "stream",
     "text": [
      "Epoch 13/41:  77%|███████▋  | 165/214 [00:03<00:01, 44.60batch/s, loss=0.126]"
     ]
    },
    {
     "name": "stdout",
     "output_type": "stream",
     "text": [
      "torch.Size([41, 62, 150])\n",
      "torch.Size([41, 62, 150])\n",
      "torch.Size([41, 62, 150])\n"
     ]
    },
    {
     "name": "stderr",
     "output_type": "stream",
     "text": [
      "Epoch 13/41:  79%|███████▉  | 170/214 [00:03<00:00, 44.57batch/s, loss=0.126]"
     ]
    },
    {
     "name": "stdout",
     "output_type": "stream",
     "text": [
      "torch.Size([41, 62, 150])\n",
      "torch.Size([41, 62, 150])\n",
      "torch.Size([41, 62, 150])\n",
      "torch.Size([41, 62, 150])\n",
      "torch.Size([41, 62, 150])\n",
      "torch.Size([41, 62, 150])\n"
     ]
    },
    {
     "name": "stderr",
     "output_type": "stream",
     "text": [
      "Epoch 13/41:  82%|████████▏ | 175/214 [00:03<00:00, 44.56batch/s, loss=0.129]"
     ]
    },
    {
     "name": "stdout",
     "output_type": "stream",
     "text": [
      "torch.Size([41, 62, 150])\n",
      "torch.Size([41, 62, 150])\n",
      "torch.Size([41, 62, 150])\n"
     ]
    },
    {
     "name": "stderr",
     "output_type": "stream",
     "text": [
      "Epoch 13/41:  84%|████████▍ | 180/214 [00:04<00:00, 44.61batch/s, loss=0.126]"
     ]
    },
    {
     "name": "stdout",
     "output_type": "stream",
     "text": [
      "torch.Size([41, 62, 150])\n",
      "torch.Size([41, 62, 150])\n",
      "torch.Size([41, 62, 150])\n",
      "torch.Size([41, 62, 150])\n",
      "torch.Size([41, 62, 150])\n",
      "torch.Size([41, 62, 150])\n"
     ]
    },
    {
     "name": "stderr",
     "output_type": "stream",
     "text": [
      "Epoch 13/41:  84%|████████▍ | 180/214 [00:04<00:00, 44.61batch/s, loss=0.128]"
     ]
    },
    {
     "name": "stdout",
     "output_type": "stream",
     "text": [
      "torch.Size([41, 62, 150])\n",
      "torch.Size([41, 62, 150])\n",
      "torch.Size([41, 62, 150])\n",
      "torch.Size([41, 62, 150])\n"
     ]
    },
    {
     "name": "stderr",
     "output_type": "stream",
     "text": [
      "Epoch 13/41:  89%|████████▉ | 190/214 [00:04<00:00, 45.21batch/s, loss=0.128]"
     ]
    },
    {
     "name": "stdout",
     "output_type": "stream",
     "text": [
      "torch.Size([41, 62, 150])\n",
      "torch.Size([41, 62, 150])\n",
      "torch.Size([41, 62, 150])\n",
      "torch.Size([41, 62, 150])\n",
      "torch.Size([41, 62, 150])\n",
      "torch.Size([41, 62, 150])\n"
     ]
    },
    {
     "name": "stderr",
     "output_type": "stream",
     "text": [
      "Epoch 13/41:  89%|████████▉ | 190/214 [00:04<00:00, 45.21batch/s, loss=0.128]"
     ]
    },
    {
     "name": "stdout",
     "output_type": "stream",
     "text": [
      "torch.Size([41, 62, 150])\n",
      "torch.Size([41, 62, 150])\n",
      "torch.Size([41, 62, 150])\n",
      "torch.Size([41, 62, 150])\n"
     ]
    },
    {
     "name": "stderr",
     "output_type": "stream",
     "text": [
      "Epoch 13/41:  93%|█████████▎| 200/214 [00:04<00:00, 45.15batch/s, loss=0.128]"
     ]
    },
    {
     "name": "stdout",
     "output_type": "stream",
     "text": [
      "torch.Size([41, 62, 150])\n",
      "torch.Size([41, 62, 150])\n",
      "torch.Size([41, 62, 150])\n",
      "torch.Size([41, 62, 150])\n",
      "torch.Size([41, 62, 150])\n",
      "torch.Size([41, 62, 150])\n"
     ]
    },
    {
     "name": "stderr",
     "output_type": "stream",
     "text": [
      "Epoch 13/41:  93%|█████████▎| 200/214 [00:04<00:00, 45.15batch/s, loss=0.128]"
     ]
    },
    {
     "name": "stdout",
     "output_type": "stream",
     "text": [
      "torch.Size([41, 62, 150])\n",
      "torch.Size([41, 62, 150])\n",
      "torch.Size([41, 62, 150])\n",
      "torch.Size([41, 62, 150])\n"
     ]
    },
    {
     "name": "stderr",
     "output_type": "stream",
     "text": [
      "Epoch 13/41:  98%|█████████▊| 210/214 [00:04<00:00, 45.02batch/s, loss=0.129]"
     ]
    },
    {
     "name": "stdout",
     "output_type": "stream",
     "text": [
      "torch.Size([41, 62, 150])\n",
      "torch.Size([41, 62, 150])\n",
      "torch.Size([41, 62, 150])\n",
      "torch.Size([41, 62, 150])\n",
      "torch.Size([41, 62, 150])\n",
      "torch.Size([41, 62, 150])\n"
     ]
    },
    {
     "name": "stderr",
     "output_type": "stream",
     "text": [
      "Epoch 13/41: 100%|██████████| 214/214 [00:04<00:00, 44.68batch/s, loss=0.128]\n"
     ]
    },
    {
     "name": "stdout",
     "output_type": "stream",
     "text": [
      "torch.Size([41, 62, 150])\n",
      "torch.Size([41, 62, 150])\n",
      "torch.Size([7, 62, 150])\n",
      "Epoch 13/41, Loss: 0.126266710460186\n"
     ]
    },
    {
     "name": "stderr",
     "output_type": "stream",
     "text": [
      "Epoch 14/41:   2%|▏         | 5/214 [00:00<00:04, 45.52batch/s, loss=0.121]"
     ]
    },
    {
     "name": "stdout",
     "output_type": "stream",
     "text": [
      "torch.Size([41, 62, 150])\n",
      "torch.Size([41, 62, 150])\n",
      "torch.Size([41, 62, 150])\n",
      "torch.Size([41, 62, 150])\n",
      "torch.Size([41, 62, 150])\n",
      "torch.Size([41, 62, 150])\n"
     ]
    },
    {
     "name": "stderr",
     "output_type": "stream",
     "text": [
      "Epoch 14/41:   2%|▏         | 5/214 [00:00<00:04, 45.52batch/s, loss=0.18] "
     ]
    },
    {
     "name": "stdout",
     "output_type": "stream",
     "text": [
      "torch.Size([41, 62, 150])\n",
      "torch.Size([41, 62, 150])\n",
      "torch.Size([41, 62, 150])\n",
      "torch.Size([41, 62, 150])\n"
     ]
    },
    {
     "name": "stderr",
     "output_type": "stream",
     "text": [
      "Epoch 14/41:   7%|▋         | 15/214 [00:00<00:04, 44.59batch/s, loss=0.163]"
     ]
    },
    {
     "name": "stdout",
     "output_type": "stream",
     "text": [
      "torch.Size([41, 62, 150])\n",
      "torch.Size([41, 62, 150])\n",
      "torch.Size([41, 62, 150])\n",
      "torch.Size([41, 62, 150])\n",
      "torch.Size([41, 62, 150])\n"
     ]
    },
    {
     "name": "stderr",
     "output_type": "stream",
     "text": [
      "Epoch 14/41:   7%|▋         | 15/214 [00:00<00:04, 44.59batch/s, loss=0.141]"
     ]
    },
    {
     "name": "stdout",
     "output_type": "stream",
     "text": [
      "torch.Size([41, 62, 150])\n",
      "torch.Size([41, 62, 150])\n",
      "torch.Size([41, 62, 150])\n",
      "torch.Size([41, 62, 150])\n"
     ]
    },
    {
     "name": "stderr",
     "output_type": "stream",
     "text": [
      "Epoch 14/41:   9%|▉         | 20/214 [00:00<00:04, 44.52batch/s, loss=0.134]"
     ]
    },
    {
     "name": "stdout",
     "output_type": "stream",
     "text": [
      "torch.Size([41, 62, 150])\n",
      "torch.Size([41, 62, 150])\n",
      "torch.Size([41, 62, 150])\n",
      "torch.Size([41, 62, 150])\n",
      "torch.Size([41, 62, 150])\n"
     ]
    },
    {
     "name": "stderr",
     "output_type": "stream",
     "text": [
      "Epoch 14/41:  12%|█▏        | 25/214 [00:00<00:04, 44.61batch/s, loss=0.127]"
     ]
    },
    {
     "name": "stdout",
     "output_type": "stream",
     "text": [
      "torch.Size([41, 62, 150])\n",
      "torch.Size([41, 62, 150])\n",
      "torch.Size([41, 62, 150])\n",
      "torch.Size([41, 62, 150])\n"
     ]
    },
    {
     "name": "stderr",
     "output_type": "stream",
     "text": [
      "Epoch 14/41:  14%|█▍        | 30/214 [00:00<00:04, 44.63batch/s, loss=0.125]"
     ]
    },
    {
     "name": "stdout",
     "output_type": "stream",
     "text": [
      "torch.Size([41, 62, 150])\n",
      "torch.Size([41, 62, 150])\n",
      "torch.Size([41, 62, 150])\n",
      "torch.Size([41, 62, 150])\n",
      "torch.Size([41, 62, 150])\n",
      "torch.Size([41, 62, 150])\n"
     ]
    },
    {
     "name": "stderr",
     "output_type": "stream",
     "text": [
      "Epoch 14/41:  16%|█▋        | 35/214 [00:00<00:03, 45.08batch/s, loss=0.12] "
     ]
    },
    {
     "name": "stdout",
     "output_type": "stream",
     "text": [
      "torch.Size([41, 62, 150])\n",
      "torch.Size([41, 62, 150])\n",
      "torch.Size([41, 62, 150])\n",
      "torch.Size([41, 62, 150])\n"
     ]
    },
    {
     "name": "stderr",
     "output_type": "stream",
     "text": [
      "Epoch 14/41:  19%|█▊        | 40/214 [00:00<00:03, 45.10batch/s, loss=0.125]"
     ]
    },
    {
     "name": "stdout",
     "output_type": "stream",
     "text": [
      "torch.Size([41, 62, 150])\n",
      "torch.Size([41, 62, 150])\n",
      "torch.Size([41, 62, 150])\n",
      "torch.Size([41, 62, 150])\n",
      "torch.Size([41, 62, 150])\n",
      "torch.Size([41, 62, 150])\n"
     ]
    },
    {
     "name": "stderr",
     "output_type": "stream",
     "text": [
      "Epoch 14/41:  21%|██        | 45/214 [00:01<00:03, 45.01batch/s, loss=0.122]"
     ]
    },
    {
     "name": "stdout",
     "output_type": "stream",
     "text": [
      "torch.Size([41, 62, 150])\n",
      "torch.Size([41, 62, 150])\n",
      "torch.Size([41, 62, 150])\n"
     ]
    },
    {
     "name": "stderr",
     "output_type": "stream",
     "text": [
      "Epoch 14/41:  23%|██▎       | 50/214 [00:01<00:03, 45.01batch/s, loss=0.124]"
     ]
    },
    {
     "name": "stdout",
     "output_type": "stream",
     "text": [
      "torch.Size([41, 62, 150])\n",
      "torch.Size([41, 62, 150])\n",
      "torch.Size([41, 62, 150])\n",
      "torch.Size([41, 62, 150])\n",
      "torch.Size([41, 62, 150])\n",
      "torch.Size([41, 62, 150])\n",
      "torch.Size([41, 62, 150])\n"
     ]
    },
    {
     "name": "stderr",
     "output_type": "stream",
     "text": [
      "Epoch 14/41:  26%|██▌       | 55/214 [00:01<00:03, 44.99batch/s, loss=0.12] "
     ]
    },
    {
     "name": "stdout",
     "output_type": "stream",
     "text": [
      "torch.Size([41, 62, 150])\n",
      "torch.Size([41, 62, 150])\n"
     ]
    },
    {
     "name": "stderr",
     "output_type": "stream",
     "text": [
      "Epoch 14/41:  28%|██▊       | 60/214 [00:01<00:03, 45.02batch/s, loss=0.123]"
     ]
    },
    {
     "name": "stdout",
     "output_type": "stream",
     "text": [
      "torch.Size([41, 62, 150])\n",
      "torch.Size([41, 62, 150])\n",
      "torch.Size([41, 62, 150])\n",
      "torch.Size([41, 62, 150])\n",
      "torch.Size([41, 62, 150])\n",
      "torch.Size([41, 62, 150])\n",
      "torch.Size([41, 62, 150])\n",
      "torch.Size([41, 62, 150])\n"
     ]
    },
    {
     "name": "stderr",
     "output_type": "stream",
     "text": [
      "Epoch 14/41:  30%|███       | 65/214 [00:01<00:03, 45.11batch/s, loss=0.127]"
     ]
    },
    {
     "name": "stdout",
     "output_type": "stream",
     "text": [
      "torch.Size([41, 62, 150])\n",
      "torch.Size([41, 62, 150])\n"
     ]
    },
    {
     "name": "stderr",
     "output_type": "stream",
     "text": [
      "Epoch 14/41:  33%|███▎      | 70/214 [00:01<00:03, 44.83batch/s, loss=0.125]"
     ]
    },
    {
     "name": "stdout",
     "output_type": "stream",
     "text": [
      "torch.Size([41, 62, 150])\n",
      "torch.Size([41, 62, 150])\n",
      "torch.Size([41, 62, 150])\n",
      "torch.Size([41, 62, 150])\n",
      "torch.Size([41, 62, 150])\n",
      "torch.Size([41, 62, 150])\n",
      "torch.Size([41, 62, 150])\n"
     ]
    },
    {
     "name": "stderr",
     "output_type": "stream",
     "text": [
      "Epoch 14/41:  35%|███▌      | 75/214 [00:01<00:03, 44.60batch/s, loss=0.129]"
     ]
    },
    {
     "name": "stdout",
     "output_type": "stream",
     "text": [
      "torch.Size([41, 62, 150])\n",
      "torch.Size([41, 62, 150])\n"
     ]
    },
    {
     "name": "stderr",
     "output_type": "stream",
     "text": [
      "Epoch 14/41:  37%|███▋      | 80/214 [00:01<00:03, 44.62batch/s, loss=0.123]"
     ]
    },
    {
     "name": "stdout",
     "output_type": "stream",
     "text": [
      "torch.Size([41, 62, 150])\n",
      "torch.Size([41, 62, 150])\n",
      "torch.Size([41, 62, 150])\n",
      "torch.Size([41, 62, 150])\n",
      "torch.Size([41, 62, 150])\n",
      "torch.Size([41, 62, 150])\n",
      "torch.Size([41, 62, 150])\n"
     ]
    },
    {
     "name": "stderr",
     "output_type": "stream",
     "text": [
      "Epoch 14/41:  37%|███▋      | 80/214 [00:01<00:03, 44.62batch/s, loss=0.127]"
     ]
    },
    {
     "name": "stdout",
     "output_type": "stream",
     "text": [
      "torch.Size([41, 62, 150])\n",
      "torch.Size([41, 62, 150])\n"
     ]
    },
    {
     "name": "stderr",
     "output_type": "stream",
     "text": [
      "Epoch 14/41:  42%|████▏     | 90/214 [00:02<00:02, 44.73batch/s, loss=0.122]"
     ]
    },
    {
     "name": "stdout",
     "output_type": "stream",
     "text": [
      "torch.Size([41, 62, 150])\n",
      "torch.Size([41, 62, 150])\n",
      "torch.Size([41, 62, 150])\n",
      "torch.Size([41, 62, 150])\n",
      "torch.Size([41, 62, 150])\n",
      "torch.Size([41, 62, 150])\n",
      "torch.Size([41, 62, 150])\n"
     ]
    },
    {
     "name": "stderr",
     "output_type": "stream",
     "text": [
      "Epoch 14/41:  42%|████▏     | 90/214 [00:02<00:02, 44.73batch/s, loss=0.125]"
     ]
    },
    {
     "name": "stdout",
     "output_type": "stream",
     "text": [
      "torch.Size([41, 62, 150])\n",
      "torch.Size([41, 62, 150])\n",
      "torch.Size([41, 62, 150])\n"
     ]
    },
    {
     "name": "stderr",
     "output_type": "stream",
     "text": [
      "Epoch 14/41:  47%|████▋     | 100/214 [00:02<00:02, 45.28batch/s, loss=0.128]"
     ]
    },
    {
     "name": "stdout",
     "output_type": "stream",
     "text": [
      "torch.Size([41, 62, 150])\n",
      "torch.Size([41, 62, 150])\n",
      "torch.Size([41, 62, 150])\n",
      "torch.Size([41, 62, 150])\n",
      "torch.Size([41, 62, 150])\n",
      "torch.Size([41, 62, 150])\n",
      "torch.Size([41, 62, 150])\n"
     ]
    },
    {
     "name": "stderr",
     "output_type": "stream",
     "text": [
      "Epoch 14/41:  47%|████▋     | 100/214 [00:02<00:02, 45.28batch/s, loss=0.126]"
     ]
    },
    {
     "name": "stdout",
     "output_type": "stream",
     "text": [
      "torch.Size([41, 62, 150])\n",
      "torch.Size([41, 62, 150])\n",
      "torch.Size([41, 62, 150])\n"
     ]
    },
    {
     "name": "stderr",
     "output_type": "stream",
     "text": [
      "Epoch 14/41:  51%|█████▏    | 110/214 [00:02<00:02, 45.17batch/s, loss=0.128]"
     ]
    },
    {
     "name": "stdout",
     "output_type": "stream",
     "text": [
      "torch.Size([41, 62, 150])\n",
      "torch.Size([41, 62, 150])\n",
      "torch.Size([41, 62, 150])\n",
      "torch.Size([41, 62, 150])\n",
      "torch.Size([41, 62, 150])\n",
      "torch.Size([41, 62, 150])\n",
      "torch.Size([41, 62, 150])\n"
     ]
    },
    {
     "name": "stderr",
     "output_type": "stream",
     "text": [
      "Epoch 14/41:  51%|█████▏    | 110/214 [00:02<00:02, 45.17batch/s, loss=0.126]"
     ]
    },
    {
     "name": "stdout",
     "output_type": "stream",
     "text": [
      "torch.Size([41, 62, 150])\n",
      "torch.Size([41, 62, 150])\n",
      "torch.Size([41, 62, 150])\n"
     ]
    },
    {
     "name": "stderr",
     "output_type": "stream",
     "text": [
      "Epoch 14/41:  56%|█████▌    | 120/214 [00:02<00:02, 45.09batch/s, loss=0.127]"
     ]
    },
    {
     "name": "stdout",
     "output_type": "stream",
     "text": [
      "torch.Size([41, 62, 150])\n",
      "torch.Size([41, 62, 150])\n",
      "torch.Size([41, 62, 150])\n",
      "torch.Size([41, 62, 150])\n",
      "torch.Size([41, 62, 150])\n",
      "torch.Size([41, 62, 150])\n",
      "torch.Size([41, 62, 150])\n"
     ]
    },
    {
     "name": "stderr",
     "output_type": "stream",
     "text": [
      "Epoch 14/41:  56%|█████▌    | 120/214 [00:02<00:02, 45.09batch/s, loss=0.125]"
     ]
    },
    {
     "name": "stdout",
     "output_type": "stream",
     "text": [
      "torch.Size([41, 62, 150])\n",
      "torch.Size([41, 62, 150])\n",
      "torch.Size([41, 62, 150])\n"
     ]
    },
    {
     "name": "stderr",
     "output_type": "stream",
     "text": [
      "Epoch 14/41:  61%|██████    | 130/214 [00:02<00:01, 45.06batch/s, loss=0.127]"
     ]
    },
    {
     "name": "stdout",
     "output_type": "stream",
     "text": [
      "torch.Size([41, 62, 150])\n",
      "torch.Size([41, 62, 150])\n",
      "torch.Size([41, 62, 150])\n",
      "torch.Size([41, 62, 150])\n",
      "torch.Size([41, 62, 150])\n",
      "torch.Size([41, 62, 150])\n",
      "torch.Size([41, 62, 150])\n"
     ]
    },
    {
     "name": "stderr",
     "output_type": "stream",
     "text": [
      "Epoch 14/41:  61%|██████    | 130/214 [00:02<00:01, 45.06batch/s, loss=0.125]"
     ]
    },
    {
     "name": "stdout",
     "output_type": "stream",
     "text": [
      "torch.Size([41, 62, 150])\n",
      "torch.Size([41, 62, 150])\n"
     ]
    },
    {
     "name": "stderr",
     "output_type": "stream",
     "text": [
      "Epoch 14/41:  65%|██████▌   | 140/214 [00:03<00:01, 44.75batch/s, loss=0.127]"
     ]
    },
    {
     "name": "stdout",
     "output_type": "stream",
     "text": [
      "torch.Size([41, 62, 150])\n",
      "torch.Size([41, 62, 150])\n",
      "torch.Size([41, 62, 150])\n",
      "torch.Size([41, 62, 150])\n",
      "torch.Size([41, 62, 150])\n",
      "torch.Size([41, 62, 150])\n",
      "torch.Size([41, 62, 150])\n"
     ]
    },
    {
     "name": "stderr",
     "output_type": "stream",
     "text": [
      "Epoch 14/41:  65%|██████▌   | 140/214 [00:03<00:01, 44.75batch/s, loss=0.124]"
     ]
    },
    {
     "name": "stdout",
     "output_type": "stream",
     "text": [
      "torch.Size([41, 62, 150])\n",
      "torch.Size([41, 62, 150])\n"
     ]
    },
    {
     "name": "stderr",
     "output_type": "stream",
     "text": [
      "Epoch 14/41:  68%|██████▊   | 145/214 [00:03<00:01, 44.67batch/s, loss=0.126]"
     ]
    },
    {
     "name": "stdout",
     "output_type": "stream",
     "text": [
      "torch.Size([41, 62, 150])\n",
      "torch.Size([41, 62, 150])\n",
      "torch.Size([41, 62, 150])\n",
      "torch.Size([41, 62, 150])\n",
      "torch.Size([41, 62, 150])\n",
      "torch.Size([41, 62, 150])\n",
      "torch.Size([41, 62, 150])\n"
     ]
    },
    {
     "name": "stderr",
     "output_type": "stream",
     "text": [
      "Epoch 14/41:  70%|███████   | 150/214 [00:03<00:01, 44.27batch/s, loss=0.126]"
     ]
    },
    {
     "name": "stdout",
     "output_type": "stream",
     "text": [
      "torch.Size([41, 62, 150])\n",
      "torch.Size([41, 62, 150])\n"
     ]
    },
    {
     "name": "stderr",
     "output_type": "stream",
     "text": [
      "Epoch 14/41:  72%|███████▏  | 155/214 [00:03<00:01, 43.45batch/s, loss=0.124]"
     ]
    },
    {
     "name": "stdout",
     "output_type": "stream",
     "text": [
      "torch.Size([41, 62, 150])\n",
      "torch.Size([41, 62, 150])\n",
      "torch.Size([41, 62, 150])\n",
      "torch.Size([41, 62, 150])\n",
      "torch.Size([41, 62, 150])\n",
      "torch.Size([41, 62, 150])\n",
      "torch.Size([41, 62, 150])\n"
     ]
    },
    {
     "name": "stderr",
     "output_type": "stream",
     "text": [
      "Epoch 14/41:  72%|███████▏  | 155/214 [00:03<00:01, 43.45batch/s, loss=0.126]"
     ]
    },
    {
     "name": "stdout",
     "output_type": "stream",
     "text": [
      "torch.Size([41, 62, 150])\n",
      "torch.Size([41, 62, 150])\n"
     ]
    },
    {
     "name": "stderr",
     "output_type": "stream",
     "text": [
      "Epoch 14/41:  77%|███████▋  | 165/214 [00:03<00:01, 43.42batch/s, loss=0.124]"
     ]
    },
    {
     "name": "stdout",
     "output_type": "stream",
     "text": [
      "torch.Size([41, 62, 150])\n",
      "torch.Size([41, 62, 150])\n",
      "torch.Size([41, 62, 150])\n",
      "torch.Size([41, 62, 150])\n",
      "torch.Size([41, 62, 150])\n",
      "torch.Size([41, 62, 150])\n",
      "torch.Size([41, 62, 150])\n"
     ]
    },
    {
     "name": "stderr",
     "output_type": "stream",
     "text": [
      "Epoch 14/41:  77%|███████▋  | 165/214 [00:03<00:01, 43.42batch/s, loss=0.126]"
     ]
    },
    {
     "name": "stdout",
     "output_type": "stream",
     "text": [
      "torch.Size([41, 62, 150])\n",
      "torch.Size([41, 62, 150])\n"
     ]
    },
    {
     "name": "stderr",
     "output_type": "stream",
     "text": [
      "Epoch 14/41:  82%|████████▏ | 175/214 [00:03<00:00, 44.12batch/s, loss=0.124]"
     ]
    },
    {
     "name": "stdout",
     "output_type": "stream",
     "text": [
      "torch.Size([41, 62, 150])\n",
      "torch.Size([41, 62, 150])\n",
      "torch.Size([41, 62, 150])\n",
      "torch.Size([41, 62, 150])\n",
      "torch.Size([41, 62, 150])\n",
      "torch.Size([41, 62, 150])\n",
      "torch.Size([41, 62, 150])\n"
     ]
    },
    {
     "name": "stderr",
     "output_type": "stream",
     "text": [
      "Epoch 14/41:  82%|████████▏ | 175/214 [00:03<00:00, 44.12batch/s, loss=0.125]"
     ]
    },
    {
     "name": "stdout",
     "output_type": "stream",
     "text": [
      "torch.Size([41, 62, 150])\n",
      "torch.Size([41, 62, 150])\n"
     ]
    },
    {
     "name": "stderr",
     "output_type": "stream",
     "text": [
      "Epoch 14/41:  86%|████████▋ | 185/214 [00:04<00:00, 44.62batch/s, loss=0.126]"
     ]
    },
    {
     "name": "stdout",
     "output_type": "stream",
     "text": [
      "torch.Size([41, 62, 150])\n",
      "torch.Size([41, 62, 150])\n",
      "torch.Size([41, 62, 150])\n",
      "torch.Size([41, 62, 150])\n",
      "torch.Size([41, 62, 150])\n",
      "torch.Size([41, 62, 150])\n",
      "torch.Size([41, 62, 150])\n",
      "torch.Size([41, 62, 150])\n"
     ]
    },
    {
     "name": "stderr",
     "output_type": "stream",
     "text": [
      "Epoch 14/41:  86%|████████▋ | 185/214 [00:04<00:00, 44.62batch/s, loss=0.125]"
     ]
    },
    {
     "name": "stdout",
     "output_type": "stream",
     "text": [
      "torch.Size([41, 62, 150])\n",
      "torch.Size([41, 62, 150])\n"
     ]
    },
    {
     "name": "stderr",
     "output_type": "stream",
     "text": [
      "Epoch 14/41:  91%|█████████ | 195/214 [00:04<00:00, 44.26batch/s, loss=0.126]"
     ]
    },
    {
     "name": "stdout",
     "output_type": "stream",
     "text": [
      "torch.Size([41, 62, 150])\n",
      "torch.Size([41, 62, 150])\n",
      "torch.Size([41, 62, 150])\n",
      "torch.Size([41, 62, 150])\n",
      "torch.Size([41, 62, 150])\n",
      "torch.Size([41, 62, 150])\n",
      "torch.Size([41, 62, 150])\n"
     ]
    },
    {
     "name": "stderr",
     "output_type": "stream",
     "text": [
      "Epoch 14/41:  91%|█████████ | 195/214 [00:04<00:00, 44.26batch/s, loss=0.124]"
     ]
    },
    {
     "name": "stdout",
     "output_type": "stream",
     "text": [
      "torch.Size([41, 62, 150])\n",
      "torch.Size([41, 62, 150])\n"
     ]
    },
    {
     "name": "stderr",
     "output_type": "stream",
     "text": [
      "Epoch 14/41:  93%|█████████▎| 200/214 [00:04<00:00, 44.25batch/s, loss=0.126]"
     ]
    },
    {
     "name": "stdout",
     "output_type": "stream",
     "text": [
      "torch.Size([41, 62, 150])\n",
      "torch.Size([41, 62, 150])\n",
      "torch.Size([41, 62, 150])\n",
      "torch.Size([41, 62, 150])\n",
      "torch.Size([41, 62, 150])\n",
      "torch.Size([41, 62, 150])\n",
      "torch.Size([41, 62, 150])\n"
     ]
    },
    {
     "name": "stderr",
     "output_type": "stream",
     "text": [
      "Epoch 14/41:  96%|█████████▌| 205/214 [00:04<00:00, 44.37batch/s, loss=0.124]"
     ]
    },
    {
     "name": "stdout",
     "output_type": "stream",
     "text": [
      "torch.Size([41, 62, 150])\n",
      "torch.Size([41, 62, 150])\n"
     ]
    },
    {
     "name": "stderr",
     "output_type": "stream",
     "text": [
      "Epoch 14/41:  98%|█████████▊| 210/214 [00:04<00:00, 44.44batch/s, loss=0.125]"
     ]
    },
    {
     "name": "stdout",
     "output_type": "stream",
     "text": [
      "torch.Size([41, 62, 150])\n",
      "torch.Size([41, 62, 150])\n",
      "torch.Size([41, 62, 150])\n",
      "torch.Size([41, 62, 150])\n",
      "torch.Size([41, 62, 150])\n",
      "torch.Size([41, 62, 150])\n",
      "torch.Size([41, 62, 150])\n",
      "torch.Size([7, 62, 150])\n"
     ]
    },
    {
     "name": "stderr",
     "output_type": "stream",
     "text": [
      "Epoch 14/41: 100%|██████████| 214/214 [00:04<00:00, 44.63batch/s, loss=0.126]\n"
     ]
    },
    {
     "name": "stdout",
     "output_type": "stream",
     "text": [
      "Epoch 14/41, Loss: 0.12391617156077768\n"
     ]
    },
    {
     "name": "stderr",
     "output_type": "stream",
     "text": [
      "Epoch 15/41:   0%|          | 0/214 [00:00<?, ?batch/s, loss=0.114]"
     ]
    },
    {
     "name": "stdout",
     "output_type": "stream",
     "text": [
      "torch.Size([41, 62, 150])\n"
     ]
    },
    {
     "name": "stderr",
     "output_type": "stream",
     "text": [
      "Epoch 15/41:   2%|▏         | 5/214 [00:00<00:04, 45.32batch/s, loss=0.18] "
     ]
    },
    {
     "name": "stdout",
     "output_type": "stream",
     "text": [
      "torch.Size([41, 62, 150])\n",
      "torch.Size([41, 62, 150])\n",
      "torch.Size([41, 62, 150])\n",
      "torch.Size([41, 62, 150])\n",
      "torch.Size([41, 62, 150])\n",
      "torch.Size([41, 62, 150])\n",
      "torch.Size([41, 62, 150])\n",
      "torch.Size([41, 62, 150])\n",
      "torch.Size([41, 62, 150])\n"
     ]
    },
    {
     "name": "stderr",
     "output_type": "stream",
     "text": [
      "Epoch 15/41:   5%|▍         | 10/214 [00:00<00:04, 44.90batch/s, loss=0.2]"
     ]
    },
    {
     "name": "stdout",
     "output_type": "stream",
     "text": [
      "torch.Size([41, 62, 150])\n"
     ]
    },
    {
     "name": "stderr",
     "output_type": "stream",
     "text": [
      "Epoch 15/41:   7%|▋         | 15/214 [00:00<00:04, 44.88batch/s, loss=0.135]"
     ]
    },
    {
     "name": "stdout",
     "output_type": "stream",
     "text": [
      "torch.Size([41, 62, 150])\n",
      "torch.Size([41, 62, 150])\n",
      "torch.Size([41, 62, 150])\n",
      "torch.Size([41, 62, 150])\n",
      "torch.Size([41, 62, 150])\n",
      "torch.Size([41, 62, 150])\n",
      "torch.Size([41, 62, 150])\n"
     ]
    },
    {
     "name": "stderr",
     "output_type": "stream",
     "text": [
      "Epoch 15/41:   7%|▋         | 15/214 [00:00<00:04, 44.88batch/s, loss=0.142]"
     ]
    },
    {
     "name": "stdout",
     "output_type": "stream",
     "text": [
      "torch.Size([41, 62, 150])\n"
     ]
    },
    {
     "name": "stderr",
     "output_type": "stream",
     "text": [
      "Epoch 15/41:   9%|▉         | 20/214 [00:00<00:04, 44.77batch/s, loss=0.148]"
     ]
    },
    {
     "name": "stdout",
     "output_type": "stream",
     "text": [
      "torch.Size([41, 62, 150])\n"
     ]
    },
    {
     "name": "stderr",
     "output_type": "stream",
     "text": [
      "Epoch 15/41:  12%|█▏        | 25/214 [00:00<00:04, 44.85batch/s, loss=0.124]"
     ]
    },
    {
     "name": "stdout",
     "output_type": "stream",
     "text": [
      "torch.Size([41, 62, 150])\n",
      "torch.Size([41, 62, 150])\n",
      "torch.Size([41, 62, 150])\n",
      "torch.Size([41, 62, 150])\n",
      "torch.Size([41, 62, 150])\n",
      "torch.Size([41, 62, 150])\n",
      "torch.Size([41, 62, 150])\n"
     ]
    },
    {
     "name": "stderr",
     "output_type": "stream",
     "text": [
      "Epoch 15/41:  12%|█▏        | 25/214 [00:00<00:04, 44.85batch/s, loss=0.129]"
     ]
    },
    {
     "name": "stdout",
     "output_type": "stream",
     "text": [
      "torch.Size([41, 62, 150])\n"
     ]
    },
    {
     "name": "stderr",
     "output_type": "stream",
     "text": [
      "Epoch 15/41:  12%|█▏        | 25/214 [00:00<00:04, 44.85batch/s, loss=0.132]"
     ]
    },
    {
     "name": "stdout",
     "output_type": "stream",
     "text": [
      "torch.Size([41, 62, 150])\n",
      "torch.Size([41, 62, 150])\n"
     ]
    },
    {
     "name": "stderr",
     "output_type": "stream",
     "text": [
      "Epoch 15/41:  16%|█▋        | 35/214 [00:00<00:03, 44.85batch/s, loss=0.12] "
     ]
    },
    {
     "name": "stdout",
     "output_type": "stream",
     "text": [
      "torch.Size([41, 62, 150])\n",
      "torch.Size([41, 62, 150])\n",
      "torch.Size([41, 62, 150])\n",
      "torch.Size([41, 62, 150])\n",
      "torch.Size([41, 62, 150])\n",
      "torch.Size([41, 62, 150])\n"
     ]
    },
    {
     "name": "stderr",
     "output_type": "stream",
     "text": [
      "Epoch 15/41:  16%|█▋        | 35/214 [00:00<00:03, 44.85batch/s, loss=0.123]"
     ]
    },
    {
     "name": "stdout",
     "output_type": "stream",
     "text": [
      "torch.Size([41, 62, 150])\n"
     ]
    },
    {
     "name": "stderr",
     "output_type": "stream",
     "text": [
      "Epoch 15/41:  16%|█▋        | 35/214 [00:00<00:03, 44.85batch/s, loss=0.131]"
     ]
    },
    {
     "name": "stdout",
     "output_type": "stream",
     "text": [
      "torch.Size([41, 62, 150])\n",
      "torch.Size([41, 62, 150])\n"
     ]
    },
    {
     "name": "stderr",
     "output_type": "stream",
     "text": [
      "Epoch 15/41:  21%|██        | 45/214 [00:01<00:03, 44.54batch/s, loss=0.133]"
     ]
    },
    {
     "name": "stdout",
     "output_type": "stream",
     "text": [
      "torch.Size([41, 62, 150])\n",
      "torch.Size([41, 62, 150])\n",
      "torch.Size([41, 62, 150])\n",
      "torch.Size([41, 62, 150])\n",
      "torch.Size([41, 62, 150])\n",
      "torch.Size([41, 62, 150])\n"
     ]
    },
    {
     "name": "stderr",
     "output_type": "stream",
     "text": [
      "Epoch 15/41:  21%|██        | 45/214 [00:01<00:03, 44.54batch/s, loss=0.121]"
     ]
    },
    {
     "name": "stdout",
     "output_type": "stream",
     "text": [
      "torch.Size([41, 62, 150])\n"
     ]
    },
    {
     "name": "stderr",
     "output_type": "stream",
     "text": [
      "Epoch 15/41:  21%|██        | 45/214 [00:01<00:03, 44.54batch/s, loss=0.126]"
     ]
    },
    {
     "name": "stdout",
     "output_type": "stream",
     "text": [
      "torch.Size([41, 62, 150])\n",
      "torch.Size([41, 62, 150])\n"
     ]
    },
    {
     "name": "stderr",
     "output_type": "stream",
     "text": [
      "Epoch 15/41:  23%|██▎       | 50/214 [00:01<00:03, 44.44batch/s, loss=0.128]"
     ]
    },
    {
     "name": "stdout",
     "output_type": "stream",
     "text": [
      "torch.Size([41, 62, 150])\n",
      "torch.Size([41, 62, 150])\n",
      "torch.Size([41, 62, 150])\n",
      "torch.Size([41, 62, 150])\n",
      "torch.Size([41, 62, 150])\n",
      "torch.Size([41, 62, 150])\n"
     ]
    },
    {
     "name": "stderr",
     "output_type": "stream",
     "text": [
      "Epoch 15/41:  26%|██▌       | 55/214 [00:01<00:03, 44.53batch/s, loss=0.13] "
     ]
    },
    {
     "name": "stdout",
     "output_type": "stream",
     "text": [
      "torch.Size([41, 62, 150])\n"
     ]
    },
    {
     "name": "stderr",
     "output_type": "stream",
     "text": [
      "Epoch 15/41:  26%|██▌       | 55/214 [00:01<00:03, 44.53batch/s, loss=0.123]"
     ]
    },
    {
     "name": "stdout",
     "output_type": "stream",
     "text": [
      "torch.Size([41, 62, 150])\n",
      "torch.Size([41, 62, 150])\n"
     ]
    },
    {
     "name": "stderr",
     "output_type": "stream",
     "text": [
      "Epoch 15/41:  28%|██▊       | 60/214 [00:01<00:03, 44.72batch/s, loss=0.125]"
     ]
    },
    {
     "name": "stdout",
     "output_type": "stream",
     "text": [
      "torch.Size([41, 62, 150])\n",
      "torch.Size([41, 62, 150])\n",
      "torch.Size([41, 62, 150])\n",
      "torch.Size([41, 62, 150])\n",
      "torch.Size([41, 62, 150])\n",
      "torch.Size([41, 62, 150])\n",
      "torch.Size([41, 62, 150])\n"
     ]
    },
    {
     "name": "stderr",
     "output_type": "stream",
     "text": [
      "Epoch 15/41:  28%|██▊       | 60/214 [00:01<00:03, 44.72batch/s, loss=0.127]"
     ]
    },
    {
     "name": "stdout",
     "output_type": "stream",
     "text": [
      "torch.Size([41, 62, 150])\n"
     ]
    },
    {
     "name": "stderr",
     "output_type": "stream",
     "text": [
      "Epoch 15/41:  30%|███       | 65/214 [00:01<00:03, 45.16batch/s, loss=0.121]"
     ]
    },
    {
     "name": "stdout",
     "output_type": "stream",
     "text": [
      "torch.Size([41, 62, 150])\n",
      "torch.Size([41, 62, 150])\n"
     ]
    },
    {
     "name": "stderr",
     "output_type": "stream",
     "text": [
      "Epoch 15/41:  33%|███▎      | 70/214 [00:01<00:03, 44.93batch/s, loss=0.125]"
     ]
    },
    {
     "name": "stdout",
     "output_type": "stream",
     "text": [
      "torch.Size([41, 62, 150])\n",
      "torch.Size([41, 62, 150])\n",
      "torch.Size([41, 62, 150])\n",
      "torch.Size([41, 62, 150])\n",
      "torch.Size([41, 62, 150])\n",
      "torch.Size([41, 62, 150])\n"
     ]
    },
    {
     "name": "stderr",
     "output_type": "stream",
     "text": [
      "Epoch 15/41:  33%|███▎      | 70/214 [00:01<00:03, 44.93batch/s, loss=0.127]"
     ]
    },
    {
     "name": "stdout",
     "output_type": "stream",
     "text": [
      "torch.Size([41, 62, 150])\n",
      "torch.Size([41, 62, 150])\n"
     ]
    },
    {
     "name": "stderr",
     "output_type": "stream",
     "text": [
      "Epoch 15/41:  35%|███▌      | 75/214 [00:01<00:03, 45.01batch/s, loss=0.122]"
     ]
    },
    {
     "name": "stdout",
     "output_type": "stream",
     "text": [
      "torch.Size([41, 62, 150])\n",
      "torch.Size([41, 62, 150])\n"
     ]
    },
    {
     "name": "stderr",
     "output_type": "stream",
     "text": [
      "Epoch 15/41:  37%|███▋      | 80/214 [00:01<00:02, 44.86batch/s, loss=0.124]"
     ]
    },
    {
     "name": "stdout",
     "output_type": "stream",
     "text": [
      "torch.Size([41, 62, 150])\n",
      "torch.Size([41, 62, 150])\n",
      "torch.Size([41, 62, 150])\n",
      "torch.Size([41, 62, 150])\n",
      "torch.Size([41, 62, 150])\n"
     ]
    },
    {
     "name": "stderr",
     "output_type": "stream",
     "text": [
      "Epoch 15/41:  37%|███▋      | 80/214 [00:01<00:02, 44.86batch/s, loss=0.127]"
     ]
    },
    {
     "name": "stdout",
     "output_type": "stream",
     "text": [
      "torch.Size([41, 62, 150])\n",
      "torch.Size([41, 62, 150])\n",
      "torch.Size([41, 62, 150])\n"
     ]
    },
    {
     "name": "stderr",
     "output_type": "stream",
     "text": [
      "Epoch 15/41:  40%|███▉      | 85/214 [00:01<00:02, 44.89batch/s, loss=0.123]"
     ]
    },
    {
     "name": "stdout",
     "output_type": "stream",
     "text": [
      "torch.Size([41, 62, 150])\n"
     ]
    },
    {
     "name": "stderr",
     "output_type": "stream",
     "text": [
      "Epoch 15/41:  42%|████▏     | 90/214 [00:02<00:02, 44.92batch/s, loss=0.123]"
     ]
    },
    {
     "name": "stdout",
     "output_type": "stream",
     "text": [
      "torch.Size([41, 62, 150])\n",
      "torch.Size([41, 62, 150])\n",
      "torch.Size([41, 62, 150])\n",
      "torch.Size([41, 62, 150])\n",
      "torch.Size([41, 62, 150])\n",
      "torch.Size([41, 62, 150])\n"
     ]
    },
    {
     "name": "stderr",
     "output_type": "stream",
     "text": [
      "Epoch 15/41:  42%|████▏     | 90/214 [00:02<00:02, 44.92batch/s, loss=0.127]"
     ]
    },
    {
     "name": "stdout",
     "output_type": "stream",
     "text": [
      "torch.Size([41, 62, 150])\n",
      "torch.Size([41, 62, 150])\n",
      "torch.Size([41, 62, 150])\n"
     ]
    },
    {
     "name": "stderr",
     "output_type": "stream",
     "text": [
      "Epoch 15/41:  44%|████▍     | 95/214 [00:02<00:02, 44.95batch/s, loss=0.128]"
     ]
    },
    {
     "name": "stdout",
     "output_type": "stream",
     "text": [
      "torch.Size([41, 62, 150])\n"
     ]
    },
    {
     "name": "stderr",
     "output_type": "stream",
     "text": [
      "Epoch 15/41:  47%|████▋     | 100/214 [00:02<00:02, 44.46batch/s, loss=0.123]"
     ]
    },
    {
     "name": "stdout",
     "output_type": "stream",
     "text": [
      "torch.Size([41, 62, 150])\n",
      "torch.Size([41, 62, 150])\n",
      "torch.Size([41, 62, 150])\n",
      "torch.Size([41, 62, 150])\n",
      "torch.Size([41, 62, 150])\n"
     ]
    },
    {
     "name": "stderr",
     "output_type": "stream",
     "text": [
      "Epoch 15/41:  47%|████▋     | 100/214 [00:02<00:02, 44.46batch/s, loss=0.127]"
     ]
    },
    {
     "name": "stdout",
     "output_type": "stream",
     "text": [
      "torch.Size([41, 62, 150])\n",
      "torch.Size([41, 62, 150])\n",
      "torch.Size([41, 62, 150])\n"
     ]
    },
    {
     "name": "stderr",
     "output_type": "stream",
     "text": [
      "Epoch 15/41:  49%|████▉     | 105/214 [00:02<00:02, 44.51batch/s, loss=0.128]"
     ]
    },
    {
     "name": "stdout",
     "output_type": "stream",
     "text": [
      "torch.Size([41, 62, 150])\n"
     ]
    },
    {
     "name": "stderr",
     "output_type": "stream",
     "text": [
      "Epoch 15/41:  51%|█████▏    | 110/214 [00:02<00:02, 44.51batch/s, loss=0.128]"
     ]
    },
    {
     "name": "stdout",
     "output_type": "stream",
     "text": [
      "torch.Size([41, 62, 150])\n",
      "torch.Size([41, 62, 150])\n",
      "torch.Size([41, 62, 150])\n",
      "torch.Size([41, 62, 150])\n",
      "torch.Size([41, 62, 150])\n"
     ]
    },
    {
     "name": "stderr",
     "output_type": "stream",
     "text": [
      "Epoch 15/41:  51%|█████▏    | 110/214 [00:02<00:02, 44.51batch/s, loss=0.126]"
     ]
    },
    {
     "name": "stdout",
     "output_type": "stream",
     "text": [
      "torch.Size([41, 62, 150])\n",
      "torch.Size([41, 62, 150])\n",
      "torch.Size([41, 62, 150])\n"
     ]
    },
    {
     "name": "stderr",
     "output_type": "stream",
     "text": [
      "Epoch 15/41:  51%|█████▏    | 110/214 [00:02<00:02, 44.51batch/s, loss=0.127]"
     ]
    },
    {
     "name": "stdout",
     "output_type": "stream",
     "text": [
      "torch.Size([41, 62, 150])\n"
     ]
    },
    {
     "name": "stderr",
     "output_type": "stream",
     "text": [
      "Epoch 15/41:  54%|█████▎    | 115/214 [00:02<00:02, 44.49batch/s, loss=0.127]"
     ]
    },
    {
     "name": "stdout",
     "output_type": "stream",
     "text": [
      "torch.Size([41, 62, 150])\n",
      "torch.Size([41, 62, 150])\n",
      "torch.Size([41, 62, 150])\n",
      "torch.Size([41, 62, 150])\n",
      "torch.Size([41, 62, 150])\n",
      "torch.Size([41, 62, 150])\n"
     ]
    },
    {
     "name": "stderr",
     "output_type": "stream",
     "text": [
      "Epoch 15/41:  56%|█████▌    | 120/214 [00:02<00:02, 44.79batch/s, loss=0.125]"
     ]
    },
    {
     "name": "stdout",
     "output_type": "stream",
     "text": [
      "torch.Size([41, 62, 150])\n",
      "torch.Size([41, 62, 150])\n",
      "torch.Size([41, 62, 150])\n"
     ]
    },
    {
     "name": "stderr",
     "output_type": "stream",
     "text": [
      "Epoch 15/41:  56%|█████▌    | 120/214 [00:02<00:02, 44.79batch/s, loss=0.126]"
     ]
    },
    {
     "name": "stdout",
     "output_type": "stream",
     "text": [
      "torch.Size([41, 62, 150])\n"
     ]
    },
    {
     "name": "stderr",
     "output_type": "stream",
     "text": [
      "Epoch 15/41:  58%|█████▊    | 125/214 [00:02<00:01, 45.10batch/s, loss=0.127]"
     ]
    },
    {
     "name": "stdout",
     "output_type": "stream",
     "text": [
      "torch.Size([41, 62, 150])\n",
      "torch.Size([41, 62, 150])\n",
      "torch.Size([41, 62, 150])\n",
      "torch.Size([41, 62, 150])\n",
      "torch.Size([41, 62, 150])\n",
      "torch.Size([41, 62, 150])\n"
     ]
    },
    {
     "name": "stderr",
     "output_type": "stream",
     "text": [
      "Epoch 15/41:  61%|██████    | 130/214 [00:02<00:01, 44.76batch/s, loss=0.124]"
     ]
    },
    {
     "name": "stdout",
     "output_type": "stream",
     "text": [
      "torch.Size([41, 62, 150])\n",
      "torch.Size([41, 62, 150])\n"
     ]
    },
    {
     "name": "stderr",
     "output_type": "stream",
     "text": [
      "Epoch 15/41:  61%|██████    | 130/214 [00:02<00:01, 44.76batch/s, loss=0.126]"
     ]
    },
    {
     "name": "stdout",
     "output_type": "stream",
     "text": [
      "torch.Size([41, 62, 150])\n"
     ]
    },
    {
     "name": "stderr",
     "output_type": "stream",
     "text": [
      "Epoch 15/41:  63%|██████▎   | 135/214 [00:03<00:01, 44.66batch/s, loss=0.127]"
     ]
    },
    {
     "name": "stdout",
     "output_type": "stream",
     "text": [
      "torch.Size([41, 62, 150])\n",
      "torch.Size([41, 62, 150])\n",
      "torch.Size([41, 62, 150])\n",
      "torch.Size([41, 62, 150])\n",
      "torch.Size([41, 62, 150])\n",
      "torch.Size([41, 62, 150])\n"
     ]
    },
    {
     "name": "stderr",
     "output_type": "stream",
     "text": [
      "Epoch 15/41:  65%|██████▌   | 140/214 [00:03<00:01, 44.59batch/s, loss=0.124]"
     ]
    },
    {
     "name": "stdout",
     "output_type": "stream",
     "text": [
      "torch.Size([41, 62, 150])\n",
      "torch.Size([41, 62, 150])\n"
     ]
    },
    {
     "name": "stderr",
     "output_type": "stream",
     "text": [
      "Epoch 15/41:  65%|██████▌   | 140/214 [00:03<00:01, 44.59batch/s, loss=0.125]"
     ]
    },
    {
     "name": "stdout",
     "output_type": "stream",
     "text": [
      "torch.Size([41, 62, 150])\n"
     ]
    },
    {
     "name": "stderr",
     "output_type": "stream",
     "text": [
      "Epoch 15/41:  68%|██████▊   | 145/214 [00:03<00:01, 44.59batch/s, loss=0.125]"
     ]
    },
    {
     "name": "stdout",
     "output_type": "stream",
     "text": [
      "torch.Size([41, 62, 150])\n",
      "torch.Size([41, 62, 150])\n",
      "torch.Size([41, 62, 150])\n",
      "torch.Size([41, 62, 150])\n",
      "torch.Size([41, 62, 150])\n",
      "torch.Size([41, 62, 150])\n"
     ]
    },
    {
     "name": "stderr",
     "output_type": "stream",
     "text": [
      "Epoch 15/41:  70%|███████   | 150/214 [00:03<00:01, 44.66batch/s, loss=0.127]"
     ]
    },
    {
     "name": "stdout",
     "output_type": "stream",
     "text": [
      "torch.Size([41, 62, 150])\n",
      "torch.Size([41, 62, 150])\n"
     ]
    },
    {
     "name": "stderr",
     "output_type": "stream",
     "text": [
      "Epoch 15/41:  70%|███████   | 150/214 [00:03<00:01, 44.66batch/s, loss=0.124]"
     ]
    },
    {
     "name": "stdout",
     "output_type": "stream",
     "text": [
      "torch.Size([41, 62, 150])\n"
     ]
    },
    {
     "name": "stderr",
     "output_type": "stream",
     "text": [
      "Epoch 15/41:  72%|███████▏  | 155/214 [00:03<00:01, 44.66batch/s, loss=0.124]"
     ]
    },
    {
     "name": "stdout",
     "output_type": "stream",
     "text": [
      "torch.Size([41, 62, 150])\n",
      "torch.Size([41, 62, 150])\n",
      "torch.Size([41, 62, 150])\n",
      "torch.Size([41, 62, 150])\n",
      "torch.Size([41, 62, 150])\n",
      "torch.Size([41, 62, 150])\n"
     ]
    },
    {
     "name": "stderr",
     "output_type": "stream",
     "text": [
      "Epoch 15/41:  72%|███████▏  | 155/214 [00:03<00:01, 44.66batch/s, loss=0.126]"
     ]
    },
    {
     "name": "stdout",
     "output_type": "stream",
     "text": [
      "torch.Size([41, 62, 150])\n",
      "torch.Size([41, 62, 150])\n"
     ]
    },
    {
     "name": "stderr",
     "output_type": "stream",
     "text": [
      "Epoch 15/41:  75%|███████▍  | 160/214 [00:03<00:01, 44.16batch/s, loss=0.126]"
     ]
    },
    {
     "name": "stdout",
     "output_type": "stream",
     "text": [
      "torch.Size([41, 62, 150])\n"
     ]
    },
    {
     "name": "stderr",
     "output_type": "stream",
     "text": [
      "Epoch 15/41:  77%|███████▋  | 165/214 [00:03<00:01, 44.38batch/s, loss=0.123]"
     ]
    },
    {
     "name": "stdout",
     "output_type": "stream",
     "text": [
      "torch.Size([41, 62, 150])\n",
      "torch.Size([41, 62, 150])\n",
      "torch.Size([41, 62, 150])\n",
      "torch.Size([41, 62, 150])\n",
      "torch.Size([41, 62, 150])\n",
      "torch.Size([41, 62, 150])\n"
     ]
    },
    {
     "name": "stderr",
     "output_type": "stream",
     "text": [
      "Epoch 15/41:  77%|███████▋  | 165/214 [00:03<00:01, 44.38batch/s, loss=0.125]"
     ]
    },
    {
     "name": "stdout",
     "output_type": "stream",
     "text": [
      "torch.Size([41, 62, 150])\n",
      "torch.Size([41, 62, 150])\n"
     ]
    },
    {
     "name": "stderr",
     "output_type": "stream",
     "text": [
      "Epoch 15/41:  77%|███████▋  | 165/214 [00:03<00:01, 44.38batch/s, loss=0.126]"
     ]
    },
    {
     "name": "stdout",
     "output_type": "stream",
     "text": [
      "torch.Size([41, 62, 150])\n"
     ]
    },
    {
     "name": "stderr",
     "output_type": "stream",
     "text": [
      "Epoch 15/41:  82%|████████▏ | 175/214 [00:03<00:00, 44.52batch/s, loss=0.126]"
     ]
    },
    {
     "name": "stdout",
     "output_type": "stream",
     "text": [
      "torch.Size([41, 62, 150])\n",
      "torch.Size([41, 62, 150])\n",
      "torch.Size([41, 62, 150])\n",
      "torch.Size([41, 62, 150])\n",
      "torch.Size([41, 62, 150])\n",
      "torch.Size([41, 62, 150])\n"
     ]
    },
    {
     "name": "stderr",
     "output_type": "stream",
     "text": [
      "Epoch 15/41:  82%|████████▏ | 175/214 [00:03<00:00, 44.52batch/s, loss=0.124]"
     ]
    },
    {
     "name": "stdout",
     "output_type": "stream",
     "text": [
      "torch.Size([41, 62, 150])\n",
      "torch.Size([41, 62, 150])\n"
     ]
    },
    {
     "name": "stderr",
     "output_type": "stream",
     "text": [
      "Epoch 15/41:  82%|████████▏ | 175/214 [00:03<00:00, 44.52batch/s, loss=0.125]"
     ]
    },
    {
     "name": "stdout",
     "output_type": "stream",
     "text": [
      "torch.Size([41, 62, 150])\n"
     ]
    },
    {
     "name": "stderr",
     "output_type": "stream",
     "text": [
      "Epoch 15/41:  84%|████████▍ | 180/214 [00:04<00:00, 44.58batch/s, loss=0.126]"
     ]
    },
    {
     "name": "stdout",
     "output_type": "stream",
     "text": [
      "torch.Size([41, 62, 150])\n",
      "torch.Size([41, 62, 150])\n",
      "torch.Size([41, 62, 150])\n",
      "torch.Size([41, 62, 150])\n",
      "torch.Size([41, 62, 150])\n",
      "torch.Size([41, 62, 150])\n",
      "torch.Size([41, 62, 150])\n"
     ]
    },
    {
     "name": "stderr",
     "output_type": "stream",
     "text": [
      "Epoch 15/41:  86%|████████▋ | 185/214 [00:04<00:00, 45.08batch/s, loss=0.124]"
     ]
    },
    {
     "name": "stdout",
     "output_type": "stream",
     "text": [
      "torch.Size([41, 62, 150])\n",
      "torch.Size([41, 62, 150])\n"
     ]
    },
    {
     "name": "stderr",
     "output_type": "stream",
     "text": [
      "Epoch 15/41:  86%|████████▋ | 185/214 [00:04<00:00, 45.08batch/s, loss=0.124]"
     ]
    },
    {
     "name": "stdout",
     "output_type": "stream",
     "text": [
      "torch.Size([41, 62, 150])\n"
     ]
    },
    {
     "name": "stderr",
     "output_type": "stream",
     "text": [
      "Epoch 15/41:  89%|████████▉ | 190/214 [00:04<00:00, 44.74batch/s, loss=0.126]"
     ]
    },
    {
     "name": "stdout",
     "output_type": "stream",
     "text": [
      "torch.Size([41, 62, 150])\n",
      "torch.Size([41, 62, 150])\n",
      "torch.Size([41, 62, 150])\n",
      "torch.Size([41, 62, 150])\n",
      "torch.Size([41, 62, 150])\n",
      "torch.Size([41, 62, 150])\n"
     ]
    },
    {
     "name": "stderr",
     "output_type": "stream",
     "text": [
      "Epoch 15/41:  91%|█████████ | 195/214 [00:04<00:00, 44.85batch/s, loss=0.124]"
     ]
    },
    {
     "name": "stdout",
     "output_type": "stream",
     "text": [
      "torch.Size([41, 62, 150])\n",
      "torch.Size([41, 62, 150])\n"
     ]
    },
    {
     "name": "stderr",
     "output_type": "stream",
     "text": [
      "Epoch 15/41:  91%|█████████ | 195/214 [00:04<00:00, 44.85batch/s, loss=0.124]"
     ]
    },
    {
     "name": "stdout",
     "output_type": "stream",
     "text": [
      "torch.Size([41, 62, 150])\n"
     ]
    },
    {
     "name": "stderr",
     "output_type": "stream",
     "text": [
      "Epoch 15/41:  93%|█████████▎| 200/214 [00:04<00:00, 44.70batch/s, loss=0.125]"
     ]
    },
    {
     "name": "stdout",
     "output_type": "stream",
     "text": [
      "torch.Size([41, 62, 150])\n",
      "torch.Size([41, 62, 150])\n",
      "torch.Size([41, 62, 150])\n",
      "torch.Size([41, 62, 150])\n",
      "torch.Size([41, 62, 150])\n",
      "torch.Size([41, 62, 150])\n"
     ]
    },
    {
     "name": "stderr",
     "output_type": "stream",
     "text": [
      "Epoch 15/41:  96%|█████████▌| 205/214 [00:04<00:00, 44.76batch/s, loss=0.126]"
     ]
    },
    {
     "name": "stdout",
     "output_type": "stream",
     "text": [
      "torch.Size([41, 62, 150])\n",
      "torch.Size([41, 62, 150])\n"
     ]
    },
    {
     "name": "stderr",
     "output_type": "stream",
     "text": [
      "Epoch 15/41:  96%|█████████▌| 205/214 [00:04<00:00, 44.76batch/s, loss=0.123]"
     ]
    },
    {
     "name": "stdout",
     "output_type": "stream",
     "text": [
      "torch.Size([41, 62, 150])\n"
     ]
    },
    {
     "name": "stderr",
     "output_type": "stream",
     "text": [
      "Epoch 15/41:  98%|█████████▊| 210/214 [00:04<00:00, 44.69batch/s, loss=0.124]"
     ]
    },
    {
     "name": "stdout",
     "output_type": "stream",
     "text": [
      "torch.Size([41, 62, 150])\n",
      "torch.Size([41, 62, 150])\n",
      "torch.Size([41, 62, 150])\n",
      "torch.Size([41, 62, 150])\n",
      "torch.Size([41, 62, 150])\n",
      "torch.Size([41, 62, 150])\n"
     ]
    },
    {
     "name": "stderr",
     "output_type": "stream",
     "text": [
      "Epoch 15/41: 100%|██████████| 214/214 [00:04<00:00, 44.70batch/s, loss=0.125]\n"
     ]
    },
    {
     "name": "stdout",
     "output_type": "stream",
     "text": [
      "torch.Size([41, 62, 150])\n",
      "torch.Size([7, 62, 150])\n",
      "Epoch 15/41, Loss: 0.12369268136882336\n"
     ]
    },
    {
     "name": "stderr",
     "output_type": "stream",
     "text": [
      "Epoch 16/41:   0%|          | 0/214 [00:00<?, ?batch/s, loss=0.105]"
     ]
    },
    {
     "name": "stdout",
     "output_type": "stream",
     "text": [
      "torch.Size([41, 62, 150])\n"
     ]
    },
    {
     "name": "stderr",
     "output_type": "stream",
     "text": [
      "Epoch 16/41:   2%|▏         | 5/214 [00:00<00:04, 43.43batch/s, loss=0.123]"
     ]
    },
    {
     "name": "stdout",
     "output_type": "stream",
     "text": [
      "torch.Size([41, 62, 150])\n",
      "torch.Size([41, 62, 150])\n",
      "torch.Size([41, 62, 150])\n",
      "torch.Size([41, 62, 150])\n",
      "torch.Size([41, 62, 150])\n",
      "torch.Size([41, 62, 150])\n"
     ]
    },
    {
     "name": "stderr",
     "output_type": "stream",
     "text": [
      "Epoch 16/41:   2%|▏         | 5/214 [00:00<00:04, 43.43batch/s, loss=0.185]"
     ]
    },
    {
     "name": "stdout",
     "output_type": "stream",
     "text": [
      "torch.Size([41, 62, 150])\n",
      "torch.Size([41, 62, 150])\n"
     ]
    },
    {
     "name": "stderr",
     "output_type": "stream",
     "text": [
      "Epoch 16/41:   5%|▍         | 10/214 [00:00<00:04, 43.94batch/s, loss=0.207]"
     ]
    },
    {
     "name": "stdout",
     "output_type": "stream",
     "text": [
      "torch.Size([41, 62, 150])\n"
     ]
    },
    {
     "name": "stderr",
     "output_type": "stream",
     "text": [
      "Epoch 16/41:   7%|▋         | 15/214 [00:00<00:04, 44.21batch/s, loss=0.122]"
     ]
    },
    {
     "name": "stdout",
     "output_type": "stream",
     "text": [
      "torch.Size([41, 62, 150])\n",
      "torch.Size([41, 62, 150])\n",
      "torch.Size([41, 62, 150])\n",
      "torch.Size([41, 62, 150])\n",
      "torch.Size([41, 62, 150])\n",
      "torch.Size([41, 62, 150])\n"
     ]
    },
    {
     "name": "stderr",
     "output_type": "stream",
     "text": [
      "Epoch 16/41:   7%|▋         | 15/214 [00:00<00:04, 44.21batch/s, loss=0.139]"
     ]
    },
    {
     "name": "stdout",
     "output_type": "stream",
     "text": [
      "torch.Size([41, 62, 150])\n",
      "torch.Size([41, 62, 150])\n"
     ]
    },
    {
     "name": "stderr",
     "output_type": "stream",
     "text": [
      "Epoch 16/41:   7%|▋         | 15/214 [00:00<00:04, 44.21batch/s, loss=0.145]"
     ]
    },
    {
     "name": "stdout",
     "output_type": "stream",
     "text": [
      "torch.Size([41, 62, 150])\n"
     ]
    },
    {
     "name": "stderr",
     "output_type": "stream",
     "text": [
      "Epoch 16/41:  12%|█▏        | 25/214 [00:00<00:04, 44.51batch/s, loss=0.148]"
     ]
    },
    {
     "name": "stdout",
     "output_type": "stream",
     "text": [
      "torch.Size([41, 62, 150])\n",
      "torch.Size([41, 62, 150])\n",
      "torch.Size([41, 62, 150])\n",
      "torch.Size([41, 62, 150])\n",
      "torch.Size([41, 62, 150])\n",
      "torch.Size([41, 62, 150])\n"
     ]
    },
    {
     "name": "stderr",
     "output_type": "stream",
     "text": [
      "Epoch 16/41:  12%|█▏        | 25/214 [00:00<00:04, 44.51batch/s, loss=0.148]"
     ]
    },
    {
     "name": "stdout",
     "output_type": "stream",
     "text": [
      "torch.Size([41, 62, 150])\n",
      "torch.Size([41, 62, 150])\n",
      "torch.Size([41, 62, 150])\n"
     ]
    },
    {
     "name": "stderr",
     "output_type": "stream",
     "text": [
      "Epoch 16/41:  12%|█▏        | 25/214 [00:00<00:04, 44.51batch/s, loss=0.153]"
     ]
    },
    {
     "name": "stdout",
     "output_type": "stream",
     "text": [
      "torch.Size([41, 62, 150])\n"
     ]
    },
    {
     "name": "stderr",
     "output_type": "stream",
     "text": [
      "Epoch 16/41:  14%|█▍        | 30/214 [00:00<00:04, 44.98batch/s, loss=0.151]"
     ]
    },
    {
     "name": "stdout",
     "output_type": "stream",
     "text": [
      "torch.Size([41, 62, 150])\n",
      "torch.Size([41, 62, 150])\n",
      "torch.Size([41, 62, 150])\n",
      "torch.Size([41, 62, 150])\n",
      "torch.Size([41, 62, 150])\n",
      "torch.Size([41, 62, 150])\n"
     ]
    },
    {
     "name": "stderr",
     "output_type": "stream",
     "text": [
      "Epoch 16/41:  16%|█▋        | 35/214 [00:00<00:04, 44.68batch/s, loss=0.141]"
     ]
    },
    {
     "name": "stdout",
     "output_type": "stream",
     "text": [
      "torch.Size([41, 62, 150])\n",
      "torch.Size([41, 62, 150])\n"
     ]
    },
    {
     "name": "stderr",
     "output_type": "stream",
     "text": [
      "Epoch 16/41:  16%|█▋        | 35/214 [00:00<00:04, 44.68batch/s, loss=0.144]"
     ]
    },
    {
     "name": "stdout",
     "output_type": "stream",
     "text": [
      "torch.Size([41, 62, 150])\n"
     ]
    },
    {
     "name": "stderr",
     "output_type": "stream",
     "text": [
      "Epoch 16/41:  19%|█▊        | 40/214 [00:00<00:03, 44.56batch/s, loss=0.144]"
     ]
    },
    {
     "name": "stdout",
     "output_type": "stream",
     "text": [
      "torch.Size([41, 62, 150])\n",
      "torch.Size([41, 62, 150])\n",
      "torch.Size([41, 62, 150])\n",
      "torch.Size([41, 62, 150])\n",
      "torch.Size([41, 62, 150])\n",
      "torch.Size([41, 62, 150])\n"
     ]
    },
    {
     "name": "stderr",
     "output_type": "stream",
     "text": [
      "Epoch 16/41:  21%|██        | 45/214 [00:01<00:03, 44.46batch/s, loss=0.133]"
     ]
    },
    {
     "name": "stdout",
     "output_type": "stream",
     "text": [
      "torch.Size([41, 62, 150])\n",
      "torch.Size([41, 62, 150])\n"
     ]
    },
    {
     "name": "stderr",
     "output_type": "stream",
     "text": [
      "Epoch 16/41:  21%|██        | 45/214 [00:01<00:03, 44.46batch/s, loss=0.136]"
     ]
    },
    {
     "name": "stdout",
     "output_type": "stream",
     "text": [
      "torch.Size([41, 62, 150])\n"
     ]
    },
    {
     "name": "stderr",
     "output_type": "stream",
     "text": [
      "Epoch 16/41:  23%|██▎       | 50/214 [00:01<00:03, 44.40batch/s, loss=0.138]"
     ]
    },
    {
     "name": "stdout",
     "output_type": "stream",
     "text": [
      "torch.Size([41, 62, 150])\n",
      "torch.Size([41, 62, 150])\n",
      "torch.Size([41, 62, 150])\n",
      "torch.Size([41, 62, 150])\n",
      "torch.Size([41, 62, 150])\n",
      "torch.Size([41, 62, 150])\n"
     ]
    },
    {
     "name": "stderr",
     "output_type": "stream",
     "text": [
      "Epoch 16/41:  26%|██▌       | 55/214 [00:01<00:03, 44.45batch/s, loss=0.142]"
     ]
    },
    {
     "name": "stdout",
     "output_type": "stream",
     "text": [
      "torch.Size([41, 62, 150])\n",
      "torch.Size([41, 62, 150])\n"
     ]
    },
    {
     "name": "stderr",
     "output_type": "stream",
     "text": [
      "Epoch 16/41:  26%|██▌       | 55/214 [00:01<00:03, 44.45batch/s, loss=0.132]"
     ]
    },
    {
     "name": "stdout",
     "output_type": "stream",
     "text": [
      "torch.Size([41, 62, 150])\n"
     ]
    },
    {
     "name": "stderr",
     "output_type": "stream",
     "text": [
      "Epoch 16/41:  28%|██▊       | 60/214 [00:01<00:03, 44.53batch/s, loss=0.135]"
     ]
    },
    {
     "name": "stdout",
     "output_type": "stream",
     "text": [
      "torch.Size([41, 62, 150])\n",
      "torch.Size([41, 62, 150])\n",
      "torch.Size([41, 62, 150])\n",
      "torch.Size([41, 62, 150])\n",
      "torch.Size([41, 62, 150])\n",
      "torch.Size([41, 62, 150])\n"
     ]
    },
    {
     "name": "stderr",
     "output_type": "stream",
     "text": [
      "Epoch 16/41:  28%|██▊       | 60/214 [00:01<00:03, 44.53batch/s, loss=0.139]"
     ]
    },
    {
     "name": "stdout",
     "output_type": "stream",
     "text": [
      "torch.Size([41, 62, 150])\n",
      "torch.Size([41, 62, 150])\n"
     ]
    },
    {
     "name": "stderr",
     "output_type": "stream",
     "text": [
      "Epoch 16/41:  30%|███       | 65/214 [00:01<00:03, 44.17batch/s, loss=0.141]"
     ]
    },
    {
     "name": "stdout",
     "output_type": "stream",
     "text": [
      "torch.Size([41, 62, 150])\n"
     ]
    },
    {
     "name": "stderr",
     "output_type": "stream",
     "text": [
      "Epoch 16/41:  33%|███▎      | 70/214 [00:01<00:03, 44.27batch/s, loss=0.131]"
     ]
    },
    {
     "name": "stdout",
     "output_type": "stream",
     "text": [
      "torch.Size([41, 62, 150])\n",
      "torch.Size([41, 62, 150])\n",
      "torch.Size([41, 62, 150])\n",
      "torch.Size([41, 62, 150])\n",
      "torch.Size([41, 62, 150])\n",
      "torch.Size([41, 62, 150])\n"
     ]
    },
    {
     "name": "stderr",
     "output_type": "stream",
     "text": [
      "Epoch 16/41:  33%|███▎      | 70/214 [00:01<00:03, 44.27batch/s, loss=0.135]"
     ]
    },
    {
     "name": "stdout",
     "output_type": "stream",
     "text": [
      "torch.Size([41, 62, 150])\n",
      "torch.Size([41, 62, 150])\n"
     ]
    },
    {
     "name": "stderr",
     "output_type": "stream",
     "text": [
      "Epoch 16/41:  33%|███▎      | 70/214 [00:01<00:03, 44.27batch/s, loss=0.137]"
     ]
    },
    {
     "name": "stdout",
     "output_type": "stream",
     "text": [
      "torch.Size([41, 62, 150])\n"
     ]
    },
    {
     "name": "stderr",
     "output_type": "stream",
     "text": [
      "Epoch 16/41:  37%|███▋      | 80/214 [00:01<00:03, 44.34batch/s, loss=0.137]"
     ]
    },
    {
     "name": "stdout",
     "output_type": "stream",
     "text": [
      "torch.Size([41, 62, 150])\n",
      "torch.Size([41, 62, 150])\n",
      "torch.Size([41, 62, 150])\n",
      "torch.Size([41, 62, 150])\n",
      "torch.Size([41, 62, 150])\n",
      "torch.Size([41, 62, 150])\n"
     ]
    },
    {
     "name": "stderr",
     "output_type": "stream",
     "text": [
      "Epoch 16/41:  37%|███▋      | 80/214 [00:01<00:03, 44.34batch/s, loss=0.132]"
     ]
    },
    {
     "name": "stdout",
     "output_type": "stream",
     "text": [
      "torch.Size([41, 62, 150])\n",
      "torch.Size([41, 62, 150])\n"
     ]
    },
    {
     "name": "stderr",
     "output_type": "stream",
     "text": [
      "Epoch 16/41:  37%|███▋      | 80/214 [00:01<00:03, 44.34batch/s, loss=0.133]"
     ]
    },
    {
     "name": "stdout",
     "output_type": "stream",
     "text": [
      "torch.Size([41, 62, 150])\n"
     ]
    },
    {
     "name": "stderr",
     "output_type": "stream",
     "text": [
      "Epoch 16/41:  40%|███▉      | 85/214 [00:02<00:02, 44.36batch/s, loss=0.134]"
     ]
    },
    {
     "name": "stdout",
     "output_type": "stream",
     "text": [
      "torch.Size([41, 62, 150])\n",
      "torch.Size([41, 62, 150])\n",
      "torch.Size([41, 62, 150])\n",
      "torch.Size([41, 62, 150])\n",
      "torch.Size([41, 62, 150])\n",
      "torch.Size([41, 62, 150])\n",
      "torch.Size([41, 62, 150])\n"
     ]
    },
    {
     "name": "stderr",
     "output_type": "stream",
     "text": [
      "Epoch 16/41:  42%|████▏     | 90/214 [00:02<00:02, 44.97batch/s, loss=0.13] "
     ]
    },
    {
     "name": "stdout",
     "output_type": "stream",
     "text": [
      "torch.Size([41, 62, 150])\n",
      "torch.Size([41, 62, 150])\n"
     ]
    },
    {
     "name": "stderr",
     "output_type": "stream",
     "text": [
      "Epoch 16/41:  42%|████▏     | 90/214 [00:02<00:02, 44.97batch/s, loss=0.131]"
     ]
    },
    {
     "name": "stdout",
     "output_type": "stream",
     "text": [
      "torch.Size([41, 62, 150])\n"
     ]
    },
    {
     "name": "stderr",
     "output_type": "stream",
     "text": [
      "Epoch 16/41:  44%|████▍     | 95/214 [00:02<00:02, 44.55batch/s, loss=0.134]"
     ]
    },
    {
     "name": "stdout",
     "output_type": "stream",
     "text": [
      "torch.Size([41, 62, 150])\n",
      "torch.Size([41, 62, 150])\n",
      "torch.Size([41, 62, 150])\n",
      "torch.Size([41, 62, 150])\n",
      "torch.Size([41, 62, 150])\n",
      "torch.Size([41, 62, 150])\n"
     ]
    },
    {
     "name": "stderr",
     "output_type": "stream",
     "text": [
      "Epoch 16/41:  47%|████▋     | 100/214 [00:02<00:02, 44.56batch/s, loss=0.13] "
     ]
    },
    {
     "name": "stdout",
     "output_type": "stream",
     "text": [
      "torch.Size([41, 62, 150])\n",
      "torch.Size([41, 62, 150])\n"
     ]
    },
    {
     "name": "stderr",
     "output_type": "stream",
     "text": [
      "Epoch 16/41:  47%|████▋     | 100/214 [00:02<00:02, 44.56batch/s, loss=0.131]"
     ]
    },
    {
     "name": "stdout",
     "output_type": "stream",
     "text": [
      "torch.Size([41, 62, 150])\n"
     ]
    },
    {
     "name": "stderr",
     "output_type": "stream",
     "text": [
      "Epoch 16/41:  49%|████▉     | 105/214 [00:02<00:02, 44.36batch/s, loss=0.132]"
     ]
    },
    {
     "name": "stdout",
     "output_type": "stream",
     "text": [
      "torch.Size([41, 62, 150])\n",
      "torch.Size([41, 62, 150])\n",
      "torch.Size([41, 62, 150])\n",
      "torch.Size([41, 62, 150])\n",
      "torch.Size([41, 62, 150])\n",
      "torch.Size([41, 62, 150])\n"
     ]
    },
    {
     "name": "stderr",
     "output_type": "stream",
     "text": [
      "Epoch 16/41:  51%|█████▏    | 110/214 [00:02<00:02, 44.41batch/s, loss=0.134]"
     ]
    },
    {
     "name": "stdout",
     "output_type": "stream",
     "text": [
      "torch.Size([41, 62, 150])\n",
      "torch.Size([41, 62, 150])\n"
     ]
    },
    {
     "name": "stderr",
     "output_type": "stream",
     "text": [
      "Epoch 16/41:  51%|█████▏    | 110/214 [00:02<00:02, 44.41batch/s, loss=0.129]"
     ]
    },
    {
     "name": "stdout",
     "output_type": "stream",
     "text": [
      "torch.Size([41, 62, 150])\n"
     ]
    },
    {
     "name": "stderr",
     "output_type": "stream",
     "text": [
      "Epoch 16/41:  54%|█████▎    | 115/214 [00:02<00:02, 44.28batch/s, loss=0.129]"
     ]
    },
    {
     "name": "stdout",
     "output_type": "stream",
     "text": [
      "torch.Size([41, 62, 150])\n",
      "torch.Size([41, 62, 150])\n",
      "torch.Size([41, 62, 150])\n",
      "torch.Size([41, 62, 150])\n",
      "torch.Size([41, 62, 150])\n",
      "torch.Size([41, 62, 150])\n"
     ]
    },
    {
     "name": "stderr",
     "output_type": "stream",
     "text": [
      "Epoch 16/41:  54%|█████▎    | 115/214 [00:02<00:02, 44.28batch/s, loss=0.131]"
     ]
    },
    {
     "name": "stdout",
     "output_type": "stream",
     "text": [
      "torch.Size([41, 62, 150])\n",
      "torch.Size([41, 62, 150])\n"
     ]
    },
    {
     "name": "stderr",
     "output_type": "stream",
     "text": [
      "Epoch 16/41:  56%|█████▌    | 120/214 [00:02<00:02, 44.35batch/s, loss=0.132]"
     ]
    },
    {
     "name": "stdout",
     "output_type": "stream",
     "text": [
      "torch.Size([41, 62, 150])\n"
     ]
    },
    {
     "name": "stderr",
     "output_type": "stream",
     "text": [
      "Epoch 16/41:  58%|█████▊    | 125/214 [00:02<00:02, 41.81batch/s, loss=0.132]"
     ]
    },
    {
     "name": "stdout",
     "output_type": "stream",
     "text": [
      "torch.Size([41, 62, 150])\n",
      "torch.Size([41, 62, 150])\n",
      "torch.Size([41, 62, 150])\n",
      "torch.Size([41, 62, 150])\n",
      "torch.Size([41, 62, 150])\n"
     ]
    },
    {
     "name": "stderr",
     "output_type": "stream",
     "text": [
      "Epoch 16/41:  58%|█████▊    | 125/214 [00:02<00:02, 41.81batch/s, loss=0.128]"
     ]
    },
    {
     "name": "stdout",
     "output_type": "stream",
     "text": [
      "torch.Size([41, 62, 150])\n",
      "torch.Size([41, 62, 150])\n"
     ]
    },
    {
     "name": "stderr",
     "output_type": "stream",
     "text": [
      "Epoch 16/41:  58%|█████▊    | 125/214 [00:02<00:02, 41.81batch/s, loss=0.129]"
     ]
    },
    {
     "name": "stdout",
     "output_type": "stream",
     "text": [
      "torch.Size([41, 62, 150])\n"
     ]
    },
    {
     "name": "stderr",
     "output_type": "stream",
     "text": [
      "Epoch 16/41:  61%|██████    | 130/214 [00:03<00:02, 41.01batch/s, loss=0.129]"
     ]
    },
    {
     "name": "stdout",
     "output_type": "stream",
     "text": [
      "torch.Size([41, 62, 150])\n",
      "torch.Size([41, 62, 150])\n",
      "torch.Size([41, 62, 150])\n",
      "torch.Size([41, 62, 150])\n",
      "torch.Size([41, 62, 150])\n",
      "torch.Size([41, 62, 150])\n"
     ]
    },
    {
     "name": "stderr",
     "output_type": "stream",
     "text": [
      "Epoch 16/41:  63%|██████▎   | 135/214 [00:03<00:01, 41.23batch/s, loss=0.131]"
     ]
    },
    {
     "name": "stdout",
     "output_type": "stream",
     "text": [
      "torch.Size([41, 62, 150])\n",
      "torch.Size([41, 62, 150])\n"
     ]
    },
    {
     "name": "stderr",
     "output_type": "stream",
     "text": [
      "Epoch 16/41:  63%|██████▎   | 135/214 [00:03<00:01, 41.23batch/s, loss=0.127]"
     ]
    },
    {
     "name": "stdout",
     "output_type": "stream",
     "text": [
      "torch.Size([41, 62, 150])\n"
     ]
    },
    {
     "name": "stderr",
     "output_type": "stream",
     "text": [
      "Epoch 16/41:  65%|██████▌   | 140/214 [00:03<00:01, 41.35batch/s, loss=0.127]"
     ]
    },
    {
     "name": "stdout",
     "output_type": "stream",
     "text": [
      "torch.Size([41, 62, 150])\n",
      "torch.Size([41, 62, 150])\n",
      "torch.Size([41, 62, 150])\n",
      "torch.Size([41, 62, 150])\n",
      "torch.Size([41, 62, 150])\n",
      "torch.Size([41, 62, 150])\n"
     ]
    },
    {
     "name": "stderr",
     "output_type": "stream",
     "text": [
      "Epoch 16/41:  65%|██████▌   | 140/214 [00:03<00:01, 41.35batch/s, loss=0.129]"
     ]
    },
    {
     "name": "stdout",
     "output_type": "stream",
     "text": [
      "torch.Size([41, 62, 150])\n",
      "torch.Size([41, 62, 150])\n"
     ]
    },
    {
     "name": "stderr",
     "output_type": "stream",
     "text": [
      "Epoch 16/41:  68%|██████▊   | 145/214 [00:03<00:01, 41.82batch/s, loss=0.13] "
     ]
    },
    {
     "name": "stdout",
     "output_type": "stream",
     "text": [
      "torch.Size([41, 62, 150])\n"
     ]
    },
    {
     "name": "stderr",
     "output_type": "stream",
     "text": [
      "Epoch 16/41:  70%|███████   | 150/214 [00:03<00:01, 41.94batch/s, loss=0.126]"
     ]
    },
    {
     "name": "stdout",
     "output_type": "stream",
     "text": [
      "torch.Size([41, 62, 150])\n",
      "torch.Size([41, 62, 150])\n",
      "torch.Size([41, 62, 150])\n",
      "torch.Size([41, 62, 150])\n",
      "torch.Size([41, 62, 150])\n",
      "torch.Size([41, 62, 150])\n"
     ]
    },
    {
     "name": "stderr",
     "output_type": "stream",
     "text": [
      "Epoch 16/41:  70%|███████   | 150/214 [00:03<00:01, 41.94batch/s, loss=0.128]"
     ]
    },
    {
     "name": "stdout",
     "output_type": "stream",
     "text": [
      "torch.Size([41, 62, 150])\n",
      "torch.Size([41, 62, 150])\n"
     ]
    },
    {
     "name": "stderr",
     "output_type": "stream",
     "text": [
      "Epoch 16/41:  70%|███████   | 150/214 [00:03<00:01, 41.94batch/s, loss=0.128]"
     ]
    },
    {
     "name": "stdout",
     "output_type": "stream",
     "text": [
      "torch.Size([41, 62, 150])\n"
     ]
    },
    {
     "name": "stderr",
     "output_type": "stream",
     "text": [
      "Epoch 16/41:  75%|███████▍  | 160/214 [00:03<00:01, 41.80batch/s, loss=0.129]"
     ]
    },
    {
     "name": "stdout",
     "output_type": "stream",
     "text": [
      "torch.Size([41, 62, 150])\n",
      "torch.Size([41, 62, 150])\n",
      "torch.Size([41, 62, 150])\n",
      "torch.Size([41, 62, 150])\n",
      "torch.Size([41, 62, 150])\n",
      "torch.Size([41, 62, 150])\n"
     ]
    },
    {
     "name": "stderr",
     "output_type": "stream",
     "text": [
      "Epoch 16/41:  75%|███████▍  | 160/214 [00:03<00:01, 41.80batch/s, loss=0.126]"
     ]
    },
    {
     "name": "stdout",
     "output_type": "stream",
     "text": [
      "torch.Size([41, 62, 150])\n",
      "torch.Size([41, 62, 150])\n"
     ]
    },
    {
     "name": "stderr",
     "output_type": "stream",
     "text": [
      "Epoch 16/41:  75%|███████▍  | 160/214 [00:03<00:01, 41.80batch/s, loss=0.127]"
     ]
    },
    {
     "name": "stdout",
     "output_type": "stream",
     "text": [
      "torch.Size([41, 62, 150])\n"
     ]
    },
    {
     "name": "stderr",
     "output_type": "stream",
     "text": [
      "Epoch 16/41:  77%|███████▋  | 165/214 [00:03<00:01, 41.76batch/s, loss=0.128]"
     ]
    },
    {
     "name": "stdout",
     "output_type": "stream",
     "text": [
      "torch.Size([41, 62, 150])\n",
      "torch.Size([41, 62, 150])\n",
      "torch.Size([41, 62, 150])\n",
      "torch.Size([41, 62, 150])\n",
      "torch.Size([41, 62, 150])\n",
      "torch.Size([41, 62, 150])\n"
     ]
    },
    {
     "name": "stderr",
     "output_type": "stream",
     "text": [
      "Epoch 16/41:  79%|███████▉  | 170/214 [00:03<00:01, 41.81batch/s, loss=0.125]"
     ]
    },
    {
     "name": "stdout",
     "output_type": "stream",
     "text": [
      "torch.Size([41, 62, 150])\n",
      "torch.Size([41, 62, 150])\n"
     ]
    },
    {
     "name": "stderr",
     "output_type": "stream",
     "text": [
      "Epoch 16/41:  79%|███████▉  | 170/214 [00:03<00:01, 41.81batch/s, loss=0.126]"
     ]
    },
    {
     "name": "stdout",
     "output_type": "stream",
     "text": [
      "torch.Size([41, 62, 150])\n"
     ]
    },
    {
     "name": "stderr",
     "output_type": "stream",
     "text": [
      "Epoch 16/41:  82%|████████▏ | 175/214 [00:04<00:00, 42.20batch/s, loss=0.127]"
     ]
    },
    {
     "name": "stdout",
     "output_type": "stream",
     "text": [
      "torch.Size([41, 62, 150])\n",
      "torch.Size([41, 62, 150])\n",
      "torch.Size([41, 62, 150])\n",
      "torch.Size([41, 62, 150])\n",
      "torch.Size([41, 62, 150])\n",
      "torch.Size([41, 62, 150])\n"
     ]
    },
    {
     "name": "stderr",
     "output_type": "stream",
     "text": [
      "Epoch 16/41:  84%|████████▍ | 180/214 [00:04<00:00, 42.00batch/s, loss=0.128]"
     ]
    },
    {
     "name": "stdout",
     "output_type": "stream",
     "text": [
      "torch.Size([41, 62, 150])\n",
      "torch.Size([41, 62, 150])\n"
     ]
    },
    {
     "name": "stderr",
     "output_type": "stream",
     "text": [
      "Epoch 16/41:  84%|████████▍ | 180/214 [00:04<00:00, 42.00batch/s, loss=0.125]"
     ]
    },
    {
     "name": "stdout",
     "output_type": "stream",
     "text": [
      "torch.Size([41, 62, 150])\n"
     ]
    },
    {
     "name": "stderr",
     "output_type": "stream",
     "text": [
      "Epoch 16/41:  86%|████████▋ | 185/214 [00:04<00:00, 41.66batch/s, loss=0.126]"
     ]
    },
    {
     "name": "stdout",
     "output_type": "stream",
     "text": [
      "torch.Size([41, 62, 150])\n",
      "torch.Size([41, 62, 150])\n",
      "torch.Size([41, 62, 150])\n",
      "torch.Size([41, 62, 150])\n",
      "torch.Size([41, 62, 150])\n",
      "torch.Size([41, 62, 150])\n"
     ]
    },
    {
     "name": "stderr",
     "output_type": "stream",
     "text": [
      "Epoch 16/41:  86%|████████▋ | 185/214 [00:04<00:00, 41.66batch/s, loss=0.127]"
     ]
    },
    {
     "name": "stdout",
     "output_type": "stream",
     "text": [
      "torch.Size([41, 62, 150])\n",
      "torch.Size([41, 62, 150])\n"
     ]
    },
    {
     "name": "stderr",
     "output_type": "stream",
     "text": [
      "Epoch 16/41:  89%|████████▉ | 190/214 [00:04<00:00, 41.57batch/s, loss=0.128]"
     ]
    },
    {
     "name": "stdout",
     "output_type": "stream",
     "text": [
      "torch.Size([41, 62, 150])\n"
     ]
    },
    {
     "name": "stderr",
     "output_type": "stream",
     "text": [
      "Epoch 16/41:  91%|█████████ | 195/214 [00:04<00:00, 41.58batch/s, loss=0.125]"
     ]
    },
    {
     "name": "stdout",
     "output_type": "stream",
     "text": [
      "torch.Size([41, 62, 150])\n",
      "torch.Size([41, 62, 150])\n",
      "torch.Size([41, 62, 150])\n",
      "torch.Size([41, 62, 150])\n",
      "torch.Size([41, 62, 150])\n",
      "torch.Size([41, 62, 150])\n"
     ]
    },
    {
     "name": "stderr",
     "output_type": "stream",
     "text": [
      "Epoch 16/41:  91%|█████████ | 195/214 [00:04<00:00, 41.58batch/s, loss=0.126]"
     ]
    },
    {
     "name": "stdout",
     "output_type": "stream",
     "text": [
      "torch.Size([41, 62, 150])\n",
      "torch.Size([41, 62, 150])\n"
     ]
    },
    {
     "name": "stderr",
     "output_type": "stream",
     "text": [
      "Epoch 16/41:  91%|█████████ | 195/214 [00:04<00:00, 41.58batch/s, loss=0.126]"
     ]
    },
    {
     "name": "stdout",
     "output_type": "stream",
     "text": [
      "torch.Size([41, 62, 150])\n"
     ]
    },
    {
     "name": "stderr",
     "output_type": "stream",
     "text": [
      "Epoch 16/41:  96%|█████████▌| 205/214 [00:04<00:00, 42.01batch/s, loss=0.127]"
     ]
    },
    {
     "name": "stdout",
     "output_type": "stream",
     "text": [
      "torch.Size([41, 62, 150])\n",
      "torch.Size([41, 62, 150])\n",
      "torch.Size([41, 62, 150])\n",
      "torch.Size([41, 62, 150])\n",
      "torch.Size([41, 62, 150])\n",
      "torch.Size([41, 62, 150])\n"
     ]
    },
    {
     "name": "stderr",
     "output_type": "stream",
     "text": [
      "Epoch 16/41:  96%|█████████▌| 205/214 [00:04<00:00, 42.01batch/s, loss=0.125]"
     ]
    },
    {
     "name": "stdout",
     "output_type": "stream",
     "text": [
      "torch.Size([41, 62, 150])\n",
      "torch.Size([41, 62, 150])\n"
     ]
    },
    {
     "name": "stderr",
     "output_type": "stream",
     "text": [
      "Epoch 16/41:  96%|█████████▌| 205/214 [00:04<00:00, 42.01batch/s, loss=0.126]"
     ]
    },
    {
     "name": "stdout",
     "output_type": "stream",
     "text": [
      "torch.Size([41, 62, 150])\n"
     ]
    },
    {
     "name": "stderr",
     "output_type": "stream",
     "text": [
      "Epoch 16/41: 100%|██████████| 214/214 [00:04<00:00, 43.02batch/s, loss=0.127]\n"
     ]
    },
    {
     "name": "stdout",
     "output_type": "stream",
     "text": [
      "torch.Size([41, 62, 150])\n",
      "torch.Size([41, 62, 150])\n",
      "torch.Size([41, 62, 150])\n",
      "torch.Size([41, 62, 150])\n",
      "torch.Size([7, 62, 150])\n",
      "Epoch 16/41, Loss: 0.12489276539499515\n"
     ]
    },
    {
     "name": "stderr",
     "output_type": "stream",
     "text": [
      "Epoch 17/41:   0%|          | 0/214 [00:00<?, ?batch/s]"
     ]
    },
    {
     "name": "stdout",
     "output_type": "stream",
     "text": [
      "torch.Size([41, 62, 150])\n"
     ]
    },
    {
     "name": "stderr",
     "output_type": "stream",
     "text": [
      "Epoch 17/41:   0%|          | 0/214 [00:00<?, ?batch/s, loss=0.367]"
     ]
    },
    {
     "name": "stdout",
     "output_type": "stream",
     "text": [
      "torch.Size([41, 62, 150])\n",
      "torch.Size([41, 62, 150])\n"
     ]
    },
    {
     "name": "stderr",
     "output_type": "stream",
     "text": [
      "Epoch 17/41:   0%|          | 0/214 [00:00<?, ?batch/s, loss=0.463]"
     ]
    },
    {
     "name": "stdout",
     "output_type": "stream",
     "text": [
      "torch.Size([41, 62, 150])\n"
     ]
    },
    {
     "name": "stderr",
     "output_type": "stream",
     "text": [
      "Epoch 17/41:   2%|▏         | 5/214 [00:00<00:04, 44.43batch/s, loss=0.169]"
     ]
    },
    {
     "name": "stdout",
     "output_type": "stream",
     "text": [
      "torch.Size([41, 62, 150])\n",
      "torch.Size([41, 62, 150])\n",
      "torch.Size([41, 62, 150])\n",
      "torch.Size([41, 62, 150])\n",
      "torch.Size([41, 62, 150])\n",
      "torch.Size([41, 62, 150])\n"
     ]
    },
    {
     "name": "stderr",
     "output_type": "stream",
     "text": [
      "Epoch 17/41:   5%|▍         | 10/214 [00:00<00:04, 44.94batch/s, loss=0.185]"
     ]
    },
    {
     "name": "stdout",
     "output_type": "stream",
     "text": [
      "torch.Size([41, 62, 150])\n"
     ]
    },
    {
     "name": "stderr",
     "output_type": "stream",
     "text": [
      "Epoch 17/41:   5%|▍         | 10/214 [00:00<00:04, 44.94batch/s, loss=0.126]"
     ]
    },
    {
     "name": "stdout",
     "output_type": "stream",
     "text": [
      "torch.Size([41, 62, 150])\n"
     ]
    },
    {
     "name": "stderr",
     "output_type": "stream",
     "text": [
      "Epoch 17/41:   5%|▍         | 10/214 [00:00<00:04, 44.94batch/s, loss=0.137]"
     ]
    },
    {
     "name": "stdout",
     "output_type": "stream",
     "text": [
      "torch.Size([41, 62, 150])\n",
      "torch.Size([41, 62, 150])\n"
     ]
    },
    {
     "name": "stderr",
     "output_type": "stream",
     "text": [
      "Epoch 17/41:   7%|▋         | 15/214 [00:00<00:04, 44.82batch/s, loss=0.139]"
     ]
    },
    {
     "name": "stdout",
     "output_type": "stream",
     "text": [
      "torch.Size([41, 62, 150])\n",
      "torch.Size([41, 62, 150])\n",
      "torch.Size([41, 62, 150])\n",
      "torch.Size([41, 62, 150])\n",
      "torch.Size([41, 62, 150])\n",
      "torch.Size([41, 62, 150])\n"
     ]
    },
    {
     "name": "stderr",
     "output_type": "stream",
     "text": [
      "Epoch 17/41:   9%|▉         | 20/214 [00:00<00:04, 45.08batch/s, loss=0.146]"
     ]
    },
    {
     "name": "stdout",
     "output_type": "stream",
     "text": [
      "torch.Size([41, 62, 150])\n"
     ]
    },
    {
     "name": "stderr",
     "output_type": "stream",
     "text": [
      "Epoch 17/41:   9%|▉         | 20/214 [00:00<00:04, 45.08batch/s, loss=0.118]"
     ]
    },
    {
     "name": "stdout",
     "output_type": "stream",
     "text": [
      "torch.Size([41, 62, 150])\n"
     ]
    },
    {
     "name": "stderr",
     "output_type": "stream",
     "text": [
      "Epoch 17/41:   9%|▉         | 20/214 [00:00<00:04, 45.08batch/s, loss=0.129]"
     ]
    },
    {
     "name": "stdout",
     "output_type": "stream",
     "text": [
      "torch.Size([41, 62, 150])\n"
     ]
    },
    {
     "name": "stderr",
     "output_type": "stream",
     "text": [
      "Epoch 17/41:  12%|█▏        | 25/214 [00:00<00:04, 44.34batch/s, loss=0.129]"
     ]
    },
    {
     "name": "stdout",
     "output_type": "stream",
     "text": [
      "torch.Size([41, 62, 150])\n",
      "torch.Size([41, 62, 150])\n",
      "torch.Size([41, 62, 150])\n",
      "torch.Size([41, 62, 150])\n",
      "torch.Size([41, 62, 150])\n",
      "torch.Size([41, 62, 150])\n"
     ]
    },
    {
     "name": "stderr",
     "output_type": "stream",
     "text": [
      "Epoch 17/41:  14%|█▍        | 30/214 [00:00<00:04, 44.35batch/s, loss=0.134]"
     ]
    },
    {
     "name": "stdout",
     "output_type": "stream",
     "text": [
      "torch.Size([41, 62, 150])\n"
     ]
    },
    {
     "name": "stderr",
     "output_type": "stream",
     "text": [
      "Epoch 17/41:  14%|█▍        | 30/214 [00:00<00:04, 44.35batch/s, loss=0.116]"
     ]
    },
    {
     "name": "stdout",
     "output_type": "stream",
     "text": [
      "torch.Size([41, 62, 150])\n"
     ]
    },
    {
     "name": "stderr",
     "output_type": "stream",
     "text": [
      "Epoch 17/41:  14%|█▍        | 30/214 [00:00<00:04, 44.35batch/s, loss=0.121]"
     ]
    },
    {
     "name": "stdout",
     "output_type": "stream",
     "text": [
      "torch.Size([41, 62, 150])\n"
     ]
    },
    {
     "name": "stderr",
     "output_type": "stream",
     "text": [
      "Epoch 17/41:  16%|█▋        | 35/214 [00:00<00:04, 44.30batch/s, loss=0.125]"
     ]
    },
    {
     "name": "stdout",
     "output_type": "stream",
     "text": [
      "torch.Size([41, 62, 150])\n",
      "torch.Size([41, 62, 150])\n",
      "torch.Size([41, 62, 150])\n",
      "torch.Size([41, 62, 150])\n",
      "torch.Size([41, 62, 150])\n",
      "torch.Size([41, 62, 150])\n"
     ]
    },
    {
     "name": "stderr",
     "output_type": "stream",
     "text": [
      "Epoch 17/41:  16%|█▋        | 35/214 [00:00<00:04, 44.30batch/s, loss=0.128]"
     ]
    },
    {
     "name": "stdout",
     "output_type": "stream",
     "text": [
      "torch.Size([41, 62, 150])\n"
     ]
    },
    {
     "name": "stderr",
     "output_type": "stream",
     "text": [
      "Epoch 17/41:  19%|█▊        | 40/214 [00:00<00:03, 44.41batch/s, loss=0.132]"
     ]
    },
    {
     "name": "stdout",
     "output_type": "stream",
     "text": [
      "torch.Size([41, 62, 150])\n"
     ]
    },
    {
     "name": "stderr",
     "output_type": "stream",
     "text": [
      "Epoch 17/41:  19%|█▊        | 40/214 [00:00<00:03, 44.41batch/s, loss=0.119]"
     ]
    },
    {
     "name": "stdout",
     "output_type": "stream",
     "text": [
      "torch.Size([41, 62, 150])\n"
     ]
    },
    {
     "name": "stderr",
     "output_type": "stream",
     "text": [
      "Epoch 17/41:  21%|██        | 45/214 [00:01<00:03, 44.65batch/s, loss=0.121]"
     ]
    },
    {
     "name": "stdout",
     "output_type": "stream",
     "text": [
      "torch.Size([41, 62, 150])\n",
      "torch.Size([41, 62, 150])\n",
      "torch.Size([41, 62, 150])\n",
      "torch.Size([41, 62, 150])\n",
      "torch.Size([41, 62, 150])\n",
      "torch.Size([41, 62, 150])\n",
      "torch.Size([41, 62, 150])\n"
     ]
    },
    {
     "name": "stderr",
     "output_type": "stream",
     "text": [
      "Epoch 17/41:  21%|██        | 45/214 [00:01<00:03, 44.65batch/s, loss=0.124]"
     ]
    },
    {
     "name": "stdout",
     "output_type": "stream",
     "text": [
      "torch.Size([41, 62, 150])\n"
     ]
    },
    {
     "name": "stderr",
     "output_type": "stream",
     "text": [
      "Epoch 17/41:  21%|██        | 45/214 [00:01<00:03, 44.65batch/s, loss=0.126]"
     ]
    },
    {
     "name": "stdout",
     "output_type": "stream",
     "text": [
      "torch.Size([41, 62, 150])\n"
     ]
    },
    {
     "name": "stderr",
     "output_type": "stream",
     "text": [
      "Epoch 17/41:  23%|██▎       | 50/214 [00:01<00:03, 45.05batch/s, loss=0.129]"
     ]
    },
    {
     "name": "stdout",
     "output_type": "stream",
     "text": [
      "torch.Size([41, 62, 150])\n"
     ]
    },
    {
     "name": "stderr",
     "output_type": "stream",
     "text": [
      "Epoch 17/41:  26%|██▌       | 55/214 [00:01<00:03, 44.79batch/s, loss=0.12] "
     ]
    },
    {
     "name": "stdout",
     "output_type": "stream",
     "text": [
      "torch.Size([41, 62, 150])\n",
      "torch.Size([41, 62, 150])\n",
      "torch.Size([41, 62, 150])\n",
      "torch.Size([41, 62, 150])\n",
      "torch.Size([41, 62, 150])\n",
      "torch.Size([41, 62, 150])\n"
     ]
    },
    {
     "name": "stderr",
     "output_type": "stream",
     "text": [
      "Epoch 17/41:  26%|██▌       | 55/214 [00:01<00:03, 44.79batch/s, loss=0.122]"
     ]
    },
    {
     "name": "stdout",
     "output_type": "stream",
     "text": [
      "torch.Size([41, 62, 150])\n"
     ]
    },
    {
     "name": "stderr",
     "output_type": "stream",
     "text": [
      "Epoch 17/41:  26%|██▌       | 55/214 [00:01<00:03, 44.79batch/s, loss=0.124]"
     ]
    },
    {
     "name": "stdout",
     "output_type": "stream",
     "text": [
      "torch.Size([41, 62, 150])\n"
     ]
    },
    {
     "name": "stderr",
     "output_type": "stream",
     "text": [
      "Epoch 17/41:  28%|██▊       | 60/214 [00:01<00:03, 44.79batch/s, loss=0.126]"
     ]
    },
    {
     "name": "stdout",
     "output_type": "stream",
     "text": [
      "torch.Size([41, 62, 150])\n"
     ]
    },
    {
     "name": "stderr",
     "output_type": "stream",
     "text": [
      "Epoch 17/41:  30%|███       | 65/214 [00:01<00:03, 44.75batch/s, loss=0.118]"
     ]
    },
    {
     "name": "stdout",
     "output_type": "stream",
     "text": [
      "torch.Size([41, 62, 150])\n",
      "torch.Size([41, 62, 150])\n",
      "torch.Size([41, 62, 150])\n",
      "torch.Size([41, 62, 150])\n",
      "torch.Size([41, 62, 150])\n",
      "torch.Size([41, 62, 150])\n"
     ]
    },
    {
     "name": "stderr",
     "output_type": "stream",
     "text": [
      "Epoch 17/41:  30%|███       | 65/214 [00:01<00:03, 44.75batch/s, loss=0.12] "
     ]
    },
    {
     "name": "stdout",
     "output_type": "stream",
     "text": [
      "torch.Size([41, 62, 150])\n"
     ]
    },
    {
     "name": "stderr",
     "output_type": "stream",
     "text": [
      "Epoch 17/41:  30%|███       | 65/214 [00:01<00:03, 44.75batch/s, loss=0.122]"
     ]
    },
    {
     "name": "stdout",
     "output_type": "stream",
     "text": [
      "torch.Size([41, 62, 150])\n"
     ]
    },
    {
     "name": "stderr",
     "output_type": "stream",
     "text": [
      "Epoch 17/41:  30%|███       | 65/214 [00:01<00:03, 44.75batch/s, loss=0.123]"
     ]
    },
    {
     "name": "stdout",
     "output_type": "stream",
     "text": [
      "torch.Size([41, 62, 150])\n"
     ]
    },
    {
     "name": "stderr",
     "output_type": "stream",
     "text": [
      "Epoch 17/41:  35%|███▌      | 75/214 [00:01<00:03, 44.95batch/s, loss=0.125]"
     ]
    },
    {
     "name": "stdout",
     "output_type": "stream",
     "text": [
      "torch.Size([41, 62, 150])\n",
      "torch.Size([41, 62, 150])\n",
      "torch.Size([41, 62, 150])\n",
      "torch.Size([41, 62, 150])\n",
      "torch.Size([41, 62, 150])\n",
      "torch.Size([41, 62, 150])\n",
      "torch.Size([41, 62, 150])\n"
     ]
    },
    {
     "name": "stderr",
     "output_type": "stream",
     "text": [
      "Epoch 17/41:  35%|███▌      | 75/214 [00:01<00:03, 44.95batch/s, loss=0.119]"
     ]
    },
    {
     "name": "stdout",
     "output_type": "stream",
     "text": [
      "torch.Size([41, 62, 150])\n"
     ]
    },
    {
     "name": "stderr",
     "output_type": "stream",
     "text": [
      "Epoch 17/41:  35%|███▌      | 75/214 [00:01<00:03, 44.95batch/s, loss=0.12] "
     ]
    },
    {
     "name": "stdout",
     "output_type": "stream",
     "text": [
      "torch.Size([41, 62, 150])\n"
     ]
    },
    {
     "name": "stderr",
     "output_type": "stream",
     "text": [
      "Epoch 17/41:  35%|███▌      | 75/214 [00:01<00:03, 44.95batch/s, loss=0.122]"
     ]
    },
    {
     "name": "stdout",
     "output_type": "stream",
     "text": [
      "torch.Size([41, 62, 150])\n"
     ]
    },
    {
     "name": "stderr",
     "output_type": "stream",
     "text": [
      "Epoch 17/41:  40%|███▉      | 85/214 [00:01<00:02, 44.82batch/s, loss=0.125]"
     ]
    },
    {
     "name": "stdout",
     "output_type": "stream",
     "text": [
      "torch.Size([41, 62, 150])\n",
      "torch.Size([41, 62, 150])\n",
      "torch.Size([41, 62, 150])\n",
      "torch.Size([41, 62, 150])\n",
      "torch.Size([41, 62, 150])\n",
      "torch.Size([41, 62, 150])\n"
     ]
    },
    {
     "name": "stderr",
     "output_type": "stream",
     "text": [
      "Epoch 17/41:  40%|███▉      | 85/214 [00:01<00:02, 44.82batch/s, loss=0.119]"
     ]
    },
    {
     "name": "stdout",
     "output_type": "stream",
     "text": [
      "torch.Size([41, 62, 150])\n"
     ]
    },
    {
     "name": "stderr",
     "output_type": "stream",
     "text": [
      "Epoch 17/41:  40%|███▉      | 85/214 [00:01<00:02, 44.82batch/s, loss=0.121]"
     ]
    },
    {
     "name": "stdout",
     "output_type": "stream",
     "text": [
      "torch.Size([41, 62, 150])\n"
     ]
    },
    {
     "name": "stderr",
     "output_type": "stream",
     "text": [
      "Epoch 17/41:  40%|███▉      | 85/214 [00:01<00:02, 44.82batch/s, loss=0.122]"
     ]
    },
    {
     "name": "stdout",
     "output_type": "stream",
     "text": [
      "torch.Size([41, 62, 150])\n"
     ]
    },
    {
     "name": "stderr",
     "output_type": "stream",
     "text": [
      "Epoch 17/41:  42%|████▏     | 90/214 [00:02<00:02, 44.73batch/s, loss=0.124]"
     ]
    },
    {
     "name": "stdout",
     "output_type": "stream",
     "text": [
      "torch.Size([41, 62, 150])\n",
      "torch.Size([41, 62, 150])\n",
      "torch.Size([41, 62, 150])\n",
      "torch.Size([41, 62, 150])\n",
      "torch.Size([41, 62, 150])\n",
      "torch.Size([41, 62, 150])\n"
     ]
    },
    {
     "name": "stderr",
     "output_type": "stream",
     "text": [
      "Epoch 17/41:  44%|████▍     | 95/214 [00:02<00:02, 44.62batch/s, loss=0.125]"
     ]
    },
    {
     "name": "stdout",
     "output_type": "stream",
     "text": [
      "torch.Size([41, 62, 150])\n"
     ]
    },
    {
     "name": "stderr",
     "output_type": "stream",
     "text": [
      "Epoch 17/41:  44%|████▍     | 95/214 [00:02<00:02, 44.62batch/s, loss=0.12] "
     ]
    },
    {
     "name": "stdout",
     "output_type": "stream",
     "text": [
      "torch.Size([41, 62, 150])\n"
     ]
    },
    {
     "name": "stderr",
     "output_type": "stream",
     "text": [
      "Epoch 17/41:  44%|████▍     | 95/214 [00:02<00:02, 44.62batch/s, loss=0.121]"
     ]
    },
    {
     "name": "stdout",
     "output_type": "stream",
     "text": [
      "torch.Size([41, 62, 150])\n"
     ]
    },
    {
     "name": "stderr",
     "output_type": "stream",
     "text": [
      "Epoch 17/41:  47%|████▋     | 100/214 [00:02<00:02, 44.52batch/s, loss=0.122]"
     ]
    },
    {
     "name": "stdout",
     "output_type": "stream",
     "text": [
      "torch.Size([41, 62, 150])\n",
      "torch.Size([41, 62, 150])\n",
      "torch.Size([41, 62, 150])\n",
      "torch.Size([41, 62, 150])\n",
      "torch.Size([41, 62, 150])\n",
      "torch.Size([41, 62, 150])\n"
     ]
    },
    {
     "name": "stderr",
     "output_type": "stream",
     "text": [
      "Epoch 17/41:  47%|████▋     | 100/214 [00:02<00:02, 44.52batch/s, loss=0.123]"
     ]
    },
    {
     "name": "stdout",
     "output_type": "stream",
     "text": [
      "torch.Size([41, 62, 150])\n",
      "torch.Size([41, 62, 150])\n"
     ]
    },
    {
     "name": "stderr",
     "output_type": "stream",
     "text": [
      "Epoch 17/41:  49%|████▉     | 105/214 [00:02<00:02, 44.68batch/s, loss=0.12] "
     ]
    },
    {
     "name": "stdout",
     "output_type": "stream",
     "text": [
      "torch.Size([41, 62, 150])\n",
      "torch.Size([41, 62, 150])\n"
     ]
    },
    {
     "name": "stderr",
     "output_type": "stream",
     "text": [
      "Epoch 17/41:  51%|█████▏    | 110/214 [00:02<00:02, 45.10batch/s, loss=0.121]"
     ]
    },
    {
     "name": "stdout",
     "output_type": "stream",
     "text": [
      "torch.Size([41, 62, 150])\n",
      "torch.Size([41, 62, 150])\n",
      "torch.Size([41, 62, 150])\n",
      "torch.Size([41, 62, 150])\n",
      "torch.Size([41, 62, 150])\n",
      "torch.Size([41, 62, 150])\n"
     ]
    },
    {
     "name": "stderr",
     "output_type": "stream",
     "text": [
      "Epoch 17/41:  51%|█████▏    | 110/214 [00:02<00:02, 45.10batch/s, loss=0.123]"
     ]
    },
    {
     "name": "stdout",
     "output_type": "stream",
     "text": [
      "torch.Size([41, 62, 150])\n",
      "torch.Size([41, 62, 150])\n"
     ]
    },
    {
     "name": "stderr",
     "output_type": "stream",
     "text": [
      "Epoch 17/41:  54%|█████▎    | 115/214 [00:02<00:02, 44.70batch/s, loss=0.12] "
     ]
    },
    {
     "name": "stdout",
     "output_type": "stream",
     "text": [
      "torch.Size([41, 62, 150])\n"
     ]
    },
    {
     "name": "stderr",
     "output_type": "stream",
     "text": [
      "Epoch 17/41:  56%|█████▌    | 120/214 [00:02<00:02, 44.80batch/s, loss=0.121]"
     ]
    },
    {
     "name": "stdout",
     "output_type": "stream",
     "text": [
      "torch.Size([41, 62, 150])\n",
      "torch.Size([41, 62, 150])\n",
      "torch.Size([41, 62, 150])\n",
      "torch.Size([41, 62, 150])\n",
      "torch.Size([41, 62, 150])\n",
      "torch.Size([41, 62, 150])\n"
     ]
    },
    {
     "name": "stderr",
     "output_type": "stream",
     "text": [
      "Epoch 17/41:  56%|█████▌    | 120/214 [00:02<00:02, 44.80batch/s, loss=0.123]"
     ]
    },
    {
     "name": "stdout",
     "output_type": "stream",
     "text": [
      "torch.Size([41, 62, 150])\n",
      "torch.Size([41, 62, 150])\n"
     ]
    },
    {
     "name": "stderr",
     "output_type": "stream",
     "text": [
      "Epoch 17/41:  58%|█████▊    | 125/214 [00:02<00:01, 44.61batch/s, loss=0.124]"
     ]
    },
    {
     "name": "stdout",
     "output_type": "stream",
     "text": [
      "torch.Size([41, 62, 150])\n"
     ]
    },
    {
     "name": "stderr",
     "output_type": "stream",
     "text": [
      "Epoch 17/41:  61%|██████    | 130/214 [00:02<00:01, 44.64batch/s, loss=0.121]"
     ]
    },
    {
     "name": "stdout",
     "output_type": "stream",
     "text": [
      "torch.Size([41, 62, 150])\n",
      "torch.Size([41, 62, 150])\n",
      "torch.Size([41, 62, 150])\n",
      "torch.Size([41, 62, 150])\n",
      "torch.Size([41, 62, 150])\n",
      "torch.Size([41, 62, 150])\n"
     ]
    },
    {
     "name": "stderr",
     "output_type": "stream",
     "text": [
      "Epoch 17/41:  61%|██████    | 130/214 [00:02<00:01, 44.64batch/s, loss=0.123]"
     ]
    },
    {
     "name": "stdout",
     "output_type": "stream",
     "text": [
      "torch.Size([41, 62, 150])\n",
      "torch.Size([41, 62, 150])\n"
     ]
    },
    {
     "name": "stderr",
     "output_type": "stream",
     "text": [
      "Epoch 17/41:  61%|██████    | 130/214 [00:02<00:01, 44.64batch/s, loss=0.124]"
     ]
    },
    {
     "name": "stdout",
     "output_type": "stream",
     "text": [
      "torch.Size([41, 62, 150])\n"
     ]
    },
    {
     "name": "stderr",
     "output_type": "stream",
     "text": [
      "Epoch 17/41:  65%|██████▌   | 140/214 [00:03<00:01, 44.72batch/s, loss=0.124]"
     ]
    },
    {
     "name": "stdout",
     "output_type": "stream",
     "text": [
      "torch.Size([41, 62, 150])\n",
      "torch.Size([41, 62, 150])\n",
      "torch.Size([41, 62, 150])\n",
      "torch.Size([41, 62, 150])\n",
      "torch.Size([41, 62, 150])\n",
      "torch.Size([41, 62, 150])\n"
     ]
    },
    {
     "name": "stderr",
     "output_type": "stream",
     "text": [
      "Epoch 17/41:  65%|██████▌   | 140/214 [00:03<00:01, 44.72batch/s, loss=0.122]"
     ]
    },
    {
     "name": "stdout",
     "output_type": "stream",
     "text": [
      "torch.Size([41, 62, 150])\n",
      "torch.Size([41, 62, 150])\n"
     ]
    },
    {
     "name": "stderr",
     "output_type": "stream",
     "text": [
      "Epoch 17/41:  65%|██████▌   | 140/214 [00:03<00:01, 44.72batch/s, loss=0.123]"
     ]
    },
    {
     "name": "stdout",
     "output_type": "stream",
     "text": [
      "torch.Size([41, 62, 150])\n"
     ]
    },
    {
     "name": "stderr",
     "output_type": "stream",
     "text": [
      "Epoch 17/41:  68%|██████▊   | 145/214 [00:03<00:01, 44.17batch/s, loss=0.123]"
     ]
    },
    {
     "name": "stdout",
     "output_type": "stream",
     "text": [
      "torch.Size([41, 62, 150])\n",
      "torch.Size([41, 62, 150])\n",
      "torch.Size([41, 62, 150])\n",
      "torch.Size([41, 62, 150])\n",
      "torch.Size([41, 62, 150])\n",
      "torch.Size([41, 62, 150])\n"
     ]
    },
    {
     "name": "stderr",
     "output_type": "stream",
     "text": [
      "Epoch 17/41:  70%|███████   | 150/214 [00:03<00:01, 44.30batch/s, loss=0.121]"
     ]
    },
    {
     "name": "stdout",
     "output_type": "stream",
     "text": [
      "torch.Size([41, 62, 150])\n",
      "torch.Size([41, 62, 150])\n"
     ]
    },
    {
     "name": "stderr",
     "output_type": "stream",
     "text": [
      "Epoch 17/41:  70%|███████   | 150/214 [00:03<00:01, 44.30batch/s, loss=0.121]"
     ]
    },
    {
     "name": "stdout",
     "output_type": "stream",
     "text": [
      "torch.Size([41, 62, 150])\n"
     ]
    },
    {
     "name": "stderr",
     "output_type": "stream",
     "text": [
      "Epoch 17/41:  72%|███████▏  | 155/214 [00:03<00:01, 44.27batch/s, loss=0.122]"
     ]
    },
    {
     "name": "stdout",
     "output_type": "stream",
     "text": [
      "torch.Size([41, 62, 150])\n",
      "torch.Size([41, 62, 150])\n",
      "torch.Size([41, 62, 150])\n",
      "torch.Size([41, 62, 150])\n",
      "torch.Size([41, 62, 150])\n",
      "torch.Size([41, 62, 150])\n"
     ]
    },
    {
     "name": "stderr",
     "output_type": "stream",
     "text": [
      "Epoch 17/41:  75%|███████▍  | 160/214 [00:03<00:01, 44.40batch/s, loss=0.124]"
     ]
    },
    {
     "name": "stdout",
     "output_type": "stream",
     "text": [
      "torch.Size([41, 62, 150])\n",
      "torch.Size([41, 62, 150])\n"
     ]
    },
    {
     "name": "stderr",
     "output_type": "stream",
     "text": [
      "Epoch 17/41:  75%|███████▍  | 160/214 [00:03<00:01, 44.40batch/s, loss=0.121]"
     ]
    },
    {
     "name": "stdout",
     "output_type": "stream",
     "text": [
      "torch.Size([41, 62, 150])\n"
     ]
    },
    {
     "name": "stderr",
     "output_type": "stream",
     "text": [
      "Epoch 17/41:  77%|███████▋  | 165/214 [00:03<00:01, 44.52batch/s, loss=0.121]"
     ]
    },
    {
     "name": "stdout",
     "output_type": "stream",
     "text": [
      "torch.Size([41, 62, 150])\n",
      "torch.Size([41, 62, 150])\n",
      "torch.Size([41, 62, 150])\n",
      "torch.Size([41, 62, 150])\n",
      "torch.Size([41, 62, 150])\n",
      "torch.Size([41, 62, 150])\n",
      "torch.Size([41, 62, 150])\n"
     ]
    },
    {
     "name": "stderr",
     "output_type": "stream",
     "text": [
      "Epoch 17/41:  77%|███████▋  | 165/214 [00:03<00:01, 44.52batch/s, loss=0.123]"
     ]
    },
    {
     "name": "stdout",
     "output_type": "stream",
     "text": [
      "torch.Size([41, 62, 150])\n",
      "torch.Size([41, 62, 150])\n"
     ]
    },
    {
     "name": "stderr",
     "output_type": "stream",
     "text": [
      "Epoch 17/41:  79%|███████▉  | 170/214 [00:03<00:00, 45.05batch/s, loss=0.123]"
     ]
    },
    {
     "name": "stdout",
     "output_type": "stream",
     "text": [
      "torch.Size([41, 62, 150])\n"
     ]
    },
    {
     "name": "stderr",
     "output_type": "stream",
     "text": [
      "Epoch 17/41:  82%|████████▏ | 175/214 [00:03<00:00, 43.54batch/s, loss=0.121]"
     ]
    },
    {
     "name": "stdout",
     "output_type": "stream",
     "text": [
      "torch.Size([41, 62, 150])\n",
      "torch.Size([41, 62, 150])\n",
      "torch.Size([41, 62, 150])\n",
      "torch.Size([41, 62, 150])\n",
      "torch.Size([41, 62, 150])\n",
      "torch.Size([41, 62, 150])\n"
     ]
    },
    {
     "name": "stderr",
     "output_type": "stream",
     "text": [
      "Epoch 17/41:  82%|████████▏ | 175/214 [00:04<00:00, 43.54batch/s, loss=0.122]"
     ]
    },
    {
     "name": "stdout",
     "output_type": "stream",
     "text": [
      "torch.Size([41, 62, 150])\n",
      "torch.Size([41, 62, 150])\n"
     ]
    },
    {
     "name": "stderr",
     "output_type": "stream",
     "text": [
      "Epoch 17/41:  82%|████████▏ | 175/214 [00:04<00:00, 43.54batch/s, loss=0.123]"
     ]
    },
    {
     "name": "stdout",
     "output_type": "stream",
     "text": [
      "torch.Size([41, 62, 150])\n"
     ]
    },
    {
     "name": "stderr",
     "output_type": "stream",
     "text": [
      "Epoch 17/41:  86%|████████▋ | 185/214 [00:04<00:00, 42.05batch/s, loss=0.123]"
     ]
    },
    {
     "name": "stdout",
     "output_type": "stream",
     "text": [
      "torch.Size([41, 62, 150])\n",
      "torch.Size([41, 62, 150])\n",
      "torch.Size([41, 62, 150])\n",
      "torch.Size([41, 62, 150])\n",
      "torch.Size([41, 62, 150])\n",
      "torch.Size([41, 62, 150])\n"
     ]
    },
    {
     "name": "stderr",
     "output_type": "stream",
     "text": [
      "Epoch 17/41:  86%|████████▋ | 185/214 [00:04<00:00, 42.05batch/s, loss=0.121]"
     ]
    },
    {
     "name": "stdout",
     "output_type": "stream",
     "text": [
      "torch.Size([41, 62, 150])\n",
      "torch.Size([41, 62, 150])\n"
     ]
    },
    {
     "name": "stderr",
     "output_type": "stream",
     "text": [
      "Epoch 17/41:  86%|████████▋ | 185/214 [00:04<00:00, 42.05batch/s, loss=0.122]"
     ]
    },
    {
     "name": "stdout",
     "output_type": "stream",
     "text": [
      "torch.Size([41, 62, 150])\n"
     ]
    },
    {
     "name": "stderr",
     "output_type": "stream",
     "text": [
      "Epoch 17/41:  89%|████████▉ | 190/214 [00:04<00:00, 41.59batch/s, loss=0.122]"
     ]
    },
    {
     "name": "stdout",
     "output_type": "stream",
     "text": [
      "torch.Size([41, 62, 150])\n",
      "torch.Size([41, 62, 150])\n",
      "torch.Size([41, 62, 150])\n",
      "torch.Size([41, 62, 150])\n",
      "torch.Size([41, 62, 150])\n",
      "torch.Size([41, 62, 150])\n"
     ]
    },
    {
     "name": "stderr",
     "output_type": "stream",
     "text": [
      "Epoch 17/41:  91%|█████████ | 195/214 [00:04<00:00, 41.67batch/s, loss=0.12] "
     ]
    },
    {
     "name": "stdout",
     "output_type": "stream",
     "text": [
      "torch.Size([41, 62, 150])\n",
      "torch.Size([41, 62, 150])\n"
     ]
    },
    {
     "name": "stderr",
     "output_type": "stream",
     "text": [
      "Epoch 17/41:  91%|█████████ | 195/214 [00:04<00:00, 41.67batch/s, loss=0.121]"
     ]
    },
    {
     "name": "stdout",
     "output_type": "stream",
     "text": [
      "torch.Size([41, 62, 150])\n"
     ]
    },
    {
     "name": "stderr",
     "output_type": "stream",
     "text": [
      "Epoch 17/41:  93%|█████████▎| 200/214 [00:04<00:00, 41.54batch/s, loss=0.122]"
     ]
    },
    {
     "name": "stdout",
     "output_type": "stream",
     "text": [
      "torch.Size([41, 62, 150])\n",
      "torch.Size([41, 62, 150])\n",
      "torch.Size([41, 62, 150])\n",
      "torch.Size([41, 62, 150])\n",
      "torch.Size([41, 62, 150])\n",
      "torch.Size([41, 62, 150])\n"
     ]
    },
    {
     "name": "stderr",
     "output_type": "stream",
     "text": [
      "Epoch 17/41:  96%|█████████▌| 205/214 [00:04<00:00, 41.36batch/s, loss=0.123]"
     ]
    },
    {
     "name": "stdout",
     "output_type": "stream",
     "text": [
      "torch.Size([41, 62, 150])\n",
      "torch.Size([41, 62, 150])\n"
     ]
    },
    {
     "name": "stderr",
     "output_type": "stream",
     "text": [
      "Epoch 17/41:  96%|█████████▌| 205/214 [00:04<00:00, 41.36batch/s, loss=0.121]"
     ]
    },
    {
     "name": "stdout",
     "output_type": "stream",
     "text": [
      "torch.Size([41, 62, 150])\n"
     ]
    },
    {
     "name": "stderr",
     "output_type": "stream",
     "text": [
      "Epoch 17/41:  98%|█████████▊| 210/214 [00:04<00:00, 41.10batch/s, loss=0.121]"
     ]
    },
    {
     "name": "stdout",
     "output_type": "stream",
     "text": [
      "torch.Size([41, 62, 150])\n",
      "torch.Size([41, 62, 150])\n",
      "torch.Size([41, 62, 150])\n",
      "torch.Size([41, 62, 150])\n",
      "torch.Size([41, 62, 150])\n",
      "torch.Size([41, 62, 150])\n"
     ]
    },
    {
     "name": "stderr",
     "output_type": "stream",
     "text": [
      "Epoch 17/41: 100%|██████████| 214/214 [00:04<00:00, 43.84batch/s, loss=0.123]\n"
     ]
    },
    {
     "name": "stdout",
     "output_type": "stream",
     "text": [
      "torch.Size([7, 62, 150])\n",
      "Epoch 17/41, Loss: 0.12092210167897081\n"
     ]
    },
    {
     "name": "stderr",
     "output_type": "stream",
     "text": [
      "Epoch 18/41:   0%|          | 0/214 [00:00<?, ?batch/s]"
     ]
    },
    {
     "name": "stdout",
     "output_type": "stream",
     "text": [
      "torch.Size([41, 62, 150])\n"
     ]
    },
    {
     "name": "stderr",
     "output_type": "stream",
     "text": [
      "Epoch 18/41:   0%|          | 0/214 [00:00<?, ?batch/s, loss=0.113]"
     ]
    },
    {
     "name": "stdout",
     "output_type": "stream",
     "text": [
      "torch.Size([41, 62, 150])\n"
     ]
    },
    {
     "name": "stderr",
     "output_type": "stream",
     "text": [
      "Epoch 18/41:   2%|▏         | 5/214 [00:00<00:05, 40.53batch/s, loss=0.136]"
     ]
    },
    {
     "name": "stdout",
     "output_type": "stream",
     "text": [
      "torch.Size([41, 62, 150])\n",
      "torch.Size([41, 62, 150])\n",
      "torch.Size([41, 62, 150])\n",
      "torch.Size([41, 62, 150])\n",
      "torch.Size([41, 62, 150])\n",
      "torch.Size([41, 62, 150])\n"
     ]
    },
    {
     "name": "stderr",
     "output_type": "stream",
     "text": [
      "Epoch 18/41:   2%|▏         | 5/214 [00:00<00:05, 40.53batch/s, loss=0.155]"
     ]
    },
    {
     "name": "stdout",
     "output_type": "stream",
     "text": [
      "torch.Size([41, 62, 150])\n"
     ]
    },
    {
     "name": "stderr",
     "output_type": "stream",
     "text": [
      "Epoch 18/41:   2%|▏         | 5/214 [00:00<00:05, 40.53batch/s, loss=0.174]"
     ]
    },
    {
     "name": "stdout",
     "output_type": "stream",
     "text": [
      "torch.Size([41, 62, 150])\n"
     ]
    },
    {
     "name": "stderr",
     "output_type": "stream",
     "text": [
      "Epoch 18/41:   5%|▍         | 10/214 [00:00<00:04, 41.28batch/s, loss=0.194]"
     ]
    },
    {
     "name": "stdout",
     "output_type": "stream",
     "text": [
      "torch.Size([41, 62, 150])\n"
     ]
    },
    {
     "name": "stderr",
     "output_type": "stream",
     "text": [
      "Epoch 18/41:   7%|▋         | 15/214 [00:00<00:04, 42.26batch/s, loss=0.121]"
     ]
    },
    {
     "name": "stdout",
     "output_type": "stream",
     "text": [
      "torch.Size([41, 62, 150])\n",
      "torch.Size([41, 62, 150])\n",
      "torch.Size([41, 62, 150])\n",
      "torch.Size([41, 62, 150])\n",
      "torch.Size([41, 62, 150])\n",
      "torch.Size([41, 62, 150])\n"
     ]
    },
    {
     "name": "stderr",
     "output_type": "stream",
     "text": [
      "Epoch 18/41:   7%|▋         | 15/214 [00:00<00:04, 42.26batch/s, loss=0.138]"
     ]
    },
    {
     "name": "stdout",
     "output_type": "stream",
     "text": [
      "torch.Size([41, 62, 150])\n"
     ]
    },
    {
     "name": "stderr",
     "output_type": "stream",
     "text": [
      "Epoch 18/41:   7%|▋         | 15/214 [00:00<00:04, 42.26batch/s, loss=0.145]"
     ]
    },
    {
     "name": "stdout",
     "output_type": "stream",
     "text": [
      "torch.Size([41, 62, 150])\n"
     ]
    },
    {
     "name": "stderr",
     "output_type": "stream",
     "text": [
      "Epoch 18/41:   9%|▉         | 20/214 [00:00<00:04, 43.27batch/s, loss=0.153]"
     ]
    },
    {
     "name": "stdout",
     "output_type": "stream",
     "text": [
      "torch.Size([41, 62, 150])\n"
     ]
    },
    {
     "name": "stderr",
     "output_type": "stream",
     "text": [
      "Epoch 18/41:  12%|█▏        | 25/214 [00:00<00:04, 43.70batch/s, loss=0.123]"
     ]
    },
    {
     "name": "stdout",
     "output_type": "stream",
     "text": [
      "torch.Size([41, 62, 150])\n",
      "torch.Size([41, 62, 150])\n",
      "torch.Size([41, 62, 150])\n",
      "torch.Size([41, 62, 150])\n",
      "torch.Size([41, 62, 150])\n",
      "torch.Size([41, 62, 150])\n"
     ]
    },
    {
     "name": "stderr",
     "output_type": "stream",
     "text": [
      "Epoch 18/41:  12%|█▏        | 25/214 [00:00<00:04, 43.70batch/s, loss=0.128]"
     ]
    },
    {
     "name": "stdout",
     "output_type": "stream",
     "text": [
      "torch.Size([41, 62, 150])\n"
     ]
    },
    {
     "name": "stderr",
     "output_type": "stream",
     "text": [
      "Epoch 18/41:  12%|█▏        | 25/214 [00:00<00:04, 43.70batch/s, loss=0.133]"
     ]
    },
    {
     "name": "stdout",
     "output_type": "stream",
     "text": [
      "torch.Size([41, 62, 150])\n"
     ]
    },
    {
     "name": "stderr",
     "output_type": "stream",
     "text": [
      "Epoch 18/41:  12%|█▏        | 25/214 [00:00<00:04, 43.70batch/s, loss=0.137]"
     ]
    },
    {
     "name": "stdout",
     "output_type": "stream",
     "text": [
      "torch.Size([41, 62, 150])\n"
     ]
    },
    {
     "name": "stderr",
     "output_type": "stream",
     "text": [
      "Epoch 18/41:  16%|█▋        | 35/214 [00:00<00:04, 44.34batch/s, loss=0.139]"
     ]
    },
    {
     "name": "stdout",
     "output_type": "stream",
     "text": [
      "torch.Size([41, 62, 150])\n",
      "torch.Size([41, 62, 150])\n",
      "torch.Size([41, 62, 150])\n",
      "torch.Size([41, 62, 150])\n",
      "torch.Size([41, 62, 150])\n",
      "torch.Size([41, 62, 150])\n"
     ]
    },
    {
     "name": "stderr",
     "output_type": "stream",
     "text": [
      "Epoch 18/41:  16%|█▋        | 35/214 [00:00<00:04, 44.34batch/s, loss=0.123]"
     ]
    },
    {
     "name": "stdout",
     "output_type": "stream",
     "text": [
      "torch.Size([41, 62, 150])\n"
     ]
    },
    {
     "name": "stderr",
     "output_type": "stream",
     "text": [
      "Epoch 18/41:  16%|█▋        | 35/214 [00:00<00:04, 44.34batch/s, loss=0.127]"
     ]
    },
    {
     "name": "stdout",
     "output_type": "stream",
     "text": [
      "torch.Size([41, 62, 150])\n"
     ]
    },
    {
     "name": "stderr",
     "output_type": "stream",
     "text": [
      "Epoch 18/41:  16%|█▋        | 35/214 [00:00<00:04, 44.34batch/s, loss=0.13] "
     ]
    },
    {
     "name": "stdout",
     "output_type": "stream",
     "text": [
      "torch.Size([41, 62, 150])\n"
     ]
    },
    {
     "name": "stderr",
     "output_type": "stream",
     "text": [
      "Epoch 18/41:  19%|█▊        | 40/214 [00:00<00:03, 44.43batch/s, loss=0.129]"
     ]
    },
    {
     "name": "stdout",
     "output_type": "stream",
     "text": [
      "torch.Size([41, 62, 150])\n",
      "torch.Size([41, 62, 150])\n",
      "torch.Size([41, 62, 150])\n",
      "torch.Size([41, 62, 150])\n",
      "torch.Size([41, 62, 150])\n",
      "torch.Size([41, 62, 150])\n"
     ]
    },
    {
     "name": "stderr",
     "output_type": "stream",
     "text": [
      "Epoch 18/41:  19%|█▊        | 40/214 [00:01<00:03, 44.43batch/s, loss=0.132]"
     ]
    },
    {
     "name": "stdout",
     "output_type": "stream",
     "text": [
      "torch.Size([41, 62, 150])\n"
     ]
    },
    {
     "name": "stderr",
     "output_type": "stream",
     "text": [
      "Epoch 18/41:  21%|██        | 45/214 [00:01<00:03, 42.84batch/s, loss=0.135]"
     ]
    },
    {
     "name": "stdout",
     "output_type": "stream",
     "text": [
      "torch.Size([41, 62, 150])\n"
     ]
    },
    {
     "name": "stderr",
     "output_type": "stream",
     "text": [
      "Epoch 18/41:  21%|██        | 45/214 [00:01<00:03, 42.84batch/s, loss=0.123]"
     ]
    },
    {
     "name": "stdout",
     "output_type": "stream",
     "text": [
      "torch.Size([41, 62, 150])\n"
     ]
    },
    {
     "name": "stderr",
     "output_type": "stream",
     "text": [
      "Epoch 18/41:  23%|██▎       | 50/214 [00:01<00:03, 41.85batch/s, loss=0.125]"
     ]
    },
    {
     "name": "stdout",
     "output_type": "stream",
     "text": [
      "torch.Size([41, 62, 150])\n",
      "torch.Size([41, 62, 150])\n",
      "torch.Size([41, 62, 150])\n",
      "torch.Size([41, 62, 150])\n",
      "torch.Size([41, 62, 150])\n",
      "torch.Size([41, 62, 150])\n"
     ]
    },
    {
     "name": "stderr",
     "output_type": "stream",
     "text": [
      "Epoch 18/41:  23%|██▎       | 50/214 [00:01<00:03, 41.85batch/s, loss=0.127]"
     ]
    },
    {
     "name": "stdout",
     "output_type": "stream",
     "text": [
      "torch.Size([41, 62, 150])\n"
     ]
    },
    {
     "name": "stderr",
     "output_type": "stream",
     "text": [
      "Epoch 18/41:  23%|██▎       | 50/214 [00:01<00:03, 41.85batch/s, loss=0.129]"
     ]
    },
    {
     "name": "stdout",
     "output_type": "stream",
     "text": [
      "torch.Size([41, 62, 150])\n"
     ]
    },
    {
     "name": "stderr",
     "output_type": "stream",
     "text": [
      "Epoch 18/41:  26%|██▌       | 55/214 [00:01<00:03, 41.47batch/s, loss=0.132]"
     ]
    },
    {
     "name": "stdout",
     "output_type": "stream",
     "text": [
      "torch.Size([41, 62, 150])\n"
     ]
    },
    {
     "name": "stderr",
     "output_type": "stream",
     "text": [
      "Epoch 18/41:  28%|██▊       | 60/214 [00:01<00:03, 41.29batch/s, loss=0.122]"
     ]
    },
    {
     "name": "stdout",
     "output_type": "stream",
     "text": [
      "torch.Size([41, 62, 150])\n",
      "torch.Size([41, 62, 150])\n",
      "torch.Size([41, 62, 150])\n",
      "torch.Size([41, 62, 150])\n",
      "torch.Size([41, 62, 150])\n",
      "torch.Size([41, 62, 150])\n"
     ]
    },
    {
     "name": "stderr",
     "output_type": "stream",
     "text": [
      "Epoch 18/41:  28%|██▊       | 60/214 [00:01<00:03, 41.29batch/s, loss=0.124]"
     ]
    },
    {
     "name": "stdout",
     "output_type": "stream",
     "text": [
      "torch.Size([41, 62, 150])\n"
     ]
    },
    {
     "name": "stderr",
     "output_type": "stream",
     "text": [
      "Epoch 18/41:  28%|██▊       | 60/214 [00:01<00:03, 41.29batch/s, loss=0.126]"
     ]
    },
    {
     "name": "stdout",
     "output_type": "stream",
     "text": [
      "torch.Size([41, 62, 150])\n"
     ]
    },
    {
     "name": "stderr",
     "output_type": "stream",
     "text": [
      "Epoch 18/41:  28%|██▊       | 60/214 [00:01<00:03, 41.29batch/s, loss=0.128]"
     ]
    },
    {
     "name": "stdout",
     "output_type": "stream",
     "text": [
      "torch.Size([41, 62, 150])\n"
     ]
    },
    {
     "name": "stderr",
     "output_type": "stream",
     "text": [
      "Epoch 18/41:  33%|███▎      | 70/214 [00:01<00:03, 41.52batch/s, loss=0.129]"
     ]
    },
    {
     "name": "stdout",
     "output_type": "stream",
     "text": [
      "torch.Size([41, 62, 150])\n",
      "torch.Size([41, 62, 150])\n",
      "torch.Size([41, 62, 150])\n",
      "torch.Size([41, 62, 150])\n",
      "torch.Size([41, 62, 150])\n",
      "torch.Size([41, 62, 150])\n"
     ]
    },
    {
     "name": "stderr",
     "output_type": "stream",
     "text": [
      "Epoch 18/41:  33%|███▎      | 70/214 [00:01<00:03, 41.52batch/s, loss=0.122]"
     ]
    },
    {
     "name": "stdout",
     "output_type": "stream",
     "text": [
      "torch.Size([41, 62, 150])\n"
     ]
    },
    {
     "name": "stderr",
     "output_type": "stream",
     "text": [
      "Epoch 18/41:  33%|███▎      | 70/214 [00:01<00:03, 41.52batch/s, loss=0.123]"
     ]
    },
    {
     "name": "stdout",
     "output_type": "stream",
     "text": [
      "torch.Size([41, 62, 150])\n"
     ]
    },
    {
     "name": "stderr",
     "output_type": "stream",
     "text": [
      "Epoch 18/41:  33%|███▎      | 70/214 [00:01<00:03, 41.52batch/s, loss=0.125]"
     ]
    },
    {
     "name": "stdout",
     "output_type": "stream",
     "text": [
      "torch.Size([41, 62, 150])\n"
     ]
    },
    {
     "name": "stderr",
     "output_type": "stream",
     "text": [
      "Epoch 18/41:  35%|███▌      | 75/214 [00:01<00:03, 41.19batch/s, loss=0.126]"
     ]
    },
    {
     "name": "stdout",
     "output_type": "stream",
     "text": [
      "torch.Size([41, 62, 150])\n",
      "torch.Size([41, 62, 150])\n",
      "torch.Size([41, 62, 150])\n",
      "torch.Size([41, 62, 150])\n",
      "torch.Size([41, 62, 150])\n",
      "torch.Size([41, 62, 150])\n"
     ]
    },
    {
     "name": "stderr",
     "output_type": "stream",
     "text": [
      "Epoch 18/41:  37%|███▋      | 80/214 [00:01<00:03, 41.13batch/s, loss=0.128]"
     ]
    },
    {
     "name": "stdout",
     "output_type": "stream",
     "text": [
      "torch.Size([41, 62, 150])\n"
     ]
    },
    {
     "name": "stderr",
     "output_type": "stream",
     "text": [
      "Epoch 18/41:  37%|███▋      | 80/214 [00:01<00:03, 41.13batch/s, loss=0.121]"
     ]
    },
    {
     "name": "stdout",
     "output_type": "stream",
     "text": [
      "torch.Size([41, 62, 150])\n"
     ]
    },
    {
     "name": "stderr",
     "output_type": "stream",
     "text": [
      "Epoch 18/41:  37%|███▋      | 80/214 [00:01<00:03, 41.13batch/s, loss=0.123]"
     ]
    },
    {
     "name": "stdout",
     "output_type": "stream",
     "text": [
      "torch.Size([41, 62, 150])\n"
     ]
    },
    {
     "name": "stderr",
     "output_type": "stream",
     "text": [
      "Epoch 18/41:  40%|███▉      | 85/214 [00:02<00:03, 40.99batch/s, loss=0.125]"
     ]
    },
    {
     "name": "stdout",
     "output_type": "stream",
     "text": [
      "torch.Size([41, 62, 150])\n",
      "torch.Size([41, 62, 150])\n",
      "torch.Size([41, 62, 150])\n",
      "torch.Size([41, 62, 150])\n",
      "torch.Size([41, 62, 150])\n",
      "torch.Size([41, 62, 150])\n"
     ]
    },
    {
     "name": "stderr",
     "output_type": "stream",
     "text": [
      "Epoch 18/41:  40%|███▉      | 85/214 [00:02<00:03, 40.99batch/s, loss=0.126]"
     ]
    },
    {
     "name": "stdout",
     "output_type": "stream",
     "text": [
      "torch.Size([41, 62, 150])\n"
     ]
    },
    {
     "name": "stderr",
     "output_type": "stream",
     "text": [
      "Epoch 18/41:  42%|████▏     | 90/214 [00:02<00:03, 40.97batch/s, loss=0.127]"
     ]
    },
    {
     "name": "stdout",
     "output_type": "stream",
     "text": [
      "torch.Size([41, 62, 150])\n"
     ]
    },
    {
     "name": "stderr",
     "output_type": "stream",
     "text": [
      "Epoch 18/41:  42%|████▏     | 90/214 [00:02<00:03, 40.97batch/s, loss=0.122]"
     ]
    },
    {
     "name": "stdout",
     "output_type": "stream",
     "text": [
      "torch.Size([41, 62, 150])\n"
     ]
    },
    {
     "name": "stderr",
     "output_type": "stream",
     "text": [
      "Epoch 18/41:  44%|████▍     | 95/214 [00:02<00:02, 41.31batch/s, loss=0.123]"
     ]
    },
    {
     "name": "stdout",
     "output_type": "stream",
     "text": [
      "torch.Size([41, 62, 150])\n",
      "torch.Size([41, 62, 150])\n",
      "torch.Size([41, 62, 150])\n",
      "torch.Size([41, 62, 150])\n",
      "torch.Size([41, 62, 150])\n",
      "torch.Size([41, 62, 150])\n"
     ]
    },
    {
     "name": "stderr",
     "output_type": "stream",
     "text": [
      "Epoch 18/41:  44%|████▍     | 95/214 [00:02<00:02, 41.31batch/s, loss=0.124]"
     ]
    },
    {
     "name": "stdout",
     "output_type": "stream",
     "text": [
      "torch.Size([41, 62, 150])\n"
     ]
    },
    {
     "name": "stderr",
     "output_type": "stream",
     "text": [
      "Epoch 18/41:  44%|████▍     | 95/214 [00:02<00:02, 41.31batch/s, loss=0.125]"
     ]
    },
    {
     "name": "stdout",
     "output_type": "stream",
     "text": [
      "torch.Size([41, 62, 150])\n"
     ]
    },
    {
     "name": "stderr",
     "output_type": "stream",
     "text": [
      "Epoch 18/41:  47%|████▋     | 100/214 [00:02<00:02, 41.13batch/s, loss=0.126]"
     ]
    },
    {
     "name": "stdout",
     "output_type": "stream",
     "text": [
      "torch.Size([41, 62, 150])\n"
     ]
    },
    {
     "name": "stderr",
     "output_type": "stream",
     "text": [
      "Epoch 18/41:  49%|████▉     | 105/214 [00:02<00:02, 41.13batch/s, loss=0.121]"
     ]
    },
    {
     "name": "stdout",
     "output_type": "stream",
     "text": [
      "torch.Size([41, 62, 150])\n",
      "torch.Size([41, 62, 150])\n",
      "torch.Size([41, 62, 150])\n",
      "torch.Size([41, 62, 150])\n",
      "torch.Size([41, 62, 150])\n",
      "torch.Size([41, 62, 150])\n"
     ]
    },
    {
     "name": "stderr",
     "output_type": "stream",
     "text": [
      "Epoch 18/41:  49%|████▉     | 105/214 [00:02<00:02, 41.13batch/s, loss=0.123]"
     ]
    },
    {
     "name": "stdout",
     "output_type": "stream",
     "text": [
      "torch.Size([41, 62, 150])\n"
     ]
    },
    {
     "name": "stderr",
     "output_type": "stream",
     "text": [
      "Epoch 18/41:  49%|████▉     | 105/214 [00:02<00:02, 41.13batch/s, loss=0.124]"
     ]
    },
    {
     "name": "stdout",
     "output_type": "stream",
     "text": [
      "torch.Size([41, 62, 150])\n"
     ]
    },
    {
     "name": "stderr",
     "output_type": "stream",
     "text": [
      "Epoch 18/41:  49%|████▉     | 105/214 [00:02<00:02, 41.13batch/s, loss=0.125]"
     ]
    },
    {
     "name": "stdout",
     "output_type": "stream",
     "text": [
      "torch.Size([41, 62, 150])\n"
     ]
    },
    {
     "name": "stderr",
     "output_type": "stream",
     "text": [
      "Epoch 18/41:  51%|█████▏    | 110/214 [00:02<00:02, 40.87batch/s, loss=0.124]"
     ]
    }
   ],
   "source": [
    "# Train extended model\n",
    "print(y_train[0])\n",
    "predictions = train_model(X_train, y_train, X_test, y_test,num_fgs=37, weighted=False)\n",
    "\n",
    "# Evaluate the model\n",
    "y_test = np.array([np.array(item, dtype=np.float32) for item in y_test], dtype=np.float32)\n",
    "f1 = f1_score(y_test, predictions, average='micro')\n",
    "print(f'F1 Score: {f1}')\n",
    "\n",
    "# Save results\n",
    "with open(out_path / \"results.pickle\", \"wb\") as file:\n",
    "    pickle.dump({'pred': predictions, 'tgt': y_test}, file)"
   ]
  },
  {
   "cell_type": "code",
   "execution_count": null,
   "metadata": {},
   "outputs": [],
   "source": []
  },
  {
   "cell_type": "code",
   "execution_count": null,
   "metadata": {},
   "outputs": [],
   "source": []
  },
  {
   "cell_type": "code",
   "execution_count": null,
   "metadata": {},
   "outputs": [],
   "source": []
  },
  {
   "cell_type": "code",
   "execution_count": null,
   "metadata": {},
   "outputs": [],
   "source": []
  },
  {
   "cell_type": "code",
   "execution_count": null,
   "metadata": {},
   "outputs": [],
   "source": []
  },
  {
   "cell_type": "code",
   "execution_count": null,
   "metadata": {},
   "outputs": [],
   "source": []
  }
 ],
 "metadata": {
  "kernelspec": {
   "display_name": "zs",
   "language": "python",
   "name": "python3"
  },
  "language_info": {
   "codemirror_mode": {
    "name": "ipython",
    "version": 3
   },
   "file_extension": ".py",
   "mimetype": "text/x-python",
   "name": "python",
   "nbconvert_exporter": "python",
   "pygments_lexer": "ipython3",
   "version": "3.9.16"
  }
 },
 "nbformat": 4,
 "nbformat_minor": 2
}
